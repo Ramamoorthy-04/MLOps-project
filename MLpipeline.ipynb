{
  "cells": [
    {
      "cell_type": "code",
      "execution_count": 1,
      "metadata": {
        "colab": {
          "base_uri": "https://localhost:8080/",
          "height": 1000
        },
        "id": "q5RZzWdKIHcf",
        "outputId": "5b5d9ecf-f69a-4a9e-c39a-0717948e578f"
      },
      "outputs": [
        {
          "output_type": "stream",
          "name": "stdout",
          "text": [
            "a\n",
            "Requirement already satisfied: zenml[server] in /usr/local/lib/python3.10/dist-packages (0.65.0)\n",
            "Requirement already satisfied: alembic<1.9.0,>=1.8.1 in /usr/local/lib/python3.10/dist-packages (from zenml[server]) (1.8.1)\n",
            "Requirement already satisfied: bcrypt==4.0.1 in /usr/local/lib/python3.10/dist-packages (from zenml[server]) (4.0.1)\n",
            "Requirement already satisfied: click<8.1.4,>=8.0.1 in /usr/local/lib/python3.10/dist-packages (from zenml[server]) (8.1.3)\n",
            "Requirement already satisfied: click-params<0.4.0,>=0.3.0 in /usr/local/lib/python3.10/dist-packages (from zenml[server]) (0.3.0)\n",
            "Requirement already satisfied: cloudpickle<3,>=2.0.0 in /usr/local/lib/python3.10/dist-packages (from zenml[server]) (2.2.1)\n",
            "Requirement already satisfied: distro<2.0.0,>=1.6.0 in /usr/lib/python3/dist-packages (from zenml[server]) (1.7.0)\n",
            "Requirement already satisfied: docker<7.2.0,>=7.1.0 in /usr/local/lib/python3.10/dist-packages (from zenml[server]) (7.1.0)\n",
            "Requirement already satisfied: gitpython<4.0.0,>=3.1.18 in /usr/local/lib/python3.10/dist-packages (from zenml[server]) (3.1.43)\n",
            "Requirement already satisfied: httplib2<0.20,>=0.19.1 in /usr/local/lib/python3.10/dist-packages (from zenml[server]) (0.19.1)\n",
            "Requirement already satisfied: numpy<2.0.0 in /usr/local/lib/python3.10/dist-packages (from zenml[server]) (1.26.4)\n",
            "Requirement already satisfied: packaging>=24.1 in /usr/local/lib/python3.10/dist-packages (from zenml[server]) (24.1)\n",
            "Requirement already satisfied: pandas>=1.1.5 in /usr/local/lib/python3.10/dist-packages (from zenml[server]) (2.1.4)\n",
            "Requirement already satisfied: passlib<1.8.0,>=1.7.4 in /usr/local/lib/python3.10/dist-packages (from passlib[bcrypt]<1.8.0,>=1.7.4->zenml[server]) (1.7.4)\n",
            "Requirement already satisfied: psutil>=5.0.0 in /usr/local/lib/python3.10/dist-packages (from zenml[server]) (5.9.5)\n",
            "Requirement already satisfied: pydantic<2.8,>=2.7 in /usr/local/lib/python3.10/dist-packages (from zenml[server]) (2.7.4)\n",
            "Requirement already satisfied: pydantic-settings<2.3.0,>=2.2.1 in /usr/local/lib/python3.10/dist-packages (from zenml[server]) (2.2.1)\n",
            "Requirement already satisfied: pymysql<1.2.0,>=1.1.1 in /usr/local/lib/python3.10/dist-packages (from zenml[server]) (1.1.1)\n",
            "Requirement already satisfied: pyparsing>=2.4.0 in /usr/local/lib/python3.10/dist-packages (from zenml[server]) (2.4.7)\n",
            "Requirement already satisfied: python-dateutil<3.0.0,>=2.8.1 in /usr/local/lib/python3.10/dist-packages (from zenml[server]) (2.8.2)\n",
            "Requirement already satisfied: pyyaml>=6.0.1 in /usr/local/lib/python3.10/dist-packages (from zenml[server]) (6.0.2)\n",
            "Requirement already satisfied: rich>=12.0.0 in /usr/local/lib/python3.10/dist-packages (from rich[jupyter]>=12.0.0->zenml[server]) (13.8.0)\n",
            "Requirement already satisfied: secure<0.4.0,>=0.3.0 in /usr/local/lib/python3.10/dist-packages (from zenml[server]) (0.3.0)\n",
            "Requirement already satisfied: sqlalchemy<3.0.0,>=2.0.0 in /usr/local/lib/python3.10/dist-packages (from zenml[server]) (2.0.32)\n",
            "Requirement already satisfied: sqlalchemy_utils in /usr/local/lib/python3.10/dist-packages (from zenml[server]) (0.41.2)\n",
            "Requirement already satisfied: sqlmodel==0.0.18 in /usr/local/lib/python3.10/dist-packages (from zenml[server]) (0.0.18)\n",
            "Requirement already satisfied: Jinja2 in /usr/local/lib/python3.10/dist-packages (from zenml[server]) (3.1.4)\n",
            "Requirement already satisfied: fastapi<=0.110,>=0.100 in /usr/local/lib/python3.10/dist-packages (from zenml[server]) (0.110.0)\n",
            "Requirement already satisfied: ipinfo>=4.4.3 in /usr/local/lib/python3.10/dist-packages (from zenml[server]) (5.1.1)\n",
            "Requirement already satisfied: orjson<3.11.0,>=3.10.0 in /usr/local/lib/python3.10/dist-packages (from zenml[server]) (3.10.7)\n",
            "Requirement already satisfied: pyjwt==2.7.* in /usr/local/lib/python3.10/dist-packages (from pyjwt[crypto]==2.7.*; extra == \"server\"->zenml[server]) (2.7.0)\n",
            "Requirement already satisfied: python-multipart<0.1.0,>=0.0.9 in /usr/local/lib/python3.10/dist-packages (from zenml[server]) (0.0.9)\n",
            "Requirement already satisfied: uvicorn>=0.17.5 in /usr/local/lib/python3.10/dist-packages (from uvicorn[standard]>=0.17.5; extra == \"server\"->zenml[server]) (0.30.6)\n",
            "Requirement already satisfied: cryptography>=3.4.0 in /usr/local/lib/python3.10/dist-packages (from pyjwt[crypto]==2.7.*; extra == \"server\"->zenml[server]) (43.0.0)\n",
            "Requirement already satisfied: Mako in /usr/local/lib/python3.10/dist-packages (from alembic<1.9.0,>=1.8.1->zenml[server]) (1.3.5)\n",
            "Requirement already satisfied: validators<0.19,>=0.18 in /usr/local/lib/python3.10/dist-packages (from click-params<0.4.0,>=0.3.0->zenml[server]) (0.18.2)\n",
            "Requirement already satisfied: requests>=2.26.0 in /usr/local/lib/python3.10/dist-packages (from docker<7.2.0,>=7.1.0->zenml[server]) (2.32.3)\n",
            "Requirement already satisfied: urllib3>=1.26.0 in /usr/local/lib/python3.10/dist-packages (from docker<7.2.0,>=7.1.0->zenml[server]) (2.0.7)\n",
            "Requirement already satisfied: starlette<0.37.0,>=0.36.3 in /usr/local/lib/python3.10/dist-packages (from fastapi<=0.110,>=0.100->zenml[server]) (0.36.3)\n",
            "Requirement already satisfied: typing-extensions>=4.8.0 in /usr/local/lib/python3.10/dist-packages (from fastapi<=0.110,>=0.100->zenml[server]) (4.12.2)\n",
            "Requirement already satisfied: gitdb<5,>=4.0.1 in /usr/local/lib/python3.10/dist-packages (from gitpython<4.0.0,>=3.1.18->zenml[server]) (4.0.11)\n",
            "Requirement already satisfied: cachetools in /usr/local/lib/python3.10/dist-packages (from ipinfo>=4.4.3->zenml[server]) (5.5.0)\n",
            "Requirement already satisfied: aiohttp<=4 in /usr/local/lib/python3.10/dist-packages (from ipinfo>=4.4.3->zenml[server]) (3.10.5)\n",
            "Requirement already satisfied: pytz>=2020.1 in /usr/local/lib/python3.10/dist-packages (from pandas>=1.1.5->zenml[server]) (2024.1)\n",
            "Requirement already satisfied: tzdata>=2022.1 in /usr/local/lib/python3.10/dist-packages (from pandas>=1.1.5->zenml[server]) (2024.1)\n",
            "Requirement already satisfied: annotated-types>=0.4.0 in /usr/local/lib/python3.10/dist-packages (from pydantic<2.8,>=2.7->zenml[server]) (0.7.0)\n",
            "Requirement already satisfied: pydantic-core==2.18.4 in /usr/local/lib/python3.10/dist-packages (from pydantic<2.8,>=2.7->zenml[server]) (2.18.4)\n",
            "Requirement already satisfied: python-dotenv>=0.21.0 in /usr/local/lib/python3.10/dist-packages (from pydantic-settings<2.3.0,>=2.2.1->zenml[server]) (1.0.1)\n",
            "Requirement already satisfied: six>=1.5 in /usr/local/lib/python3.10/dist-packages (from python-dateutil<3.0.0,>=2.8.1->zenml[server]) (1.16.0)\n",
            "Requirement already satisfied: markdown-it-py>=2.2.0 in /usr/local/lib/python3.10/dist-packages (from rich>=12.0.0->rich[jupyter]>=12.0.0->zenml[server]) (3.0.0)\n",
            "Requirement already satisfied: pygments<3.0.0,>=2.13.0 in /usr/local/lib/python3.10/dist-packages (from rich>=12.0.0->rich[jupyter]>=12.0.0->zenml[server]) (2.16.1)\n",
            "Requirement already satisfied: ipywidgets<9,>=7.5.1 in /usr/local/lib/python3.10/dist-packages (from rich[jupyter]>=12.0.0->zenml[server]) (7.7.1)\n",
            "Requirement already satisfied: greenlet!=0.4.17 in /usr/local/lib/python3.10/dist-packages (from sqlalchemy<3.0.0,>=2.0.0->zenml[server]) (3.0.3)\n",
            "Requirement already satisfied: h11>=0.8 in /usr/local/lib/python3.10/dist-packages (from uvicorn>=0.17.5->uvicorn[standard]>=0.17.5; extra == \"server\"->zenml[server]) (0.14.0)\n",
            "Requirement already satisfied: httptools>=0.5.0 in /usr/local/lib/python3.10/dist-packages (from uvicorn[standard]>=0.17.5; extra == \"server\"->zenml[server]) (0.6.1)\n",
            "Requirement already satisfied: uvloop!=0.15.0,!=0.15.1,>=0.14.0 in /usr/local/lib/python3.10/dist-packages (from uvicorn[standard]>=0.17.5; extra == \"server\"->zenml[server]) (0.20.0)\n",
            "Requirement already satisfied: watchfiles>=0.13 in /usr/local/lib/python3.10/dist-packages (from uvicorn[standard]>=0.17.5; extra == \"server\"->zenml[server]) (0.24.0)\n",
            "Requirement already satisfied: websockets>=10.4 in /usr/local/lib/python3.10/dist-packages (from uvicorn[standard]>=0.17.5; extra == \"server\"->zenml[server]) (13.0.1)\n",
            "Requirement already satisfied: MarkupSafe>=2.0 in /usr/local/lib/python3.10/dist-packages (from Jinja2->zenml[server]) (2.1.5)\n",
            "Requirement already satisfied: aiohappyeyeballs>=2.3.0 in /usr/local/lib/python3.10/dist-packages (from aiohttp<=4->ipinfo>=4.4.3->zenml[server]) (2.4.0)\n",
            "Requirement already satisfied: aiosignal>=1.1.2 in /usr/local/lib/python3.10/dist-packages (from aiohttp<=4->ipinfo>=4.4.3->zenml[server]) (1.3.1)\n",
            "Requirement already satisfied: attrs>=17.3.0 in /usr/local/lib/python3.10/dist-packages (from aiohttp<=4->ipinfo>=4.4.3->zenml[server]) (24.2.0)\n",
            "Requirement already satisfied: frozenlist>=1.1.1 in /usr/local/lib/python3.10/dist-packages (from aiohttp<=4->ipinfo>=4.4.3->zenml[server]) (1.4.1)\n",
            "Requirement already satisfied: multidict<7.0,>=4.5 in /usr/local/lib/python3.10/dist-packages (from aiohttp<=4->ipinfo>=4.4.3->zenml[server]) (6.0.5)\n",
            "Requirement already satisfied: yarl<2.0,>=1.0 in /usr/local/lib/python3.10/dist-packages (from aiohttp<=4->ipinfo>=4.4.3->zenml[server]) (1.9.4)\n",
            "Requirement already satisfied: async-timeout<5.0,>=4.0 in /usr/local/lib/python3.10/dist-packages (from aiohttp<=4->ipinfo>=4.4.3->zenml[server]) (4.0.3)\n",
            "Requirement already satisfied: cffi>=1.12 in /usr/local/lib/python3.10/dist-packages (from cryptography>=3.4.0->pyjwt[crypto]==2.7.*; extra == \"server\"->zenml[server]) (1.17.0)\n",
            "Requirement already satisfied: smmap<6,>=3.0.1 in /usr/local/lib/python3.10/dist-packages (from gitdb<5,>=4.0.1->gitpython<4.0.0,>=3.1.18->zenml[server]) (5.0.1)\n",
            "Requirement already satisfied: ipykernel>=4.5.1 in /usr/local/lib/python3.10/dist-packages (from ipywidgets<9,>=7.5.1->rich[jupyter]>=12.0.0->zenml[server]) (5.5.6)\n",
            "Requirement already satisfied: ipython-genutils~=0.2.0 in /usr/local/lib/python3.10/dist-packages (from ipywidgets<9,>=7.5.1->rich[jupyter]>=12.0.0->zenml[server]) (0.2.0)\n",
            "Requirement already satisfied: traitlets>=4.3.1 in /usr/local/lib/python3.10/dist-packages (from ipywidgets<9,>=7.5.1->rich[jupyter]>=12.0.0->zenml[server]) (5.7.1)\n",
            "Requirement already satisfied: widgetsnbextension~=3.6.0 in /usr/local/lib/python3.10/dist-packages (from ipywidgets<9,>=7.5.1->rich[jupyter]>=12.0.0->zenml[server]) (3.6.8)\n",
            "Requirement already satisfied: ipython>=4.0.0 in /usr/local/lib/python3.10/dist-packages (from ipywidgets<9,>=7.5.1->rich[jupyter]>=12.0.0->zenml[server]) (7.34.0)\n",
            "Requirement already satisfied: jupyterlab-widgets>=1.0.0 in /usr/local/lib/python3.10/dist-packages (from ipywidgets<9,>=7.5.1->rich[jupyter]>=12.0.0->zenml[server]) (3.0.13)\n",
            "Requirement already satisfied: mdurl~=0.1 in /usr/local/lib/python3.10/dist-packages (from markdown-it-py>=2.2.0->rich>=12.0.0->rich[jupyter]>=12.0.0->zenml[server]) (0.1.2)\n",
            "Requirement already satisfied: charset-normalizer<4,>=2 in /usr/local/lib/python3.10/dist-packages (from requests>=2.26.0->docker<7.2.0,>=7.1.0->zenml[server]) (3.3.2)\n",
            "Requirement already satisfied: idna<4,>=2.5 in /usr/local/lib/python3.10/dist-packages (from requests>=2.26.0->docker<7.2.0,>=7.1.0->zenml[server]) (3.8)\n",
            "Requirement already satisfied: certifi>=2017.4.17 in /usr/local/lib/python3.10/dist-packages (from requests>=2.26.0->docker<7.2.0,>=7.1.0->zenml[server]) (2024.8.30)\n",
            "Requirement already satisfied: anyio<5,>=3.4.0 in /usr/local/lib/python3.10/dist-packages (from starlette<0.37.0,>=0.36.3->fastapi<=0.110,>=0.100->zenml[server]) (3.7.1)\n",
            "Requirement already satisfied: decorator>=3.4.0 in /usr/local/lib/python3.10/dist-packages (from validators<0.19,>=0.18->click-params<0.4.0,>=0.3.0->zenml[server]) (4.4.2)\n",
            "Requirement already satisfied: sniffio>=1.1 in /usr/local/lib/python3.10/dist-packages (from anyio<5,>=3.4.0->starlette<0.37.0,>=0.36.3->fastapi<=0.110,>=0.100->zenml[server]) (1.3.1)\n",
            "Requirement already satisfied: exceptiongroup in /usr/local/lib/python3.10/dist-packages (from anyio<5,>=3.4.0->starlette<0.37.0,>=0.36.3->fastapi<=0.110,>=0.100->zenml[server]) (1.2.2)\n",
            "Requirement already satisfied: pycparser in /usr/local/lib/python3.10/dist-packages (from cffi>=1.12->cryptography>=3.4.0->pyjwt[crypto]==2.7.*; extra == \"server\"->zenml[server]) (2.22)\n",
            "Requirement already satisfied: jupyter-client in /usr/local/lib/python3.10/dist-packages (from ipykernel>=4.5.1->ipywidgets<9,>=7.5.1->rich[jupyter]>=12.0.0->zenml[server]) (6.1.12)\n",
            "Requirement already satisfied: tornado>=4.2 in /usr/local/lib/python3.10/dist-packages (from ipykernel>=4.5.1->ipywidgets<9,>=7.5.1->rich[jupyter]>=12.0.0->zenml[server]) (6.3.3)\n",
            "Requirement already satisfied: setuptools>=18.5 in /usr/local/lib/python3.10/dist-packages (from ipython>=4.0.0->ipywidgets<9,>=7.5.1->rich[jupyter]>=12.0.0->zenml[server]) (71.0.4)\n",
            "Requirement already satisfied: jedi>=0.16 in /usr/local/lib/python3.10/dist-packages (from ipython>=4.0.0->ipywidgets<9,>=7.5.1->rich[jupyter]>=12.0.0->zenml[server]) (0.19.1)\n",
            "Requirement already satisfied: pickleshare in /usr/local/lib/python3.10/dist-packages (from ipython>=4.0.0->ipywidgets<9,>=7.5.1->rich[jupyter]>=12.0.0->zenml[server]) (0.7.5)\n",
            "Requirement already satisfied: prompt-toolkit!=3.0.0,!=3.0.1,<3.1.0,>=2.0.0 in /usr/local/lib/python3.10/dist-packages (from ipython>=4.0.0->ipywidgets<9,>=7.5.1->rich[jupyter]>=12.0.0->zenml[server]) (3.0.47)\n",
            "Requirement already satisfied: backcall in /usr/local/lib/python3.10/dist-packages (from ipython>=4.0.0->ipywidgets<9,>=7.5.1->rich[jupyter]>=12.0.0->zenml[server]) (0.2.0)\n",
            "Requirement already satisfied: matplotlib-inline in /usr/local/lib/python3.10/dist-packages (from ipython>=4.0.0->ipywidgets<9,>=7.5.1->rich[jupyter]>=12.0.0->zenml[server]) (0.1.7)\n",
            "Requirement already satisfied: pexpect>4.3 in /usr/local/lib/python3.10/dist-packages (from ipython>=4.0.0->ipywidgets<9,>=7.5.1->rich[jupyter]>=12.0.0->zenml[server]) (4.9.0)\n",
            "Requirement already satisfied: notebook>=4.4.1 in /usr/local/lib/python3.10/dist-packages (from widgetsnbextension~=3.6.0->ipywidgets<9,>=7.5.1->rich[jupyter]>=12.0.0->zenml[server]) (6.5.5)\n",
            "Requirement already satisfied: parso<0.9.0,>=0.8.3 in /usr/local/lib/python3.10/dist-packages (from jedi>=0.16->ipython>=4.0.0->ipywidgets<9,>=7.5.1->rich[jupyter]>=12.0.0->zenml[server]) (0.8.4)\n",
            "Requirement already satisfied: pyzmq<25,>=17 in /usr/local/lib/python3.10/dist-packages (from notebook>=4.4.1->widgetsnbextension~=3.6.0->ipywidgets<9,>=7.5.1->rich[jupyter]>=12.0.0->zenml[server]) (24.0.1)\n",
            "Requirement already satisfied: argon2-cffi in /usr/local/lib/python3.10/dist-packages (from notebook>=4.4.1->widgetsnbextension~=3.6.0->ipywidgets<9,>=7.5.1->rich[jupyter]>=12.0.0->zenml[server]) (23.1.0)\n",
            "Requirement already satisfied: jupyter-core>=4.6.1 in /usr/local/lib/python3.10/dist-packages (from notebook>=4.4.1->widgetsnbextension~=3.6.0->ipywidgets<9,>=7.5.1->rich[jupyter]>=12.0.0->zenml[server]) (5.7.2)\n",
            "Requirement already satisfied: nbformat in /usr/local/lib/python3.10/dist-packages (from notebook>=4.4.1->widgetsnbextension~=3.6.0->ipywidgets<9,>=7.5.1->rich[jupyter]>=12.0.0->zenml[server]) (5.10.4)\n",
            "Requirement already satisfied: nbconvert>=5 in /usr/local/lib/python3.10/dist-packages (from notebook>=4.4.1->widgetsnbextension~=3.6.0->ipywidgets<9,>=7.5.1->rich[jupyter]>=12.0.0->zenml[server]) (6.5.4)\n",
            "Requirement already satisfied: nest-asyncio>=1.5 in /usr/local/lib/python3.10/dist-packages (from notebook>=4.4.1->widgetsnbextension~=3.6.0->ipywidgets<9,>=7.5.1->rich[jupyter]>=12.0.0->zenml[server]) (1.6.0)\n",
            "Requirement already satisfied: Send2Trash>=1.8.0 in /usr/local/lib/python3.10/dist-packages (from notebook>=4.4.1->widgetsnbextension~=3.6.0->ipywidgets<9,>=7.5.1->rich[jupyter]>=12.0.0->zenml[server]) (1.8.3)\n",
            "Requirement already satisfied: terminado>=0.8.3 in /usr/local/lib/python3.10/dist-packages (from notebook>=4.4.1->widgetsnbextension~=3.6.0->ipywidgets<9,>=7.5.1->rich[jupyter]>=12.0.0->zenml[server]) (0.18.1)\n",
            "Requirement already satisfied: prometheus-client in /usr/local/lib/python3.10/dist-packages (from notebook>=4.4.1->widgetsnbextension~=3.6.0->ipywidgets<9,>=7.5.1->rich[jupyter]>=12.0.0->zenml[server]) (0.20.0)\n",
            "Requirement already satisfied: nbclassic>=0.4.7 in /usr/local/lib/python3.10/dist-packages (from notebook>=4.4.1->widgetsnbextension~=3.6.0->ipywidgets<9,>=7.5.1->rich[jupyter]>=12.0.0->zenml[server]) (1.1.0)\n",
            "Requirement already satisfied: ptyprocess>=0.5 in /usr/local/lib/python3.10/dist-packages (from pexpect>4.3->ipython>=4.0.0->ipywidgets<9,>=7.5.1->rich[jupyter]>=12.0.0->zenml[server]) (0.7.0)\n",
            "Requirement already satisfied: wcwidth in /usr/local/lib/python3.10/dist-packages (from prompt-toolkit!=3.0.0,!=3.0.1,<3.1.0,>=2.0.0->ipython>=4.0.0->ipywidgets<9,>=7.5.1->rich[jupyter]>=12.0.0->zenml[server]) (0.2.13)\n",
            "Requirement already satisfied: platformdirs>=2.5 in /usr/local/lib/python3.10/dist-packages (from jupyter-core>=4.6.1->notebook>=4.4.1->widgetsnbextension~=3.6.0->ipywidgets<9,>=7.5.1->rich[jupyter]>=12.0.0->zenml[server]) (4.2.2)\n",
            "Requirement already satisfied: notebook-shim>=0.2.3 in /usr/local/lib/python3.10/dist-packages (from nbclassic>=0.4.7->notebook>=4.4.1->widgetsnbextension~=3.6.0->ipywidgets<9,>=7.5.1->rich[jupyter]>=12.0.0->zenml[server]) (0.2.4)\n",
            "Requirement already satisfied: lxml in /usr/local/lib/python3.10/dist-packages (from nbconvert>=5->notebook>=4.4.1->widgetsnbextension~=3.6.0->ipywidgets<9,>=7.5.1->rich[jupyter]>=12.0.0->zenml[server]) (4.9.4)\n",
            "Requirement already satisfied: beautifulsoup4 in /usr/local/lib/python3.10/dist-packages (from nbconvert>=5->notebook>=4.4.1->widgetsnbextension~=3.6.0->ipywidgets<9,>=7.5.1->rich[jupyter]>=12.0.0->zenml[server]) (4.12.3)\n",
            "Requirement already satisfied: bleach in /usr/local/lib/python3.10/dist-packages (from nbconvert>=5->notebook>=4.4.1->widgetsnbextension~=3.6.0->ipywidgets<9,>=7.5.1->rich[jupyter]>=12.0.0->zenml[server]) (6.1.0)\n",
            "Requirement already satisfied: defusedxml in /usr/local/lib/python3.10/dist-packages (from nbconvert>=5->notebook>=4.4.1->widgetsnbextension~=3.6.0->ipywidgets<9,>=7.5.1->rich[jupyter]>=12.0.0->zenml[server]) (0.7.1)\n",
            "Requirement already satisfied: entrypoints>=0.2.2 in /usr/local/lib/python3.10/dist-packages (from nbconvert>=5->notebook>=4.4.1->widgetsnbextension~=3.6.0->ipywidgets<9,>=7.5.1->rich[jupyter]>=12.0.0->zenml[server]) (0.4)\n",
            "Requirement already satisfied: jupyterlab-pygments in /usr/local/lib/python3.10/dist-packages (from nbconvert>=5->notebook>=4.4.1->widgetsnbextension~=3.6.0->ipywidgets<9,>=7.5.1->rich[jupyter]>=12.0.0->zenml[server]) (0.3.0)\n",
            "Requirement already satisfied: mistune<2,>=0.8.1 in /usr/local/lib/python3.10/dist-packages (from nbconvert>=5->notebook>=4.4.1->widgetsnbextension~=3.6.0->ipywidgets<9,>=7.5.1->rich[jupyter]>=12.0.0->zenml[server]) (0.8.4)\n",
            "Requirement already satisfied: nbclient>=0.5.0 in /usr/local/lib/python3.10/dist-packages (from nbconvert>=5->notebook>=4.4.1->widgetsnbextension~=3.6.0->ipywidgets<9,>=7.5.1->rich[jupyter]>=12.0.0->zenml[server]) (0.10.0)\n",
            "Requirement already satisfied: pandocfilters>=1.4.1 in /usr/local/lib/python3.10/dist-packages (from nbconvert>=5->notebook>=4.4.1->widgetsnbextension~=3.6.0->ipywidgets<9,>=7.5.1->rich[jupyter]>=12.0.0->zenml[server]) (1.5.1)\n",
            "Requirement already satisfied: tinycss2 in /usr/local/lib/python3.10/dist-packages (from nbconvert>=5->notebook>=4.4.1->widgetsnbextension~=3.6.0->ipywidgets<9,>=7.5.1->rich[jupyter]>=12.0.0->zenml[server]) (1.3.0)\n",
            "Requirement already satisfied: fastjsonschema>=2.15 in /usr/local/lib/python3.10/dist-packages (from nbformat->notebook>=4.4.1->widgetsnbextension~=3.6.0->ipywidgets<9,>=7.5.1->rich[jupyter]>=12.0.0->zenml[server]) (2.20.0)\n",
            "Requirement already satisfied: jsonschema>=2.6 in /usr/local/lib/python3.10/dist-packages (from nbformat->notebook>=4.4.1->widgetsnbextension~=3.6.0->ipywidgets<9,>=7.5.1->rich[jupyter]>=12.0.0->zenml[server]) (4.23.0)\n",
            "Requirement already satisfied: argon2-cffi-bindings in /usr/local/lib/python3.10/dist-packages (from argon2-cffi->notebook>=4.4.1->widgetsnbextension~=3.6.0->ipywidgets<9,>=7.5.1->rich[jupyter]>=12.0.0->zenml[server]) (21.2.0)\n",
            "Requirement already satisfied: jsonschema-specifications>=2023.03.6 in /usr/local/lib/python3.10/dist-packages (from jsonschema>=2.6->nbformat->notebook>=4.4.1->widgetsnbextension~=3.6.0->ipywidgets<9,>=7.5.1->rich[jupyter]>=12.0.0->zenml[server]) (2023.12.1)\n",
            "Requirement already satisfied: referencing>=0.28.4 in /usr/local/lib/python3.10/dist-packages (from jsonschema>=2.6->nbformat->notebook>=4.4.1->widgetsnbextension~=3.6.0->ipywidgets<9,>=7.5.1->rich[jupyter]>=12.0.0->zenml[server]) (0.35.1)\n",
            "Requirement already satisfied: rpds-py>=0.7.1 in /usr/local/lib/python3.10/dist-packages (from jsonschema>=2.6->nbformat->notebook>=4.4.1->widgetsnbextension~=3.6.0->ipywidgets<9,>=7.5.1->rich[jupyter]>=12.0.0->zenml[server]) (0.20.0)\n",
            "Requirement already satisfied: jupyter-server<3,>=1.8 in /usr/local/lib/python3.10/dist-packages (from notebook-shim>=0.2.3->nbclassic>=0.4.7->notebook>=4.4.1->widgetsnbextension~=3.6.0->ipywidgets<9,>=7.5.1->rich[jupyter]>=12.0.0->zenml[server]) (1.24.0)\n",
            "Requirement already satisfied: soupsieve>1.2 in /usr/local/lib/python3.10/dist-packages (from beautifulsoup4->nbconvert>=5->notebook>=4.4.1->widgetsnbextension~=3.6.0->ipywidgets<9,>=7.5.1->rich[jupyter]>=12.0.0->zenml[server]) (2.6)\n",
            "Requirement already satisfied: webencodings in /usr/local/lib/python3.10/dist-packages (from bleach->nbconvert>=5->notebook>=4.4.1->widgetsnbextension~=3.6.0->ipywidgets<9,>=7.5.1->rich[jupyter]>=12.0.0->zenml[server]) (0.5.1)\n",
            "Requirement already satisfied: websocket-client in /usr/local/lib/python3.10/dist-packages (from jupyter-server<3,>=1.8->notebook-shim>=0.2.3->nbclassic>=0.4.7->notebook>=4.4.1->widgetsnbextension~=3.6.0->ipywidgets<9,>=7.5.1->rich[jupyter]>=12.0.0->zenml[server]) (1.8.0)\n",
            "\u001b[1;35mNumExpr defaulting to 2 threads.\u001b[0m\n",
            "\u001b[2K\u001b[32m⠏\u001b[0m Installing integrations...\n",
            "\u001b[1A\u001b[2KCollecting pyparsing==2.4.2\n",
            "  Using cached pyparsing-2.4.2-py2.py3-none-any.whl.metadata (1.1 kB)\n",
            "Using cached pyparsing-2.4.2-py2.py3-none-any.whl (65 kB)\n",
            "Installing collected packages: pyparsing\n",
            "  Attempting uninstall: pyparsing\n",
            "    Found existing installation: pyparsing 2.4.7\n",
            "    Uninstalling pyparsing-2.4.7:\n",
            "      Successfully uninstalled pyparsing-2.4.7\n",
            "Successfully installed pyparsing-2.4.2\n"
          ]
        },
        {
          "output_type": "display_data",
          "data": {
            "application/vnd.colab-display-data+json": {
              "pip_warning": {
                "packages": [
                  "pyparsing"
                ]
              },
              "id": "7ed1a05b58e1454a8db6e9cdcb9a0f2d"
            }
          },
          "metadata": {}
        },
        {
          "output_type": "execute_result",
          "data": {
            "text/plain": [
              "{'status': 'ok', 'restart': True}"
            ]
          },
          "metadata": {},
          "execution_count": 1
        }
      ],
      "source": [
        "%pip install \"zenml[server]\"\n",
        "!zenml integration install sklearn -y\n",
        "%pip install pyparsing==2.4.2\n",
        "\n",
        "import IPython\n",
        "\n",
        "IPython.Application.instance().kernel.do_shutdown(restart=True)"
      ]
    },
    {
      "cell_type": "code",
      "execution_count": 1,
      "metadata": {
        "id": "MG3fgdOqCvSO"
      },
      "outputs": [],
      "source": [
        "NGROK_TOKEN = \"2leOXvPgrpSgsENdT4wyHK87Rr3_3BwAkrcZSw2XoBZR3VVzz\""
      ]
    },
    {
      "cell_type": "code",
      "execution_count": 2,
      "metadata": {
        "colab": {
          "base_uri": "https://localhost:8080/"
        },
        "id": "Ebj0_gxIC2b_",
        "outputId": "4acdff82-7068-4944-d01b-1a23b15fce74"
      },
      "outputs": [
        {
          "output_type": "stream",
          "name": "stderr",
          "text": [
            "INFO:numexpr.utils:NumExpr defaulting to 2 threads.\n"
          ]
        },
        {
          "output_type": "stream",
          "name": "stdout",
          "text": [
            "\u001b[1;35mNumExpr defaulting to 2 threads.\u001b[0m\n",
            "Collecting pyngrok\n",
            "  Downloading pyngrok-7.2.0-py3-none-any.whl.metadata (7.4 kB)\n",
            "Requirement already satisfied: PyYAML>=5.1 in /usr/local/lib/python3.10/dist-packages (from pyngrok) (6.0.2)\n",
            "Downloading pyngrok-7.2.0-py3-none-any.whl (22 kB)\n",
            "Installing collected packages: pyngrok\n",
            "Successfully installed pyngrok-7.2.0\n",
            "Authtoken saved to configuration file: /root/.config/ngrok/ngrok.yml\n"
          ]
        }
      ],
      "source": [
        "from zenml.environment import Environment\n",
        "if Environment.in_google_colab():\n",
        "  !pip install pyngrok\n",
        "  !ngrok authtoken {NGROK_TOKEN}"
      ]
    },
    {
      "cell_type": "code",
      "execution_count": 3,
      "metadata": {
        "colab": {
          "base_uri": "https://localhost:8080/"
        },
        "id": "EBSA7q4cDeLX",
        "outputId": "2e5cf399-e1cc-44d5-cd93-98ab59b20e29"
      },
      "outputs": [
        {
          "output_type": "stream",
          "name": "stdout",
          "text": [
            "\u001b[1;35mNumExpr defaulting to 2 threads.\u001b[0m\n",
            "\u001b[?25l\u001b[1;35mInitializing the ZenML global configuration version to 0.65.0\u001b[0m\n",
            "\u001b[1;35mCreating database tables\u001b[0m\n",
            "\u001b[32m⠋\u001b[0m Initializing ZenML repository at /content.\n",
            "\u001b[2K\u001b[1A\u001b[2K\u001b[32m⠙\u001b[0m Initializing ZenML repository at /content.\n",
            "\u001b[2K\u001b[1A\u001b[2K\u001b[32m⠹\u001b[0m Initializing ZenML repository at /content.\n",
            "\u001b[2K\u001b[1A\u001b[2K\u001b[32m⠸\u001b[0m Initializing ZenML repository at /content.\n",
            "\u001b[2K\u001b[1A\u001b[2K\u001b[32m⠼\u001b[0m Initializing ZenML repository at /content.\n",
            "\u001b[2K\u001b[1A\u001b[2K\u001b[32m⠴\u001b[0m Initializing ZenML repository at /content.\n",
            "\u001b[2K\u001b[1A\u001b[2K\u001b[32m⠦\u001b[0m Initializing ZenML repository at /content.\n",
            "\u001b[2K\u001b[1A\u001b[2K\u001b[32m⠧\u001b[0m Initializing ZenML repository at /content.\n",
            "\u001b[2K\u001b[1A\u001b[2K\u001b[32m⠇\u001b[0m Initializing ZenML repository at /content.\n",
            "\u001b[2K\u001b[1A\u001b[2K\u001b[32m⠏\u001b[0m Initializing ZenML repository at /content.\n",
            "\u001b[2K\u001b[1A\u001b[2K\u001b[32m⠋\u001b[0m Initializing ZenML repository at /content.\n",
            "\u001b[2K\u001b[1A\u001b[2K\u001b[32m⠙\u001b[0m Initializing ZenML repository at /content.\n",
            "\u001b[2K\u001b[1A\u001b[2K\u001b[32m⠹\u001b[0m Initializing ZenML repository at /content.\n",
            "\u001b[1;35mCreating default workspace 'default' ...\u001b[0m\n",
            "\u001b[1;35mCreating default stack in workspace default...\u001b[0m\n",
            "\u001b[2K\u001b[1A\u001b[2K\u001b[32m⠸\u001b[0m Initializing ZenML repository at /content.\n",
            "\u001b[2K\u001b[1A\u001b[2K\u001b[32m⠼\u001b[0m Initializing ZenML repository at /content.\n",
            "\u001b[2K\u001b[1A\u001b[2K\u001b[32m⠴\u001b[0m Initializing ZenML repository at /content.\n",
            "\u001b[2K\u001b[1A\u001b[2K\u001b[32m⠦\u001b[0m Initializing ZenML repository at /content.\n",
            "\u001b[2K\u001b[1A\u001b[2K\u001b[32m⠧\u001b[0m Initializing ZenML repository at /content.\n",
            "\u001b[2K\u001b[1A\u001b[2K\u001b[32m⠇\u001b[0m Initializing ZenML repository at /content.\n",
            "\u001b[2K\u001b[1A\u001b[2K\u001b[32m⠏\u001b[0m Initializing ZenML repository at /content.\n",
            "\u001b[1;35mSetting the global active workspace to 'default'.\u001b[0m\n",
            "\u001b[33mSetting the global active stack to default.\u001b[0m\n",
            "\u001b[1;35mSetting the repo active workspace to 'default'.\u001b[0m\n",
            "\u001b[33mSetting the repo active stack to default.\u001b[0m\n",
            "\u001b[2K\u001b[1A\u001b[2K\u001b[32m⠋\u001b[0m Initializing ZenML repository at /content.\n",
            "\u001b[2K\u001b[1A\u001b[2K\u001b[32m⠼\u001b[0m Initializing ZenML repository at /content.\n",
            "\u001b[2K\u001b[1A\u001b[2K\u001b[32m⠴\u001b[0m Initializing ZenML repository at /content.\n",
            "\u001b[2K\u001b[1A\u001b[2K\u001b[32m⠦\u001b[0m Initializing ZenML repository at /content.\n",
            "\u001b[2K\u001b[1A\u001b[2K\u001b[32m⠧\u001b[0m Initializing ZenML repository at /content.\n",
            "\u001b[2K\u001b[1A\u001b[2K\u001b[32m⠇\u001b[0m Initializing ZenML repository at /content.\n",
            "\u001b[2K\u001b[1A\u001b[2K\u001b[32m⠏\u001b[0m Initializing ZenML repository at /content.\n",
            "\u001b[2K\u001b[1A\u001b[2K\u001b[32m⠋\u001b[0m Initializing ZenML repository at /content.\n",
            "\u001b[2K\u001b[1A\u001b[2K\u001b[32m⠙\u001b[0m Initializing ZenML repository at /content.\n",
            "\u001b[2K\u001b[1A\u001b[2K\u001b[32m⠹\u001b[0m Initializing ZenML repository at /content.\n",
            "\u001b[2K\u001b[1A\u001b[2K\u001b[32m⠸\u001b[0m Initializing ZenML repository at /content.\n",
            "\u001b[2K\u001b[1A\u001b[2K\u001b[32m⠼\u001b[0m Initializing ZenML repository at /content.\n",
            "\u001b[2K\u001b[1A\u001b[2K\u001b[32m⠴\u001b[0m Initializing ZenML repository at /content.\n",
            "\u001b[2K\u001b[1A\u001b[2K\u001b[32m⠦\u001b[0m Initializing ZenML repository at /content.\n",
            "\u001b[2K\u001b[1A\u001b[2K\u001b[32m⠧\u001b[0m Initializing ZenML repository at /content.\n",
            "\u001b[2K\u001b[1A\u001b[2K\u001b[32m⠇\u001b[0m Initializing ZenML repository at /content.\n",
            "\u001b[2K\u001b[1A\u001b[2K\u001b[32m⠏\u001b[0m Initializing ZenML repository at /content.\n",
            "\u001b[2K\u001b[1A\u001b[2K\u001b[32m⠋\u001b[0m Initializing ZenML repository at /content.\n",
            "\u001b[2K\u001b[1A\u001b[2K\u001b[32m⠙\u001b[0m Initializing ZenML repository at /content.\n",
            "\u001b[2K\u001b[1A\u001b[2K\u001b[32m⠹\u001b[0m Initializing ZenML repository at /content.\n",
            "\u001b[2K\u001b[1A\u001b[2K\u001b[32m⠸\u001b[0m Initializing ZenML repository at /content.\n",
            "\u001b[2K\u001b[1A\u001b[2K\u001b[32m⠼\u001b[0m Initializing ZenML repository at /content.\n",
            "\u001b[2K\u001b[1A\u001b[2K\u001b[32m⠴\u001b[0m Initializing ZenML repository at /content.\n",
            "\u001b[2K\u001b[1A\u001b[2K\u001b[32m⠦\u001b[0m Initializing ZenML repository at /content.\n",
            "\u001b[2K\u001b[1A\u001b[2K\u001b[32m⠧\u001b[0m Initializing ZenML repository at /content.\n",
            "\u001b[2K\u001b[1A\u001b[2K\u001b[32m⠇\u001b[0m Initializing ZenML repository at /content.\n",
            "\u001b[2K\u001b[1A\u001b[2K\u001b[32m⠏\u001b[0m Initializing ZenML repository at /content.\n",
            "\u001b[2K\u001b[1A\u001b[2K\u001b[32m⠋\u001b[0m Initializing ZenML repository at /content.\n",
            "\u001b[2K\u001b[1A\u001b[2K\u001b[32m⠙\u001b[0m Initializing ZenML repository at /content.\n",
            "\u001b[2K\u001b[1A\u001b[2K\u001b[32m⠹\u001b[0m Initializing ZenML repository at /content.\n",
            "\u001b[2K\u001b[1A\u001b[2K\u001b[32m⠸\u001b[0m Initializing ZenML repository at /content.\n",
            "\u001b[2K\u001b[1A\u001b[2K\u001b[32m⠼\u001b[0m Initializing ZenML repository at /content.\n",
            "\u001b[2K\u001b[1A\u001b[2K\u001b[32m⠴\u001b[0m Initializing ZenML repository at /content.\n",
            "\u001b[2K\u001b[1A\u001b[2K\u001b[32m⠦\u001b[0m Initializing ZenML repository at /content.\n",
            "\u001b[2K\u001b[1A\u001b[2K\u001b[32m⠇\u001b[0m Initializing ZenML repository at /content.\n",
            "\u001b[2K\u001b[1A\u001b[2K\u001b[32m⠏\u001b[0m Initializing ZenML repository at /content.\n",
            "\u001b[2K\u001b[1A\u001b[2K\u001b[32m⠋\u001b[0m Initializing ZenML repository at /content.\n",
            "\u001b[2K\u001b[1A\u001b[2K\u001b[32m⠙\u001b[0m Initializing ZenML repository at /content.\n",
            "\u001b[2K\u001b[1A\u001b[2K\u001b[32m⠹\u001b[0m Initializing ZenML repository at /content.\n",
            "\u001b[2K\u001b[1A\u001b[2K\u001b[32m⠸\u001b[0m Initializing ZenML repository at /content.\n",
            "\u001b[2K\u001b[1A\u001b[2K\u001b[32m⠼\u001b[0m Initializing ZenML repository at /content.\n",
            "\u001b[2K\u001b[1A\u001b[2K\u001b[32m⠴\u001b[0m Initializing ZenML repository at /content.\n",
            "\u001b[2K\u001b[1A\u001b[2K\u001b[32m⠦\u001b[0m Initializing ZenML repository at /content.\n",
            "\u001b[2K\u001b[1A\u001b[2K\u001b[32m⠧\u001b[0m Initializing ZenML repository at /content.\n",
            "\u001b[2K\u001b[1A\u001b[2K\u001b[32m⠇\u001b[0m Initializing ZenML repository at /content.\n",
            "\u001b[2K\u001b[1A\u001b[2K\u001b[32m⠏\u001b[0m Initializing ZenML repository at /content.\n",
            "\u001b[2K\u001b[1A\u001b[2K\u001b[32m⠋\u001b[0m Initializing ZenML repository at /content.\n",
            "\u001b[2K\u001b[1A\u001b[2K\u001b[32m⠙\u001b[0m Initializing ZenML repository at /content.\n",
            "\u001b[2K\u001b[1A\u001b[2K\u001b[32m⠹\u001b[0m Initializing ZenML repository at /content.\n",
            "\u001b[2K\u001b[1A\u001b[2K\u001b[32m⠸\u001b[0m Initializing ZenML repository at /content.\n",
            "\u001b[2K\u001b[1A\u001b[2K\u001b[32m⠼\u001b[0m Initializing ZenML repository at /content.\n",
            "\u001b[2K\u001b[1A\u001b[2K\u001b[32m⠴\u001b[0m Initializing ZenML repository at /content.\n",
            "\u001b[2K\u001b[1A\u001b[2K\u001b[32m⠦\u001b[0m Initializing ZenML repository at /content.\n",
            "\u001b[2K\u001b[1A\u001b[2K\u001b[32m⠧\u001b[0m Initializing ZenML repository at /content.\n",
            "\u001b[2K\u001b[1A\u001b[2K\u001b[32m⠇\u001b[0m Initializing ZenML repository at /content.\n",
            "\u001b[2K\u001b[1A\u001b[2K\u001b[32m⠏\u001b[0m Initializing ZenML repository at /content.\n",
            "\u001b[2K\u001b[1A\u001b[2K\u001b[32m⠋\u001b[0m Initializing ZenML repository at /content.\n",
            "\u001b[2K\u001b[1A\u001b[2K\u001b[32m⠙\u001b[0m Initializing ZenML repository at /content.\n",
            "\u001b[2K\u001b[1A\u001b[2K\u001b[32m⠹\u001b[0m Initializing ZenML repository at /content.\n",
            "\u001b[2K\u001b[1A\u001b[2K\u001b[32m⠸\u001b[0m Initializing ZenML repository at /content.\n",
            "\u001b[2K\u001b[1A\u001b[2K\u001b[32m⠼\u001b[0m Initializing ZenML repository at /content.\n",
            "\u001b[2K\u001b[1A\u001b[2K\u001b[32m⠴\u001b[0m Initializing ZenML repository at /content.\n",
            "\u001b[2K\u001b[1A\u001b[2K\u001b[32m⠦\u001b[0m Initializing ZenML repository at /content.\n",
            "\u001b[2K\u001b[1A\u001b[2K\u001b[32m⠧\u001b[0m Initializing ZenML repository at /content.\n",
            "\u001b[2K\u001b[1A\u001b[2K\u001b[32m⠇\u001b[0m Initializing ZenML repository at /content.\n",
            "\u001b[1;35mReloading configuration file /content/.zen/config.yaml\u001b[0m\n",
            "\u001b[2K\u001b[1A\u001b[2K\u001b[32m⠏\u001b[0m Initializing ZenML repository at /content.\n",
            "\u001b[2K\u001b[1A\u001b[2K\u001b[2;36mZenML repository initialized at \u001b[0m\u001b[2;35m/\u001b[0m\u001b[2;95mcontent.\u001b[0m\n",
            "\u001b[2;32m⠏\u001b[0m\u001b[2;36m Initializing ZenML repository at /content.\u001b[0m\n",
            "\u001b[2K\u001b[1A\u001b[2K\u001b[32m⠏\u001b[0m Initializing ZenML repository at /content.\n",
            "\n",
            "\u001b[1A\u001b[2K\u001b[1A\u001b[2K\u001b[2;36mThe local active stack was initialized to \u001b[0m\u001b[2;32m'default'\u001b[0m\u001b[2;36m. This local configuration will only take effect \u001b[0m\n",
            "\u001b[2;36mwhen you're running ZenML from the initialized repository root, or from a subdirectory. For more \u001b[0m\n",
            "\u001b[2;36minformation on repositories and configurations, please visit \u001b[0m\n",
            "\u001b[2;4;94mhttps://docs.zenml.io/user-guide/starter-guide/understand-stacks.\u001b[0m\n"
          ]
        }
      ],
      "source": [
        "!rm -rf .zen\n",
        "!zenml init"
      ]
    },
    {
      "cell_type": "code",
      "execution_count": 4,
      "metadata": {
        "colab": {
          "base_uri": "https://localhost:8080/"
        },
        "id": "dp7Jxr9zD71x",
        "outputId": "c19d7e04-43d1-461d-a646-bc65bbc3e8f8"
      },
      "outputs": [
        {
          "output_type": "stream",
          "name": "stdout",
          "text": [
            "Test accuracy: 0.9583333333333334\n"
          ]
        }
      ],
      "source": [
        "from string import digits\n",
        "import numpy as np\n",
        "from sklearn.base import ClassifierMixin\n",
        "from sklearn.svm import SVC\n",
        "from sklearn.datasets import load_digits\n",
        "from sklearn.model_selection import train_test_split\n",
        "\n",
        "\n",
        "def train_test() -> None :\n",
        "  digits = load_digits()\n",
        "  data =  digits.images.reshape((len(digits.images), -1))\n",
        "  X_train, X_test, y_train, y_test = train_test_split(data, digits.target, test_size=0.2, shuffle=False)\n",
        "  model = SVC(gamma=0.001)\n",
        "  model.fit(X_train, y_train)\n",
        "  test_acc = model.score(X_test, y_test)\n",
        "  print(f\"Test accuracy: {test_acc}\")\n",
        "\n",
        "\n",
        "train_test()"
      ]
    },
    {
      "cell_type": "code",
      "execution_count": 5,
      "metadata": {
        "id": "k4opl_q0GH6R"
      },
      "outputs": [],
      "source": [
        "from zenml import step\n",
        "from typing_extensions import Annotated\n",
        "import pandas as pd\n",
        "from typing import Tuple\n",
        "\n",
        "@step\n",
        "def importer() -> Tuple[\n",
        "    Annotated[np.ndarray, \"X_train\"],\n",
        "    Annotated[np.ndarray, \"X_test\"],\n",
        "    Annotated[np.ndarray, \"y_train\"],\n",
        "    Annotated[np.ndarray, \"y_test\"],\n",
        "]:\n",
        "\n",
        "    digits = load_digits()\n",
        "    data = digits.images.reshape((len(digits.images), -1))\n",
        "    X_train, X_test, y_train, y_test = train_test_split(data, digits.target, test_size=0.2, shuffle=False)\n",
        "    return X_train, X_test, y_train, y_test\n",
        "\n",
        "@step\n",
        "def svc_trainer(\n",
        "    X_train: np.ndarray,\n",
        "    y_train: np.ndarray,\n",
        ") -> ClassifierMixin:\n",
        "    model = SVC(gamma=0.001)\n",
        "    model.fit(X_train, y_train)\n",
        "    return model\n",
        "\n",
        "@step\n",
        "def evaluator(\n",
        "    X_test: np.ndarray,\n",
        "    y_test: np.ndarray,\n",
        "    model: ClassifierMixin,\n",
        ") -> float:\n",
        "    test_acc = model.score(X_test, y_test)\n",
        "    print(f\"Test accuracy: {test_acc}\")\n",
        "    return test_acc"
      ]
    },
    {
      "cell_type": "code",
      "execution_count": 6,
      "metadata": {
        "id": "4xy5iE8Yd0YB"
      },
      "outputs": [],
      "source": [
        "from zenml import pipeline\n",
        "@pipeline\n",
        "def digits_pipeline():\n",
        "    X_train, X_test, y_train, y_test = importer()\n",
        "    model = svc_trainer(X_train=X_train, y_train=y_train)\n",
        "    evaluator(X_test=X_test, y_test=y_test, model=model)"
      ]
    },
    {
      "cell_type": "code",
      "execution_count": 8,
      "metadata": {
        "colab": {
          "base_uri": "https://localhost:8080/"
        },
        "id": "b7B9J5q2eJsh",
        "outputId": "e21ba7d2-2c3f-4f36-b8e4-b5c9483b4dac"
      },
      "outputs": [
        {
          "output_type": "stream",
          "name": "stdout",
          "text": [
            "\u001b[1;35mInitiating a new run for the pipeline: \u001b[0m\u001b[1;36mdigits_pipeline\u001b[1;35m.\u001b[0m\n"
          ]
        },
        {
          "output_type": "stream",
          "name": "stderr",
          "text": [
            "/usr/local/lib/python3.10/dist-packages/dask/dataframe/__init__.py:42: FutureWarning: \n",
            "Dask dataframe query planning is disabled because dask-expr is not installed.\n",
            "\n",
            "You can install it with `pip install dask[dataframe]` or `conda install dask`.\n",
            "This will raise in a future version.\n",
            "\n",
            "  warnings.warn(msg, FutureWarning)\n"
          ]
        },
        {
          "output_type": "stream",
          "name": "stdout",
          "text": [
            "\u001b[1;35mRegistered new pipeline: \u001b[0m\u001b[1;36mdigits_pipeline\u001b[1;35m.\u001b[0m\n",
            "\u001b[1;35mExecuting a new run.\u001b[0m\n",
            "\u001b[1;35mUsing user: \u001b[0m\u001b[1;36mdefault\u001b[1;35m\u001b[0m\n",
            "\u001b[1;35mUsing stack: \u001b[0m\u001b[1;36mdefault\u001b[1;35m\u001b[0m\n",
            "\u001b[1;35m  artifact_store: \u001b[0m\u001b[1;36mdefault\u001b[1;35m\u001b[0m\n",
            "\u001b[1;35m  orchestrator: \u001b[0m\u001b[1;36mdefault\u001b[1;35m\u001b[0m\n",
            "\u001b[1;35mYou can visualize your pipeline runs in the \u001b[0m\u001b[1;36mZenML Dashboard\u001b[1;35m. In order to try it locally, please run \u001b[0m\u001b[1;36mzenml up\u001b[1;35m.\u001b[0m\n",
            "\u001b[1;35mStep \u001b[0m\u001b[1;36mimporter\u001b[1;35m has started.\u001b[0m\n",
            "\u001b[1;35mStep \u001b[0m\u001b[1;36mimporter\u001b[1;35m has finished in \u001b[0m\u001b[1;36m2.946s\u001b[1;35m.\u001b[0m\n",
            "\u001b[1;35mStep \u001b[0m\u001b[1;36mimporter\u001b[1;35m completed successfully.\u001b[0m\n",
            "\u001b[1;35mStep \u001b[0m\u001b[1;36msvc_trainer\u001b[1;35m has started.\u001b[0m\n",
            "\u001b[1;35mStep \u001b[0m\u001b[1;36msvc_trainer\u001b[1;35m has finished in \u001b[0m\u001b[1;36m0.508s\u001b[1;35m.\u001b[0m\n",
            "\u001b[1;35mStep \u001b[0m\u001b[1;36msvc_trainer\u001b[1;35m completed successfully.\u001b[0m\n",
            "\u001b[1;35mStep \u001b[0m\u001b[1;36mevaluator\u001b[1;35m has started.\u001b[0m\n",
            "Test accuracy: 0.9583333333333334\n",
            "\u001b[1;35mStep \u001b[0m\u001b[1;36mevaluator\u001b[1;35m has finished in \u001b[0m\u001b[1;36m1.008s\u001b[1;35m.\u001b[0m\n",
            "\u001b[1;35mStep \u001b[0m\u001b[1;36mevaluator\u001b[1;35m completed successfully.\u001b[0m\n",
            "\u001b[1;35mPipeline run has finished in \u001b[0m\u001b[1;36m4.874s\u001b[1;35m.\u001b[0m\n"
          ]
        }
      ],
      "source": [
        "digits_svc_pipeline = digits_pipeline()"
      ]
    },
    {
      "cell_type": "code",
      "execution_count": null,
      "metadata": {
        "colab": {
          "base_uri": "https://localhost:8080/"
        },
        "id": "PbY1dKxvfw4t",
        "outputId": "5bb5f02b-ec72-49a6-f958-41b60efac7f1"
      },
      "outputs": [
        {
          "output_type": "stream",
          "name": "stderr",
          "text": [
            "INFO:pyngrok.ngrok:Opening tunnel named: http-8237-c840d1ee-cea6-43e1-b67e-5103308f8f35\n"
          ]
        },
        {
          "output_type": "stream",
          "name": "stdout",
          "text": [
            "\u001b[1;35mOpening tunnel named: http-8237-c840d1ee-cea6-43e1-b67e-5103308f8f35\u001b[0m\n"
          ]
        },
        {
          "output_type": "stream",
          "name": "stderr",
          "text": [
            "INFO:pyngrok.process.ngrok:t=2024-09-07T04:24:41+0000 lvl=info msg=\"no configuration paths supplied\"\n"
          ]
        },
        {
          "output_type": "stream",
          "name": "stdout",
          "text": [
            "\u001b[1;35mt=2024-09-07T04:24:41+0000 lvl=info msg=\"no configuration paths supplied\"\u001b[0m\n"
          ]
        },
        {
          "output_type": "stream",
          "name": "stderr",
          "text": [
            "INFO:pyngrok.process.ngrok:t=2024-09-07T04:24:41+0000 lvl=info msg=\"using configuration at default config path\" path=/root/.config/ngrok/ngrok.yml\n"
          ]
        },
        {
          "output_type": "stream",
          "name": "stdout",
          "text": [
            "\u001b[1;35mt=2024-09-07T04:24:41+0000 lvl=info msg=\"using configuration at default config path\" path=/root/.config/ngrok/ngrok.yml\u001b[0m\n"
          ]
        },
        {
          "output_type": "stream",
          "name": "stderr",
          "text": [
            "INFO:pyngrok.process.ngrok:t=2024-09-07T04:24:41+0000 lvl=info msg=\"open config file\" path=/root/.config/ngrok/ngrok.yml err=nil\n"
          ]
        },
        {
          "output_type": "stream",
          "name": "stdout",
          "text": [
            "\u001b[1;35mt=2024-09-07T04:24:41+0000 lvl=info msg=\"open config file\" path=/root/.config/ngrok/ngrok.yml err=nil\u001b[0m\n"
          ]
        },
        {
          "output_type": "stream",
          "name": "stderr",
          "text": [
            "INFO:pyngrok.process.ngrok:t=2024-09-07T04:24:41+0000 lvl=info msg=\"starting web service\" obj=web addr=127.0.0.1:4040 allow_hosts=[]\n"
          ]
        },
        {
          "output_type": "stream",
          "name": "stdout",
          "text": [
            "\u001b[1;35mt=2024-09-07T04:24:41+0000 lvl=info msg=\"starting web service\" obj=web addr=127.0.0.1:4040 allow_hosts=[]\u001b[0m\n"
          ]
        },
        {
          "output_type": "stream",
          "name": "stderr",
          "text": [
            "INFO:pyngrok.process.ngrok:t=2024-09-07T04:24:42+0000 lvl=info msg=\"client session established\" obj=tunnels.session\n"
          ]
        },
        {
          "output_type": "stream",
          "name": "stdout",
          "text": [
            "\u001b[1;35mt=2024-09-07T04:24:42+0000 lvl=info msg=\"client session established\" obj=tunnels.session\u001b[0m\n"
          ]
        },
        {
          "output_type": "stream",
          "name": "stderr",
          "text": [
            "INFO:pyngrok.process.ngrok:t=2024-09-07T04:24:42+0000 lvl=info msg=\"tunnel session started\" obj=tunnels.session\n"
          ]
        },
        {
          "output_type": "stream",
          "name": "stdout",
          "text": [
            "\u001b[1;35mt=2024-09-07T04:24:42+0000 lvl=info msg=\"tunnel session started\" obj=tunnels.session\u001b[0m\n"
          ]
        },
        {
          "output_type": "stream",
          "name": "stderr",
          "text": [
            "INFO:pyngrok.process.ngrok:t=2024-09-07T04:24:42+0000 lvl=info msg=start pg=/api/tunnels id=db4ecdfd67822cd2\n"
          ]
        },
        {
          "output_type": "stream",
          "name": "stdout",
          "text": [
            "\u001b[1;35mt=2024-09-07T04:24:42+0000 lvl=info msg=start pg=/api/tunnels id=db4ecdfd67822cd2\u001b[0m\n"
          ]
        },
        {
          "output_type": "stream",
          "name": "stderr",
          "text": [
            "INFO:pyngrok.process.ngrok:t=2024-09-07T04:24:42+0000 lvl=info msg=end pg=/api/tunnels id=db4ecdfd67822cd2 status=200 dur=369.039µs\n"
          ]
        },
        {
          "output_type": "stream",
          "name": "stdout",
          "text": [
            "\u001b[1;35mt=2024-09-07T04:24:42+0000 lvl=info msg=end pg=/api/tunnels id=db4ecdfd67822cd2 status=200 dur=369.039µs\u001b[0m\n"
          ]
        },
        {
          "output_type": "stream",
          "name": "stderr",
          "text": [
            "INFO:pyngrok.process.ngrok:t=2024-09-07T04:24:42+0000 lvl=info msg=start pg=/api/tunnels id=b8cc26185a5ec0b6\n"
          ]
        },
        {
          "output_type": "stream",
          "name": "stdout",
          "text": [
            "\u001b[1;35mt=2024-09-07T04:24:42+0000 lvl=info msg=start pg=/api/tunnels id=b8cc26185a5ec0b6\u001b[0m\n"
          ]
        },
        {
          "output_type": "stream",
          "name": "stderr",
          "text": [
            "INFO:pyngrok.process.ngrok:t=2024-09-07T04:24:42+0000 lvl=info msg=end pg=/api/tunnels id=b8cc26185a5ec0b6 status=200 dur=135.352µs\n"
          ]
        },
        {
          "output_type": "stream",
          "name": "stdout",
          "text": [
            "\u001b[1;35mt=2024-09-07T04:24:42+0000 lvl=info msg=end pg=/api/tunnels id=b8cc26185a5ec0b6 status=200 dur=135.352µs\u001b[0m\n"
          ]
        },
        {
          "output_type": "stream",
          "name": "stderr",
          "text": [
            "INFO:pyngrok.process.ngrok:t=2024-09-07T04:24:42+0000 lvl=info msg=start pg=/api/tunnels id=81eced317806a3f1\n"
          ]
        },
        {
          "output_type": "stream",
          "name": "stdout",
          "text": [
            "\u001b[1;35mt=2024-09-07T04:24:42+0000 lvl=info msg=start pg=/api/tunnels id=81eced317806a3f1\u001b[0m\n"
          ]
        },
        {
          "output_type": "stream",
          "name": "stderr",
          "text": [
            "INFO:pyngrok.process.ngrok:t=2024-09-07T04:24:42+0000 lvl=info msg=\"started tunnel\" obj=tunnels name=http-8237-c840d1ee-cea6-43e1-b67e-5103308f8f35 addr=http://localhost:8237 url=https://47a1-34-74-152-61.ngrok-free.app\n"
          ]
        },
        {
          "output_type": "stream",
          "name": "stdout",
          "text": [
            "\u001b[31mIn Colab, use this URL instead: NgrokTunnel: \"https://47a1-34-74-152-61.ngrok-free.app\" -> \"http://localhost:8237\"\u001b[0m\n",
            "\u001b[1;35mt=2024-09-07T04:24:42+0000 lvl=info msg=\"started tunnel\" obj=tunnels name=http-8237-c840d1ee-cea6-43e1-b67e-5103308f8f35 addr=\u001b[0m\u001b[34mhttp://localhost:8237\u001b[1;35m url=\u001b[0m\u001b[34mhttps://47a1-34-74-152-61.ngrok-free.app\u001b[1;35m\u001b[0m\n"
          ]
        },
        {
          "output_type": "stream",
          "name": "stderr",
          "text": [
            "INFO:pyngrok.process.ngrok:t=2024-09-07T04:24:42+0000 lvl=info msg=end pg=/api/tunnels id=81eced317806a3f1 status=201 dur=47.291888ms\n"
          ]
        },
        {
          "output_type": "stream",
          "name": "stdout",
          "text": [
            "\u001b[1;35mt=2024-09-07T04:24:42+0000 lvl=info msg=end pg=/api/tunnels id=81eced317806a3f1 status=201 dur=47.291888ms\u001b[0m\n",
            "\u001b[1;35mNumExpr defaulting to 2 threads.\u001b[0m\n",
            "\u001b[2;36mThe local ZenML dashboard is about to deploy in a blocking process. You can connect to it using the \u001b[0m\n",
            "\u001b[2;32m'default'\u001b[0m\u001b[2;36m username and an empty password.\u001b[0m\n",
            "\u001b[1;35mDeploying a local ZenML server with name 'local'.\u001b[0m\n",
            "\u001b[1;35mInitializing the ZenML global configuration version to 0.65.0\u001b[0m\n",
            "\u001b[1;35mStarting ZenML Server as blocking process... press CTRL+C once to stop it.\u001b[0m\n",
            "\u001b[32mINFO\u001b[0m:     Started server process [\u001b[36m2753\u001b[0m]\n",
            "\u001b[32mINFO\u001b[0m:     Waiting for application startup.\n",
            "\u001b[1;35mNot writing the global configuration to disk in a ZenML server environment.\u001b[0m\n",
            "\u001b[1;35mNot writing the global configuration to disk in a ZenML server environment.\u001b[0m\n",
            "\u001b[32mINFO\u001b[0m:     Application startup complete.\n",
            "\u001b[32mINFO\u001b[0m:     Uvicorn running on \u001b[1mhttp://127.0.0.1:8237\u001b[0m (Press CTRL+C to quit)\n"
          ]
        },
        {
          "output_type": "stream",
          "name": "stderr",
          "text": [
            "INFO:pyngrok.process.ngrok:t=2024-09-07T04:25:18+0000 lvl=info msg=\"join connections\" obj=join id=83cbb5f20857 l=127.0.0.1:8237 r=[2405:201:e00a:b034:fd95:738:4276:bc2f]:54729\n"
          ]
        },
        {
          "output_type": "stream",
          "name": "stdout",
          "text": [
            "\u001b[1;35mt=2024-09-07T04:25:18+0000 lvl=info msg=\"join connections\" obj=join id=83cbb5f20857 l=127.0.0.1:8237 r=[2405:201:e00a:b034:fd95:738:4276:bc2f]:54729\u001b[0m\n",
            "\u001b[32mINFO\u001b[0m:     2405:201:e00a:b034:fd95:738:4276:bc2f:0 - \"\u001b[1mGET / HTTP/1.1\u001b[0m\" \u001b[32m200 OK\u001b[0m\n"
          ]
        },
        {
          "output_type": "stream",
          "name": "stderr",
          "text": [
            "INFO:pyngrok.process.ngrok:t=2024-09-07T04:25:18+0000 lvl=info msg=\"join connections\" obj=join id=fd90dc479cbe l=127.0.0.1:8237 r=[2405:201:e00a:b034:fd95:738:4276:bc2f]:54729\n"
          ]
        },
        {
          "output_type": "stream",
          "name": "stdout",
          "text": [
            "\u001b[32mINFO\u001b[0m:     2405:201:e00a:b034:fd95:738:4276:bc2f:0 - \"\u001b[1mGET /assets/%40radix-DnFH_oo1.js HTTP/1.1\u001b[0m\" \u001b[32m200 OK\u001b[0m\n",
            "\u001b[1;35mt=2024-09-07T04:25:18+0000 lvl=info msg=\"join connections\" obj=join id=fd90dc479cbe l=127.0.0.1:8237 r=[2405:201:e00a:b034:fd95:738:4276:bc2f]:54729\u001b[0m\n"
          ]
        },
        {
          "output_type": "stream",
          "name": "stderr",
          "text": [
            "INFO:pyngrok.process.ngrok:t=2024-09-07T04:25:18+0000 lvl=info msg=\"join connections\" obj=join id=ee7b63b0728a l=127.0.0.1:8237 r=[2405:201:e00a:b034:fd95:738:4276:bc2f]:54729\n"
          ]
        },
        {
          "output_type": "stream",
          "name": "stdout",
          "text": [
            "\u001b[1;35mt=2024-09-07T04:25:18+0000 lvl=info msg=\"join connections\" obj=join id=ee7b63b0728a l=127.0.0.1:8237 r=[2405:201:e00a:b034:fd95:738:4276:bc2f]:54729\u001b[0m\n"
          ]
        },
        {
          "output_type": "stream",
          "name": "stderr",
          "text": [
            "INFO:pyngrok.process.ngrok:t=2024-09-07T04:25:18+0000 lvl=info msg=\"join connections\" obj=join id=ad6784a443c5 l=127.0.0.1:8237 r=[2405:201:e00a:b034:fd95:738:4276:bc2f]:54729\n"
          ]
        },
        {
          "output_type": "stream",
          "name": "stdout",
          "text": [
            "\u001b[32mINFO\u001b[0m:     2405:201:e00a:b034:fd95:738:4276:bc2f:0 - \"\u001b[1mGET /assets/%40tanstack-QbMbTrh5.js HTTP/1.1\u001b[0m\" \u001b[32m200 OK\u001b[0m\n",
            "\u001b[1;35mt=2024-09-07T04:25:18+0000 lvl=info msg=\"join connections\" obj=join id=ad6784a443c5 l=127.0.0.1:8237 r=[2405:201:e00a:b034:fd95:738:4276:bc2f]:54729\u001b[0m\n"
          ]
        },
        {
          "output_type": "stream",
          "name": "stderr",
          "text": [
            "INFO:pyngrok.process.ngrok:t=2024-09-07T04:25:18+0000 lvl=info msg=\"join connections\" obj=join id=637e54a03505 l=127.0.0.1:8237 r=[2405:201:e00a:b034:fd95:738:4276:bc2f]:54729\n"
          ]
        },
        {
          "output_type": "stream",
          "name": "stdout",
          "text": [
            "\u001b[1;35mt=2024-09-07T04:25:18+0000 lvl=info msg=\"join connections\" obj=join id=637e54a03505 l=127.0.0.1:8237 r=[2405:201:e00a:b034:fd95:738:4276:bc2f]:54729\u001b[0m\n"
          ]
        },
        {
          "output_type": "stream",
          "name": "stderr",
          "text": [
            "INFO:pyngrok.process.ngrok:t=2024-09-07T04:25:18+0000 lvl=info msg=\"join connections\" obj=join id=e06ec979f215 l=127.0.0.1:8237 r=[2405:201:e00a:b034:fd95:738:4276:bc2f]:54729\n"
          ]
        },
        {
          "output_type": "stream",
          "name": "stdout",
          "text": [
            "\u001b[1;35mt=2024-09-07T04:25:18+0000 lvl=info msg=\"join connections\" obj=join id=e06ec979f215 l=127.0.0.1:8237 r=[2405:201:e00a:b034:fd95:738:4276:bc2f]:54729\u001b[0m\n"
          ]
        },
        {
          "output_type": "stream",
          "name": "stderr",
          "text": [
            "INFO:pyngrok.process.ngrok:t=2024-09-07T04:25:18+0000 lvl=info msg=\"join connections\" obj=join id=cd57ae0057cc l=127.0.0.1:8237 r=[2405:201:e00a:b034:fd95:738:4276:bc2f]:54729\n"
          ]
        },
        {
          "output_type": "stream",
          "name": "stdout",
          "text": [
            "\u001b[1;35mt=2024-09-07T04:25:18+0000 lvl=info msg=\"join connections\" obj=join id=cd57ae0057cc l=127.0.0.1:8237 r=[2405:201:e00a:b034:fd95:738:4276:bc2f]:54729\u001b[0m\n"
          ]
        },
        {
          "output_type": "stream",
          "name": "stderr",
          "text": [
            "INFO:pyngrok.process.ngrok:t=2024-09-07T04:25:18+0000 lvl=info msg=\"join connections\" obj=join id=b7e767829371 l=127.0.0.1:8237 r=[2405:201:e00a:b034:fd95:738:4276:bc2f]:54729\n"
          ]
        },
        {
          "output_type": "stream",
          "name": "stdout",
          "text": [
            "\u001b[1;35mt=2024-09-07T04:25:18+0000 lvl=info msg=\"join connections\" obj=join id=b7e767829371 l=127.0.0.1:8237 r=[2405:201:e00a:b034:fd95:738:4276:bc2f]:54729\u001b[0m\n"
          ]
        },
        {
          "output_type": "stream",
          "name": "stderr",
          "text": [
            "INFO:pyngrok.process.ngrok:t=2024-09-07T04:25:18+0000 lvl=info msg=\"join connections\" obj=join id=129a0fd050f1 l=127.0.0.1:8237 r=[2405:201:e00a:b034:fd95:738:4276:bc2f]:54729\n"
          ]
        },
        {
          "output_type": "stream",
          "name": "stdout",
          "text": [
            "\u001b[1;35mt=2024-09-07T04:25:18+0000 lvl=info msg=\"join connections\" obj=join id=129a0fd050f1 l=127.0.0.1:8237 r=[2405:201:e00a:b034:fd95:738:4276:bc2f]:54729\u001b[0m\n"
          ]
        },
        {
          "output_type": "stream",
          "name": "stderr",
          "text": [
            "INFO:pyngrok.process.ngrok:t=2024-09-07T04:25:18+0000 lvl=info msg=\"join connections\" obj=join id=9ec5f7ef7610 l=127.0.0.1:8237 r=[2405:201:e00a:b034:fd95:738:4276:bc2f]:54729\n"
          ]
        },
        {
          "output_type": "stream",
          "name": "stdout",
          "text": [
            "\u001b[1;35mt=2024-09-07T04:25:18+0000 lvl=info msg=\"join connections\" obj=join id=9ec5f7ef7610 l=127.0.0.1:8237 r=[2405:201:e00a:b034:fd95:738:4276:bc2f]:54729\u001b[0m\n"
          ]
        },
        {
          "output_type": "stream",
          "name": "stderr",
          "text": [
            "INFO:pyngrok.process.ngrok:t=2024-09-07T04:25:18+0000 lvl=info msg=\"join connections\" obj=join id=1477a0a0686e l=127.0.0.1:8237 r=[2405:201:e00a:b034:fd95:738:4276:bc2f]:54729\n"
          ]
        },
        {
          "output_type": "stream",
          "name": "stdout",
          "text": [
            "\u001b[1;35mt=2024-09-07T04:25:18+0000 lvl=info msg=\"join connections\" obj=join id=1477a0a0686e l=127.0.0.1:8237 r=[2405:201:e00a:b034:fd95:738:4276:bc2f]:54729\u001b[0m\n"
          ]
        },
        {
          "output_type": "stream",
          "name": "stderr",
          "text": [
            "INFO:pyngrok.process.ngrok:t=2024-09-07T04:25:18+0000 lvl=info msg=\"join connections\" obj=join id=75613d64b6c5 l=127.0.0.1:8237 r=[2405:201:e00a:b034:fd95:738:4276:bc2f]:54729\n"
          ]
        },
        {
          "output_type": "stream",
          "name": "stdout",
          "text": [
            "\u001b[1;35mt=2024-09-07T04:25:18+0000 lvl=info msg=\"join connections\" obj=join id=75613d64b6c5 l=127.0.0.1:8237 r=[2405:201:e00a:b034:fd95:738:4276:bc2f]:54729\u001b[0m\n"
          ]
        },
        {
          "output_type": "stream",
          "name": "stderr",
          "text": [
            "INFO:pyngrok.process.ngrok:t=2024-09-07T04:25:18+0000 lvl=info msg=\"join connections\" obj=join id=01f184317412 l=127.0.0.1:8237 r=[2405:201:e00a:b034:fd95:738:4276:bc2f]:54729\n"
          ]
        },
        {
          "output_type": "stream",
          "name": "stdout",
          "text": [
            "\u001b[1;35mt=2024-09-07T04:25:18+0000 lvl=info msg=\"join connections\" obj=join id=01f184317412 l=127.0.0.1:8237 r=[2405:201:e00a:b034:fd95:738:4276:bc2f]:54729\u001b[0m\n"
          ]
        },
        {
          "output_type": "stream",
          "name": "stderr",
          "text": [
            "INFO:pyngrok.process.ngrok:t=2024-09-07T04:25:18+0000 lvl=info msg=\"join connections\" obj=join id=fd7ad41d0f73 l=127.0.0.1:8237 r=[2405:201:e00a:b034:fd95:738:4276:bc2f]:54729\n"
          ]
        },
        {
          "output_type": "stream",
          "name": "stdout",
          "text": [
            "\u001b[1;35mt=2024-09-07T04:25:18+0000 lvl=info msg=\"join connections\" obj=join id=fd7ad41d0f73 l=127.0.0.1:8237 r=[2405:201:e00a:b034:fd95:738:4276:bc2f]:54729\u001b[0m\n"
          ]
        },
        {
          "output_type": "stream",
          "name": "stderr",
          "text": [
            "INFO:pyngrok.process.ngrok:t=2024-09-07T04:25:18+0000 lvl=info msg=\"join connections\" obj=join id=bd027682f28f l=127.0.0.1:8237 r=[2405:201:e00a:b034:fd95:738:4276:bc2f]:54729\n"
          ]
        },
        {
          "output_type": "stream",
          "name": "stdout",
          "text": [
            "\u001b[1;35mt=2024-09-07T04:25:18+0000 lvl=info msg=\"join connections\" obj=join id=bd027682f28f l=127.0.0.1:8237 r=[2405:201:e00a:b034:fd95:738:4276:bc2f]:54729\u001b[0m\n"
          ]
        },
        {
          "output_type": "stream",
          "name": "stderr",
          "text": [
            "INFO:pyngrok.process.ngrok:t=2024-09-07T04:25:18+0000 lvl=info msg=\"join connections\" obj=join id=d00a3f2bfaa7 l=127.0.0.1:8237 r=[2405:201:e00a:b034:fd95:738:4276:bc2f]:54729\n"
          ]
        },
        {
          "output_type": "stream",
          "name": "stdout",
          "text": [
            "\u001b[1;35mt=2024-09-07T04:25:18+0000 lvl=info msg=\"join connections\" obj=join id=d00a3f2bfaa7 l=127.0.0.1:8237 r=[2405:201:e00a:b034:fd95:738:4276:bc2f]:54729\u001b[0m\n"
          ]
        },
        {
          "output_type": "stream",
          "name": "stderr",
          "text": [
            "INFO:pyngrok.process.ngrok:t=2024-09-07T04:25:18+0000 lvl=info msg=\"join connections\" obj=join id=8f94f178a6ad l=127.0.0.1:8237 r=[2405:201:e00a:b034:fd95:738:4276:bc2f]:54729\n"
          ]
        },
        {
          "output_type": "stream",
          "name": "stdout",
          "text": [
            "\u001b[1;35mt=2024-09-07T04:25:18+0000 lvl=info msg=\"join connections\" obj=join id=8f94f178a6ad l=127.0.0.1:8237 r=[2405:201:e00a:b034:fd95:738:4276:bc2f]:54729\u001b[0m\n"
          ]
        },
        {
          "output_type": "stream",
          "name": "stderr",
          "text": [
            "INFO:pyngrok.process.ngrok:t=2024-09-07T04:25:18+0000 lvl=info msg=\"join connections\" obj=join id=e479a23c1ae2 l=127.0.0.1:8237 r=[2405:201:e00a:b034:fd95:738:4276:bc2f]:54729\n"
          ]
        },
        {
          "output_type": "stream",
          "name": "stdout",
          "text": [
            "\u001b[1;35mt=2024-09-07T04:25:18+0000 lvl=info msg=\"join connections\" obj=join id=e479a23c1ae2 l=127.0.0.1:8237 r=[2405:201:e00a:b034:fd95:738:4276:bc2f]:54729\u001b[0m\n"
          ]
        },
        {
          "output_type": "stream",
          "name": "stderr",
          "text": [
            "INFO:pyngrok.process.ngrok:t=2024-09-07T04:25:18+0000 lvl=info msg=\"join connections\" obj=join id=604f8a2d4f3e l=127.0.0.1:8237 r=[2405:201:e00a:b034:fd95:738:4276:bc2f]:54729\n"
          ]
        },
        {
          "output_type": "stream",
          "name": "stdout",
          "text": [
            "\u001b[1;35mt=2024-09-07T04:25:18+0000 lvl=info msg=\"join connections\" obj=join id=604f8a2d4f3e l=127.0.0.1:8237 r=[2405:201:e00a:b034:fd95:738:4276:bc2f]:54729\u001b[0m\n"
          ]
        },
        {
          "output_type": "stream",
          "name": "stderr",
          "text": [
            "INFO:pyngrok.process.ngrok:t=2024-09-07T04:25:18+0000 lvl=info msg=\"join connections\" obj=join id=8df7bf149bec l=127.0.0.1:8237 r=[2405:201:e00a:b034:fd95:738:4276:bc2f]:54729\n"
          ]
        },
        {
          "output_type": "stream",
          "name": "stdout",
          "text": [
            "\u001b[1;35mt=2024-09-07T04:25:18+0000 lvl=info msg=\"join connections\" obj=join id=8df7bf149bec l=127.0.0.1:8237 r=[2405:201:e00a:b034:fd95:738:4276:bc2f]:54729\u001b[0m\n"
          ]
        },
        {
          "output_type": "stream",
          "name": "stderr",
          "text": [
            "INFO:pyngrok.process.ngrok:t=2024-09-07T04:25:18+0000 lvl=info msg=\"join connections\" obj=join id=053a1a14749e l=127.0.0.1:8237 r=[2405:201:e00a:b034:fd95:738:4276:bc2f]:54729\n"
          ]
        },
        {
          "output_type": "stream",
          "name": "stdout",
          "text": [
            "\u001b[1;35mt=2024-09-07T04:25:18+0000 lvl=info msg=\"join connections\" obj=join id=053a1a14749e l=127.0.0.1:8237 r=[2405:201:e00a:b034:fd95:738:4276:bc2f]:54729\u001b[0m\n"
          ]
        },
        {
          "output_type": "stream",
          "name": "stderr",
          "text": [
            "INFO:pyngrok.process.ngrok:t=2024-09-07T04:25:18+0000 lvl=info msg=\"join connections\" obj=join id=312f1f57ec49 l=127.0.0.1:8237 r=[2405:201:e00a:b034:fd95:738:4276:bc2f]:54729\n"
          ]
        },
        {
          "output_type": "stream",
          "name": "stdout",
          "text": [
            "\u001b[1;35mt=2024-09-07T04:25:18+0000 lvl=info msg=\"join connections\" obj=join id=312f1f57ec49 l=127.0.0.1:8237 r=[2405:201:e00a:b034:fd95:738:4276:bc2f]:54729\u001b[0m\n"
          ]
        },
        {
          "output_type": "stream",
          "name": "stderr",
          "text": [
            "INFO:pyngrok.process.ngrok:t=2024-09-07T04:25:18+0000 lvl=info msg=\"join connections\" obj=join id=c03b06397912 l=127.0.0.1:8237 r=[2405:201:e00a:b034:fd95:738:4276:bc2f]:54729\n"
          ]
        },
        {
          "output_type": "stream",
          "name": "stdout",
          "text": [
            "\u001b[1;35mt=2024-09-07T04:25:18+0000 lvl=info msg=\"join connections\" obj=join id=c03b06397912 l=127.0.0.1:8237 r=[2405:201:e00a:b034:fd95:738:4276:bc2f]:54729\u001b[0m\n"
          ]
        },
        {
          "output_type": "stream",
          "name": "stderr",
          "text": [
            "INFO:pyngrok.process.ngrok:t=2024-09-07T04:25:18+0000 lvl=info msg=\"join connections\" obj=join id=cc8c1cbebb9c l=127.0.0.1:8237 r=[2405:201:e00a:b034:fd95:738:4276:bc2f]:54729\n"
          ]
        },
        {
          "output_type": "stream",
          "name": "stdout",
          "text": [
            "\u001b[1;35mt=2024-09-07T04:25:18+0000 lvl=info msg=\"join connections\" obj=join id=cc8c1cbebb9c l=127.0.0.1:8237 r=[2405:201:e00a:b034:fd95:738:4276:bc2f]:54729\u001b[0m\n"
          ]
        },
        {
          "output_type": "stream",
          "name": "stderr",
          "text": [
            "INFO:pyngrok.process.ngrok:t=2024-09-07T04:25:18+0000 lvl=info msg=\"join connections\" obj=join id=54c65255dc05 l=127.0.0.1:8237 r=[2405:201:e00a:b034:fd95:738:4276:bc2f]:54729\n"
          ]
        },
        {
          "output_type": "stream",
          "name": "stdout",
          "text": [
            "\u001b[1;35mt=2024-09-07T04:25:18+0000 lvl=info msg=\"join connections\" obj=join id=54c65255dc05 l=127.0.0.1:8237 r=[2405:201:e00a:b034:fd95:738:4276:bc2f]:54729\u001b[0m\n"
          ]
        },
        {
          "output_type": "stream",
          "name": "stderr",
          "text": [
            "INFO:pyngrok.process.ngrok:t=2024-09-07T04:25:18+0000 lvl=info msg=\"join connections\" obj=join id=59a276c6b935 l=127.0.0.1:8237 r=[2405:201:e00a:b034:fd95:738:4276:bc2f]:54729\n"
          ]
        },
        {
          "output_type": "stream",
          "name": "stdout",
          "text": [
            "\u001b[1;35mt=2024-09-07T04:25:18+0000 lvl=info msg=\"join connections\" obj=join id=59a276c6b935 l=127.0.0.1:8237 r=[2405:201:e00a:b034:fd95:738:4276:bc2f]:54729\u001b[0m\n"
          ]
        },
        {
          "output_type": "stream",
          "name": "stderr",
          "text": [
            "INFO:pyngrok.process.ngrok:t=2024-09-07T04:25:18+0000 lvl=info msg=\"join connections\" obj=join id=466d17728232 l=127.0.0.1:8237 r=[2405:201:e00a:b034:fd95:738:4276:bc2f]:54729\n"
          ]
        },
        {
          "output_type": "stream",
          "name": "stdout",
          "text": [
            "\u001b[32mINFO\u001b[0m:     2405:201:e00a:b034:fd95:738:4276:bc2f:0 - \"\u001b[1mGET /assets/%40reactflow-C26Olbza.css HTTP/1.1\u001b[0m\" \u001b[32m200 OK\u001b[0m\n",
            "\u001b[32mINFO\u001b[0m:     2405:201:e00a:b034:fd95:738:4276:bc2f:0 - \"\u001b[1mGET /assets/%40reactflow-IuMOnBUC.js HTTP/1.1\u001b[0m\" \u001b[32m200 OK\u001b[0m\n",
            "\u001b[1;35mt=2024-09-07T04:25:18+0000 lvl=info msg=\"join connections\" obj=join id=466d17728232 l=127.0.0.1:8237 r=[2405:201:e00a:b034:fd95:738:4276:bc2f]:54729\u001b[0m\n"
          ]
        },
        {
          "output_type": "stream",
          "name": "stderr",
          "text": [
            "INFO:pyngrok.process.ngrok:t=2024-09-07T04:25:18+0000 lvl=info msg=\"join connections\" obj=join id=a50cac3799eb l=127.0.0.1:8237 r=[2405:201:e00a:b034:fd95:738:4276:bc2f]:54729\n"
          ]
        },
        {
          "output_type": "stream",
          "name": "stdout",
          "text": [
            "\u001b[1;35mt=2024-09-07T04:25:18+0000 lvl=info msg=\"join connections\" obj=join id=a50cac3799eb l=127.0.0.1:8237 r=[2405:201:e00a:b034:fd95:738:4276:bc2f]:54729\u001b[0m\n"
          ]
        },
        {
          "output_type": "stream",
          "name": "stderr",
          "text": [
            "INFO:pyngrok.process.ngrok:t=2024-09-07T04:25:18+0000 lvl=info msg=\"join connections\" obj=join id=88b35c9900e7 l=127.0.0.1:8237 r=[2405:201:e00a:b034:fd95:738:4276:bc2f]:54729\n"
          ]
        },
        {
          "output_type": "stream",
          "name": "stdout",
          "text": [
            "\u001b[1;35mt=2024-09-07T04:25:18+0000 lvl=info msg=\"join connections\" obj=join id=88b35c9900e7 l=127.0.0.1:8237 r=[2405:201:e00a:b034:fd95:738:4276:bc2f]:54729\u001b[0m\n"
          ]
        },
        {
          "output_type": "stream",
          "name": "stderr",
          "text": [
            "INFO:pyngrok.process.ngrok:t=2024-09-07T04:25:18+0000 lvl=info msg=\"join connections\" obj=join id=4853dc5bdd5e l=127.0.0.1:8237 r=[2405:201:e00a:b034:fd95:738:4276:bc2f]:54729\n"
          ]
        },
        {
          "output_type": "stream",
          "name": "stdout",
          "text": [
            "\u001b[1;35mt=2024-09-07T04:25:18+0000 lvl=info msg=\"join connections\" obj=join id=4853dc5bdd5e l=127.0.0.1:8237 r=[2405:201:e00a:b034:fd95:738:4276:bc2f]:54729\u001b[0m\n"
          ]
        },
        {
          "output_type": "stream",
          "name": "stderr",
          "text": [
            "INFO:pyngrok.process.ngrok:t=2024-09-07T04:25:18+0000 lvl=info msg=\"join connections\" obj=join id=cdebc00fc693 l=127.0.0.1:8237 r=[2405:201:e00a:b034:fd95:738:4276:bc2f]:54729\n"
          ]
        },
        {
          "output_type": "stream",
          "name": "stdout",
          "text": [
            "\u001b[1;35mt=2024-09-07T04:25:18+0000 lvl=info msg=\"join connections\" obj=join id=cdebc00fc693 l=127.0.0.1:8237 r=[2405:201:e00a:b034:fd95:738:4276:bc2f]:54729\u001b[0m\n"
          ]
        },
        {
          "output_type": "stream",
          "name": "stderr",
          "text": [
            "INFO:pyngrok.process.ngrok:t=2024-09-07T04:25:18+0000 lvl=info msg=\"join connections\" obj=join id=e790168493ba l=127.0.0.1:8237 r=[2405:201:e00a:b034:fd95:738:4276:bc2f]:54729\n"
          ]
        },
        {
          "output_type": "stream",
          "name": "stdout",
          "text": [
            "\u001b[1;35mt=2024-09-07T04:25:18+0000 lvl=info msg=\"join connections\" obj=join id=e790168493ba l=127.0.0.1:8237 r=[2405:201:e00a:b034:fd95:738:4276:bc2f]:54729\u001b[0m\n"
          ]
        },
        {
          "output_type": "stream",
          "name": "stderr",
          "text": [
            "INFO:pyngrok.process.ngrok:t=2024-09-07T04:25:18+0000 lvl=info msg=\"join connections\" obj=join id=6774534f6155 l=127.0.0.1:8237 r=[2405:201:e00a:b034:fd95:738:4276:bc2f]:54729\n"
          ]
        },
        {
          "output_type": "stream",
          "name": "stdout",
          "text": [
            "\u001b[1;35mt=2024-09-07T04:25:18+0000 lvl=info msg=\"join connections\" obj=join id=6774534f6155 l=127.0.0.1:8237 r=[2405:201:e00a:b034:fd95:738:4276:bc2f]:54729\u001b[0m\n"
          ]
        },
        {
          "output_type": "stream",
          "name": "stderr",
          "text": [
            "INFO:pyngrok.process.ngrok:t=2024-09-07T04:25:18+0000 lvl=info msg=\"join connections\" obj=join id=59e21a3671ea l=127.0.0.1:8237 r=[2405:201:e00a:b034:fd95:738:4276:bc2f]:54729\n"
          ]
        },
        {
          "output_type": "stream",
          "name": "stdout",
          "text": [
            "\u001b[1;35mt=2024-09-07T04:25:18+0000 lvl=info msg=\"join connections\" obj=join id=59e21a3671ea l=127.0.0.1:8237 r=[2405:201:e00a:b034:fd95:738:4276:bc2f]:54729\u001b[0m\n"
          ]
        },
        {
          "output_type": "stream",
          "name": "stderr",
          "text": [
            "INFO:pyngrok.process.ngrok:t=2024-09-07T04:25:18+0000 lvl=info msg=\"join connections\" obj=join id=18a1cbf22330 l=127.0.0.1:8237 r=[2405:201:e00a:b034:fd95:738:4276:bc2f]:54729\n"
          ]
        },
        {
          "output_type": "stream",
          "name": "stdout",
          "text": [
            "\u001b[1;35mt=2024-09-07T04:25:18+0000 lvl=info msg=\"join connections\" obj=join id=18a1cbf22330 l=127.0.0.1:8237 r=[2405:201:e00a:b034:fd95:738:4276:bc2f]:54729\u001b[0m\n"
          ]
        },
        {
          "output_type": "stream",
          "name": "stderr",
          "text": [
            "INFO:pyngrok.process.ngrok:t=2024-09-07T04:25:18+0000 lvl=info msg=\"join connections\" obj=join id=7d0fc8154488 l=127.0.0.1:8237 r=[2405:201:e00a:b034:fd95:738:4276:bc2f]:54729\n"
          ]
        },
        {
          "output_type": "stream",
          "name": "stdout",
          "text": [
            "\u001b[1;35mt=2024-09-07T04:25:18+0000 lvl=info msg=\"join connections\" obj=join id=7d0fc8154488 l=127.0.0.1:8237 r=[2405:201:e00a:b034:fd95:738:4276:bc2f]:54729\u001b[0m\n"
          ]
        },
        {
          "output_type": "stream",
          "name": "stderr",
          "text": [
            "INFO:pyngrok.process.ngrok:t=2024-09-07T04:25:18+0000 lvl=info msg=\"join connections\" obj=join id=40241c271e1b l=127.0.0.1:8237 r=[2405:201:e00a:b034:fd95:738:4276:bc2f]:54729\n"
          ]
        },
        {
          "output_type": "stream",
          "name": "stdout",
          "text": [
            "\u001b[1;35mt=2024-09-07T04:25:18+0000 lvl=info msg=\"join connections\" obj=join id=40241c271e1b l=127.0.0.1:8237 r=[2405:201:e00a:b034:fd95:738:4276:bc2f]:54729\u001b[0m\n"
          ]
        },
        {
          "output_type": "stream",
          "name": "stderr",
          "text": [
            "INFO:pyngrok.process.ngrok:t=2024-09-07T04:25:18+0000 lvl=info msg=\"join connections\" obj=join id=edfb2e52beb0 l=127.0.0.1:8237 r=[2405:201:e00a:b034:fd95:738:4276:bc2f]:54729\n"
          ]
        },
        {
          "output_type": "stream",
          "name": "stdout",
          "text": [
            "\u001b[1;35mt=2024-09-07T04:25:18+0000 lvl=info msg=\"join connections\" obj=join id=edfb2e52beb0 l=127.0.0.1:8237 r=[2405:201:e00a:b034:fd95:738:4276:bc2f]:54729\u001b[0m\n"
          ]
        },
        {
          "output_type": "stream",
          "name": "stderr",
          "text": [
            "INFO:pyngrok.process.ngrok:t=2024-09-07T04:25:18+0000 lvl=info msg=\"join connections\" obj=join id=92acfc592492 l=127.0.0.1:8237 r=[2405:201:e00a:b034:fd95:738:4276:bc2f]:54729\n"
          ]
        },
        {
          "output_type": "stream",
          "name": "stdout",
          "text": [
            "\u001b[1;35mt=2024-09-07T04:25:18+0000 lvl=info msg=\"join connections\" obj=join id=92acfc592492 l=127.0.0.1:8237 r=[2405:201:e00a:b034:fd95:738:4276:bc2f]:54729\u001b[0m\n"
          ]
        },
        {
          "output_type": "stream",
          "name": "stderr",
          "text": [
            "INFO:pyngrok.process.ngrok:t=2024-09-07T04:25:18+0000 lvl=info msg=\"join connections\" obj=join id=b435c0deb930 l=127.0.0.1:8237 r=[2405:201:e00a:b034:fd95:738:4276:bc2f]:54729\n"
          ]
        },
        {
          "output_type": "stream",
          "name": "stdout",
          "text": [
            "\u001b[1;35mt=2024-09-07T04:25:18+0000 lvl=info msg=\"join connections\" obj=join id=b435c0deb930 l=127.0.0.1:8237 r=[2405:201:e00a:b034:fd95:738:4276:bc2f]:54729\u001b[0m\n"
          ]
        },
        {
          "output_type": "stream",
          "name": "stderr",
          "text": [
            "INFO:pyngrok.process.ngrok:t=2024-09-07T04:25:18+0000 lvl=info msg=\"join connections\" obj=join id=b69cab5d935e l=127.0.0.1:8237 r=[2405:201:e00a:b034:fd95:738:4276:bc2f]:54729\n"
          ]
        },
        {
          "output_type": "stream",
          "name": "stdout",
          "text": [
            "\u001b[1;35mt=2024-09-07T04:25:18+0000 lvl=info msg=\"join connections\" obj=join id=b69cab5d935e l=127.0.0.1:8237 r=[2405:201:e00a:b034:fd95:738:4276:bc2f]:54729\u001b[0m\n"
          ]
        },
        {
          "output_type": "stream",
          "name": "stderr",
          "text": [
            "INFO:pyngrok.process.ngrok:t=2024-09-07T04:25:18+0000 lvl=info msg=\"join connections\" obj=join id=1541bc86c720 l=127.0.0.1:8237 r=[2405:201:e00a:b034:fd95:738:4276:bc2f]:54729\n"
          ]
        },
        {
          "output_type": "stream",
          "name": "stdout",
          "text": [
            "\u001b[1;35mt=2024-09-07T04:25:18+0000 lvl=info msg=\"join connections\" obj=join id=1541bc86c720 l=127.0.0.1:8237 r=[2405:201:e00a:b034:fd95:738:4276:bc2f]:54729\u001b[0m\n"
          ]
        },
        {
          "output_type": "stream",
          "name": "stderr",
          "text": [
            "INFO:pyngrok.process.ngrok:t=2024-09-07T04:25:18+0000 lvl=info msg=\"join connections\" obj=join id=5eab20fa9c12 l=127.0.0.1:8237 r=[2405:201:e00a:b034:fd95:738:4276:bc2f]:54729\n"
          ]
        },
        {
          "output_type": "stream",
          "name": "stdout",
          "text": [
            "\u001b[32mINFO\u001b[0m:     2405:201:e00a:b034:fd95:738:4276:bc2f:0 - \"\u001b[1mGET /assets/index-Davdjm1d.js HTTP/1.1\u001b[0m\" \u001b[32m200 OK\u001b[0m\n",
            "\u001b[32mINFO\u001b[0m:     2405:201:e00a:b034:fd95:738:4276:bc2f:0 - \"\u001b[1mGET /assets/inter-cyrillic-400-normal-Df6ckaLK.woff2 HTTP/1.1\u001b[0m\" \u001b[32m200 OK\u001b[0m\n",
            "\u001b[32mINFO\u001b[0m:     2405:201:e00a:b034:fd95:738:4276:bc2f:0 - \"\u001b[1mGET /assets/inter-cyrillic-ext-500-normal-DOnSzjnx.woff2 HTTP/1.1\u001b[0m\" \u001b[32m200 OK\u001b[0m\n",
            "\u001b[32mINFO\u001b[0m:     2405:201:e00a:b034:fd95:738:4276:bc2f:0 - \"\u001b[1mGET /assets/inter-greek-ext-400-normal-CIdlr5YK.woff2 HTTP/1.1\u001b[0m\" \u001b[32m200 OK\u001b[0m\n",
            "\u001b[32mINFO\u001b[0m:     2405:201:e00a:b034:fd95:738:4276:bc2f:0 - \"\u001b[1mGET /assets/inter-cyrillic-ext-600-normal-DpA2xaRd.woff2 HTTP/1.1\u001b[0m\" \u001b[32m200 OK\u001b[0m\n",
            "\u001b[1;35mt=2024-09-07T04:25:18+0000 lvl=info msg=\"join connections\" obj=join id=5eab20fa9c12 l=127.0.0.1:8237 r=[2405:201:e00a:b034:fd95:738:4276:bc2f]:54729\u001b[0m\n"
          ]
        },
        {
          "output_type": "stream",
          "name": "stderr",
          "text": [
            "INFO:pyngrok.process.ngrok:t=2024-09-07T04:25:18+0000 lvl=info msg=\"join connections\" obj=join id=475dff714440 l=127.0.0.1:8237 r=[2405:201:e00a:b034:fd95:738:4276:bc2f]:54729\n"
          ]
        },
        {
          "output_type": "stream",
          "name": "stdout",
          "text": [
            "\u001b[1;35mt=2024-09-07T04:25:18+0000 lvl=info msg=\"join connections\" obj=join id=475dff714440 l=127.0.0.1:8237 r=[2405:201:e00a:b034:fd95:738:4276:bc2f]:54729\u001b[0m\n"
          ]
        },
        {
          "output_type": "stream",
          "name": "stderr",
          "text": [
            "INFO:pyngrok.process.ngrok:t=2024-09-07T04:25:18+0000 lvl=info msg=\"join connections\" obj=join id=d0027123f137 l=127.0.0.1:8237 r=[2405:201:e00a:b034:fd95:738:4276:bc2f]:54729\n"
          ]
        },
        {
          "output_type": "stream",
          "name": "stdout",
          "text": [
            "\u001b[1;35mt=2024-09-07T04:25:18+0000 lvl=info msg=\"join connections\" obj=join id=d0027123f137 l=127.0.0.1:8237 r=[2405:201:e00a:b034:fd95:738:4276:bc2f]:54729\u001b[0m\n"
          ]
        },
        {
          "output_type": "stream",
          "name": "stderr",
          "text": [
            "INFO:pyngrok.process.ngrok:t=2024-09-07T04:25:18+0000 lvl=info msg=\"join connections\" obj=join id=686d7cbe92be l=127.0.0.1:8237 r=[2405:201:e00a:b034:fd95:738:4276:bc2f]:54729\n"
          ]
        },
        {
          "output_type": "stream",
          "name": "stdout",
          "text": [
            "\u001b[1;35mt=2024-09-07T04:25:18+0000 lvl=info msg=\"join connections\" obj=join id=686d7cbe92be l=127.0.0.1:8237 r=[2405:201:e00a:b034:fd95:738:4276:bc2f]:54729\u001b[0m\n"
          ]
        },
        {
          "output_type": "stream",
          "name": "stderr",
          "text": [
            "INFO:pyngrok.process.ngrok:t=2024-09-07T04:25:18+0000 lvl=info msg=\"join connections\" obj=join id=15360645cecc l=127.0.0.1:8237 r=[2405:201:e00a:b034:fd95:738:4276:bc2f]:54729\n"
          ]
        },
        {
          "output_type": "stream",
          "name": "stdout",
          "text": [
            "\u001b[1;35mt=2024-09-07T04:25:18+0000 lvl=info msg=\"join connections\" obj=join id=15360645cecc l=127.0.0.1:8237 r=[2405:201:e00a:b034:fd95:738:4276:bc2f]:54729\u001b[0m\n"
          ]
        },
        {
          "output_type": "stream",
          "name": "stderr",
          "text": [
            "INFO:pyngrok.process.ngrok:t=2024-09-07T04:25:18+0000 lvl=info msg=\"join connections\" obj=join id=cd1f1d33ca21 l=127.0.0.1:8237 r=[2405:201:e00a:b034:fd95:738:4276:bc2f]:54729\n"
          ]
        },
        {
          "output_type": "stream",
          "name": "stdout",
          "text": [
            "\u001b[1;35mt=2024-09-07T04:25:18+0000 lvl=info msg=\"join connections\" obj=join id=cd1f1d33ca21 l=127.0.0.1:8237 r=[2405:201:e00a:b034:fd95:738:4276:bc2f]:54729\u001b[0m\n"
          ]
        },
        {
          "output_type": "stream",
          "name": "stderr",
          "text": [
            "INFO:pyngrok.process.ngrok:t=2024-09-07T04:25:18+0000 lvl=info msg=\"join connections\" obj=join id=b2286af83437 l=127.0.0.1:8237 r=[2405:201:e00a:b034:fd95:738:4276:bc2f]:54729\n"
          ]
        },
        {
          "output_type": "stream",
          "name": "stdout",
          "text": [
            "\u001b[1;35mt=2024-09-07T04:25:18+0000 lvl=info msg=\"join connections\" obj=join id=b2286af83437 l=127.0.0.1:8237 r=[2405:201:e00a:b034:fd95:738:4276:bc2f]:54729\u001b[0m\n"
          ]
        },
        {
          "output_type": "stream",
          "name": "stderr",
          "text": [
            "INFO:pyngrok.process.ngrok:t=2024-09-07T04:25:18+0000 lvl=info msg=\"join connections\" obj=join id=9815e426ad58 l=127.0.0.1:8237 r=[2405:201:e00a:b034:fd95:738:4276:bc2f]:54729\n"
          ]
        },
        {
          "output_type": "stream",
          "name": "stdout",
          "text": [
            "\u001b[1;35mt=2024-09-07T04:25:18+0000 lvl=info msg=\"join connections\" obj=join id=9815e426ad58 l=127.0.0.1:8237 r=[2405:201:e00a:b034:fd95:738:4276:bc2f]:54729\u001b[0m\n"
          ]
        },
        {
          "output_type": "stream",
          "name": "stderr",
          "text": [
            "INFO:pyngrok.process.ngrok:t=2024-09-07T04:25:18+0000 lvl=info msg=\"join connections\" obj=join id=aa3ccdce13eb l=127.0.0.1:8237 r=[2405:201:e00a:b034:fd95:738:4276:bc2f]:54729\n"
          ]
        },
        {
          "output_type": "stream",
          "name": "stdout",
          "text": [
            "\u001b[1;35mt=2024-09-07T04:25:18+0000 lvl=info msg=\"join connections\" obj=join id=aa3ccdce13eb l=127.0.0.1:8237 r=[2405:201:e00a:b034:fd95:738:4276:bc2f]:54729\u001b[0m\n"
          ]
        },
        {
          "output_type": "stream",
          "name": "stderr",
          "text": [
            "INFO:pyngrok.process.ngrok:t=2024-09-07T04:25:18+0000 lvl=info msg=\"join connections\" obj=join id=18bc951fc38d l=127.0.0.1:8237 r=[2405:201:e00a:b034:fd95:738:4276:bc2f]:54729\n"
          ]
        },
        {
          "output_type": "stream",
          "name": "stdout",
          "text": [
            "\u001b[1;35mt=2024-09-07T04:25:18+0000 lvl=info msg=\"join connections\" obj=join id=18bc951fc38d l=127.0.0.1:8237 r=[2405:201:e00a:b034:fd95:738:4276:bc2f]:54729\u001b[0m\n"
          ]
        },
        {
          "output_type": "stream",
          "name": "stderr",
          "text": [
            "INFO:pyngrok.process.ngrok:t=2024-09-07T04:25:18+0000 lvl=info msg=\"join connections\" obj=join id=11ad2dc34172 l=127.0.0.1:8237 r=[2405:201:e00a:b034:fd95:738:4276:bc2f]:54729\n"
          ]
        },
        {
          "output_type": "stream",
          "name": "stdout",
          "text": [
            "\u001b[32mINFO\u001b[0m:     2405:201:e00a:b034:fd95:738:4276:bc2f:0 - \"\u001b[1mGET /assets/inter-cyrillic-ext-400-normal-tyfMZHQw.woff2 HTTP/1.1\u001b[0m\" \u001b[32m200 OK\u001b[0m\n",
            "\u001b[32mINFO\u001b[0m:     2405:201:e00a:b034:fd95:738:4276:bc2f:0 - \"\u001b[1mGET /assets/%40react-router-APVeuk-U.js HTTP/1.1\u001b[0m\" \u001b[32m200 OK\u001b[0m\n",
            "\u001b[32mINFO\u001b[0m:     2405:201:e00a:b034:fd95:738:4276:bc2f:0 - \"\u001b[1mGET /assets/index-CsIuf3i6.css HTTP/1.1\u001b[0m\" \u001b[32m200 OK\u001b[0m\n",
            "\u001b[32mINFO\u001b[0m:     2405:201:e00a:b034:fd95:738:4276:bc2f:0 - \"\u001b[1mGET /assets/inter-greek-400-normal-DQXyrmoy.woff2 HTTP/1.1\u001b[0m\" \u001b[32m200 OK\u001b[0m\n",
            "\u001b[32mINFO\u001b[0m:     2405:201:e00a:b034:fd95:738:4276:bc2f:0 - \"\u001b[1mGET /assets/inter-latin-400-normal-BT1H-PT_.woff2 HTTP/1.1\u001b[0m\" \u001b[32m200 OK\u001b[0m\n",
            "\u001b[32mINFO\u001b[0m:     2405:201:e00a:b034:fd95:738:4276:bc2f:0 - \"\u001b[1mGET /assets/inter-vietnamese-400-normal-Cnt0N5Vm.woff2 HTTP/1.1\u001b[0m\" \u001b[32m200 OK\u001b[0m\n",
            "\u001b[32mINFO\u001b[0m:     2405:201:e00a:b034:fd95:738:4276:bc2f:0 - \"\u001b[1mGET /assets/inter-latin-ext-400-normal-D3W-OpO-.woff2 HTTP/1.1\u001b[0m\" \u001b[32m200 OK\u001b[0m\n",
            "\u001b[32mINFO\u001b[0m:     2405:201:e00a:b034:fd95:738:4276:bc2f:0 - \"\u001b[1mGET /assets/inter-cyrillic-500-normal-BRrLR67x.woff2 HTTP/1.1\u001b[0m\" \u001b[32m200 OK\u001b[0m\n",
            "\u001b[32mINFO\u001b[0m:     2405:201:e00a:b034:fd95:738:4276:bc2f:0 - \"\u001b[1mGET /assets/inter-greek-500-normal-CmOavsDc.woff2 HTTP/1.1\u001b[0m\" \u001b[32m200 OK\u001b[0m\n",
            "\u001b[1;35mt=2024-09-07T04:25:18+0000 lvl=info msg=\"join connections\" obj=join id=11ad2dc34172 l=127.0.0.1:8237 r=[2405:201:e00a:b034:fd95:738:4276:bc2f]:54729\u001b[0m\n"
          ]
        },
        {
          "output_type": "stream",
          "name": "stderr",
          "text": [
            "INFO:pyngrok.process.ngrok:t=2024-09-07T04:25:18+0000 lvl=info msg=\"join connections\" obj=join id=542e851b0b8e l=127.0.0.1:8237 r=[2405:201:e00a:b034:fd95:738:4276:bc2f]:54729\n"
          ]
        },
        {
          "output_type": "stream",
          "name": "stdout",
          "text": [
            "\u001b[1;35mt=2024-09-07T04:25:18+0000 lvl=info msg=\"join connections\" obj=join id=542e851b0b8e l=127.0.0.1:8237 r=[2405:201:e00a:b034:fd95:738:4276:bc2f]:54729\u001b[0m\n"
          ]
        },
        {
          "output_type": "stream",
          "name": "stderr",
          "text": [
            "INFO:pyngrok.process.ngrok:t=2024-09-07T04:25:18+0000 lvl=info msg=\"join connections\" obj=join id=e6742aa22017 l=127.0.0.1:8237 r=[2405:201:e00a:b034:fd95:738:4276:bc2f]:54729\n"
          ]
        },
        {
          "output_type": "stream",
          "name": "stdout",
          "text": [
            "\u001b[1;35mt=2024-09-07T04:25:18+0000 lvl=info msg=\"join connections\" obj=join id=e6742aa22017 l=127.0.0.1:8237 r=[2405:201:e00a:b034:fd95:738:4276:bc2f]:54729\u001b[0m\n"
          ]
        },
        {
          "output_type": "stream",
          "name": "stderr",
          "text": [
            "INFO:pyngrok.process.ngrok:t=2024-09-07T04:25:18+0000 lvl=info msg=\"join connections\" obj=join id=ddb04cdef348 l=127.0.0.1:8237 r=[2405:201:e00a:b034:fd95:738:4276:bc2f]:54729\n"
          ]
        },
        {
          "output_type": "stream",
          "name": "stdout",
          "text": [
            "\u001b[1;35mt=2024-09-07T04:25:18+0000 lvl=info msg=\"join connections\" obj=join id=ddb04cdef348 l=127.0.0.1:8237 r=[2405:201:e00a:b034:fd95:738:4276:bc2f]:54729\u001b[0m\n"
          ]
        },
        {
          "output_type": "stream",
          "name": "stderr",
          "text": [
            "INFO:pyngrok.process.ngrok:t=2024-09-07T04:25:18+0000 lvl=info msg=\"join connections\" obj=join id=8d56d89c9473 l=127.0.0.1:8237 r=[2405:201:e00a:b034:fd95:738:4276:bc2f]:54729\n"
          ]
        },
        {
          "output_type": "stream",
          "name": "stdout",
          "text": [
            "\u001b[1;35mt=2024-09-07T04:25:18+0000 lvl=info msg=\"join connections\" obj=join id=8d56d89c9473 l=127.0.0.1:8237 r=[2405:201:e00a:b034:fd95:738:4276:bc2f]:54729\u001b[0m\n"
          ]
        },
        {
          "output_type": "stream",
          "name": "stderr",
          "text": [
            "INFO:pyngrok.process.ngrok:t=2024-09-07T04:25:18+0000 lvl=info msg=\"join connections\" obj=join id=1d3ff6ba964e l=127.0.0.1:8237 r=[2405:201:e00a:b034:fd95:738:4276:bc2f]:54729\n"
          ]
        },
        {
          "output_type": "stream",
          "name": "stdout",
          "text": [
            "\u001b[1;35mt=2024-09-07T04:25:18+0000 lvl=info msg=\"join connections\" obj=join id=1d3ff6ba964e l=127.0.0.1:8237 r=[2405:201:e00a:b034:fd95:738:4276:bc2f]:54729\u001b[0m\n"
          ]
        },
        {
          "output_type": "stream",
          "name": "stderr",
          "text": [
            "INFO:pyngrok.process.ngrok:t=2024-09-07T04:25:18+0000 lvl=info msg=\"join connections\" obj=join id=0ddc4e4d2552 l=127.0.0.1:8237 r=[2405:201:e00a:b034:fd95:738:4276:bc2f]:54729\n"
          ]
        },
        {
          "output_type": "stream",
          "name": "stdout",
          "text": [
            "\u001b[1;35mt=2024-09-07T04:25:18+0000 lvl=info msg=\"join connections\" obj=join id=0ddc4e4d2552 l=127.0.0.1:8237 r=[2405:201:e00a:b034:fd95:738:4276:bc2f]:54729\u001b[0m\n"
          ]
        },
        {
          "output_type": "stream",
          "name": "stderr",
          "text": [
            "INFO:pyngrok.process.ngrok:t=2024-09-07T04:25:18+0000 lvl=info msg=\"join connections\" obj=join id=3e833f8f6823 l=127.0.0.1:8237 r=[2405:201:e00a:b034:fd95:738:4276:bc2f]:54729\n"
          ]
        },
        {
          "output_type": "stream",
          "name": "stdout",
          "text": [
            "\u001b[1;35mt=2024-09-07T04:25:18+0000 lvl=info msg=\"join connections\" obj=join id=3e833f8f6823 l=127.0.0.1:8237 r=[2405:201:e00a:b034:fd95:738:4276:bc2f]:54729\u001b[0m\n"
          ]
        },
        {
          "output_type": "stream",
          "name": "stderr",
          "text": [
            "INFO:pyngrok.process.ngrok:t=2024-09-07T04:25:18+0000 lvl=info msg=\"join connections\" obj=join id=442844b98228 l=127.0.0.1:8237 r=[2405:201:e00a:b034:fd95:738:4276:bc2f]:54729\n"
          ]
        },
        {
          "output_type": "stream",
          "name": "stdout",
          "text": [
            "\u001b[1;35mt=2024-09-07T04:25:18+0000 lvl=info msg=\"join connections\" obj=join id=442844b98228 l=127.0.0.1:8237 r=[2405:201:e00a:b034:fd95:738:4276:bc2f]:54729\u001b[0m\n"
          ]
        },
        {
          "output_type": "stream",
          "name": "stderr",
          "text": [
            "INFO:pyngrok.process.ngrok:t=2024-09-07T04:25:18+0000 lvl=info msg=\"join connections\" obj=join id=9820d1c239f5 l=127.0.0.1:8237 r=[2405:201:e00a:b034:fd95:738:4276:bc2f]:54729\n"
          ]
        },
        {
          "output_type": "stream",
          "name": "stdout",
          "text": [
            "\u001b[1;35mt=2024-09-07T04:25:18+0000 lvl=info msg=\"join connections\" obj=join id=9820d1c239f5 l=127.0.0.1:8237 r=[2405:201:e00a:b034:fd95:738:4276:bc2f]:54729\u001b[0m\n"
          ]
        },
        {
          "output_type": "stream",
          "name": "stderr",
          "text": [
            "INFO:pyngrok.process.ngrok:t=2024-09-07T04:25:18+0000 lvl=info msg=\"join connections\" obj=join id=2be871a1993e l=127.0.0.1:8237 r=[2405:201:e00a:b034:fd95:738:4276:bc2f]:54729\n"
          ]
        },
        {
          "output_type": "stream",
          "name": "stdout",
          "text": [
            "\u001b[1;35mt=2024-09-07T04:25:18+0000 lvl=info msg=\"join connections\" obj=join id=2be871a1993e l=127.0.0.1:8237 r=[2405:201:e00a:b034:fd95:738:4276:bc2f]:54729\u001b[0m\n"
          ]
        },
        {
          "output_type": "stream",
          "name": "stderr",
          "text": [
            "INFO:pyngrok.process.ngrok:t=2024-09-07T04:25:18+0000 lvl=info msg=\"join connections\" obj=join id=b567add302c2 l=127.0.0.1:8237 r=[2405:201:e00a:b034:fd95:738:4276:bc2f]:54729\n"
          ]
        },
        {
          "output_type": "stream",
          "name": "stdout",
          "text": [
            "\u001b[1;35mt=2024-09-07T04:25:18+0000 lvl=info msg=\"join connections\" obj=join id=b567add302c2 l=127.0.0.1:8237 r=[2405:201:e00a:b034:fd95:738:4276:bc2f]:54729\u001b[0m\n"
          ]
        },
        {
          "output_type": "stream",
          "name": "stderr",
          "text": [
            "INFO:pyngrok.process.ngrok:t=2024-09-07T04:25:18+0000 lvl=info msg=\"join connections\" obj=join id=4939c6366561 l=127.0.0.1:8237 r=[2405:201:e00a:b034:fd95:738:4276:bc2f]:54729\n"
          ]
        },
        {
          "output_type": "stream",
          "name": "stdout",
          "text": [
            "\u001b[1;35mt=2024-09-07T04:25:18+0000 lvl=info msg=\"join connections\" obj=join id=4939c6366561 l=127.0.0.1:8237 r=[2405:201:e00a:b034:fd95:738:4276:bc2f]:54729\u001b[0m\n"
          ]
        },
        {
          "output_type": "stream",
          "name": "stderr",
          "text": [
            "INFO:pyngrok.process.ngrok:t=2024-09-07T04:25:18+0000 lvl=info msg=\"join connections\" obj=join id=5d042d609611 l=127.0.0.1:8237 r=[2405:201:e00a:b034:fd95:738:4276:bc2f]:54729\n"
          ]
        },
        {
          "output_type": "stream",
          "name": "stdout",
          "text": [
            "\u001b[32mINFO\u001b[0m:     2405:201:e00a:b034:fd95:738:4276:bc2f:0 - \"\u001b[1mGET /assets/inter-greek-600-normal-B-l8Lzzd.woff2 HTTP/1.1\u001b[0m\" \u001b[32m200 OK\u001b[0m\n",
            "\u001b[32mINFO\u001b[0m:     2405:201:e00a:b034:fd95:738:4276:bc2f:0 - \"\u001b[1mGET /assets/inter-latin-500-normal-kWhwEdDH.woff2 HTTP/1.1\u001b[0m\" \u001b[32m200 OK\u001b[0m\n",
            "\u001b[32mINFO\u001b[0m:     2405:201:e00a:b034:fd95:738:4276:bc2f:0 - \"\u001b[1mGET /assets/inter-greek-ext-600-normal-CkBLDEl_.woff2 HTTP/1.1\u001b[0m\" \u001b[32m200 OK\u001b[0m\n",
            "\u001b[1;35mt=2024-09-07T04:25:18+0000 lvl=info msg=\"join connections\" obj=join id=5d042d609611 l=127.0.0.1:8237 r=[2405:201:e00a:b034:fd95:738:4276:bc2f]:54729\u001b[0m\n"
          ]
        },
        {
          "output_type": "stream",
          "name": "stderr",
          "text": [
            "INFO:pyngrok.process.ngrok:t=2024-09-07T04:25:18+0000 lvl=info msg=\"join connections\" obj=join id=59256b367b7c l=127.0.0.1:8237 r=[2405:201:e00a:b034:fd95:738:4276:bc2f]:54729\n"
          ]
        },
        {
          "output_type": "stream",
          "name": "stdout",
          "text": [
            "\u001b[1;35mt=2024-09-07T04:25:18+0000 lvl=info msg=\"join connections\" obj=join id=59256b367b7c l=127.0.0.1:8237 r=[2405:201:e00a:b034:fd95:738:4276:bc2f]:54729\u001b[0m\n"
          ]
        },
        {
          "output_type": "stream",
          "name": "stderr",
          "text": [
            "INFO:pyngrok.process.ngrok:t=2024-09-07T04:25:18+0000 lvl=info msg=\"join connections\" obj=join id=4530927ca6b0 l=127.0.0.1:8237 r=[2405:201:e00a:b034:fd95:738:4276:bc2f]:54729\n"
          ]
        },
        {
          "output_type": "stream",
          "name": "stdout",
          "text": [
            "\u001b[1;35mt=2024-09-07T04:25:18+0000 lvl=info msg=\"join connections\" obj=join id=4530927ca6b0 l=127.0.0.1:8237 r=[2405:201:e00a:b034:fd95:738:4276:bc2f]:54729\u001b[0m\n"
          ]
        },
        {
          "output_type": "stream",
          "name": "stderr",
          "text": [
            "INFO:pyngrok.process.ngrok:t=2024-09-07T04:25:18+0000 lvl=info msg=\"join connections\" obj=join id=94a0b9578475 l=127.0.0.1:8237 r=[2405:201:e00a:b034:fd95:738:4276:bc2f]:54729\n"
          ]
        },
        {
          "output_type": "stream",
          "name": "stdout",
          "text": [
            "\u001b[1;35mt=2024-09-07T04:25:18+0000 lvl=info msg=\"join connections\" obj=join id=94a0b9578475 l=127.0.0.1:8237 r=[2405:201:e00a:b034:fd95:738:4276:bc2f]:54729\u001b[0m\n"
          ]
        },
        {
          "output_type": "stream",
          "name": "stderr",
          "text": [
            "INFO:pyngrok.process.ngrok:t=2024-09-07T04:25:18+0000 lvl=info msg=\"join connections\" obj=join id=f73972903787 l=127.0.0.1:8237 r=[2405:201:e00a:b034:fd95:738:4276:bc2f]:54729\n"
          ]
        },
        {
          "output_type": "stream",
          "name": "stdout",
          "text": [
            "\u001b[1;35mt=2024-09-07T04:25:18+0000 lvl=info msg=\"join connections\" obj=join id=f73972903787 l=127.0.0.1:8237 r=[2405:201:e00a:b034:fd95:738:4276:bc2f]:54729\u001b[0m\n"
          ]
        },
        {
          "output_type": "stream",
          "name": "stderr",
          "text": [
            "INFO:pyngrok.process.ngrok:t=2024-09-07T04:25:18+0000 lvl=info msg=\"join connections\" obj=join id=39f2f02aa0bd l=127.0.0.1:8237 r=[2405:201:e00a:b034:fd95:738:4276:bc2f]:54729\n"
          ]
        },
        {
          "output_type": "stream",
          "name": "stdout",
          "text": [
            "\u001b[1;35mt=2024-09-07T04:25:18+0000 lvl=info msg=\"join connections\" obj=join id=39f2f02aa0bd l=127.0.0.1:8237 r=[2405:201:e00a:b034:fd95:738:4276:bc2f]:54729\u001b[0m\n"
          ]
        },
        {
          "output_type": "stream",
          "name": "stderr",
          "text": [
            "INFO:pyngrok.process.ngrok:t=2024-09-07T04:25:18+0000 lvl=info msg=\"join connections\" obj=join id=dd0e0b8f411c l=127.0.0.1:8237 r=[2405:201:e00a:b034:fd95:738:4276:bc2f]:54729\n"
          ]
        },
        {
          "output_type": "stream",
          "name": "stdout",
          "text": [
            "\u001b[1;35mt=2024-09-07T04:25:18+0000 lvl=info msg=\"join connections\" obj=join id=dd0e0b8f411c l=127.0.0.1:8237 r=[2405:201:e00a:b034:fd95:738:4276:bc2f]:54729\u001b[0m\n"
          ]
        },
        {
          "output_type": "stream",
          "name": "stderr",
          "text": [
            "INFO:pyngrok.process.ngrok:t=2024-09-07T04:25:18+0000 lvl=info msg=\"join connections\" obj=join id=8173502830ab l=127.0.0.1:8237 r=[2405:201:e00a:b034:fd95:738:4276:bc2f]:54729\n"
          ]
        },
        {
          "output_type": "stream",
          "name": "stdout",
          "text": [
            "\u001b[1;35mt=2024-09-07T04:25:18+0000 lvl=info msg=\"join connections\" obj=join id=8173502830ab l=127.0.0.1:8237 r=[2405:201:e00a:b034:fd95:738:4276:bc2f]:54729\u001b[0m\n"
          ]
        },
        {
          "output_type": "stream",
          "name": "stderr",
          "text": [
            "INFO:pyngrok.process.ngrok:t=2024-09-07T04:25:18+0000 lvl=info msg=\"join connections\" obj=join id=cbdbeed8bcb2 l=127.0.0.1:8237 r=[2405:201:e00a:b034:fd95:738:4276:bc2f]:54729\n"
          ]
        },
        {
          "output_type": "stream",
          "name": "stdout",
          "text": [
            "\u001b[1;35mt=2024-09-07T04:25:18+0000 lvl=info msg=\"join connections\" obj=join id=cbdbeed8bcb2 l=127.0.0.1:8237 r=[2405:201:e00a:b034:fd95:738:4276:bc2f]:54729\u001b[0m\n"
          ]
        },
        {
          "output_type": "stream",
          "name": "stderr",
          "text": [
            "INFO:pyngrok.process.ngrok:t=2024-09-07T04:25:18+0000 lvl=info msg=\"join connections\" obj=join id=2b5caa927f80 l=127.0.0.1:8237 r=[2405:201:e00a:b034:fd95:738:4276:bc2f]:54729\n"
          ]
        },
        {
          "output_type": "stream",
          "name": "stdout",
          "text": [
            "\u001b[1;35mt=2024-09-07T04:25:18+0000 lvl=info msg=\"join connections\" obj=join id=2b5caa927f80 l=127.0.0.1:8237 r=[2405:201:e00a:b034:fd95:738:4276:bc2f]:54729\u001b[0m\n"
          ]
        },
        {
          "output_type": "stream",
          "name": "stderr",
          "text": [
            "INFO:pyngrok.process.ngrok:t=2024-09-07T04:25:18+0000 lvl=info msg=\"join connections\" obj=join id=bc3414e545d4 l=127.0.0.1:8237 r=[2405:201:e00a:b034:fd95:738:4276:bc2f]:54729\n"
          ]
        },
        {
          "output_type": "stream",
          "name": "stdout",
          "text": [
            "\u001b[1;35mt=2024-09-07T04:25:18+0000 lvl=info msg=\"join connections\" obj=join id=bc3414e545d4 l=127.0.0.1:8237 r=[2405:201:e00a:b034:fd95:738:4276:bc2f]:54729\u001b[0m\n"
          ]
        },
        {
          "output_type": "stream",
          "name": "stderr",
          "text": [
            "INFO:pyngrok.process.ngrok:t=2024-09-07T04:25:18+0000 lvl=info msg=\"join connections\" obj=join id=957b22231848 l=127.0.0.1:8237 r=[2405:201:e00a:b034:fd95:738:4276:bc2f]:54729\n"
          ]
        },
        {
          "output_type": "stream",
          "name": "stdout",
          "text": [
            "\u001b[1;35mt=2024-09-07T04:25:18+0000 lvl=info msg=\"join connections\" obj=join id=957b22231848 l=127.0.0.1:8237 r=[2405:201:e00a:b034:fd95:738:4276:bc2f]:54729\u001b[0m\n"
          ]
        },
        {
          "output_type": "stream",
          "name": "stderr",
          "text": [
            "INFO:pyngrok.process.ngrok:t=2024-09-07T04:25:18+0000 lvl=info msg=\"join connections\" obj=join id=533aac38f86b l=127.0.0.1:8237 r=[2405:201:e00a:b034:fd95:738:4276:bc2f]:54729\n"
          ]
        },
        {
          "output_type": "stream",
          "name": "stdout",
          "text": [
            "\u001b[1;35mt=2024-09-07T04:25:18+0000 lvl=info msg=\"join connections\" obj=join id=533aac38f86b l=127.0.0.1:8237 r=[2405:201:e00a:b034:fd95:738:4276:bc2f]:54729\u001b[0m\n"
          ]
        },
        {
          "output_type": "stream",
          "name": "stderr",
          "text": [
            "INFO:pyngrok.process.ngrok:t=2024-09-07T04:25:18+0000 lvl=info msg=\"join connections\" obj=join id=284e59801878 l=127.0.0.1:8237 r=[2405:201:e00a:b034:fd95:738:4276:bc2f]:54729\n"
          ]
        },
        {
          "output_type": "stream",
          "name": "stdout",
          "text": [
            "\u001b[1;35mt=2024-09-07T04:25:18+0000 lvl=info msg=\"join connections\" obj=join id=284e59801878 l=127.0.0.1:8237 r=[2405:201:e00a:b034:fd95:738:4276:bc2f]:54729\u001b[0m\n"
          ]
        },
        {
          "output_type": "stream",
          "name": "stderr",
          "text": [
            "INFO:pyngrok.process.ngrok:t=2024-09-07T04:25:18+0000 lvl=info msg=\"join connections\" obj=join id=6d83793daa6b l=127.0.0.1:8237 r=[2405:201:e00a:b034:fd95:738:4276:bc2f]:54729\n"
          ]
        },
        {
          "output_type": "stream",
          "name": "stdout",
          "text": [
            "\u001b[1;35mt=2024-09-07T04:25:18+0000 lvl=info msg=\"join connections\" obj=join id=6d83793daa6b l=127.0.0.1:8237 r=[2405:201:e00a:b034:fd95:738:4276:bc2f]:54729\u001b[0m\n"
          ]
        },
        {
          "output_type": "stream",
          "name": "stderr",
          "text": [
            "INFO:pyngrok.process.ngrok:t=2024-09-07T04:25:18+0000 lvl=info msg=\"join connections\" obj=join id=e4b62017d136 l=127.0.0.1:8237 r=[2405:201:e00a:b034:fd95:738:4276:bc2f]:54729\n"
          ]
        },
        {
          "output_type": "stream",
          "name": "stdout",
          "text": [
            "\u001b[1;35mt=2024-09-07T04:25:18+0000 lvl=info msg=\"join connections\" obj=join id=e4b62017d136 l=127.0.0.1:8237 r=[2405:201:e00a:b034:fd95:738:4276:bc2f]:54729\u001b[0m\n"
          ]
        },
        {
          "output_type": "stream",
          "name": "stderr",
          "text": [
            "INFO:pyngrok.process.ngrok:t=2024-09-07T04:25:18+0000 lvl=info msg=\"join connections\" obj=join id=e1c44e7f569b l=127.0.0.1:8237 r=[2405:201:e00a:b034:fd95:738:4276:bc2f]:54729\n"
          ]
        },
        {
          "output_type": "stream",
          "name": "stdout",
          "text": [
            "\u001b[1;35mt=2024-09-07T04:25:18+0000 lvl=info msg=\"join connections\" obj=join id=e1c44e7f569b l=127.0.0.1:8237 r=[2405:201:e00a:b034:fd95:738:4276:bc2f]:54729\u001b[0m\n"
          ]
        },
        {
          "output_type": "stream",
          "name": "stderr",
          "text": [
            "INFO:pyngrok.process.ngrok:t=2024-09-07T04:25:18+0000 lvl=info msg=\"join connections\" obj=join id=c2bcfa8cb70c l=127.0.0.1:8237 r=[2405:201:e00a:b034:fd95:738:4276:bc2f]:54729\n"
          ]
        },
        {
          "output_type": "stream",
          "name": "stdout",
          "text": [
            "\u001b[1;35mt=2024-09-07T04:25:18+0000 lvl=info msg=\"join connections\" obj=join id=c2bcfa8cb70c l=127.0.0.1:8237 r=[2405:201:e00a:b034:fd95:738:4276:bc2f]:54729\u001b[0m\n"
          ]
        },
        {
          "output_type": "stream",
          "name": "stderr",
          "text": [
            "INFO:pyngrok.process.ngrok:t=2024-09-07T04:25:18+0000 lvl=info msg=\"join connections\" obj=join id=000c556e94e5 l=127.0.0.1:8237 r=[2405:201:e00a:b034:fd95:738:4276:bc2f]:54729\n"
          ]
        },
        {
          "output_type": "stream",
          "name": "stdout",
          "text": [
            "\u001b[1;35mt=2024-09-07T04:25:18+0000 lvl=info msg=\"join connections\" obj=join id=000c556e94e5 l=127.0.0.1:8237 r=[2405:201:e00a:b034:fd95:738:4276:bc2f]:54729\u001b[0m\n"
          ]
        },
        {
          "output_type": "stream",
          "name": "stderr",
          "text": [
            "INFO:pyngrok.process.ngrok:t=2024-09-07T04:25:18+0000 lvl=info msg=\"join connections\" obj=join id=21bf39469d7d l=127.0.0.1:8237 r=[2405:201:e00a:b034:fd95:738:4276:bc2f]:54729\n"
          ]
        },
        {
          "output_type": "stream",
          "name": "stdout",
          "text": [
            "\u001b[1;35mt=2024-09-07T04:25:18+0000 lvl=info msg=\"join connections\" obj=join id=21bf39469d7d l=127.0.0.1:8237 r=[2405:201:e00a:b034:fd95:738:4276:bc2f]:54729\u001b[0m\n"
          ]
        },
        {
          "output_type": "stream",
          "name": "stderr",
          "text": [
            "INFO:pyngrok.process.ngrok:t=2024-09-07T04:25:18+0000 lvl=info msg=\"join connections\" obj=join id=e6ba64a7b1c4 l=127.0.0.1:8237 r=[2405:201:e00a:b034:fd95:738:4276:bc2f]:54729\n"
          ]
        },
        {
          "output_type": "stream",
          "name": "stdout",
          "text": [
            "\u001b[1;35mt=2024-09-07T04:25:18+0000 lvl=info msg=\"join connections\" obj=join id=e6ba64a7b1c4 l=127.0.0.1:8237 r=[2405:201:e00a:b034:fd95:738:4276:bc2f]:54729\u001b[0m\n"
          ]
        },
        {
          "output_type": "stream",
          "name": "stderr",
          "text": [
            "INFO:pyngrok.process.ngrok:t=2024-09-07T04:25:18+0000 lvl=info msg=\"join connections\" obj=join id=d760c90a950d l=127.0.0.1:8237 r=[2405:201:e00a:b034:fd95:738:4276:bc2f]:54729\n"
          ]
        },
        {
          "output_type": "stream",
          "name": "stdout",
          "text": [
            "\u001b[1;35mt=2024-09-07T04:25:18+0000 lvl=info msg=\"join connections\" obj=join id=d760c90a950d l=127.0.0.1:8237 r=[2405:201:e00a:b034:fd95:738:4276:bc2f]:54729\u001b[0m\n"
          ]
        },
        {
          "output_type": "stream",
          "name": "stderr",
          "text": [
            "INFO:pyngrok.process.ngrok:t=2024-09-07T04:25:18+0000 lvl=info msg=\"join connections\" obj=join id=e49ec57520a2 l=127.0.0.1:8237 r=[2405:201:e00a:b034:fd95:738:4276:bc2f]:54729\n"
          ]
        },
        {
          "output_type": "stream",
          "name": "stdout",
          "text": [
            "\u001b[32mINFO\u001b[0m:     2405:201:e00a:b034:fd95:738:4276:bc2f:0 - \"\u001b[1mGET /assets/inter-cyrillic-600-normal-DDpWG8g5.woff2 HTTP/1.1\u001b[0m\" \u001b[32m200 OK\u001b[0m\n",
            "\u001b[32mINFO\u001b[0m:     2405:201:e00a:b034:fd95:738:4276:bc2f:0 - \"\u001b[1mGET /assets/inter-greek-ext-500-normal-2pdUafRD.woff2 HTTP/1.1\u001b[0m\" \u001b[32m200 OK\u001b[0m\n",
            "\u001b[32mINFO\u001b[0m:     2405:201:e00a:b034:fd95:738:4276:bc2f:0 - \"\u001b[1mGET /assets/inter-latin-ext-500-normal-B9u8Q_zH.woff2 HTTP/1.1\u001b[0m\" \u001b[32m200 OK\u001b[0m\n",
            "\u001b[32mINFO\u001b[0m:     2405:201:e00a:b034:fd95:738:4276:bc2f:0 - \"\u001b[1mGET /assets/inter-vietnamese-500-normal-5IkPJ6Nk.woff2 HTTP/1.1\u001b[0m\" \u001b[32m200 OK\u001b[0m\n",
            "\u001b[1;35mt=2024-09-07T04:25:18+0000 lvl=info msg=\"join connections\" obj=join id=e49ec57520a2 l=127.0.0.1:8237 r=[2405:201:e00a:b034:fd95:738:4276:bc2f]:54729\u001b[0m\n"
          ]
        },
        {
          "output_type": "stream",
          "name": "stderr",
          "text": [
            "INFO:pyngrok.process.ngrok:t=2024-09-07T04:25:18+0000 lvl=info msg=\"join connections\" obj=join id=b5673c08707b l=127.0.0.1:8237 r=[2405:201:e00a:b034:fd95:738:4276:bc2f]:54729\n"
          ]
        },
        {
          "output_type": "stream",
          "name": "stdout",
          "text": [
            "\u001b[1;35mt=2024-09-07T04:25:18+0000 lvl=info msg=\"join connections\" obj=join id=b5673c08707b l=127.0.0.1:8237 r=[2405:201:e00a:b034:fd95:738:4276:bc2f]:54729\u001b[0m\n"
          ]
        },
        {
          "output_type": "stream",
          "name": "stderr",
          "text": [
            "INFO:pyngrok.process.ngrok:t=2024-09-07T04:25:18+0000 lvl=info msg=\"join connections\" obj=join id=680d31359455 l=127.0.0.1:8237 r=[2405:201:e00a:b034:fd95:738:4276:bc2f]:54729\n"
          ]
        },
        {
          "output_type": "stream",
          "name": "stdout",
          "text": [
            "\u001b[1;35mt=2024-09-07T04:25:18+0000 lvl=info msg=\"join connections\" obj=join id=680d31359455 l=127.0.0.1:8237 r=[2405:201:e00a:b034:fd95:738:4276:bc2f]:54729\u001b[0m\n"
          ]
        },
        {
          "output_type": "stream",
          "name": "stderr",
          "text": [
            "INFO:pyngrok.process.ngrok:t=2024-09-07T04:25:18+0000 lvl=info msg=\"join connections\" obj=join id=d610dcd0c92c l=127.0.0.1:8237 r=[2405:201:e00a:b034:fd95:738:4276:bc2f]:54729\n"
          ]
        },
        {
          "output_type": "stream",
          "name": "stdout",
          "text": [
            "\u001b[1;35mt=2024-09-07T04:25:18+0000 lvl=info msg=\"join connections\" obj=join id=d610dcd0c92c l=127.0.0.1:8237 r=[2405:201:e00a:b034:fd95:738:4276:bc2f]:54729\u001b[0m\n"
          ]
        },
        {
          "output_type": "stream",
          "name": "stderr",
          "text": [
            "INFO:pyngrok.process.ngrok:t=2024-09-07T04:25:18+0000 lvl=info msg=\"join connections\" obj=join id=ea1cbb93d1ab l=127.0.0.1:8237 r=[2405:201:e00a:b034:fd95:738:4276:bc2f]:54729\n"
          ]
        },
        {
          "output_type": "stream",
          "name": "stdout",
          "text": [
            "\u001b[1;35mt=2024-09-07T04:25:18+0000 lvl=info msg=\"join connections\" obj=join id=ea1cbb93d1ab l=127.0.0.1:8237 r=[2405:201:e00a:b034:fd95:738:4276:bc2f]:54729\u001b[0m\n"
          ]
        },
        {
          "output_type": "stream",
          "name": "stderr",
          "text": [
            "INFO:pyngrok.process.ngrok:t=2024-09-07T04:25:18+0000 lvl=info msg=\"join connections\" obj=join id=732445128adc l=127.0.0.1:8237 r=[2405:201:e00a:b034:fd95:738:4276:bc2f]:54729\n"
          ]
        },
        {
          "output_type": "stream",
          "name": "stdout",
          "text": [
            "\u001b[1;35mt=2024-09-07T04:25:18+0000 lvl=info msg=\"join connections\" obj=join id=732445128adc l=127.0.0.1:8237 r=[2405:201:e00a:b034:fd95:738:4276:bc2f]:54729\u001b[0m\n"
          ]
        },
        {
          "output_type": "stream",
          "name": "stderr",
          "text": [
            "INFO:pyngrok.process.ngrok:t=2024-09-07T04:25:18+0000 lvl=info msg=\"join connections\" obj=join id=8f28bea95d0d l=127.0.0.1:8237 r=[2405:201:e00a:b034:fd95:738:4276:bc2f]:54729\n"
          ]
        },
        {
          "output_type": "stream",
          "name": "stdout",
          "text": [
            "\u001b[1;35mt=2024-09-07T04:25:18+0000 lvl=info msg=\"join connections\" obj=join id=8f28bea95d0d l=127.0.0.1:8237 r=[2405:201:e00a:b034:fd95:738:4276:bc2f]:54729\u001b[0m\n"
          ]
        },
        {
          "output_type": "stream",
          "name": "stderr",
          "text": [
            "INFO:pyngrok.process.ngrok:t=2024-09-07T04:25:18+0000 lvl=info msg=\"join connections\" obj=join id=009136c9619d l=127.0.0.1:8237 r=[2405:201:e00a:b034:fd95:738:4276:bc2f]:54729\n"
          ]
        },
        {
          "output_type": "stream",
          "name": "stdout",
          "text": [
            "\u001b[1;35mt=2024-09-07T04:25:18+0000 lvl=info msg=\"join connections\" obj=join id=009136c9619d l=127.0.0.1:8237 r=[2405:201:e00a:b034:fd95:738:4276:bc2f]:54729\u001b[0m\n"
          ]
        },
        {
          "output_type": "stream",
          "name": "stderr",
          "text": [
            "INFO:pyngrok.process.ngrok:t=2024-09-07T04:25:18+0000 lvl=info msg=\"join connections\" obj=join id=5baa339aafc0 l=127.0.0.1:8237 r=[2405:201:e00a:b034:fd95:738:4276:bc2f]:54729\n"
          ]
        },
        {
          "output_type": "stream",
          "name": "stdout",
          "text": [
            "\u001b[1;35mt=2024-09-07T04:25:18+0000 lvl=info msg=\"join connections\" obj=join id=5baa339aafc0 l=127.0.0.1:8237 r=[2405:201:e00a:b034:fd95:738:4276:bc2f]:54729\u001b[0m\n"
          ]
        },
        {
          "output_type": "stream",
          "name": "stderr",
          "text": [
            "INFO:pyngrok.process.ngrok:t=2024-09-07T04:25:18+0000 lvl=info msg=\"join connections\" obj=join id=1935185b19d0 l=127.0.0.1:8237 r=[2405:201:e00a:b034:fd95:738:4276:bc2f]:54729\n"
          ]
        },
        {
          "output_type": "stream",
          "name": "stdout",
          "text": [
            "\u001b[1;35mt=2024-09-07T04:25:18+0000 lvl=info msg=\"join connections\" obj=join id=1935185b19d0 l=127.0.0.1:8237 r=[2405:201:e00a:b034:fd95:738:4276:bc2f]:54729\u001b[0m\n"
          ]
        },
        {
          "output_type": "stream",
          "name": "stderr",
          "text": [
            "INFO:pyngrok.process.ngrok:t=2024-09-07T04:25:18+0000 lvl=info msg=\"join connections\" obj=join id=80c93f4f8bf0 l=127.0.0.1:8237 r=[2405:201:e00a:b034:fd95:738:4276:bc2f]:54729\n"
          ]
        },
        {
          "output_type": "stream",
          "name": "stdout",
          "text": [
            "\u001b[1;35mt=2024-09-07T04:25:18+0000 lvl=info msg=\"join connections\" obj=join id=80c93f4f8bf0 l=127.0.0.1:8237 r=[2405:201:e00a:b034:fd95:738:4276:bc2f]:54729\u001b[0m\n"
          ]
        },
        {
          "output_type": "stream",
          "name": "stderr",
          "text": [
            "INFO:pyngrok.process.ngrok:t=2024-09-07T04:25:18+0000 lvl=info msg=\"join connections\" obj=join id=d0f678bed0e8 l=127.0.0.1:8237 r=[2405:201:e00a:b034:fd95:738:4276:bc2f]:54729\n"
          ]
        },
        {
          "output_type": "stream",
          "name": "stdout",
          "text": [
            "\u001b[1;35mt=2024-09-07T04:25:18+0000 lvl=info msg=\"join connections\" obj=join id=d0f678bed0e8 l=127.0.0.1:8237 r=[2405:201:e00a:b034:fd95:738:4276:bc2f]:54729\u001b[0m\n"
          ]
        },
        {
          "output_type": "stream",
          "name": "stderr",
          "text": [
            "INFO:pyngrok.process.ngrok:t=2024-09-07T04:25:18+0000 lvl=info msg=\"join connections\" obj=join id=b9d79effc7e7 l=127.0.0.1:8237 r=[2405:201:e00a:b034:fd95:738:4276:bc2f]:54729\n"
          ]
        },
        {
          "output_type": "stream",
          "name": "stdout",
          "text": [
            "\u001b[1;35mt=2024-09-07T04:25:18+0000 lvl=info msg=\"join connections\" obj=join id=b9d79effc7e7 l=127.0.0.1:8237 r=[2405:201:e00a:b034:fd95:738:4276:bc2f]:54729\u001b[0m\n"
          ]
        },
        {
          "output_type": "stream",
          "name": "stderr",
          "text": [
            "INFO:pyngrok.process.ngrok:t=2024-09-07T04:25:18+0000 lvl=info msg=\"join connections\" obj=join id=b9ff21817336 l=127.0.0.1:8237 r=[2405:201:e00a:b034:fd95:738:4276:bc2f]:54729\n"
          ]
        },
        {
          "output_type": "stream",
          "name": "stdout",
          "text": [
            "\u001b[1;35mt=2024-09-07T04:25:18+0000 lvl=info msg=\"join connections\" obj=join id=b9ff21817336 l=127.0.0.1:8237 r=[2405:201:e00a:b034:fd95:738:4276:bc2f]:54729\u001b[0m\n"
          ]
        },
        {
          "output_type": "stream",
          "name": "stderr",
          "text": [
            "INFO:pyngrok.process.ngrok:t=2024-09-07T04:25:18+0000 lvl=info msg=\"join connections\" obj=join id=8fcf0428ff93 l=127.0.0.1:8237 r=[2405:201:e00a:b034:fd95:738:4276:bc2f]:54729\n"
          ]
        },
        {
          "output_type": "stream",
          "name": "stdout",
          "text": [
            "\u001b[1;35mt=2024-09-07T04:25:18+0000 lvl=info msg=\"join connections\" obj=join id=8fcf0428ff93 l=127.0.0.1:8237 r=[2405:201:e00a:b034:fd95:738:4276:bc2f]:54729\u001b[0m\n"
          ]
        },
        {
          "output_type": "stream",
          "name": "stderr",
          "text": [
            "INFO:pyngrok.process.ngrok:t=2024-09-07T04:25:18+0000 lvl=info msg=\"join connections\" obj=join id=73f47ccbf9bb l=127.0.0.1:8237 r=[2405:201:e00a:b034:fd95:738:4276:bc2f]:54729\n"
          ]
        },
        {
          "output_type": "stream",
          "name": "stdout",
          "text": [
            "\u001b[1;35mt=2024-09-07T04:25:18+0000 lvl=info msg=\"join connections\" obj=join id=73f47ccbf9bb l=127.0.0.1:8237 r=[2405:201:e00a:b034:fd95:738:4276:bc2f]:54729\u001b[0m\n"
          ]
        },
        {
          "output_type": "stream",
          "name": "stderr",
          "text": [
            "INFO:pyngrok.process.ngrok:t=2024-09-07T04:25:18+0000 lvl=info msg=\"join connections\" obj=join id=d2e6ee2d91ff l=127.0.0.1:8237 r=[2405:201:e00a:b034:fd95:738:4276:bc2f]:54729\n"
          ]
        },
        {
          "output_type": "stream",
          "name": "stdout",
          "text": [
            "\u001b[1;35mt=2024-09-07T04:25:18+0000 lvl=info msg=\"join connections\" obj=join id=d2e6ee2d91ff l=127.0.0.1:8237 r=[2405:201:e00a:b034:fd95:738:4276:bc2f]:54729\u001b[0m\n"
          ]
        },
        {
          "output_type": "stream",
          "name": "stderr",
          "text": [
            "INFO:pyngrok.process.ngrok:t=2024-09-07T04:25:18+0000 lvl=info msg=\"join connections\" obj=join id=c94ca574b990 l=127.0.0.1:8237 r=[2405:201:e00a:b034:fd95:738:4276:bc2f]:54729\n"
          ]
        },
        {
          "output_type": "stream",
          "name": "stdout",
          "text": [
            "\u001b[1;35mt=2024-09-07T04:25:18+0000 lvl=info msg=\"join connections\" obj=join id=c94ca574b990 l=127.0.0.1:8237 r=[2405:201:e00a:b034:fd95:738:4276:bc2f]:54729\u001b[0m\n"
          ]
        },
        {
          "output_type": "stream",
          "name": "stderr",
          "text": [
            "INFO:pyngrok.process.ngrok:t=2024-09-07T04:25:18+0000 lvl=info msg=\"join connections\" obj=join id=622da94560ae l=127.0.0.1:8237 r=[2405:201:e00a:b034:fd95:738:4276:bc2f]:54729\n"
          ]
        },
        {
          "output_type": "stream",
          "name": "stdout",
          "text": [
            "\u001b[1;35mt=2024-09-07T04:25:18+0000 lvl=info msg=\"join connections\" obj=join id=622da94560ae l=127.0.0.1:8237 r=[2405:201:e00a:b034:fd95:738:4276:bc2f]:54729\u001b[0m\n"
          ]
        },
        {
          "output_type": "stream",
          "name": "stderr",
          "text": [
            "INFO:pyngrok.process.ngrok:t=2024-09-07T04:25:18+0000 lvl=info msg=\"join connections\" obj=join id=37b37d2baad9 l=127.0.0.1:8237 r=[2405:201:e00a:b034:fd95:738:4276:bc2f]:54729\n"
          ]
        },
        {
          "output_type": "stream",
          "name": "stdout",
          "text": [
            "\u001b[1;35mt=2024-09-07T04:25:18+0000 lvl=info msg=\"join connections\" obj=join id=37b37d2baad9 l=127.0.0.1:8237 r=[2405:201:e00a:b034:fd95:738:4276:bc2f]:54729\u001b[0m\n"
          ]
        },
        {
          "output_type": "stream",
          "name": "stderr",
          "text": [
            "INFO:pyngrok.process.ngrok:t=2024-09-07T04:25:18+0000 lvl=info msg=\"join connections\" obj=join id=dd959638f46d l=127.0.0.1:8237 r=[2405:201:e00a:b034:fd95:738:4276:bc2f]:54729\n"
          ]
        },
        {
          "output_type": "stream",
          "name": "stdout",
          "text": [
            "\u001b[1;35mt=2024-09-07T04:25:18+0000 lvl=info msg=\"join connections\" obj=join id=dd959638f46d l=127.0.0.1:8237 r=[2405:201:e00a:b034:fd95:738:4276:bc2f]:54729\u001b[0m\n"
          ]
        },
        {
          "output_type": "stream",
          "name": "stderr",
          "text": [
            "INFO:pyngrok.process.ngrok:t=2024-09-07T04:25:18+0000 lvl=info msg=\"join connections\" obj=join id=f583fc19fbf4 l=127.0.0.1:8237 r=[2405:201:e00a:b034:fd95:738:4276:bc2f]:54729\n"
          ]
        },
        {
          "output_type": "stream",
          "name": "stdout",
          "text": [
            "\u001b[1;35mt=2024-09-07T04:25:18+0000 lvl=info msg=\"join connections\" obj=join id=f583fc19fbf4 l=127.0.0.1:8237 r=[2405:201:e00a:b034:fd95:738:4276:bc2f]:54729\u001b[0m\n"
          ]
        },
        {
          "output_type": "stream",
          "name": "stderr",
          "text": [
            "INFO:pyngrok.process.ngrok:t=2024-09-07T04:25:18+0000 lvl=info msg=\"join connections\" obj=join id=2925586bb74a l=127.0.0.1:8237 r=[2405:201:e00a:b034:fd95:738:4276:bc2f]:54729\n"
          ]
        },
        {
          "output_type": "stream",
          "name": "stdout",
          "text": [
            "\u001b[1;35mt=2024-09-07T04:25:18+0000 lvl=info msg=\"join connections\" obj=join id=2925586bb74a l=127.0.0.1:8237 r=[2405:201:e00a:b034:fd95:738:4276:bc2f]:54729\u001b[0m\n"
          ]
        },
        {
          "output_type": "stream",
          "name": "stderr",
          "text": [
            "INFO:pyngrok.process.ngrok:t=2024-09-07T04:25:18+0000 lvl=info msg=\"join connections\" obj=join id=c8828dab6061 l=127.0.0.1:8237 r=[2405:201:e00a:b034:fd95:738:4276:bc2f]:54729\n"
          ]
        },
        {
          "output_type": "stream",
          "name": "stdout",
          "text": [
            "\u001b[1;35mt=2024-09-07T04:25:18+0000 lvl=info msg=\"join connections\" obj=join id=c8828dab6061 l=127.0.0.1:8237 r=[2405:201:e00a:b034:fd95:738:4276:bc2f]:54729\u001b[0m\n"
          ]
        },
        {
          "output_type": "stream",
          "name": "stderr",
          "text": [
            "INFO:pyngrok.process.ngrok:t=2024-09-07T04:25:18+0000 lvl=info msg=\"join connections\" obj=join id=80959fd5b8bc l=127.0.0.1:8237 r=[2405:201:e00a:b034:fd95:738:4276:bc2f]:54729\n"
          ]
        },
        {
          "output_type": "stream",
          "name": "stdout",
          "text": [
            "\u001b[1;35mt=2024-09-07T04:25:18+0000 lvl=info msg=\"join connections\" obj=join id=80959fd5b8bc l=127.0.0.1:8237 r=[2405:201:e00a:b034:fd95:738:4276:bc2f]:54729\u001b[0m\n"
          ]
        },
        {
          "output_type": "stream",
          "name": "stderr",
          "text": [
            "INFO:pyngrok.process.ngrok:t=2024-09-07T04:25:18+0000 lvl=info msg=\"join connections\" obj=join id=429a55661051 l=127.0.0.1:8237 r=[2405:201:e00a:b034:fd95:738:4276:bc2f]:54729\n"
          ]
        },
        {
          "output_type": "stream",
          "name": "stdout",
          "text": [
            "\u001b[1;35mt=2024-09-07T04:25:18+0000 lvl=info msg=\"join connections\" obj=join id=429a55661051 l=127.0.0.1:8237 r=[2405:201:e00a:b034:fd95:738:4276:bc2f]:54729\u001b[0m\n"
          ]
        },
        {
          "output_type": "stream",
          "name": "stderr",
          "text": [
            "INFO:pyngrok.process.ngrok:t=2024-09-07T04:25:18+0000 lvl=info msg=\"join connections\" obj=join id=aab677bde8b1 l=127.0.0.1:8237 r=[2405:201:e00a:b034:fd95:738:4276:bc2f]:54729\n"
          ]
        },
        {
          "output_type": "stream",
          "name": "stdout",
          "text": [
            "\u001b[1;35mt=2024-09-07T04:25:18+0000 lvl=info msg=\"join connections\" obj=join id=aab677bde8b1 l=127.0.0.1:8237 r=[2405:201:e00a:b034:fd95:738:4276:bc2f]:54729\u001b[0m\n"
          ]
        },
        {
          "output_type": "stream",
          "name": "stderr",
          "text": [
            "INFO:pyngrok.process.ngrok:t=2024-09-07T04:25:18+0000 lvl=info msg=\"join connections\" obj=join id=ee718ebd6020 l=127.0.0.1:8237 r=[2405:201:e00a:b034:fd95:738:4276:bc2f]:54729\n"
          ]
        },
        {
          "output_type": "stream",
          "name": "stdout",
          "text": [
            "\u001b[1;35mt=2024-09-07T04:25:18+0000 lvl=info msg=\"join connections\" obj=join id=ee718ebd6020 l=127.0.0.1:8237 r=[2405:201:e00a:b034:fd95:738:4276:bc2f]:54729\u001b[0m\n"
          ]
        },
        {
          "output_type": "stream",
          "name": "stderr",
          "text": [
            "INFO:pyngrok.process.ngrok:t=2024-09-07T04:25:18+0000 lvl=info msg=\"join connections\" obj=join id=f54a6bb1c485 l=127.0.0.1:8237 r=[2405:201:e00a:b034:fd95:738:4276:bc2f]:54729\n"
          ]
        },
        {
          "output_type": "stream",
          "name": "stdout",
          "text": [
            "\u001b[1;35mt=2024-09-07T04:25:18+0000 lvl=info msg=\"join connections\" obj=join id=f54a6bb1c485 l=127.0.0.1:8237 r=[2405:201:e00a:b034:fd95:738:4276:bc2f]:54729\u001b[0m\n"
          ]
        },
        {
          "output_type": "stream",
          "name": "stderr",
          "text": [
            "INFO:pyngrok.process.ngrok:t=2024-09-07T04:25:18+0000 lvl=info msg=\"join connections\" obj=join id=b42a34163436 l=127.0.0.1:8237 r=[2405:201:e00a:b034:fd95:738:4276:bc2f]:54729\n"
          ]
        },
        {
          "output_type": "stream",
          "name": "stdout",
          "text": [
            "\u001b[32mINFO\u001b[0m:     2405:201:e00a:b034:fd95:738:4276:bc2f:0 - \"\u001b[1mGET /assets/inter-latin-ext-400-normal-8tIzm-yw.woff HTTP/1.1\u001b[0m\" \u001b[32m200 OK\u001b[0m\n",
            "\u001b[32mINFO\u001b[0m:     2405:201:e00a:b034:fd95:738:4276:bc2f:0 - \"\u001b[1mGET /assets/inter-vietnamese-600-normal-DjnxGF-L.woff2 HTTP/1.1\u001b[0m\" \u001b[32m200 OK\u001b[0m\n",
            "\u001b[32mINFO\u001b[0m:     2405:201:e00a:b034:fd95:738:4276:bc2f:0 - \"\u001b[1mGET /assets/inter-greek-ext-400-normal-_Rr29XE2.woff HTTP/1.1\u001b[0m\" \u001b[32m200 OK\u001b[0m\n",
            "\u001b[1;35mt=2024-09-07T04:25:18+0000 lvl=info msg=\"join connections\" obj=join id=b42a34163436 l=127.0.0.1:8237 r=[2405:201:e00a:b034:fd95:738:4276:bc2f]:54729\u001b[0m\n"
          ]
        },
        {
          "output_type": "stream",
          "name": "stderr",
          "text": [
            "INFO:pyngrok.process.ngrok:t=2024-09-07T04:25:18+0000 lvl=info msg=\"join connections\" obj=join id=0be657529658 l=127.0.0.1:8237 r=[2405:201:e00a:b034:fd95:738:4276:bc2f]:54729\n"
          ]
        },
        {
          "output_type": "stream",
          "name": "stdout",
          "text": [
            "\u001b[1;35mt=2024-09-07T04:25:18+0000 lvl=info msg=\"join connections\" obj=join id=0be657529658 l=127.0.0.1:8237 r=[2405:201:e00a:b034:fd95:738:4276:bc2f]:54729\u001b[0m\n"
          ]
        },
        {
          "output_type": "stream",
          "name": "stderr",
          "text": [
            "INFO:pyngrok.process.ngrok:t=2024-09-07T04:25:18+0000 lvl=info msg=\"join connections\" obj=join id=699e32ade962 l=127.0.0.1:8237 r=[2405:201:e00a:b034:fd95:738:4276:bc2f]:54729\n"
          ]
        },
        {
          "output_type": "stream",
          "name": "stdout",
          "text": [
            "\u001b[1;35mt=2024-09-07T04:25:18+0000 lvl=info msg=\"join connections\" obj=join id=699e32ade962 l=127.0.0.1:8237 r=[2405:201:e00a:b034:fd95:738:4276:bc2f]:54729\u001b[0m\n"
          ]
        },
        {
          "output_type": "stream",
          "name": "stderr",
          "text": [
            "INFO:pyngrok.process.ngrok:t=2024-09-07T04:25:18+0000 lvl=info msg=\"join connections\" obj=join id=bb3d824edf33 l=127.0.0.1:8237 r=[2405:201:e00a:b034:fd95:738:4276:bc2f]:54729\n"
          ]
        },
        {
          "output_type": "stream",
          "name": "stdout",
          "text": [
            "\u001b[1;35mt=2024-09-07T04:25:18+0000 lvl=info msg=\"join connections\" obj=join id=bb3d824edf33 l=127.0.0.1:8237 r=[2405:201:e00a:b034:fd95:738:4276:bc2f]:54729\u001b[0m\n"
          ]
        },
        {
          "output_type": "stream",
          "name": "stderr",
          "text": [
            "INFO:pyngrok.process.ngrok:t=2024-09-07T04:25:18+0000 lvl=info msg=\"join connections\" obj=join id=73d6cea645dd l=127.0.0.1:8237 r=[2405:201:e00a:b034:fd95:738:4276:bc2f]:54729\n"
          ]
        },
        {
          "output_type": "stream",
          "name": "stdout",
          "text": [
            "\u001b[1;35mt=2024-09-07T04:25:18+0000 lvl=info msg=\"join connections\" obj=join id=73d6cea645dd l=127.0.0.1:8237 r=[2405:201:e00a:b034:fd95:738:4276:bc2f]:54729\u001b[0m\n"
          ]
        },
        {
          "output_type": "stream",
          "name": "stderr",
          "text": [
            "INFO:pyngrok.process.ngrok:t=2024-09-07T04:25:18+0000 lvl=info msg=\"join connections\" obj=join id=a14971fbf0a2 l=127.0.0.1:8237 r=[2405:201:e00a:b034:fd95:738:4276:bc2f]:54729\n"
          ]
        },
        {
          "output_type": "stream",
          "name": "stdout",
          "text": [
            "\u001b[1;35mt=2024-09-07T04:25:18+0000 lvl=info msg=\"join connections\" obj=join id=a14971fbf0a2 l=127.0.0.1:8237 r=[2405:201:e00a:b034:fd95:738:4276:bc2f]:54729\u001b[0m\n"
          ]
        },
        {
          "output_type": "stream",
          "name": "stderr",
          "text": [
            "INFO:pyngrok.process.ngrok:t=2024-09-07T04:25:18+0000 lvl=info msg=\"join connections\" obj=join id=4cfc3a619720 l=127.0.0.1:8237 r=[2405:201:e00a:b034:fd95:738:4276:bc2f]:54729\n"
          ]
        },
        {
          "output_type": "stream",
          "name": "stdout",
          "text": [
            "\u001b[1;35mt=2024-09-07T04:25:18+0000 lvl=info msg=\"join connections\" obj=join id=4cfc3a619720 l=127.0.0.1:8237 r=[2405:201:e00a:b034:fd95:738:4276:bc2f]:54729\u001b[0m\n"
          ]
        },
        {
          "output_type": "stream",
          "name": "stderr",
          "text": [
            "INFO:pyngrok.process.ngrok:t=2024-09-07T04:25:18+0000 lvl=info msg=\"join connections\" obj=join id=c726046b96fb l=127.0.0.1:8237 r=[2405:201:e00a:b034:fd95:738:4276:bc2f]:54729\n"
          ]
        },
        {
          "output_type": "stream",
          "name": "stdout",
          "text": [
            "\u001b[1;35mt=2024-09-07T04:25:18+0000 lvl=info msg=\"join connections\" obj=join id=c726046b96fb l=127.0.0.1:8237 r=[2405:201:e00a:b034:fd95:738:4276:bc2f]:54729\u001b[0m\n"
          ]
        },
        {
          "output_type": "stream",
          "name": "stderr",
          "text": [
            "INFO:pyngrok.process.ngrok:t=2024-09-07T04:25:18+0000 lvl=info msg=\"join connections\" obj=join id=fcabfc9e4bf2 l=127.0.0.1:8237 r=[2405:201:e00a:b034:fd95:738:4276:bc2f]:54729\n"
          ]
        },
        {
          "output_type": "stream",
          "name": "stdout",
          "text": [
            "\u001b[1;35mt=2024-09-07T04:25:18+0000 lvl=info msg=\"join connections\" obj=join id=fcabfc9e4bf2 l=127.0.0.1:8237 r=[2405:201:e00a:b034:fd95:738:4276:bc2f]:54729\u001b[0m\n"
          ]
        },
        {
          "output_type": "stream",
          "name": "stderr",
          "text": [
            "INFO:pyngrok.process.ngrok:t=2024-09-07T04:25:18+0000 lvl=info msg=\"join connections\" obj=join id=766ac9855dec l=127.0.0.1:8237 r=[2405:201:e00a:b034:fd95:738:4276:bc2f]:54729\n"
          ]
        },
        {
          "output_type": "stream",
          "name": "stdout",
          "text": [
            "\u001b[1;35mt=2024-09-07T04:25:18+0000 lvl=info msg=\"join connections\" obj=join id=766ac9855dec l=127.0.0.1:8237 r=[2405:201:e00a:b034:fd95:738:4276:bc2f]:54729\u001b[0m\n"
          ]
        },
        {
          "output_type": "stream",
          "name": "stderr",
          "text": [
            "INFO:pyngrok.process.ngrok:t=2024-09-07T04:25:18+0000 lvl=info msg=\"join connections\" obj=join id=4caaec284486 l=127.0.0.1:8237 r=[2405:201:e00a:b034:fd95:738:4276:bc2f]:54729\n"
          ]
        },
        {
          "output_type": "stream",
          "name": "stdout",
          "text": [
            "\u001b[1;35mt=2024-09-07T04:25:18+0000 lvl=info msg=\"join connections\" obj=join id=4caaec284486 l=127.0.0.1:8237 r=[2405:201:e00a:b034:fd95:738:4276:bc2f]:54729\u001b[0m\n"
          ]
        },
        {
          "output_type": "stream",
          "name": "stderr",
          "text": [
            "INFO:pyngrok.process.ngrok:t=2024-09-07T04:25:18+0000 lvl=info msg=\"join connections\" obj=join id=857b8039b70e l=127.0.0.1:8237 r=[2405:201:e00a:b034:fd95:738:4276:bc2f]:54729\n"
          ]
        },
        {
          "output_type": "stream",
          "name": "stdout",
          "text": [
            "\u001b[1;35mt=2024-09-07T04:25:18+0000 lvl=info msg=\"join connections\" obj=join id=857b8039b70e l=127.0.0.1:8237 r=[2405:201:e00a:b034:fd95:738:4276:bc2f]:54729\u001b[0m\n"
          ]
        },
        {
          "output_type": "stream",
          "name": "stderr",
          "text": [
            "INFO:pyngrok.process.ngrok:t=2024-09-07T04:25:18+0000 lvl=info msg=\"join connections\" obj=join id=08d597ff196b l=127.0.0.1:8237 r=[2405:201:e00a:b034:fd95:738:4276:bc2f]:54729\n"
          ]
        },
        {
          "output_type": "stream",
          "name": "stdout",
          "text": [
            "\u001b[1;35mt=2024-09-07T04:25:18+0000 lvl=info msg=\"join connections\" obj=join id=08d597ff196b l=127.0.0.1:8237 r=[2405:201:e00a:b034:fd95:738:4276:bc2f]:54729\u001b[0m\n"
          ]
        },
        {
          "output_type": "stream",
          "name": "stderr",
          "text": [
            "INFO:pyngrok.process.ngrok:t=2024-09-07T04:25:18+0000 lvl=info msg=\"join connections\" obj=join id=0e0620c2740e l=127.0.0.1:8237 r=[2405:201:e00a:b034:fd95:738:4276:bc2f]:54729\n"
          ]
        },
        {
          "output_type": "stream",
          "name": "stdout",
          "text": [
            "\u001b[1;35mt=2024-09-07T04:25:18+0000 lvl=info msg=\"join connections\" obj=join id=0e0620c2740e l=127.0.0.1:8237 r=[2405:201:e00a:b034:fd95:738:4276:bc2f]:54729\u001b[0m\n"
          ]
        },
        {
          "output_type": "stream",
          "name": "stderr",
          "text": [
            "INFO:pyngrok.process.ngrok:t=2024-09-07T04:25:18+0000 lvl=info msg=\"join connections\" obj=join id=7ed3f0946b55 l=127.0.0.1:8237 r=[2405:201:e00a:b034:fd95:738:4276:bc2f]:54729\n"
          ]
        },
        {
          "output_type": "stream",
          "name": "stdout",
          "text": [
            "\u001b[1;35mt=2024-09-07T04:25:18+0000 lvl=info msg=\"join connections\" obj=join id=7ed3f0946b55 l=127.0.0.1:8237 r=[2405:201:e00a:b034:fd95:738:4276:bc2f]:54729\u001b[0m\n"
          ]
        },
        {
          "output_type": "stream",
          "name": "stderr",
          "text": [
            "INFO:pyngrok.process.ngrok:t=2024-09-07T04:25:18+0000 lvl=info msg=\"join connections\" obj=join id=8c8206843673 l=127.0.0.1:8237 r=[2405:201:e00a:b034:fd95:738:4276:bc2f]:54729\n"
          ]
        },
        {
          "output_type": "stream",
          "name": "stdout",
          "text": [
            "\u001b[1;35mt=2024-09-07T04:25:18+0000 lvl=info msg=\"join connections\" obj=join id=8c8206843673 l=127.0.0.1:8237 r=[2405:201:e00a:b034:fd95:738:4276:bc2f]:54729\u001b[0m\n"
          ]
        },
        {
          "output_type": "stream",
          "name": "stderr",
          "text": [
            "INFO:pyngrok.process.ngrok:t=2024-09-07T04:25:18+0000 lvl=info msg=\"join connections\" obj=join id=782926234d46 l=127.0.0.1:8237 r=[2405:201:e00a:b034:fd95:738:4276:bc2f]:54729\n"
          ]
        },
        {
          "output_type": "stream",
          "name": "stdout",
          "text": [
            "\u001b[1;35mt=2024-09-07T04:25:18+0000 lvl=info msg=\"join connections\" obj=join id=782926234d46 l=127.0.0.1:8237 r=[2405:201:e00a:b034:fd95:738:4276:bc2f]:54729\u001b[0m\n"
          ]
        },
        {
          "output_type": "stream",
          "name": "stderr",
          "text": [
            "INFO:pyngrok.process.ngrok:t=2024-09-07T04:25:18+0000 lvl=info msg=\"join connections\" obj=join id=82d26d6a1e25 l=127.0.0.1:8237 r=[2405:201:e00a:b034:fd95:738:4276:bc2f]:54729\n"
          ]
        },
        {
          "output_type": "stream",
          "name": "stdout",
          "text": [
            "\u001b[1;35mt=2024-09-07T04:25:18+0000 lvl=info msg=\"join connections\" obj=join id=82d26d6a1e25 l=127.0.0.1:8237 r=[2405:201:e00a:b034:fd95:738:4276:bc2f]:54729\u001b[0m\n"
          ]
        },
        {
          "output_type": "stream",
          "name": "stderr",
          "text": [
            "INFO:pyngrok.process.ngrok:t=2024-09-07T04:25:18+0000 lvl=info msg=\"join connections\" obj=join id=550cdbd90661 l=127.0.0.1:8237 r=[2405:201:e00a:b034:fd95:738:4276:bc2f]:54729\n"
          ]
        },
        {
          "output_type": "stream",
          "name": "stdout",
          "text": [
            "\u001b[1;35mt=2024-09-07T04:25:18+0000 lvl=info msg=\"join connections\" obj=join id=550cdbd90661 l=127.0.0.1:8237 r=[2405:201:e00a:b034:fd95:738:4276:bc2f]:54729\u001b[0m\n"
          ]
        },
        {
          "output_type": "stream",
          "name": "stderr",
          "text": [
            "INFO:pyngrok.process.ngrok:t=2024-09-07T04:25:18+0000 lvl=info msg=\"join connections\" obj=join id=22c260e82fc8 l=127.0.0.1:8237 r=[2405:201:e00a:b034:fd95:738:4276:bc2f]:54729\n"
          ]
        },
        {
          "output_type": "stream",
          "name": "stdout",
          "text": [
            "\u001b[1;35mt=2024-09-07T04:25:18+0000 lvl=info msg=\"join connections\" obj=join id=22c260e82fc8 l=127.0.0.1:8237 r=[2405:201:e00a:b034:fd95:738:4276:bc2f]:54729\u001b[0m\n"
          ]
        },
        {
          "output_type": "stream",
          "name": "stderr",
          "text": [
            "INFO:pyngrok.process.ngrok:t=2024-09-07T04:25:18+0000 lvl=info msg=\"join connections\" obj=join id=575076ca48e4 l=127.0.0.1:8237 r=[2405:201:e00a:b034:fd95:738:4276:bc2f]:54729\n"
          ]
        },
        {
          "output_type": "stream",
          "name": "stdout",
          "text": [
            "\u001b[1;35mt=2024-09-07T04:25:18+0000 lvl=info msg=\"join connections\" obj=join id=575076ca48e4 l=127.0.0.1:8237 r=[2405:201:e00a:b034:fd95:738:4276:bc2f]:54729\u001b[0m\n"
          ]
        },
        {
          "output_type": "stream",
          "name": "stderr",
          "text": [
            "INFO:pyngrok.process.ngrok:t=2024-09-07T04:25:18+0000 lvl=info msg=\"join connections\" obj=join id=b6e9f519df1e l=127.0.0.1:8237 r=[2405:201:e00a:b034:fd95:738:4276:bc2f]:54729\n"
          ]
        },
        {
          "output_type": "stream",
          "name": "stdout",
          "text": [
            "\u001b[1;35mt=2024-09-07T04:25:18+0000 lvl=info msg=\"join connections\" obj=join id=b6e9f519df1e l=127.0.0.1:8237 r=[2405:201:e00a:b034:fd95:738:4276:bc2f]:54729\u001b[0m\n"
          ]
        },
        {
          "output_type": "stream",
          "name": "stderr",
          "text": [
            "INFO:pyngrok.process.ngrok:t=2024-09-07T04:25:18+0000 lvl=info msg=\"join connections\" obj=join id=11e67c3db353 l=127.0.0.1:8237 r=[2405:201:e00a:b034:fd95:738:4276:bc2f]:54729\n"
          ]
        },
        {
          "output_type": "stream",
          "name": "stdout",
          "text": [
            "\u001b[1;35mt=2024-09-07T04:25:18+0000 lvl=info msg=\"join connections\" obj=join id=11e67c3db353 l=127.0.0.1:8237 r=[2405:201:e00a:b034:fd95:738:4276:bc2f]:54729\u001b[0m\n"
          ]
        },
        {
          "output_type": "stream",
          "name": "stderr",
          "text": [
            "INFO:pyngrok.process.ngrok:t=2024-09-07T04:25:18+0000 lvl=info msg=\"join connections\" obj=join id=882d877bb742 l=127.0.0.1:8237 r=[2405:201:e00a:b034:fd95:738:4276:bc2f]:54729\n"
          ]
        },
        {
          "output_type": "stream",
          "name": "stdout",
          "text": [
            "\u001b[32mINFO\u001b[0m:     2405:201:e00a:b034:fd95:738:4276:bc2f:0 - \"\u001b[1mGET /assets/inter-vietnamese-400-normal-DIOGfGLL.woff HTTP/1.1\u001b[0m\" \u001b[32m200 OK\u001b[0m\n",
            "\u001b[1;35mt=2024-09-07T04:25:18+0000 lvl=info msg=\"join connections\" obj=join id=882d877bb742 l=127.0.0.1:8237 r=[2405:201:e00a:b034:fd95:738:4276:bc2f]:54729\u001b[0m\n"
          ]
        },
        {
          "output_type": "stream",
          "name": "stderr",
          "text": [
            "INFO:pyngrok.process.ngrok:t=2024-09-07T04:25:18+0000 lvl=info msg=\"join connections\" obj=join id=be88e85ef50f l=127.0.0.1:8237 r=[2405:201:e00a:b034:fd95:738:4276:bc2f]:54729\n"
          ]
        },
        {
          "output_type": "stream",
          "name": "stdout",
          "text": [
            "\u001b[1;35mt=2024-09-07T04:25:18+0000 lvl=info msg=\"join connections\" obj=join id=be88e85ef50f l=127.0.0.1:8237 r=[2405:201:e00a:b034:fd95:738:4276:bc2f]:54729\u001b[0m\n"
          ]
        },
        {
          "output_type": "stream",
          "name": "stderr",
          "text": [
            "INFO:pyngrok.process.ngrok:t=2024-09-07T04:25:18+0000 lvl=info msg=\"join connections\" obj=join id=93bda3332538 l=127.0.0.1:8237 r=[2405:201:e00a:b034:fd95:738:4276:bc2f]:54729\n"
          ]
        },
        {
          "output_type": "stream",
          "name": "stdout",
          "text": [
            "\u001b[1;35mt=2024-09-07T04:25:18+0000 lvl=info msg=\"join connections\" obj=join id=93bda3332538 l=127.0.0.1:8237 r=[2405:201:e00a:b034:fd95:738:4276:bc2f]:54729\u001b[0m\n"
          ]
        },
        {
          "output_type": "stream",
          "name": "stderr",
          "text": [
            "INFO:pyngrok.process.ngrok:t=2024-09-07T04:25:18+0000 lvl=info msg=\"join connections\" obj=join id=2d8a6b4ffaa6 l=127.0.0.1:8237 r=[2405:201:e00a:b034:fd95:738:4276:bc2f]:54729\n"
          ]
        },
        {
          "output_type": "stream",
          "name": "stdout",
          "text": [
            "\u001b[1;35mt=2024-09-07T04:25:18+0000 lvl=info msg=\"join connections\" obj=join id=2d8a6b4ffaa6 l=127.0.0.1:8237 r=[2405:201:e00a:b034:fd95:738:4276:bc2f]:54729\u001b[0m\n"
          ]
        },
        {
          "output_type": "stream",
          "name": "stderr",
          "text": [
            "INFO:pyngrok.process.ngrok:t=2024-09-07T04:25:18+0000 lvl=info msg=\"join connections\" obj=join id=585801886572 l=127.0.0.1:8237 r=[2405:201:e00a:b034:fd95:738:4276:bc2f]:54729\n"
          ]
        },
        {
          "output_type": "stream",
          "name": "stdout",
          "text": [
            "\u001b[1;35mt=2024-09-07T04:25:18+0000 lvl=info msg=\"join connections\" obj=join id=585801886572 l=127.0.0.1:8237 r=[2405:201:e00a:b034:fd95:738:4276:bc2f]:54729\u001b[0m\n"
          ]
        },
        {
          "output_type": "stream",
          "name": "stderr",
          "text": [
            "INFO:pyngrok.process.ngrok:t=2024-09-07T04:25:18+0000 lvl=info msg=\"join connections\" obj=join id=f38cc9447bad l=127.0.0.1:8237 r=[2405:201:e00a:b034:fd95:738:4276:bc2f]:54729\n"
          ]
        },
        {
          "output_type": "stream",
          "name": "stdout",
          "text": [
            "\u001b[1;35mt=2024-09-07T04:25:18+0000 lvl=info msg=\"join connections\" obj=join id=f38cc9447bad l=127.0.0.1:8237 r=[2405:201:e00a:b034:fd95:738:4276:bc2f]:54729\u001b[0m\n"
          ]
        },
        {
          "output_type": "stream",
          "name": "stderr",
          "text": [
            "INFO:pyngrok.process.ngrok:t=2024-09-07T04:25:18+0000 lvl=info msg=\"join connections\" obj=join id=adb3c907b438 l=127.0.0.1:8237 r=[2405:201:e00a:b034:fd95:738:4276:bc2f]:54729\n"
          ]
        },
        {
          "output_type": "stream",
          "name": "stdout",
          "text": [
            "\u001b[1;35mt=2024-09-07T04:25:18+0000 lvl=info msg=\"join connections\" obj=join id=adb3c907b438 l=127.0.0.1:8237 r=[2405:201:e00a:b034:fd95:738:4276:bc2f]:54729\u001b[0m\n"
          ]
        },
        {
          "output_type": "stream",
          "name": "stderr",
          "text": [
            "INFO:pyngrok.process.ngrok:t=2024-09-07T04:25:18+0000 lvl=info msg=\"join connections\" obj=join id=4bb2b73e37c2 l=127.0.0.1:8237 r=[2405:201:e00a:b034:fd95:738:4276:bc2f]:54729\n"
          ]
        },
        {
          "output_type": "stream",
          "name": "stdout",
          "text": [
            "\u001b[1;35mt=2024-09-07T04:25:18+0000 lvl=info msg=\"join connections\" obj=join id=4bb2b73e37c2 l=127.0.0.1:8237 r=[2405:201:e00a:b034:fd95:738:4276:bc2f]:54729\u001b[0m\n"
          ]
        },
        {
          "output_type": "stream",
          "name": "stderr",
          "text": [
            "INFO:pyngrok.process.ngrok:t=2024-09-07T04:25:18+0000 lvl=info msg=\"join connections\" obj=join id=0322cac7649d l=127.0.0.1:8237 r=[2405:201:e00a:b034:fd95:738:4276:bc2f]:54729\n"
          ]
        },
        {
          "output_type": "stream",
          "name": "stdout",
          "text": [
            "\u001b[1;35mt=2024-09-07T04:25:18+0000 lvl=info msg=\"join connections\" obj=join id=0322cac7649d l=127.0.0.1:8237 r=[2405:201:e00a:b034:fd95:738:4276:bc2f]:54729\u001b[0m\n"
          ]
        },
        {
          "output_type": "stream",
          "name": "stderr",
          "text": [
            "INFO:pyngrok.process.ngrok:t=2024-09-07T04:25:18+0000 lvl=info msg=\"join connections\" obj=join id=d6d308d1e28a l=127.0.0.1:8237 r=[2405:201:e00a:b034:fd95:738:4276:bc2f]:54729\n"
          ]
        },
        {
          "output_type": "stream",
          "name": "stdout",
          "text": [
            "\u001b[1;35mt=2024-09-07T04:25:18+0000 lvl=info msg=\"join connections\" obj=join id=d6d308d1e28a l=127.0.0.1:8237 r=[2405:201:e00a:b034:fd95:738:4276:bc2f]:54729\u001b[0m\n"
          ]
        },
        {
          "output_type": "stream",
          "name": "stderr",
          "text": [
            "INFO:pyngrok.process.ngrok:t=2024-09-07T04:25:18+0000 lvl=info msg=\"join connections\" obj=join id=196ae183a199 l=127.0.0.1:8237 r=[2405:201:e00a:b034:fd95:738:4276:bc2f]:54729\n"
          ]
        },
        {
          "output_type": "stream",
          "name": "stdout",
          "text": [
            "\u001b[1;35mt=2024-09-07T04:25:18+0000 lvl=info msg=\"join connections\" obj=join id=196ae183a199 l=127.0.0.1:8237 r=[2405:201:e00a:b034:fd95:738:4276:bc2f]:54729\u001b[0m\n"
          ]
        },
        {
          "output_type": "stream",
          "name": "stderr",
          "text": [
            "INFO:pyngrok.process.ngrok:t=2024-09-07T04:25:18+0000 lvl=info msg=\"join connections\" obj=join id=202d64af99d9 l=127.0.0.1:8237 r=[2405:201:e00a:b034:fd95:738:4276:bc2f]:54729\n"
          ]
        },
        {
          "output_type": "stream",
          "name": "stdout",
          "text": [
            "\u001b[1;35mt=2024-09-07T04:25:18+0000 lvl=info msg=\"join connections\" obj=join id=202d64af99d9 l=127.0.0.1:8237 r=[2405:201:e00a:b034:fd95:738:4276:bc2f]:54729\u001b[0m\n"
          ]
        },
        {
          "output_type": "stream",
          "name": "stderr",
          "text": [
            "INFO:pyngrok.process.ngrok:t=2024-09-07T04:25:18+0000 lvl=info msg=\"join connections\" obj=join id=522c8552d839 l=127.0.0.1:8237 r=[2405:201:e00a:b034:fd95:738:4276:bc2f]:54729\n"
          ]
        },
        {
          "output_type": "stream",
          "name": "stdout",
          "text": [
            "\u001b[1;35mt=2024-09-07T04:25:18+0000 lvl=info msg=\"join connections\" obj=join id=522c8552d839 l=127.0.0.1:8237 r=[2405:201:e00a:b034:fd95:738:4276:bc2f]:54729\u001b[0m\n"
          ]
        },
        {
          "output_type": "stream",
          "name": "stderr",
          "text": [
            "INFO:pyngrok.process.ngrok:t=2024-09-07T04:25:18+0000 lvl=info msg=\"join connections\" obj=join id=84c4e84a644e l=127.0.0.1:8237 r=[2405:201:e00a:b034:fd95:738:4276:bc2f]:54729\n"
          ]
        },
        {
          "output_type": "stream",
          "name": "stdout",
          "text": [
            "\u001b[1;35mt=2024-09-07T04:25:18+0000 lvl=info msg=\"join connections\" obj=join id=84c4e84a644e l=127.0.0.1:8237 r=[2405:201:e00a:b034:fd95:738:4276:bc2f]:54729\u001b[0m\n"
          ]
        },
        {
          "output_type": "stream",
          "name": "stderr",
          "text": [
            "INFO:pyngrok.process.ngrok:t=2024-09-07T04:25:18+0000 lvl=info msg=\"join connections\" obj=join id=c40c736aa5c3 l=127.0.0.1:8237 r=[2405:201:e00a:b034:fd95:738:4276:bc2f]:54729\n"
          ]
        },
        {
          "output_type": "stream",
          "name": "stdout",
          "text": [
            "\u001b[1;35mt=2024-09-07T04:25:18+0000 lvl=info msg=\"join connections\" obj=join id=c40c736aa5c3 l=127.0.0.1:8237 r=[2405:201:e00a:b034:fd95:738:4276:bc2f]:54729\u001b[0m\n",
            "\u001b[32mINFO\u001b[0m:     2405:201:e00a:b034:fd95:738:4276:bc2f:0 - \"\u001b[1mGET /assets/inter-latin-600-normal-B2Ssfs8e.woff2 HTTP/1.1\u001b[0m\" \u001b[32m200 OK\u001b[0m\n",
            "\u001b[32mINFO\u001b[0m:     2405:201:e00a:b034:fd95:738:4276:bc2f:0 - \"\u001b[1mGET /assets/kubernetes-BjbR6D-1.js HTTP/1.1\u001b[0m\" \u001b[32m200 OK\u001b[0m\n",
            "\u001b[32mINFO\u001b[0m:     2405:201:e00a:b034:fd95:738:4276:bc2f:0 - \"\u001b[1mGET /assets/url-DNHuFfYx.js HTTP/1.1\u001b[0m\" \u001b[32m200 OK\u001b[0m\n",
            "\u001b[32mINFO\u001b[0m:     2405:201:e00a:b034:fd95:738:4276:bc2f:0 - \"\u001b[1mGET /assets/InlineAvatar-C2ZECnGP.js HTTP/1.1\u001b[0m\" \u001b[32m200 OK\u001b[0m\n",
            "\u001b[32mINFO\u001b[0m:     2405:201:e00a:b034:fd95:738:4276:bc2f:0 - \"\u001b[1mGET /assets/inter-latin-ext-500-normal-SuUkSNTU.woff HTTP/1.1\u001b[0m\" \u001b[32m200 OK\u001b[0m\n",
            "\u001b[32mINFO\u001b[0m:     2405:201:e00a:b034:fd95:738:4276:bc2f:0 - \"\u001b[1mGET /assets/inter-latin-600-normal-Dbvh0wvx.woff HTTP/1.1\u001b[0m\" \u001b[32m200 OK\u001b[0m\n",
            "\u001b[32mINFO\u001b[0m:     2405:201:e00a:b034:fd95:738:4276:bc2f:0 - \"\u001b[1mGET /assets/inter-greek-ext-500-normal-Dtavx3qw.woff HTTP/1.1\u001b[0m\" \u001b[32m200 OK\u001b[0m\n",
            "\u001b[32mINFO\u001b[0m:     2405:201:e00a:b034:fd95:738:4276:bc2f:0 - \"\u001b[1mGET /assets/tour-cover-BYfeen6M.webp HTTP/1.1\u001b[0m\" \u001b[32m200 OK\u001b[0m\n",
            "\u001b[32mINFO\u001b[0m:     2405:201:e00a:b034:fd95:738:4276:bc2f:0 - \"\u001b[1mGET /assets/help-CwN931fX.js HTTP/1.1\u001b[0m\" \u001b[32m200 OK\u001b[0m\n",
            "\u001b[32mINFO\u001b[0m:     2405:201:e00a:b034:fd95:738:4276:bc2f:0 - \"\u001b[1mGET /assets/inter-cyrillic-ext-500-normal-Xebo2OyJ.woff HTTP/1.1\u001b[0m\" \u001b[32m200 OK\u001b[0m\n",
            "\u001b[32mINFO\u001b[0m:     2405:201:e00a:b034:fd95:738:4276:bc2f:0 - \"\u001b[1mGET /assets/inter-cyrillic-500-normal-DskEQOpE.woff HTTP/1.1\u001b[0m\" \u001b[32m200 OK\u001b[0m\n",
            "\u001b[32mINFO\u001b[0m:     2405:201:e00a:b034:fd95:738:4276:bc2f:0 - \"\u001b[1mGET /assets/inter-latin-500-normal-D4I8BKCx.woff HTTP/1.1\u001b[0m\" \u001b[32m200 OK\u001b[0m\n",
            "\u001b[32mINFO\u001b[0m:     2405:201:e00a:b034:fd95:738:4276:bc2f:0 - \"\u001b[1mGET /assets/inter-cyrillic-600-normal-iz1--dBq.woff HTTP/1.1\u001b[0m\" \u001b[32m200 OK\u001b[0m\n",
            "\u001b[32mINFO\u001b[0m:     2405:201:e00a:b034:fd95:738:4276:bc2f:0 - \"\u001b[1mGET /assets/rocket-SESCGQXm.js HTTP/1.1\u001b[0m\" \u001b[32m200 OK\u001b[0m\n",
            "\u001b[32mINFO\u001b[0m:     2405:201:e00a:b034:fd95:738:4276:bc2f:0 - \"\u001b[1mGET /assets/zod-uFd1wBcd.js HTTP/1.1\u001b[0m\" \u001b[32m200 OK\u001b[0m\n",
            "\u001b[32mINFO\u001b[0m:     2405:201:e00a:b034:fd95:738:4276:bc2f:0 - \"\u001b[1mGET /assets/page-D7bwpJvV.js HTTP/1.1\u001b[0m\" \u001b[32m200 OK\u001b[0m\n",
            "\u001b[32mINFO\u001b[0m:     2405:201:e00a:b034:fd95:738:4276:bc2f:0 - \"\u001b[1mGET /assets/connectors-video-C9qY4syJ.svg HTTP/1.1\u001b[0m\" \u001b[32m200 OK\u001b[0m\n",
            "\u001b[32mINFO\u001b[0m:     2405:201:e00a:b034:fd95:738:4276:bc2f:0 - \"\u001b[1mGET /assets/inter-vietnamese-500-normal-0i6yoQMg.woff HTTP/1.1\u001b[0m\" \u001b[32m200 OK\u001b[0m\n",
            "\u001b[32mINFO\u001b[0m:     2405:201:e00a:b034:fd95:738:4276:bc2f:0 - \"\u001b[1mGET /assets/inter-cyrillic-ext-400-normal-CzG7Kr3z.woff HTTP/1.1\u001b[0m\" \u001b[32m200 OK\u001b[0m\n",
            "\u001b[32mINFO\u001b[0m:     2405:201:e00a:b034:fd95:738:4276:bc2f:0 - \"\u001b[1mGET /assets/inter-latin-ext-600-normal-ao35dkSb.woff2 HTTP/1.1\u001b[0m\" \u001b[32m200 OK\u001b[0m\n",
            "\u001b[32mINFO\u001b[0m:     2405:201:e00a:b034:fd95:738:4276:bc2f:0 - \"\u001b[1mGET /assets/inter-greek-500-normal-BjpBGs91.woff HTTP/1.1\u001b[0m\" \u001b[32m200 OK\u001b[0m\n",
            "\u001b[32mINFO\u001b[0m:     2405:201:e00a:b034:fd95:738:4276:bc2f:0 - \"\u001b[1mGET /assets/page-BN7n3Dsp.js HTTP/1.1\u001b[0m\" \u001b[32m200 OK\u001b[0m\n",
            "\u001b[32mINFO\u001b[0m:     2405:201:e00a:b034:fd95:738:4276:bc2f:0 - \"\u001b[1mGET /assets/page-0eecLRNs.js HTTP/1.1\u001b[0m\" \u001b[32m200 OK\u001b[0m\n",
            "\u001b[32mINFO\u001b[0m:     2405:201:e00a:b034:fd95:738:4276:bc2f:0 - \"\u001b[1mGET /assets/persist-CnMMI8ls.js HTTP/1.1\u001b[0m\" \u001b[32m200 OK\u001b[0m\n",
            "\u001b[32mINFO\u001b[0m:     2405:201:e00a:b034:fd95:738:4276:bc2f:0 - \"\u001b[1mGET /assets/package-DYKZ5jKW.js HTTP/1.1\u001b[0m\" \u001b[32m200 OK\u001b[0m\n",
            "\u001b[32mINFO\u001b[0m:     2405:201:e00a:b034:fd95:738:4276:bc2f:0 - \"\u001b[1mGET /assets/page-D5I0-LSs.js HTTP/1.1\u001b[0m\" \u001b[32m200 OK\u001b[0m\n",
            "\u001b[32mINFO\u001b[0m:     2405:201:e00a:b034:fd95:738:4276:bc2f:0 - \"\u001b[1mGET /assets/ExecutionStatus-BSQgMpzk.js HTTP/1.1\u001b[0m\" \u001b[32m200 OK\u001b[0m\n",
            "\u001b[32mINFO\u001b[0m:     2405:201:e00a:b034:fd95:738:4276:bc2f:0 - \"\u001b[1mGET /assets/form-schemas-DD4OppNK.js HTTP/1.1\u001b[0m\" \u001b[32m200 OK\u001b[0m\n",
            "\u001b[32mINFO\u001b[0m:     2405:201:e00a:b034:fd95:738:4276:bc2f:0 - \"\u001b[1mGET /assets/acp-DOsXjFc7.webp HTTP/1.1\u001b[0m\" \u001b[32m200 OK\u001b[0m\n",
            "\u001b[32mINFO\u001b[0m:     2405:201:e00a:b034:fd95:738:4276:bc2f:0 - \"\u001b[1mGET /assets/index-5GJ5ysEZ.js HTTP/1.1\u001b[0m\" \u001b[32m200 OK\u001b[0m\n",
            "\u001b[32mINFO\u001b[0m:     2405:201:e00a:b034:fd95:738:4276:bc2f:0 - \"\u001b[1mGET /assets/stack-detail-query-fuuoot1D.js HTTP/1.1\u001b[0m\" \u001b[32m200 OK\u001b[0m\n",
            "\u001b[32mINFO\u001b[0m:     2405:201:e00a:b034:fd95:738:4276:bc2f:0 - \"\u001b[1mGET /assets/inter-latin-400-normal-Cdi8t5Mu.woff HTTP/1.1\u001b[0m\" \u001b[32m200 OK\u001b[0m\n",
            "\u001b[32mINFO\u001b[0m:     2405:201:e00a:b034:fd95:738:4276:bc2f:0 - \"\u001b[1mGET /assets/inter-greek-ext-600-normal-BmtRFZgT.woff HTTP/1.1\u001b[0m\" \u001b[32m200 OK\u001b[0m\n",
            "\u001b[32mINFO\u001b[0m:     2405:201:e00a:b034:fd95:738:4276:bc2f:0 - \"\u001b[1mGET /assets/inter-latin-ext-600-normal-Dg0Bk0Yr.woff HTTP/1.1\u001b[0m\" \u001b[32m200 OK\u001b[0m\n",
            "\u001b[32mINFO\u001b[0m:     2405:201:e00a:b034:fd95:738:4276:bc2f:0 - \"\u001b[1mGET /assets/alex-DcCuDHPg.webp HTTP/1.1\u001b[0m\" \u001b[32m200 OK\u001b[0m\n",
            "\u001b[32mINFO\u001b[0m:     2405:201:e00a:b034:fd95:738:4276:bc2f:0 - \"\u001b[1mGET /assets/cloud-squares-DeRLMopf.svg HTTP/1.1\u001b[0m\" \u001b[32m200 OK\u001b[0m\n",
            "\u001b[32mINFO\u001b[0m:     2405:201:e00a:b034:fd95:738:4276:bc2f:0 - \"\u001b[1mGET /assets/repos-video-D8kpu60k.svg HTTP/1.1\u001b[0m\" \u001b[32m200 OK\u001b[0m\n",
            "\u001b[32mINFO\u001b[0m:     2405:201:e00a:b034:fd95:738:4276:bc2f:0 - \"\u001b[1mGET /assets/mcp-Cb1aMeoq.webp HTTP/1.1\u001b[0m\" \u001b[32m200 OK\u001b[0m\n",
            "\u001b[32mINFO\u001b[0m:     2405:201:e00a:b034:fd95:738:4276:bc2f:0 - \"\u001b[1mGET /assets/page-BxPQz4Q8.js HTTP/1.1\u001b[0m\" \u001b[32m200 OK\u001b[0m\n",
            "\u001b[32mINFO\u001b[0m:     2405:201:e00a:b034:fd95:738:4276:bc2f:0 - \"\u001b[1mGET /assets/page-DsKroTLH.js HTTP/1.1\u001b[0m\" \u001b[32m200 OK\u001b[0m\n",
            "\u001b[32mINFO\u001b[0m:     2405:201:e00a:b034:fd95:738:4276:bc2f:0 - \"\u001b[1mGET /assets/UpdatePasswordSchemas-BKyR7Eqi.js HTTP/1.1\u001b[0m\" \u001b[32m200 OK\u001b[0m\n",
            "\u001b[32mINFO\u001b[0m:     2405:201:e00a:b034:fd95:738:4276:bc2f:0 - \"\u001b[1mGET /assets/Infobox-BB7dfbrO.js HTTP/1.1\u001b[0m\" \u001b[32m200 OK\u001b[0m\n",
            "\u001b[32mINFO\u001b[0m:     2405:201:e00a:b034:fd95:738:4276:bc2f:0 - \"\u001b[1mGET /assets/NumberBox-CrN0_kqI.js HTTP/1.1\u001b[0m\" \u001b[32m200 OK\u001b[0m\n",
            "\u001b[32mINFO\u001b[0m:     2405:201:e00a:b034:fd95:738:4276:bc2f:0 - \"\u001b[1mGET /assets/DisplayDate-DkCy54Bp.js HTTP/1.1\u001b[0m\" \u001b[32m200 OK\u001b[0m\n",
            "\u001b[32mINFO\u001b[0m:     2405:201:e00a:b034:fd95:738:4276:bc2f:0 - \"\u001b[1mGET /assets/check-circle-DOoS4yhF.js HTTP/1.1\u001b[0m\" \u001b[32m200 OK\u001b[0m\n",
            "\u001b[32mINFO\u001b[0m:     2405:201:e00a:b034:fd95:738:4276:bc2f:0 - \"\u001b[1mGET /assets/stefan-B08Ftbba.webp HTTP/1.1\u001b[0m\" \u001b[32m200 OK\u001b[0m\n",
            "\u001b[32mINFO\u001b[0m:     2405:201:e00a:b034:fd95:738:4276:bc2f:0 - \"\u001b[1mGET /assets/sharedSchema-Dbpe2oAO.js HTTP/1.1\u001b[0m\" \u001b[32m200 OK\u001b[0m\n",
            "\u001b[32mINFO\u001b[0m:     2405:201:e00a:b034:fd95:738:4276:bc2f:0 - \"\u001b[1mGET /assets/inter-cyrillic-400-normal-JrS_4yms.woff HTTP/1.1\u001b[0m\" \u001b[32m200 OK\u001b[0m\n",
            "\u001b[32mINFO\u001b[0m:     2405:201:e00a:b034:fd95:738:4276:bc2f:0 - \"\u001b[1mGET /assets/cloud-only-DrdxC8NV.js HTTP/1.1\u001b[0m\" \u001b[32m200 OK\u001b[0m\n",
            "\u001b[32mINFO\u001b[0m:     2405:201:e00a:b034:fd95:738:4276:bc2f:0 - \"\u001b[1mGET /assets/flyte-Cj-xy_8I.svg HTTP/1.1\u001b[0m\" \u001b[32m200 OK\u001b[0m\n",
            "\u001b[32mINFO\u001b[0m:     2405:201:e00a:b034:fd95:738:4276:bc2f:0 - \"\u001b[1mGET /assets/login-mutation-TIWnZoJ7.js HTTP/1.1\u001b[0m\" \u001b[32m200 OK\u001b[0m\n",
            "\u001b[32mINFO\u001b[0m:     2405:201:e00a:b034:fd95:738:4276:bc2f:0 - \"\u001b[1mGET /assets/inter-greek-400-normal-DvIPHDQ7.woff HTTP/1.1\u001b[0m\" \u001b[32m200 OK\u001b[0m\n",
            "\u001b[32mINFO\u001b[0m:     2405:201:e00a:b034:fd95:738:4276:bc2f:0 - \"\u001b[1mGET /assets/Tick-DEACFydX.js HTTP/1.1\u001b[0m\" \u001b[32m200 OK\u001b[0m\n",
            "\u001b[32mINFO\u001b[0m:     2405:201:e00a:b034:fd95:738:4276:bc2f:0 - \"\u001b[1mGET /assets/baris-C0ZrZ10g.webp HTTP/1.1\u001b[0m\" \u001b[32m200 OK\u001b[0m\n",
            "\u001b[32mINFO\u001b[0m:     2405:201:e00a:b034:fd95:738:4276:bc2f:0 - \"\u001b[1mGET /assets/page-Dvr6lpJm.js HTTP/1.1\u001b[0m\" \u001b[32m200 OK\u001b[0m\n",
            "\u001b[32mINFO\u001b[0m:     2405:201:e00a:b034:fd95:738:4276:bc2f:0 - \"\u001b[1mGET /assets/page-CrjI9mjm.js HTTP/1.1\u001b[0m\" \u001b[32m200 OK\u001b[0m\n",
            "\u001b[32mINFO\u001b[0m:     2405:201:e00a:b034:fd95:738:4276:bc2f:0 - \"\u001b[1mGET /assets/index-CnqMjIZT.js HTTP/1.1\u001b[0m\" \u001b[32m200 OK\u001b[0m\n",
            "\u001b[32mINFO\u001b[0m:     2405:201:e00a:b034:fd95:738:4276:bc2f:0 - \"\u001b[1mGET /assets/CodeSnippet-Bbx6fIb6.css HTTP/1.1\u001b[0m\" \u001b[32m200 OK\u001b[0m\n",
            "\u001b[32mINFO\u001b[0m:     2405:201:e00a:b034:fd95:738:4276:bc2f:0 - \"\u001b[1mGET /assets/inter-vietnamese-600-normal-BQ_dbMbg.woff HTTP/1.1\u001b[0m\" \u001b[32m200 OK\u001b[0m\n",
            "\u001b[32mINFO\u001b[0m:     2405:201:e00a:b034:fd95:738:4276:bc2f:0 - \"\u001b[1mGET /assets/page-DsQOL6ZL.js HTTP/1.1\u001b[0m\" \u001b[32m200 OK\u001b[0m\n",
            "\u001b[32mINFO\u001b[0m:     2405:201:e00a:b034:fd95:738:4276:bc2f:0 - \"\u001b[1mGET /assets/CopyButton-BAYaQlWF.js HTTP/1.1\u001b[0m\" \u001b[32m200 OK\u001b[0m\n",
            "\u001b[32mINFO\u001b[0m:     2405:201:e00a:b034:fd95:738:4276:bc2f:0 - \"\u001b[1mGET /assets/terminal-DRIPb4oF.js HTTP/1.1\u001b[0m\" \u001b[32m200 OK\u001b[0m\n",
            "\u001b[32mINFO\u001b[0m:     2405:201:e00a:b034:fd95:738:4276:bc2f:0 - \"\u001b[1mGET /assets/adam-e-y0WnB_.webp HTTP/1.1\u001b[0m\" \u001b[32m200 OK\u001b[0m\n",
            "\u001b[32mINFO\u001b[0m:     2405:201:e00a:b034:fd95:738:4276:bc2f:0 - \"\u001b[1mGET /assets/PasswordChecker-DE71J_3F.js HTTP/1.1\u001b[0m\" \u001b[32m200 OK\u001b[0m\n",
            "\u001b[32mINFO\u001b[0m:     2405:201:e00a:b034:fd95:738:4276:bc2f:0 - \"\u001b[1mGET /assets/chevron-right-double-c9H46Kl8.js HTTP/1.1\u001b[0m\" \u001b[32m200 OK\u001b[0m\n",
            "\u001b[32mINFO\u001b[0m:     2405:201:e00a:b034:fd95:738:4276:bc2f:0 - \"\u001b[1mGET /assets/logs-GiDJXbLS.js HTTP/1.1\u001b[0m\" \u001b[32m200 OK\u001b[0m\n",
            "\u001b[32mINFO\u001b[0m:     2405:201:e00a:b034:fd95:738:4276:bc2f:0 - \"\u001b[1mGET /assets/components-Br2ezRib.js HTTP/1.1\u001b[0m\" \u001b[32m200 OK\u001b[0m\n",
            "\u001b[32mINFO\u001b[0m:     2405:201:e00a:b034:fd95:738:4276:bc2f:0 - \"\u001b[1mGET /assets/SearchField-BPNazO4G.js HTTP/1.1\u001b[0m\" \u001b[32m200 OK\u001b[0m\n",
            "\u001b[32mINFO\u001b[0m:     2405:201:e00a:b034:fd95:738:4276:bc2f:0 - \"\u001b[1mGET /assets/page-CUOBhxxU.js HTTP/1.1\u001b[0m\" \u001b[32m200 OK\u001b[0m\n",
            "\u001b[32mINFO\u001b[0m:     2405:201:e00a:b034:fd95:738:4276:bc2f:0 - \"\u001b[1mGET /assets/layout-Dru15_XR.js HTTP/1.1\u001b[0m\" \u001b[32m200 OK\u001b[0m\n",
            "\u001b[32mINFO\u001b[0m:     2405:201:e00a:b034:fd95:738:4276:bc2f:0 - \"\u001b[1mGET /assets/page-OmVfClGH.js HTTP/1.1\u001b[0m\" \u001b[32m200 OK\u001b[0m\n",
            "\u001b[32mINFO\u001b[0m:     2405:201:e00a:b034:fd95:738:4276:bc2f:0 - \"\u001b[1mGET /assets/Error-QMgFNDTs.js HTTP/1.1\u001b[0m\" \u001b[32m200 OK\u001b[0m\n",
            "\u001b[32mINFO\u001b[0m:     2405:201:e00a:b034:fd95:738:4276:bc2f:0 - \"\u001b[1mGET /assets/index.esm-BE1uqCX5.js HTTP/1.1\u001b[0m\" \u001b[32m200 OK\u001b[0m\n",
            "\u001b[32mINFO\u001b[0m:     2405:201:e00a:b034:fd95:738:4276:bc2f:0 - \"\u001b[1mGET /assets/AlertDialogDropdownItem-CO2rOw5M.js HTTP/1.1\u001b[0m\" \u001b[32m200 OK\u001b[0m\n",
            "\u001b[32mINFO\u001b[0m:     2405:201:e00a:b034:fd95:738:4276:bc2f:0 - \"\u001b[1mGET /assets/copy-CaGlDsUy.js HTTP/1.1\u001b[0m\" \u001b[32m200 OK\u001b[0m\n",
            "\u001b[32mINFO\u001b[0m:     2405:201:e00a:b034:fd95:738:4276:bc2f:0 - \"\u001b[1mGET /assets/plus-Bc8eLSDM.js HTTP/1.1\u001b[0m\" \u001b[32m200 OK\u001b[0m\n",
            "\u001b[32mINFO\u001b[0m:     2405:201:e00a:b034:fd95:738:4276:bc2f:0 - \"\u001b[1mGET /assets/WizardFooter-sUnbJ70r.js HTTP/1.1\u001b[0m\" \u001b[32m200 OK\u001b[0m\n",
            "\u001b[32mINFO\u001b[0m:     2405:201:e00a:b034:fd95:738:4276:bc2f:0 - \"\u001b[1mGET /assets/metaflow-weOkWNyT.svg HTTP/1.1\u001b[0m\" \u001b[32m200 OK\u001b[0m\n",
            "\u001b[32mINFO\u001b[0m:     2405:201:e00a:b034:fd95:738:4276:bc2f:0 - \"\u001b[1mGET /assets/persist-g4uRK-v-.js HTTP/1.1\u001b[0m\" \u001b[32m200 OK\u001b[0m\n",
            "\u001b[32mINFO\u001b[0m:     2405:201:e00a:b034:fd95:738:4276:bc2f:0 - \"\u001b[1mGET /favicon.ico HTTP/1.1\u001b[0m\" \u001b[32m200 OK\u001b[0m\n",
            "\u001b[32mINFO\u001b[0m:     2405:201:e00a:b034:fd95:738:4276:bc2f:0 - \"\u001b[1mGET /assets/page-wQ8_y5mW.js HTTP/1.1\u001b[0m\" \u001b[32m200 OK\u001b[0m\n",
            "\u001b[32mINFO\u001b[0m:     2405:201:e00a:b034:fd95:738:4276:bc2f:0 - \"\u001b[1mGET /assets/inter-greek-600-normal-BLZsI-P3.woff HTTP/1.1\u001b[0m\" \u001b[32m200 OK\u001b[0m\n",
            "\u001b[32mINFO\u001b[0m:     2405:201:e00a:b034:fd95:738:4276:bc2f:0 - \"\u001b[1mGET /api/v1/info HTTP/1.1\u001b[0m\" \u001b[32m200 OK\u001b[0m\n",
            "\u001b[32mINFO\u001b[0m:     2405:201:e00a:b034:fd95:738:4276:bc2f:0 - \"\u001b[1mGET /assets/settings_preview-0JLrRgHP.webp HTTP/1.1\u001b[0m\" \u001b[32m200 OK\u001b[0m\n",
            "\u001b[32mINFO\u001b[0m:     2405:201:e00a:b034:fd95:738:4276:bc2f:0 - \"\u001b[1mGET /assets/page-t1VWIy6W.js HTTP/1.1\u001b[0m\" \u001b[32m200 OK\u001b[0m\n",
            "\u001b[32mINFO\u001b[0m:     2405:201:e00a:b034:fd95:738:4276:bc2f:0 - \"\u001b[1mGET /assets/page-wPiJkPp6.js HTTP/1.1\u001b[0m\" \u001b[32m200 OK\u001b[0m\n",
            "\u001b[32mINFO\u001b[0m:     2405:201:e00a:b034:fd95:738:4276:bc2f:0 - \"\u001b[1mGET /assets/trash-DUWZWzse.js HTTP/1.1\u001b[0m\" \u001b[32m200 OK\u001b[0m\n",
            "\u001b[32mINFO\u001b[0m:     2405:201:e00a:b034:fd95:738:4276:bc2f:0 - \"\u001b[1mGET /assets/page-XReFLy-1.js HTTP/1.1\u001b[0m\" \u001b[32m200 OK\u001b[0m\n",
            "\u001b[32mINFO\u001b[0m:     2405:201:e00a:b034:fd95:738:4276:bc2f:0 - \"\u001b[1mGET /assets/page-DyM2M_wT.js HTTP/1.1\u001b[0m\" \u001b[32m200 OK\u001b[0m\n",
            "\u001b[32mINFO\u001b[0m:     2405:201:e00a:b034:fd95:738:4276:bc2f:0 - \"\u001b[1mGET /assets/page-DQBv3t8t.js HTTP/1.1\u001b[0m\" \u001b[32m200 OK\u001b[0m\n",
            "\u001b[32mINFO\u001b[0m:     2405:201:e00a:b034:fd95:738:4276:bc2f:0 - \"\u001b[1mGET /assets/EditSecretDialog-CmY9fiM0.js HTTP/1.1\u001b[0m\" \u001b[32m200 OK\u001b[0m\n",
            "\u001b[32mINFO\u001b[0m:     2405:201:e00a:b034:fd95:738:4276:bc2f:0 - \"\u001b[1mGET /assets/create-stack-u6VyIXZP.js HTTP/1.1\u001b[0m\" \u001b[32m200 OK\u001b[0m\n",
            "\u001b[32mINFO\u001b[0m:     2405:201:e00a:b034:fd95:738:4276:bc2f:0 - \"\u001b[1mGET /assets/page-HXZtxyWq.js HTTP/1.1\u001b[0m\" \u001b[32m200 OK\u001b[0m\n",
            "\u001b[32mINFO\u001b[0m:     2405:201:e00a:b034:fd95:738:4276:bc2f:0 - \"\u001b[1mGET /assets/Helpbox-C96LeSX9.js HTTP/1.1\u001b[0m\" \u001b[32m200 OK\u001b[0m\n",
            "\u001b[32mINFO\u001b[0m:     2405:201:e00a:b034:fd95:738:4276:bc2f:0 - \"\u001b[1mGET /assets/page-Bg5X2mLz.js HTTP/1.1\u001b[0m\" \u001b[32m200 OK\u001b[0m\n",
            "\u001b[32mINFO\u001b[0m:     2405:201:e00a:b034:fd95:738:4276:bc2f:0 - \"\u001b[1mGET /assets/dots-horizontal-C6K59vUm.js HTTP/1.1\u001b[0m\" \u001b[32m200 OK\u001b[0m\n",
            "\u001b[32mINFO\u001b[0m:     2405:201:e00a:b034:fd95:738:4276:bc2f:0 - \"\u001b[1mGET /assets/refresh-CtPKdk2G.js HTTP/1.1\u001b[0m\" \u001b[32m200 OK\u001b[0m\n",
            "\u001b[32mINFO\u001b[0m:     2405:201:e00a:b034:fd95:738:4276:bc2f:0 - \"\u001b[1mGET /assets/CollapsibleCard-C9BzoY6q.js HTTP/1.1\u001b[0m\" \u001b[32m200 OK\u001b[0m\n",
            "\u001b[32mINFO\u001b[0m:     2405:201:e00a:b034:fd95:738:4276:bc2f:0 - \"\u001b[1mGET /assets/ProviderRadio-DkPE6alG.js HTTP/1.1\u001b[0m\" \u001b[32m200 OK\u001b[0m\n",
            "\u001b[32mINFO\u001b[0m:     2405:201:e00a:b034:fd95:738:4276:bc2f:0 - \"\u001b[1mGET /assets/CodeSnippet-i_WEOWw9.js HTTP/1.1\u001b[0m\" \u001b[32m200 OK\u001b[0m\n",
            "\u001b[32mINFO\u001b[0m:     2405:201:e00a:b034:fd95:738:4276:bc2f:0 - \"\u001b[1mGET /assets/chevron-down-Cwb-W_B_.js HTTP/1.1\u001b[0m\" \u001b[32m200 OK\u001b[0m\n",
            "\u001b[32mINFO\u001b[0m:     2405:201:e00a:b034:fd95:738:4276:bc2f:0 - \"\u001b[1mGET /assets/page-Dy0EbJQD.js HTTP/1.1\u001b[0m\" \u001b[32m200 OK\u001b[0m\n",
            "\u001b[32mINFO\u001b[0m:     2405:201:e00a:b034:fd95:738:4276:bc2f:0 - \"\u001b[1mGET /assets/MarkdownVisualization-DS05sfBm.js HTTP/1.1\u001b[0m\" \u001b[32m200 OK\u001b[0m\n",
            "\u001b[32mINFO\u001b[0m:     2405:201:e00a:b034:fd95:738:4276:bc2f:0 - \"\u001b[1mGET /assets/code-browser-BJYErIjr.js HTTP/1.1\u001b[0m\" \u001b[32m200 OK\u001b[0m\n",
            "\u001b[32mINFO\u001b[0m:     2405:201:e00a:b034:fd95:738:4276:bc2f:0 - \"\u001b[1mGET /assets/page-DCnizFO_.js HTTP/1.1\u001b[0m\" \u001b[32m200 OK\u001b[0m\n",
            "\u001b[32mINFO\u001b[0m:     2405:201:e00a:b034:fd95:738:4276:bc2f:0 - \"\u001b[1mGET /assets/Partials-RDhJ8Ci7.js HTTP/1.1\u001b[0m\" \u001b[32m200 OK\u001b[0m\n"
          ]
        },
        {
          "output_type": "stream",
          "name": "stderr",
          "text": [
            "INFO:pyngrok.process.ngrok:t=2024-09-07T04:25:21+0000 lvl=info msg=\"join connections\" obj=join id=82347f744375 l=127.0.0.1:8237 r=[2405:201:e00a:b034:fd95:738:4276:bc2f]:54729\n"
          ]
        },
        {
          "output_type": "stream",
          "name": "stdout",
          "text": [
            "\u001b[32mINFO\u001b[0m:     2405:201:e00a:b034:fd95:738:4276:bc2f:0 - \"\u001b[1mGET /assets/UsageReason-DbgUeRkI.js HTTP/1.1\u001b[0m\" \u001b[32m200 OK\u001b[0m\n",
            "\u001b[32mINFO\u001b[0m:     2405:201:e00a:b034:fd95:738:4276:bc2f:0 - \"\u001b[1mGET /assets/not-found-C_bW_Kkr.js HTTP/1.1\u001b[0m\" \u001b[32m200 OK\u001b[0m\n",
            "\u001b[32mINFO\u001b[0m:     2405:201:e00a:b034:fd95:738:4276:bc2f:0 - \"\u001b[1mGET /assets/inter-cyrillic-ext-600-normal-KAwcVx6H.woff HTTP/1.1\u001b[0m\" \u001b[32m200 OK\u001b[0m\n",
            "\u001b[32mINFO\u001b[0m:     2405:201:e00a:b034:fd95:738:4276:bc2f:0 - \"\u001b[1mGET /assets/Lock-CmIn0szs.js HTTP/1.1\u001b[0m\" \u001b[32m200 OK\u001b[0m\n",
            "\u001b[32mINFO\u001b[0m:     2405:201:e00a:b034:fd95:738:4276:bc2f:0 - \"\u001b[1mGET /assets/Commands-m9HMl-eh.js HTTP/1.1\u001b[0m\" \u001b[32m200 OK\u001b[0m\n",
            "\u001b[32mINFO\u001b[0m:     2405:201:e00a:b034:fd95:738:4276:bc2f:0 - \"\u001b[1mGET /assets/page-BPFkP_IB.js HTTP/1.1\u001b[0m\" \u001b[32m200 OK\u001b[0m\n",
            "\u001b[32mINFO\u001b[0m:     2405:201:e00a:b034:fd95:738:4276:bc2f:0 - \"\u001b[1mGET /assets/page-DYNlbmas.js HTTP/1.1\u001b[0m\" \u001b[32m200 OK\u001b[0m\n",
            "\u001b[32mINFO\u001b[0m:     2405:201:e00a:b034:fd95:738:4276:bc2f:0 - \"\u001b[1mGET /assets/page-BhqIV8mu.js HTTP/1.1\u001b[0m\" \u001b[32m200 OK\u001b[0m\n",
            "\u001b[32mINFO\u001b[0m:     2405:201:e00a:b034:fd95:738:4276:bc2f:0 - \"\u001b[1mGET /assets/update-server-settings-mutation-YhoZKgC9.js HTTP/1.1\u001b[0m\" \u001b[32m200 OK\u001b[0m\n",
            "\u001b[32mINFO\u001b[0m:     2405:201:e00a:b034:fd95:738:4276:bc2f:0 - \"\u001b[1mGET /assets/docker-BFAFXr2_.js HTTP/1.1\u001b[0m\" \u001b[32m200 OK\u001b[0m\n",
            "\u001b[32mINFO\u001b[0m:     2405:201:e00a:b034:fd95:738:4276:bc2f:0 - \"\u001b[1mGET /assets/SetPassword-kA6Bi_Kp.js HTTP/1.1\u001b[0m\" \u001b[32m200 OK\u001b[0m\n",
            "\u001b[32mINFO\u001b[0m:     2405:201:e00a:b034:fd95:738:4276:bc2f:0 - \"\u001b[1mGET /assets/page-D4J2Oy-I.js HTTP/1.1\u001b[0m\" \u001b[32m200 OK\u001b[0m\n",
            "\u001b[32mINFO\u001b[0m:     2405:201:e00a:b034:fd95:738:4276:bc2f:0 - \"\u001b[1mGET /assets/EmptyState-Cs3DEmso.js HTTP/1.1\u001b[0m\" \u001b[32m200 OK\u001b[0m\n",
            "\u001b[32mINFO\u001b[0m:     2405:201:e00a:b034:fd95:738:4276:bc2f:0 - \"\u001b[1mGET /assets/404-nKxQ4QDX.js HTTP/1.1\u001b[0m\" \u001b[32m200 OK\u001b[0m\n",
            "\u001b[32mINFO\u001b[0m:     2405:201:e00a:b034:fd95:738:4276:bc2f:0 - \"\u001b[1mGET /assets/CsvVizualization-Bbzv7VEL.js HTTP/1.1\u001b[0m\" \u001b[32m200 OK\u001b[0m\n",
            "\u001b[32mINFO\u001b[0m:     2405:201:e00a:b034:fd95:738:4276:bc2f:0 - \"\u001b[1mGET /assets/hamza-NKKOZz1I.webp HTTP/1.1\u001b[0m\" \u001b[32m200 OK\u001b[0m\n",
            "\u001b[32mINFO\u001b[0m:     2405:201:e00a:b034:fd95:738:4276:bc2f:0 - \"\u001b[1mGET /assets/DialogItem-B576Svvy.js HTTP/1.1\u001b[0m\" \u001b[32m200 OK\u001b[0m\n",
            "\u001b[32mINFO\u001b[0m:     2405:201:e00a:b034:fd95:738:4276:bc2f:0 - \"\u001b[1mGET /assets/page-CDG9uQT9.js HTTP/1.1\u001b[0m\" \u001b[32m200 OK\u001b[0m\n",
            "\u001b[32mINFO\u001b[0m:     2405:201:e00a:b034:fd95:738:4276:bc2f:0 - \"\u001b[1mGET /assets/ProviderIcon-wA4qBOv1.js HTTP/1.1\u001b[0m\" \u001b[32m200 OK\u001b[0m\n",
            "\u001b[32mINFO\u001b[0m:     2405:201:e00a:b034:fd95:738:4276:bc2f:0 - \"\u001b[1mGET /assets/gcp-Dj6ntk0L.js HTTP/1.1\u001b[0m\" \u001b[32m200 OK\u001b[0m\n",
            "\u001b[32mINFO\u001b[0m:     2405:201:e00a:b034:fd95:738:4276:bc2f:0 - \"\u001b[1mGET /assets/page-BSkbj719.js HTTP/1.1\u001b[0m\" \u001b[32m200 OK\u001b[0m\n",
            "\u001b[32mINFO\u001b[0m:     2405:201:e00a:b034:fd95:738:4276:bc2f:0 - \"\u001b[1mGET /assets/page-XReFLy-1.js HTTP/1.1\u001b[0m\" \u001b[32m200 OK\u001b[0m\n",
            "\u001b[32mINFO\u001b[0m:     2405:201:e00a:b034:fd95:738:4276:bc2f:0 - \"\u001b[1mGET /favicon.ico HTTP/1.1\u001b[0m\" \u001b[32m200 OK\u001b[0m\n",
            "\u001b[32mINFO\u001b[0m:     2405:201:e00a:b034:fd95:738:4276:bc2f:0 - \"\u001b[1mGET /api/v1/info HTTP/1.1\u001b[0m\" \u001b[32m200 OK\u001b[0m\n",
            "\u001b[1;35mt=2024-09-07T04:25:21+0000 lvl=info msg=\"join connections\" obj=join id=82347f744375 l=127.0.0.1:8237 r=[2405:201:e00a:b034:fd95:738:4276:bc2f]:54729\u001b[0m\n"
          ]
        },
        {
          "output_type": "stream",
          "name": "stderr",
          "text": [
            "INFO:pyngrok.process.ngrok:t=2024-09-07T04:25:22+0000 lvl=info msg=\"join connections\" obj=join id=18eda9ec096e l=127.0.0.1:8237 r=[2405:201:e00a:b034:fd95:738:4276:bc2f]:54729\n"
          ]
        },
        {
          "output_type": "stream",
          "name": "stdout",
          "text": [
            "\u001b[32mINFO\u001b[0m:     2405:201:e00a:b034:fd95:738:4276:bc2f:0 - \"\u001b[1mGET /assets/zod-uFd1wBcd.js HTTP/1.1\u001b[0m\" \u001b[32m200 OK\u001b[0m\n",
            "\u001b[32mINFO\u001b[0m:     2405:201:e00a:b034:fd95:738:4276:bc2f:0 - \"\u001b[1mGET /assets/login-mutation-TIWnZoJ7.js HTTP/1.1\u001b[0m\" \u001b[32m200 OK\u001b[0m\n",
            "\u001b[32mINFO\u001b[0m:     2405:201:e00a:b034:fd95:738:4276:bc2f:0 - \"\u001b[1mGET /assets/index.esm-BE1uqCX5.js HTTP/1.1\u001b[0m\" \u001b[32m200 OK\u001b[0m\n",
            "\u001b[1;35mt=2024-09-07T04:25:22+0000 lvl=info msg=\"join connections\" obj=join id=18eda9ec096e l=127.0.0.1:8237 r=[2405:201:e00a:b034:fd95:738:4276:bc2f]:54729\u001b[0m\n",
            "\u001b[32mINFO\u001b[0m:     2405:201:e00a:b034:fd95:738:4276:bc2f:0 - \"\u001b[1mGET /assets/inter-latin-600-normal-B2Ssfs8e.woff2 HTTP/1.1\u001b[0m\" \u001b[32m200 OK\u001b[0m\n",
            "\u001b[32mINFO\u001b[0m:     2405:201:e00a:b034:fd95:738:4276:bc2f:0 - \"\u001b[1mGET /assets/inter-latin-500-normal-kWhwEdDH.woff2 HTTP/1.1\u001b[0m\" \u001b[32m200 OK\u001b[0m\n",
            "\u001b[32mINFO\u001b[0m:     2405:201:e00a:b034:fd95:738:4276:bc2f:0 - \"\u001b[1mPOST /api/v1/login HTTP/1.1\u001b[0m\" \u001b[32m200 OK\u001b[0m\n"
          ]
        },
        {
          "output_type": "stream",
          "name": "stderr",
          "text": [
            "INFO:pyngrok.process.ngrok:t=2024-09-07T04:25:27+0000 lvl=info msg=\"join connections\" obj=join id=34b981f33d9e l=127.0.0.1:8237 r=[2405:201:e00a:b034:fd95:738:4276:bc2f]:54729\n"
          ]
        },
        {
          "output_type": "stream",
          "name": "stdout",
          "text": [
            "\u001b[1;35mGot token from cookie\u001b[0m\n",
            "\u001b[32mINFO\u001b[0m:     2405:201:e00a:b034:fd95:738:4276:bc2f:0 - \"\u001b[1mGET /api/v1/settings HTTP/1.1\u001b[0m\" \u001b[32m200 OK\u001b[0m\n",
            "\u001b[1;35mt=2024-09-07T04:25:27+0000 lvl=info msg=\"join connections\" obj=join id=34b981f33d9e l=127.0.0.1:8237 r=[2405:201:e00a:b034:fd95:738:4276:bc2f]:54729\u001b[0m\n",
            "\u001b[1;35mGot token from cookie\u001b[0m\n",
            "\u001b[32mINFO\u001b[0m:     2405:201:e00a:b034:fd95:738:4276:bc2f:0 - \"\u001b[1mGET /api/v1/current-user HTTP/1.1\u001b[0m\" \u001b[32m200 OK\u001b[0m\n"
          ]
        },
        {
          "output_type": "stream",
          "name": "stderr",
          "text": [
            "INFO:pyngrok.process.ngrok:t=2024-09-07T04:25:27+0000 lvl=info msg=\"join connections\" obj=join id=82cdf4b55cf9 l=127.0.0.1:8237 r=[2405:201:e00a:b034:fd95:738:4276:bc2f]:54729\n"
          ]
        },
        {
          "output_type": "stream",
          "name": "stdout",
          "text": [
            "\u001b[1;35mGot token from cookie\u001b[0m\n",
            "\u001b[32mINFO\u001b[0m:     2405:201:e00a:b034:fd95:738:4276:bc2f:0 - \"\u001b[1mGET /assets/page-BSkbj719.js HTTP/1.1\u001b[0m\" \u001b[32m200 OK\u001b[0m\n",
            "\u001b[32mINFO\u001b[0m:     2405:201:e00a:b034:fd95:738:4276:bc2f:0 - \"\u001b[1mGET /api/v1/current-user HTTP/1.1\u001b[0m\" \u001b[32m200 OK\u001b[0m\n",
            "\u001b[1;35mt=2024-09-07T04:25:27+0000 lvl=info msg=\"join connections\" obj=join id=82cdf4b55cf9 l=127.0.0.1:8237 r=[2405:201:e00a:b034:fd95:738:4276:bc2f]:54729\u001b[0m\n",
            "\u001b[32mINFO\u001b[0m:     2405:201:e00a:b034:fd95:738:4276:bc2f:0 - \"\u001b[1mGET /assets/inter-latin-400-normal-BT1H-PT_.woff2 HTTP/1.1\u001b[0m\" \u001b[32m200 OK\u001b[0m\n",
            "\u001b[32mINFO\u001b[0m:     2405:201:e00a:b034:fd95:738:4276:bc2f:0 - \"\u001b[1mGET /assets/check-circle-DOoS4yhF.js HTTP/1.1\u001b[0m\" \u001b[32m200 OK\u001b[0m\n",
            "\u001b[32mINFO\u001b[0m:     2405:201:e00a:b034:fd95:738:4276:bc2f:0 - \"\u001b[1mGET /assets/form-schemas-DD4OppNK.js HTTP/1.1\u001b[0m\" \u001b[32m200 OK\u001b[0m\n"
          ]
        },
        {
          "output_type": "stream",
          "name": "stderr",
          "text": [
            "INFO:pyngrok.process.ngrok:t=2024-09-07T04:25:28+0000 lvl=info msg=\"join connections\" obj=join id=6810f7cf66b3 l=127.0.0.1:8237 r=[2405:201:e00a:b034:fd95:738:4276:bc2f]:54729\n"
          ]
        },
        {
          "output_type": "stream",
          "name": "stdout",
          "text": [
            "\u001b[1;35mt=2024-09-07T04:25:28+0000 lvl=info msg=\"join connections\" obj=join id=6810f7cf66b3 l=127.0.0.1:8237 r=[2405:201:e00a:b034:fd95:738:4276:bc2f]:54729\u001b[0m\n"
          ]
        },
        {
          "output_type": "stream",
          "name": "stderr",
          "text": [
            "INFO:pyngrok.process.ngrok:t=2024-09-07T04:25:28+0000 lvl=info msg=\"join connections\" obj=join id=2f1e25aed911 l=127.0.0.1:8237 r=[2405:201:e00a:b034:fd95:738:4276:bc2f]:54729\n"
          ]
        },
        {
          "output_type": "stream",
          "name": "stdout",
          "text": [
            "\u001b[1;35mt=2024-09-07T04:25:28+0000 lvl=info msg=\"join connections\" obj=join id=2f1e25aed911 l=127.0.0.1:8237 r=[2405:201:e00a:b034:fd95:738:4276:bc2f]:54729\u001b[0m\n"
          ]
        },
        {
          "output_type": "stream",
          "name": "stderr",
          "text": [
            "INFO:pyngrok.process.ngrok:t=2024-09-07T04:25:28+0000 lvl=info msg=\"join connections\" obj=join id=0b774e14896a l=127.0.0.1:8237 r=[2405:201:e00a:b034:fd95:738:4276:bc2f]:54729\n"
          ]
        },
        {
          "output_type": "stream",
          "name": "stdout",
          "text": [
            "\u001b[1;35mt=2024-09-07T04:25:28+0000 lvl=info msg=\"join connections\" obj=join id=0b774e14896a l=127.0.0.1:8237 r=[2405:201:e00a:b034:fd95:738:4276:bc2f]:54729\u001b[0m\n"
          ]
        },
        {
          "output_type": "stream",
          "name": "stderr",
          "text": [
            "INFO:pyngrok.process.ngrok:t=2024-09-07T04:25:28+0000 lvl=info msg=\"join connections\" obj=join id=c862dd077f8f l=127.0.0.1:8237 r=[2405:201:e00a:b034:fd95:738:4276:bc2f]:54729\n"
          ]
        },
        {
          "output_type": "stream",
          "name": "stdout",
          "text": [
            "\u001b[32mINFO\u001b[0m:     2405:201:e00a:b034:fd95:738:4276:bc2f:0 - \"\u001b[1mGET /assets/UsageReason-DbgUeRkI.js HTTP/1.1\u001b[0m\" \u001b[32m200 OK\u001b[0m\n",
            "\u001b[1;35mt=2024-09-07T04:25:28+0000 lvl=info msg=\"join connections\" obj=join id=c862dd077f8f l=127.0.0.1:8237 r=[2405:201:e00a:b034:fd95:738:4276:bc2f]:54729\u001b[0m\n"
          ]
        },
        {
          "output_type": "stream",
          "name": "stderr",
          "text": [
            "INFO:pyngrok.process.ngrok:t=2024-09-07T04:25:28+0000 lvl=info msg=\"join connections\" obj=join id=00811fefaa1b l=127.0.0.1:8237 r=[2405:201:e00a:b034:fd95:738:4276:bc2f]:54729\n"
          ]
        },
        {
          "output_type": "stream",
          "name": "stdout",
          "text": [
            "\u001b[1;35mt=2024-09-07T04:25:28+0000 lvl=info msg=\"join connections\" obj=join id=00811fefaa1b l=127.0.0.1:8237 r=[2405:201:e00a:b034:fd95:738:4276:bc2f]:54729\u001b[0m\n"
          ]
        },
        {
          "output_type": "stream",
          "name": "stderr",
          "text": [
            "INFO:pyngrok.process.ngrok:t=2024-09-07T04:25:28+0000 lvl=info msg=\"join connections\" obj=join id=edbc59dc1f18 l=127.0.0.1:8237 r=[2405:201:e00a:b034:fd95:738:4276:bc2f]:54729\n"
          ]
        },
        {
          "output_type": "stream",
          "name": "stdout",
          "text": [
            "\u001b[1;35mt=2024-09-07T04:25:28+0000 lvl=info msg=\"join connections\" obj=join id=edbc59dc1f18 l=127.0.0.1:8237 r=[2405:201:e00a:b034:fd95:738:4276:bc2f]:54729\u001b[0m\n",
            "\u001b[32mINFO\u001b[0m:     2405:201:e00a:b034:fd95:738:4276:bc2f:0 - \"\u001b[1mGET /assets/kubernetes-BjbR6D-1.js HTTP/1.1\u001b[0m\" \u001b[32m200 OK\u001b[0m\n",
            "\u001b[32mINFO\u001b[0m:     2405:201:e00a:b034:fd95:738:4276:bc2f:0 - \"\u001b[1mGET /assets/rocket-SESCGQXm.js HTTP/1.1\u001b[0m\" \u001b[32m200 OK\u001b[0m\n",
            "\u001b[32mINFO\u001b[0m:     2405:201:e00a:b034:fd95:738:4276:bc2f:0 - \"\u001b[1mGET /assets/UpdatePasswordSchemas-BKyR7Eqi.js HTTP/1.1\u001b[0m\" \u001b[32m200 OK\u001b[0m\n",
            "\u001b[32mINFO\u001b[0m:     2405:201:e00a:b034:fd95:738:4276:bc2f:0 - \"\u001b[1mGET /assets/gcp-Dj6ntk0L.js HTTP/1.1\u001b[0m\" \u001b[32m200 OK\u001b[0m\n",
            "\u001b[32mINFO\u001b[0m:     2405:201:e00a:b034:fd95:738:4276:bc2f:0 - \"\u001b[1mGET /assets/url-DNHuFfYx.js HTTP/1.1\u001b[0m\" \u001b[32m200 OK\u001b[0m\n",
            "\u001b[1;35mGot token from cookie\u001b[0m\n",
            "\u001b[32mINFO\u001b[0m:     2405:201:e00a:b034:fd95:738:4276:bc2f:0 - \"\u001b[1mGET /api/v1/current-user HTTP/1.1\u001b[0m\" \u001b[32m200 OK\u001b[0m\n"
          ]
        },
        {
          "output_type": "stream",
          "name": "stderr",
          "text": [
            "INFO:pyngrok.process.ngrok:t=2024-09-07T04:25:49+0000 lvl=info msg=\"join connections\" obj=join id=e188bfc877d4 l=127.0.0.1:8237 r=[2405:201:e00a:b034:fd95:738:4276:bc2f]:54729\n"
          ]
        },
        {
          "output_type": "stream",
          "name": "stdout",
          "text": [
            "\u001b[1;35mt=2024-09-07T04:25:49+0000 lvl=info msg=\"join connections\" obj=join id=e188bfc877d4 l=127.0.0.1:8237 r=[2405:201:e00a:b034:fd95:738:4276:bc2f]:54729\u001b[0m\n",
            "\u001b[1;35mGot token from cookie\u001b[0m\n",
            "\u001b[32mINFO\u001b[0m:     2405:201:e00a:b034:fd95:738:4276:bc2f:0 - \"\u001b[1mPUT /api/v1/current-user HTTP/1.1\u001b[0m\" \u001b[32m200 OK\u001b[0m\n",
            "\u001b[1;35mGot token from cookie\u001b[0m\n",
            "\u001b[32mINFO\u001b[0m:     2405:201:e00a:b034:fd95:738:4276:bc2f:0 - \"\u001b[1mGET /api/v1/current-user HTTP/1.1\u001b[0m\" \u001b[32m200 OK\u001b[0m\n"
          ]
        },
        {
          "output_type": "stream",
          "name": "stderr",
          "text": [
            "INFO:pyngrok.process.ngrok:t=2024-09-07T04:25:51+0000 lvl=info msg=\"join connections\" obj=join id=d027ccec2640 l=127.0.0.1:8237 r=[2405:201:e00a:b034:fd95:738:4276:bc2f]:54729\n"
          ]
        },
        {
          "output_type": "stream",
          "name": "stdout",
          "text": [
            "\u001b[32mINFO\u001b[0m:     2405:201:e00a:b034:fd95:738:4276:bc2f:0 - \"\u001b[1mGET /assets/adam-e-y0WnB_.webp HTTP/1.1\u001b[0m\" \u001b[32m200 OK\u001b[0m\n",
            "\u001b[1;35mt=2024-09-07T04:25:51+0000 lvl=info msg=\"join connections\" obj=join id=d027ccec2640 l=127.0.0.1:8237 r=[2405:201:e00a:b034:fd95:738:4276:bc2f]:54729\u001b[0m\n"
          ]
        },
        {
          "output_type": "stream",
          "name": "stderr",
          "text": [
            "INFO:pyngrok.process.ngrok:t=2024-09-07T04:25:51+0000 lvl=info msg=\"join connections\" obj=join id=9dcac9e51798 l=127.0.0.1:8237 r=[2405:201:e00a:b034:fd95:738:4276:bc2f]:54729\n"
          ]
        },
        {
          "output_type": "stream",
          "name": "stdout",
          "text": [
            "\u001b[32mINFO\u001b[0m:     2405:201:e00a:b034:fd95:738:4276:bc2f:0 - \"\u001b[1mGET /assets/hamza-NKKOZz1I.webp HTTP/1.1\u001b[0m\" \u001b[32m200 OK\u001b[0m\n",
            "\u001b[1;35mt=2024-09-07T04:25:51+0000 lvl=info msg=\"join connections\" obj=join id=9dcac9e51798 l=127.0.0.1:8237 r=[2405:201:e00a:b034:fd95:738:4276:bc2f]:54729\u001b[0m\n"
          ]
        },
        {
          "output_type": "stream",
          "name": "stderr",
          "text": [
            "INFO:pyngrok.process.ngrok:t=2024-09-07T04:25:51+0000 lvl=info msg=\"join connections\" obj=join id=09e4b57e1399 l=127.0.0.1:8237 r=[2405:201:e00a:b034:fd95:738:4276:bc2f]:54729\n"
          ]
        },
        {
          "output_type": "stream",
          "name": "stdout",
          "text": [
            "\u001b[1;35mt=2024-09-07T04:25:51+0000 lvl=info msg=\"join connections\" obj=join id=09e4b57e1399 l=127.0.0.1:8237 r=[2405:201:e00a:b034:fd95:738:4276:bc2f]:54729\u001b[0m\n"
          ]
        },
        {
          "output_type": "stream",
          "name": "stderr",
          "text": [
            "INFO:pyngrok.process.ngrok:t=2024-09-07T04:25:51+0000 lvl=info msg=\"join connections\" obj=join id=41365ffe21b3 l=127.0.0.1:8237 r=[2405:201:e00a:b034:fd95:738:4276:bc2f]:54729\n"
          ]
        },
        {
          "output_type": "stream",
          "name": "stdout",
          "text": [
            "\u001b[1;35mt=2024-09-07T04:25:51+0000 lvl=info msg=\"join connections\" obj=join id=41365ffe21b3 l=127.0.0.1:8237 r=[2405:201:e00a:b034:fd95:738:4276:bc2f]:54729\u001b[0m\n",
            "\u001b[32mINFO\u001b[0m:     2405:201:e00a:b034:fd95:738:4276:bc2f:0 - \"\u001b[1mGET /assets/stefan-B08Ftbba.webp HTTP/1.1\u001b[0m\" \u001b[32m200 OK\u001b[0m\n",
            "\u001b[32mINFO\u001b[0m:     2405:201:e00a:b034:fd95:738:4276:bc2f:0 - \"\u001b[1mGET /assets/alex-DcCuDHPg.webp HTTP/1.1\u001b[0m\" \u001b[32m200 OK\u001b[0m\n",
            "\u001b[32mINFO\u001b[0m:     2405:201:e00a:b034:fd95:738:4276:bc2f:0 - \"\u001b[1mGET /assets/baris-C0ZrZ10g.webp HTTP/1.1\u001b[0m\" \u001b[32m200 OK\u001b[0m\n",
            "\u001b[32mINFO\u001b[0m:     2405:201:e00a:b034:fd95:738:4276:bc2f:0 - \"\u001b[1mGET /assets/adam-e-y0WnB_.webp HTTP/1.1\u001b[0m\" \u001b[32m200 OK\u001b[0m\n",
            "\u001b[32mINFO\u001b[0m:     2405:201:e00a:b034:fd95:738:4276:bc2f:0 - \"\u001b[1mGET /assets/hamza-NKKOZz1I.webp HTTP/1.1\u001b[0m\" \u001b[32m200 OK\u001b[0m\n",
            "\u001b[32mINFO\u001b[0m:     2405:201:e00a:b034:fd95:738:4276:bc2f:0 - \"\u001b[1mGET /assets/stefan-B08Ftbba.webp HTTP/1.1\u001b[0m\" \u001b[32m200 OK\u001b[0m\n",
            "\u001b[32mINFO\u001b[0m:     2405:201:e00a:b034:fd95:738:4276:bc2f:0 - \"\u001b[1mGET /assets/baris-C0ZrZ10g.webp HTTP/1.1\u001b[0m\" \u001b[32m200 OK\u001b[0m\n",
            "\u001b[32mINFO\u001b[0m:     2405:201:e00a:b034:fd95:738:4276:bc2f:0 - \"\u001b[1mGET /assets/alex-DcCuDHPg.webp HTTP/1.1\u001b[0m\" \u001b[32m200 OK\u001b[0m\n"
          ]
        },
        {
          "output_type": "stream",
          "name": "stderr",
          "text": [
            "INFO:pyngrok.process.ngrok:t=2024-09-07T04:25:58+0000 lvl=info msg=\"join connections\" obj=join id=7ebece385f09 l=127.0.0.1:8237 r=[2405:201:e00a:b034:fd95:738:4276:bc2f]:54729\n"
          ]
        },
        {
          "output_type": "stream",
          "name": "stdout",
          "text": [
            "\u001b[1;35mt=2024-09-07T04:25:58+0000 lvl=info msg=\"join connections\" obj=join id=7ebece385f09 l=127.0.0.1:8237 r=[2405:201:e00a:b034:fd95:738:4276:bc2f]:54729\u001b[0m\n"
          ]
        },
        {
          "output_type": "stream",
          "name": "stderr",
          "text": [
            "INFO:pyngrok.process.ngrok:t=2024-09-07T04:25:58+0000 lvl=info msg=\"join connections\" obj=join id=37d45685d412 l=127.0.0.1:8237 r=[2405:201:e00a:b034:fd95:738:4276:bc2f]:54729\n"
          ]
        },
        {
          "output_type": "stream",
          "name": "stdout",
          "text": [
            "\u001b[1;35mt=2024-09-07T04:25:58+0000 lvl=info msg=\"join connections\" obj=join id=37d45685d412 l=127.0.0.1:8237 r=[2405:201:e00a:b034:fd95:738:4276:bc2f]:54729\u001b[0m\n",
            "\u001b[32mINFO\u001b[0m:     2405:201:e00a:b034:fd95:738:4276:bc2f:0 - \"\u001b[1mGET /assets/CodeSnippet-Bbx6fIb6.css HTTP/1.1\u001b[0m\" \u001b[32m200 OK\u001b[0m\n",
            "\u001b[32mINFO\u001b[0m:     2405:201:e00a:b034:fd95:738:4276:bc2f:0 - \"\u001b[1mGET /assets/tour-cover-BYfeen6M.webp HTTP/1.1\u001b[0m\" \u001b[32m200 OK\u001b[0m\n",
            "\u001b[32mINFO\u001b[0m:     2405:201:e00a:b034:fd95:738:4276:bc2f:0 - \"\u001b[1mGET /assets/page-OmVfClGH.js HTTP/1.1\u001b[0m\" \u001b[32m200 OK\u001b[0m\n"
          ]
        },
        {
          "output_type": "stream",
          "name": "stderr",
          "text": [
            "INFO:pyngrok.process.ngrok:t=2024-09-07T04:25:59+0000 lvl=info msg=\"join connections\" obj=join id=6456dc3d60fe l=127.0.0.1:8237 r=[2405:201:e00a:b034:fd95:738:4276:bc2f]:54729\n"
          ]
        },
        {
          "output_type": "stream",
          "name": "stdout",
          "text": [
            "\u001b[32mINFO\u001b[0m:     2405:201:e00a:b034:fd95:738:4276:bc2f:0 - \"\u001b[1mGET /assets/terminal-DRIPb4oF.js HTTP/1.1\u001b[0m\" \u001b[32m200 OK\u001b[0m\n",
            "\u001b[32mINFO\u001b[0m:     2405:201:e00a:b034:fd95:738:4276:bc2f:0 - \"\u001b[1mGET /assets/package-DYKZ5jKW.js HTTP/1.1\u001b[0m\" \u001b[32m200 OK\u001b[0m\n",
            "\u001b[1;35mt=2024-09-07T04:25:59+0000 lvl=info msg=\"join connections\" obj=join id=6456dc3d60fe l=127.0.0.1:8237 r=[2405:201:e00a:b034:fd95:738:4276:bc2f]:54729\u001b[0m\n",
            "\u001b[32mINFO\u001b[0m:     2405:201:e00a:b034:fd95:738:4276:bc2f:0 - \"\u001b[1mGET /assets/CodeSnippet-i_WEOWw9.js HTTP/1.1\u001b[0m\" \u001b[32m200 OK\u001b[0m\n"
          ]
        },
        {
          "output_type": "stream",
          "name": "stderr",
          "text": [
            "INFO:pyngrok.process.ngrok:t=2024-09-07T04:25:59+0000 lvl=info msg=\"join connections\" obj=join id=2087f8d23b71 l=127.0.0.1:8237 r=[2405:201:e00a:b034:fd95:738:4276:bc2f]:54729\n"
          ]
        },
        {
          "output_type": "stream",
          "name": "stdout",
          "text": [
            "\u001b[1;35mt=2024-09-07T04:25:59+0000 lvl=info msg=\"join connections\" obj=join id=2087f8d23b71 l=127.0.0.1:8237 r=[2405:201:e00a:b034:fd95:738:4276:bc2f]:54729\u001b[0m\n"
          ]
        },
        {
          "output_type": "stream",
          "name": "stderr",
          "text": [
            "INFO:pyngrok.process.ngrok:t=2024-09-07T04:25:59+0000 lvl=info msg=\"join connections\" obj=join id=c719bfbc9bdd l=127.0.0.1:8237 r=[2405:201:e00a:b034:fd95:738:4276:bc2f]:54729\n"
          ]
        },
        {
          "output_type": "stream",
          "name": "stdout",
          "text": [
            "\u001b[1;35mt=2024-09-07T04:25:59+0000 lvl=info msg=\"join connections\" obj=join id=c719bfbc9bdd l=127.0.0.1:8237 r=[2405:201:e00a:b034:fd95:738:4276:bc2f]:54729\u001b[0m\n"
          ]
        },
        {
          "output_type": "stream",
          "name": "stderr",
          "text": [
            "INFO:pyngrok.process.ngrok:t=2024-09-07T04:25:59+0000 lvl=info msg=\"join connections\" obj=join id=fba3dd671e03 l=127.0.0.1:8237 r=[2405:201:e00a:b034:fd95:738:4276:bc2f]:54729\n"
          ]
        },
        {
          "output_type": "stream",
          "name": "stdout",
          "text": [
            "\u001b[1;35mt=2024-09-07T04:25:59+0000 lvl=info msg=\"join connections\" obj=join id=fba3dd671e03 l=127.0.0.1:8237 r=[2405:201:e00a:b034:fd95:738:4276:bc2f]:54729\u001b[0m\n"
          ]
        },
        {
          "output_type": "stream",
          "name": "stderr",
          "text": [
            "INFO:pyngrok.process.ngrok:t=2024-09-07T04:25:59+0000 lvl=info msg=\"join connections\" obj=join id=45b752b86d1f l=127.0.0.1:8237 r=[2405:201:e00a:b034:fd95:738:4276:bc2f]:54729\n"
          ]
        },
        {
          "output_type": "stream",
          "name": "stdout",
          "text": [
            "\u001b[1;35mt=2024-09-07T04:25:59+0000 lvl=info msg=\"join connections\" obj=join id=45b752b86d1f l=127.0.0.1:8237 r=[2405:201:e00a:b034:fd95:738:4276:bc2f]:54729\u001b[0m\n"
          ]
        },
        {
          "output_type": "stream",
          "name": "stderr",
          "text": [
            "INFO:pyngrok.process.ngrok:t=2024-09-07T04:25:59+0000 lvl=info msg=\"join connections\" obj=join id=9529c4df1e7c l=127.0.0.1:8237 r=[2405:201:e00a:b034:fd95:738:4276:bc2f]:54729\n"
          ]
        },
        {
          "output_type": "stream",
          "name": "stdout",
          "text": [
            "\u001b[1;35mt=2024-09-07T04:25:59+0000 lvl=info msg=\"join connections\" obj=join id=9529c4df1e7c l=127.0.0.1:8237 r=[2405:201:e00a:b034:fd95:738:4276:bc2f]:54729\u001b[0m\n"
          ]
        },
        {
          "output_type": "stream",
          "name": "stderr",
          "text": [
            "INFO:pyngrok.process.ngrok:t=2024-09-07T04:25:59+0000 lvl=info msg=\"join connections\" obj=join id=366acc89fe4d l=127.0.0.1:8237 r=[2405:201:e00a:b034:fd95:738:4276:bc2f]:54729\n"
          ]
        },
        {
          "output_type": "stream",
          "name": "stdout",
          "text": [
            "\u001b[1;35mt=2024-09-07T04:25:59+0000 lvl=info msg=\"join connections\" obj=join id=366acc89fe4d l=127.0.0.1:8237 r=[2405:201:e00a:b034:fd95:738:4276:bc2f]:54729\u001b[0m\n"
          ]
        },
        {
          "output_type": "stream",
          "name": "stderr",
          "text": [
            "INFO:pyngrok.process.ngrok:t=2024-09-07T04:25:59+0000 lvl=info msg=\"join connections\" obj=join id=0f2125cb44c7 l=127.0.0.1:8237 r=[2405:201:e00a:b034:fd95:738:4276:bc2f]:54729\n"
          ]
        },
        {
          "output_type": "stream",
          "name": "stdout",
          "text": [
            "\u001b[1;35mt=2024-09-07T04:25:59+0000 lvl=info msg=\"join connections\" obj=join id=0f2125cb44c7 l=127.0.0.1:8237 r=[2405:201:e00a:b034:fd95:738:4276:bc2f]:54729\u001b[0m\n",
            "\u001b[32mINFO\u001b[0m:     2405:201:e00a:b034:fd95:738:4276:bc2f:0 - \"\u001b[1mGET /assets/chevron-right-double-c9H46Kl8.js HTTP/1.1\u001b[0m\" \u001b[32m200 OK\u001b[0m\n",
            "\u001b[32mINFO\u001b[0m:     2405:201:e00a:b034:fd95:738:4276:bc2f:0 - \"\u001b[1mGET /assets/Tick-DEACFydX.js HTTP/1.1\u001b[0m\" \u001b[32m200 OK\u001b[0m\n",
            "\u001b[32mINFO\u001b[0m:     2405:201:e00a:b034:fd95:738:4276:bc2f:0 - \"\u001b[1mGET /assets/copy-CaGlDsUy.js HTTP/1.1\u001b[0m\" \u001b[32m200 OK\u001b[0m\n",
            "\u001b[32mINFO\u001b[0m:     2405:201:e00a:b034:fd95:738:4276:bc2f:0 - \"\u001b[1mGET /assets/help-CwN931fX.js HTTP/1.1\u001b[0m\" \u001b[32m200 OK\u001b[0m\n",
            "\u001b[32mINFO\u001b[0m:     2405:201:e00a:b034:fd95:738:4276:bc2f:0 - \"\u001b[1mGET /assets/plus-Bc8eLSDM.js HTTP/1.1\u001b[0m\" \u001b[32m200 OK\u001b[0m\n",
            "\u001b[32mINFO\u001b[0m:     2405:201:e00a:b034:fd95:738:4276:bc2f:0 - \"\u001b[1mGET /assets/Helpbox-C96LeSX9.js HTTP/1.1\u001b[0m\" \u001b[32m200 OK\u001b[0m\n",
            "\u001b[32mINFO\u001b[0m:     2405:201:e00a:b034:fd95:738:4276:bc2f:0 - \"\u001b[1mGET /assets/chevron-down-Cwb-W_B_.js HTTP/1.1\u001b[0m\" \u001b[32m200 OK\u001b[0m\n"
          ]
        },
        {
          "output_type": "stream",
          "name": "stderr",
          "text": [
            "INFO:pyngrok.process.ngrok:t=2024-09-07T04:25:59+0000 lvl=info msg=\"join connections\" obj=join id=a27c735e854f l=127.0.0.1:8237 r=[2405:201:e00a:b034:fd95:738:4276:bc2f]:54729\n"
          ]
        },
        {
          "output_type": "stream",
          "name": "stdout",
          "text": [
            "\u001b[32mINFO\u001b[0m:     2405:201:e00a:b034:fd95:738:4276:bc2f:0 - \"\u001b[1mGET /api/v1/info HTTP/1.1\u001b[0m\" \u001b[32m200 OK\u001b[0m\n",
            "\u001b[32mINFO\u001b[0m:     2405:201:e00a:b034:fd95:738:4276:bc2f:0 - \"\u001b[1mGET /assets/tour-cover-BYfeen6M.webp HTTP/1.1\u001b[0m\" \u001b[32m200 OK\u001b[0m\n",
            "\u001b[1;35mt=2024-09-07T04:25:59+0000 lvl=info msg=\"join connections\" obj=join id=a27c735e854f l=127.0.0.1:8237 r=[2405:201:e00a:b034:fd95:738:4276:bc2f]:54729\u001b[0m\n"
          ]
        },
        {
          "output_type": "stream",
          "name": "stderr",
          "text": [
            "INFO:pyngrok.process.ngrok:t=2024-09-07T04:25:59+0000 lvl=info msg=\"join connections\" obj=join id=817e045bd00f l=127.0.0.1:8237 r=[2405:201:e00a:b034:fd95:738:4276:bc2f]:54729\n"
          ]
        },
        {
          "output_type": "stream",
          "name": "stdout",
          "text": [
            "\u001b[1;35mGot token from cookie\u001b[0m\n",
            "\u001b[1;35mt=2024-09-07T04:25:59+0000 lvl=info msg=\"join connections\" obj=join id=817e045bd00f l=127.0.0.1:8237 r=[2405:201:e00a:b034:fd95:738:4276:bc2f]:54729\u001b[0m\n"
          ]
        },
        {
          "output_type": "stream",
          "name": "stderr",
          "text": [
            "INFO:pyngrok.process.ngrok:t=2024-09-07T04:25:59+0000 lvl=info msg=\"join connections\" obj=join id=b3990e47b032 l=127.0.0.1:8237 r=[2405:201:e00a:b034:fd95:738:4276:bc2f]:54729\n"
          ]
        },
        {
          "output_type": "stream",
          "name": "stdout",
          "text": [
            "\u001b[1;35mt=2024-09-07T04:25:59+0000 lvl=info msg=\"join connections\" obj=join id=b3990e47b032 l=127.0.0.1:8237 r=[2405:201:e00a:b034:fd95:738:4276:bc2f]:54729\u001b[0m\n",
            "\u001b[1;35mGot token from cookie\u001b[0m\n",
            "\u001b[1;35mGot token from cookie\u001b[0m\n",
            "\u001b[32mINFO\u001b[0m:     2405:201:e00a:b034:fd95:738:4276:bc2f:0 - \"\u001b[1mGET /api/v1/settings HTTP/1.1\u001b[0m\" \u001b[32m200 OK\u001b[0m\n",
            "\u001b[32mINFO\u001b[0m:     2405:201:e00a:b034:fd95:738:4276:bc2f:0 - \"\u001b[1mGET /api/v1/onboarding_state HTTP/1.1\u001b[0m\" \u001b[32m200 OK\u001b[0m\n",
            "\u001b[32mINFO\u001b[0m:     2405:201:e00a:b034:fd95:738:4276:bc2f:0 - \"\u001b[1mGET /api/v1/current-user HTTP/1.1\u001b[0m\" \u001b[32m200 OK\u001b[0m\n",
            "\u001b[32mINFO\u001b[0m:     2405:201:e00a:b034:fd95:738:4276:bc2f:0 - \"\u001b[1mGET /api/v1/info HTTP/1.1\u001b[0m\" \u001b[32m200 OK\u001b[0m\n",
            "\u001b[1;35mGot token from cookie\u001b[0m\n",
            "\u001b[32mINFO\u001b[0m:     2405:201:e00a:b034:fd95:738:4276:bc2f:0 - \"\u001b[1mPUT /api/v1/current-user HTTP/1.1\u001b[0m\" \u001b[32m200 OK\u001b[0m\n",
            "\u001b[1;35mGot token from cookie\u001b[0m\n",
            "\u001b[32mINFO\u001b[0m:     2405:201:e00a:b034:fd95:738:4276:bc2f:0 - \"\u001b[1mGET /api/v1/current-user HTTP/1.1\u001b[0m\" \u001b[32m200 OK\u001b[0m\n",
            "\u001b[32mINFO\u001b[0m:     2405:201:e00a:b034:fd95:738:4276:bc2f:0 - \"\u001b[1mGET /assets/page-D5I0-LSs.js HTTP/1.1\u001b[0m\" \u001b[32m200 OK\u001b[0m\n"
          ]
        },
        {
          "output_type": "stream",
          "name": "stderr",
          "text": [
            "INFO:pyngrok.process.ngrok:t=2024-09-07T04:26:04+0000 lvl=info msg=\"join connections\" obj=join id=a47c2ac95bfe l=127.0.0.1:8237 r=[2405:201:e00a:b034:fd95:738:4276:bc2f]:54729\n"
          ]
        },
        {
          "output_type": "stream",
          "name": "stdout",
          "text": [
            "\u001b[32mINFO\u001b[0m:     2405:201:e00a:b034:fd95:738:4276:bc2f:0 - \"\u001b[1mGET /assets/SearchField-BPNazO4G.js HTTP/1.1\u001b[0m\" \u001b[32m200 OK\u001b[0m\n",
            "\u001b[32mINFO\u001b[0m:     2405:201:e00a:b034:fd95:738:4276:bc2f:0 - \"\u001b[1mGET /assets/refresh-CtPKdk2G.js HTTP/1.1\u001b[0m\" \u001b[32m200 OK\u001b[0m\n",
            "\u001b[1;35mt=2024-09-07T04:26:04+0000 lvl=info msg=\"join connections\" obj=join id=a47c2ac95bfe l=127.0.0.1:8237 r=[2405:201:e00a:b034:fd95:738:4276:bc2f]:54729\u001b[0m\n"
          ]
        },
        {
          "output_type": "stream",
          "name": "stderr",
          "text": [
            "INFO:pyngrok.process.ngrok:t=2024-09-07T04:26:04+0000 lvl=info msg=\"join connections\" obj=join id=b3db7632960b l=127.0.0.1:8237 r=[2405:201:e00a:b034:fd95:738:4276:bc2f]:54729\n"
          ]
        },
        {
          "output_type": "stream",
          "name": "stdout",
          "text": [
            "\u001b[32mINFO\u001b[0m:     2405:201:e00a:b034:fd95:738:4276:bc2f:0 - \"\u001b[1mGET /assets/index-5GJ5ysEZ.js HTTP/1.1\u001b[0m\" \u001b[32m200 OK\u001b[0m\n",
            "\u001b[1;35mt=2024-09-07T04:26:04+0000 lvl=info msg=\"join connections\" obj=join id=b3db7632960b l=127.0.0.1:8237 r=[2405:201:e00a:b034:fd95:738:4276:bc2f]:54729\u001b[0m\n"
          ]
        },
        {
          "output_type": "stream",
          "name": "stderr",
          "text": [
            "INFO:pyngrok.process.ngrok:t=2024-09-07T04:26:04+0000 lvl=info msg=\"join connections\" obj=join id=679730daa623 l=127.0.0.1:8237 r=[2405:201:e00a:b034:fd95:738:4276:bc2f]:54729\n"
          ]
        },
        {
          "output_type": "stream",
          "name": "stdout",
          "text": [
            "\u001b[1;35mt=2024-09-07T04:26:04+0000 lvl=info msg=\"join connections\" obj=join id=679730daa623 l=127.0.0.1:8237 r=[2405:201:e00a:b034:fd95:738:4276:bc2f]:54729\u001b[0m\n"
          ]
        },
        {
          "output_type": "stream",
          "name": "stderr",
          "text": [
            "INFO:pyngrok.process.ngrok:t=2024-09-07T04:26:04+0000 lvl=info msg=\"join connections\" obj=join id=2c87cacd19dd l=127.0.0.1:8237 r=[2405:201:e00a:b034:fd95:738:4276:bc2f]:54729\n"
          ]
        },
        {
          "output_type": "stream",
          "name": "stdout",
          "text": [
            "\u001b[1;35mt=2024-09-07T04:26:04+0000 lvl=info msg=\"join connections\" obj=join id=2c87cacd19dd l=127.0.0.1:8237 r=[2405:201:e00a:b034:fd95:738:4276:bc2f]:54729\u001b[0m\n",
            "\u001b[32mINFO\u001b[0m:     2405:201:e00a:b034:fd95:738:4276:bc2f:0 - \"\u001b[1mGET /assets/dots-horizontal-C6K59vUm.js HTTP/1.1\u001b[0m\" \u001b[32m200 OK\u001b[0m\n",
            "\u001b[32mINFO\u001b[0m:     2405:201:e00a:b034:fd95:738:4276:bc2f:0 - \"\u001b[1mGET /assets/ExecutionStatus-BSQgMpzk.js HTTP/1.1\u001b[0m\" \u001b[32m200 OK\u001b[0m\n",
            "\u001b[32mINFO\u001b[0m:     2405:201:e00a:b034:fd95:738:4276:bc2f:0 - \"\u001b[1mGET /assets/CopyButton-BAYaQlWF.js HTTP/1.1\u001b[0m\" \u001b[32m200 OK\u001b[0m\n",
            "\u001b[1;35mGot token from cookie\u001b[0m\n",
            "\u001b[32mINFO\u001b[0m:     2405:201:e00a:b034:fd95:738:4276:bc2f:0 - \"\u001b[1mGET /api/v1/pipelines?page=1&sort_by=desc%3Alatest_run HTTP/1.1\u001b[0m\" \u001b[32m200 OK\u001b[0m\n",
            "\u001b[32mINFO\u001b[0m:     2405:201:e00a:b034:fd95:738:4276:bc2f:0 - \"\u001b[1mGET /assets/page-CUOBhxxU.js HTTP/1.1\u001b[0m\" \u001b[32m200 OK\u001b[0m\n",
            "\u001b[32mINFO\u001b[0m:     2405:201:e00a:b034:fd95:738:4276:bc2f:0 - \"\u001b[1mGET /assets/DisplayDate-DkCy54Bp.js HTTP/1.1\u001b[0m\" \u001b[32m200 OK\u001b[0m\n",
            "\u001b[32mINFO\u001b[0m:     2405:201:e00a:b034:fd95:738:4276:bc2f:0 - \"\u001b[1mGET /assets/InlineAvatar-C2ZECnGP.js HTTP/1.1\u001b[0m\" \u001b[32m200 OK\u001b[0m\n",
            "\u001b[1;35mGot token from cookie\u001b[0m\n",
            "\u001b[32mINFO\u001b[0m:     2405:201:e00a:b034:fd95:738:4276:bc2f:0 - \"\u001b[1mGET /api/v1/runs?pipeline_name=digits_pipeline&page=1&sort_by=desc%3Aupdated HTTP/1.1\u001b[0m\" \u001b[32m200 OK\u001b[0m\n",
            "\u001b[32mINFO\u001b[0m:     2405:201:e00a:b034:fd95:738:4276:bc2f:0 - \"\u001b[1mGET /assets/page-DCnizFO_.js HTTP/1.1\u001b[0m\" \u001b[32m200 OK\u001b[0m\n"
          ]
        },
        {
          "output_type": "stream",
          "name": "stderr",
          "text": [
            "INFO:pyngrok.process.ngrok:t=2024-09-07T04:26:11+0000 lvl=info msg=\"join connections\" obj=join id=671509aa6cde l=127.0.0.1:8237 r=[2405:201:e00a:b034:fd95:738:4276:bc2f]:54729\n"
          ]
        },
        {
          "output_type": "stream",
          "name": "stdout",
          "text": [
            "\u001b[32mINFO\u001b[0m:     2405:201:e00a:b034:fd95:738:4276:bc2f:0 - \"\u001b[1mGET /assets/Error-QMgFNDTs.js HTTP/1.1\u001b[0m\" \u001b[32m200 OK\u001b[0m\n",
            "\u001b[32mINFO\u001b[0m:     2405:201:e00a:b034:fd95:738:4276:bc2f:0 - \"\u001b[1mGET /assets/stack-detail-query-fuuoot1D.js HTTP/1.1\u001b[0m\" \u001b[32m200 OK\u001b[0m\n",
            "\u001b[1;35mt=2024-09-07T04:26:11+0000 lvl=info msg=\"join connections\" obj=join id=671509aa6cde l=127.0.0.1:8237 r=[2405:201:e00a:b034:fd95:738:4276:bc2f]:54729\u001b[0m\n"
          ]
        },
        {
          "output_type": "stream",
          "name": "stderr",
          "text": [
            "INFO:pyngrok.process.ngrok:t=2024-09-07T04:26:11+0000 lvl=info msg=\"join connections\" obj=join id=43fe15146a4f l=127.0.0.1:8237 r=[2405:201:e00a:b034:fd95:738:4276:bc2f]:54729\n"
          ]
        },
        {
          "output_type": "stream",
          "name": "stdout",
          "text": [
            "\u001b[1;35mt=2024-09-07T04:26:11+0000 lvl=info msg=\"join connections\" obj=join id=43fe15146a4f l=127.0.0.1:8237 r=[2405:201:e00a:b034:fd95:738:4276:bc2f]:54729\u001b[0m\n"
          ]
        },
        {
          "output_type": "stream",
          "name": "stderr",
          "text": [
            "INFO:pyngrok.process.ngrok:t=2024-09-07T04:26:11+0000 lvl=info msg=\"join connections\" obj=join id=9edf48180820 l=127.0.0.1:8237 r=[2405:201:e00a:b034:fd95:738:4276:bc2f]:54729\n"
          ]
        },
        {
          "output_type": "stream",
          "name": "stdout",
          "text": [
            "\u001b[1;35mt=2024-09-07T04:26:11+0000 lvl=info msg=\"join connections\" obj=join id=9edf48180820 l=127.0.0.1:8237 r=[2405:201:e00a:b034:fd95:738:4276:bc2f]:54729\u001b[0m\n"
          ]
        },
        {
          "output_type": "stream",
          "name": "stderr",
          "text": [
            "INFO:pyngrok.process.ngrok:t=2024-09-07T04:26:11+0000 lvl=info msg=\"join connections\" obj=join id=714cb6229bea l=127.0.0.1:8237 r=[2405:201:e00a:b034:fd95:738:4276:bc2f]:54729\n"
          ]
        },
        {
          "output_type": "stream",
          "name": "stdout",
          "text": [
            "\u001b[1;35mt=2024-09-07T04:26:11+0000 lvl=info msg=\"join connections\" obj=join id=714cb6229bea l=127.0.0.1:8237 r=[2405:201:e00a:b034:fd95:738:4276:bc2f]:54729\u001b[0m\n"
          ]
        },
        {
          "output_type": "stream",
          "name": "stderr",
          "text": [
            "INFO:pyngrok.process.ngrok:t=2024-09-07T04:26:11+0000 lvl=info msg=\"join connections\" obj=join id=3571ea05948d l=127.0.0.1:8237 r=[2405:201:e00a:b034:fd95:738:4276:bc2f]:54729\n"
          ]
        },
        {
          "output_type": "stream",
          "name": "stdout",
          "text": [
            "\u001b[1;35mt=2024-09-07T04:26:11+0000 lvl=info msg=\"join connections\" obj=join id=3571ea05948d l=127.0.0.1:8237 r=[2405:201:e00a:b034:fd95:738:4276:bc2f]:54729\u001b[0m\n"
          ]
        },
        {
          "output_type": "stream",
          "name": "stderr",
          "text": [
            "INFO:pyngrok.process.ngrok:t=2024-09-07T04:26:11+0000 lvl=info msg=\"join connections\" obj=join id=e95c858661d9 l=127.0.0.1:8237 r=[2405:201:e00a:b034:fd95:738:4276:bc2f]:54729\n"
          ]
        },
        {
          "output_type": "stream",
          "name": "stdout",
          "text": [
            "\u001b[1;35mt=2024-09-07T04:26:11+0000 lvl=info msg=\"join connections\" obj=join id=e95c858661d9 l=127.0.0.1:8237 r=[2405:201:e00a:b034:fd95:738:4276:bc2f]:54729\u001b[0m\n",
            "\u001b[32mINFO\u001b[0m:     2405:201:e00a:b034:fd95:738:4276:bc2f:0 - \"\u001b[1mGET /assets/CollapsibleCard-C9BzoY6q.js HTTP/1.1\u001b[0m\" \u001b[32m200 OK\u001b[0m\n",
            "\u001b[32mINFO\u001b[0m:     2405:201:e00a:b034:fd95:738:4276:bc2f:0 - \"\u001b[1mGET /assets/logs-GiDJXbLS.js HTTP/1.1\u001b[0m\" \u001b[32m200 OK\u001b[0m\n",
            "\u001b[32mINFO\u001b[0m:     2405:201:e00a:b034:fd95:738:4276:bc2f:0 - \"\u001b[1mGET /assets/code-browser-BJYErIjr.js HTTP/1.1\u001b[0m\" \u001b[32m200 OK\u001b[0m\n",
            "\u001b[32mINFO\u001b[0m:     2405:201:e00a:b034:fd95:738:4276:bc2f:0 - \"\u001b[1mGET /assets/EmptyState-Cs3DEmso.js HTTP/1.1\u001b[0m\" \u001b[32m200 OK\u001b[0m\n",
            "\u001b[32mINFO\u001b[0m:     2405:201:e00a:b034:fd95:738:4276:bc2f:0 - \"\u001b[1mGET /assets/docker-BFAFXr2_.js HTTP/1.1\u001b[0m\" \u001b[32m200 OK\u001b[0m\n",
            "\u001b[32mINFO\u001b[0m:     2405:201:e00a:b034:fd95:738:4276:bc2f:0 - \"\u001b[1mGET /assets/Infobox-BB7dfbrO.js HTTP/1.1\u001b[0m\" \u001b[32m200 OK\u001b[0m\n"
          ]
        },
        {
          "output_type": "stream",
          "name": "stderr",
          "text": [
            "INFO:pyngrok.process.ngrok:t=2024-09-07T04:26:12+0000 lvl=info msg=\"join connections\" obj=join id=76dbfd4b7370 l=127.0.0.1:8237 r=[2405:201:e00a:b034:fd95:738:4276:bc2f]:54729\n"
          ]
        },
        {
          "output_type": "stream",
          "name": "stdout",
          "text": [
            "\u001b[1;35mGot token from cookie\u001b[0m\n",
            "\u001b[1;35mGot token from cookie\u001b[0m\n",
            "\u001b[1;35mt=2024-09-07T04:26:12+0000 lvl=info msg=\"join connections\" obj=join id=76dbfd4b7370 l=127.0.0.1:8237 r=[2405:201:e00a:b034:fd95:738:4276:bc2f]:54729\u001b[0m\n",
            "\u001b[32mINFO\u001b[0m:     2405:201:e00a:b034:fd95:738:4276:bc2f:0 - \"\u001b[1mGET /api/v1/runs/88e8d770-ab4b-46d1-b477-ba330a5507d3 HTTP/1.1\u001b[0m\" \u001b[32m200 OK\u001b[0m\n",
            "\u001b[32mINFO\u001b[0m:     2405:201:e00a:b034:fd95:738:4276:bc2f:0 - \"\u001b[1mGET /api/v1/info HTTP/1.1\u001b[0m\" \u001b[32m200 OK\u001b[0m\n",
            "\u001b[32mINFO\u001b[0m:     2405:201:e00a:b034:fd95:738:4276:bc2f:0 - \"\u001b[1mGET /api/v1/runs/88e8d770-ab4b-46d1-b477-ba330a5507d3/graph HTTP/1.1\u001b[0m\" \u001b[32m200 OK\u001b[0m\n",
            "\u001b[1;35mGot token from cookie\u001b[0m\n",
            "\u001b[32mINFO\u001b[0m:     2405:201:e00a:b034:fd95:738:4276:bc2f:0 - \"\u001b[1mGET /api/v1/stacks/051ca38e-09a1-47e6-b459-a4aa03bcf58f HTTP/1.1\u001b[0m\" \u001b[32m200 OK\u001b[0m\n",
            "\u001b[1;35mGot token from cookie\u001b[0m\n",
            "\u001b[1;35mGot token from cookie\u001b[0m\n",
            "\u001b[32mINFO\u001b[0m:     2405:201:e00a:b034:fd95:738:4276:bc2f:0 - \"\u001b[1mGET /api/v1/runs/88e8d770-ab4b-46d1-b477-ba330a5507d3 HTTP/1.1\u001b[0m\" \u001b[32m200 OK\u001b[0m\n",
            "\u001b[32mINFO\u001b[0m:     2405:201:e00a:b034:fd95:738:4276:bc2f:0 - \"\u001b[1mGET /api/v1/runs/88e8d770-ab4b-46d1-b477-ba330a5507d3/graph HTTP/1.1\u001b[0m\" \u001b[32m200 OK\u001b[0m\n"
          ]
        },
        {
          "output_type": "stream",
          "name": "stderr",
          "text": [
            "INFO:pyngrok.process.ngrok:t=2024-09-07T05:07:00+0000 lvl=info msg=\"join connections\" obj=join id=3541ffc3afad l=127.0.0.1:8237 r=[2405:201:e00a:b034:fd95:738:4276:bc2f]:55029\n"
          ]
        },
        {
          "output_type": "stream",
          "name": "stdout",
          "text": [
            "\u001b[1;35mt=2024-09-07T05:07:00+0000 lvl=info msg=\"join connections\" obj=join id=3541ffc3afad l=127.0.0.1:8237 r=[2405:201:e00a:b034:fd95:738:4276:bc2f]:55029\u001b[0m\n"
          ]
        },
        {
          "output_type": "stream",
          "name": "stderr",
          "text": [
            "INFO:pyngrok.process.ngrok:t=2024-09-07T05:07:00+0000 lvl=info msg=\"join connections\" obj=join id=f77c9a4c5b17 l=127.0.0.1:8237 r=[2405:201:e00a:b034:fd95:738:4276:bc2f]:55029\n"
          ]
        },
        {
          "output_type": "stream",
          "name": "stdout",
          "text": [
            "\u001b[1;35mt=2024-09-07T05:07:00+0000 lvl=info msg=\"join connections\" obj=join id=f77c9a4c5b17 l=127.0.0.1:8237 r=[2405:201:e00a:b034:fd95:738:4276:bc2f]:55029\u001b[0m\n"
          ]
        },
        {
          "output_type": "stream",
          "name": "stderr",
          "text": [
            "INFO:pyngrok.process.ngrok:t=2024-09-07T05:07:00+0000 lvl=info msg=\"join connections\" obj=join id=ef3f67cfa591 l=127.0.0.1:8237 r=[2405:201:e00a:b034:fd95:738:4276:bc2f]:55029\n"
          ]
        },
        {
          "output_type": "stream",
          "name": "stdout",
          "text": [
            "\u001b[1;35mt=2024-09-07T05:07:00+0000 lvl=info msg=\"join connections\" obj=join id=ef3f67cfa591 l=127.0.0.1:8237 r=[2405:201:e00a:b034:fd95:738:4276:bc2f]:55029\u001b[0m\n"
          ]
        },
        {
          "output_type": "stream",
          "name": "stderr",
          "text": [
            "INFO:pyngrok.process.ngrok:t=2024-09-07T05:07:00+0000 lvl=info msg=\"join connections\" obj=join id=e047c15dc72a l=127.0.0.1:8237 r=[2405:201:e00a:b034:fd95:738:4276:bc2f]:55029\n"
          ]
        },
        {
          "output_type": "stream",
          "name": "stdout",
          "text": [
            "\u001b[1;35mt=2024-09-07T05:07:00+0000 lvl=info msg=\"join connections\" obj=join id=e047c15dc72a l=127.0.0.1:8237 r=[2405:201:e00a:b034:fd95:738:4276:bc2f]:55029\u001b[0m\n"
          ]
        },
        {
          "output_type": "stream",
          "name": "stderr",
          "text": [
            "INFO:pyngrok.process.ngrok:t=2024-09-07T05:07:00+0000 lvl=info msg=\"join connections\" obj=join id=48e3a6a597ce l=127.0.0.1:8237 r=[2405:201:e00a:b034:fd95:738:4276:bc2f]:55029\n"
          ]
        },
        {
          "output_type": "stream",
          "name": "stdout",
          "text": [
            "\u001b[1;35mt=2024-09-07T05:07:00+0000 lvl=info msg=\"join connections\" obj=join id=48e3a6a597ce l=127.0.0.1:8237 r=[2405:201:e00a:b034:fd95:738:4276:bc2f]:55029\u001b[0m\n"
          ]
        },
        {
          "output_type": "stream",
          "name": "stderr",
          "text": [
            "INFO:pyngrok.process.ngrok:t=2024-09-07T05:07:00+0000 lvl=info msg=\"join connections\" obj=join id=f7e34622cba7 l=127.0.0.1:8237 r=[2405:201:e00a:b034:fd95:738:4276:bc2f]:55029\n"
          ]
        },
        {
          "output_type": "stream",
          "name": "stdout",
          "text": [
            "\u001b[1;35mt=2024-09-07T05:07:00+0000 lvl=info msg=\"join connections\" obj=join id=f7e34622cba7 l=127.0.0.1:8237 r=[2405:201:e00a:b034:fd95:738:4276:bc2f]:55029\u001b[0m\n"
          ]
        },
        {
          "output_type": "stream",
          "name": "stderr",
          "text": [
            "INFO:pyngrok.process.ngrok:t=2024-09-07T05:07:00+0000 lvl=info msg=\"join connections\" obj=join id=865e8fa54d39 l=127.0.0.1:8237 r=[2405:201:e00a:b034:fd95:738:4276:bc2f]:55029\n"
          ]
        },
        {
          "output_type": "stream",
          "name": "stdout",
          "text": [
            "\u001b[1;35mt=2024-09-07T05:07:00+0000 lvl=info msg=\"join connections\" obj=join id=865e8fa54d39 l=127.0.0.1:8237 r=[2405:201:e00a:b034:fd95:738:4276:bc2f]:55029\u001b[0m\n",
            "\u001b[1;35mGot token from cookie\u001b[0m\n",
            "\u001b[1;35mGot token from cookie\u001b[0m\n",
            "\u001b[1;35mGot token from cookie\u001b[0m\n",
            "\u001b[1;35mGot token from cookie\u001b[0m\n",
            "\u001b[1;35mGot token from cookie\u001b[0m\n",
            "\u001b[1;35mGot token from cookie\u001b[0m\n",
            "\u001b[32mINFO\u001b[0m:     2405:201:e00a:b034:fd95:738:4276:bc2f:0 - \"\u001b[1mGET /api/v1/onboarding_state HTTP/1.1\u001b[0m\" \u001b[32m200 OK\u001b[0m\n",
            "\u001b[32mINFO\u001b[0m:     2405:201:e00a:b034:fd95:738:4276:bc2f:0 - \"\u001b[1mGET /api/v1/stacks/051ca38e-09a1-47e6-b459-a4aa03bcf58f HTTP/1.1\u001b[0m\" \u001b[32m200 OK\u001b[0m\n",
            "\u001b[32mINFO\u001b[0m:     2405:201:e00a:b034:fd95:738:4276:bc2f:0 - \"\u001b[1mGET /api/v1/info HTTP/1.1\u001b[0m\" \u001b[32m200 OK\u001b[0m\n",
            "\u001b[32mINFO\u001b[0m:     2405:201:e00a:b034:fd95:738:4276:bc2f:0 - \"\u001b[1mGET /api/v1/settings HTTP/1.1\u001b[0m\" \u001b[32m200 OK\u001b[0m\n",
            "\u001b[32mINFO\u001b[0m:     2405:201:e00a:b034:fd95:738:4276:bc2f:0 - \"\u001b[1mGET /api/v1/current-user HTTP/1.1\u001b[0m\" \u001b[32m200 OK\u001b[0m\n",
            "\u001b[32mINFO\u001b[0m:     2405:201:e00a:b034:fd95:738:4276:bc2f:0 - \"\u001b[1mGET /api/v1/runs/88e8d770-ab4b-46d1-b477-ba330a5507d3 HTTP/1.1\u001b[0m\" \u001b[32m200 OK\u001b[0m\n",
            "\u001b[32mINFO\u001b[0m:     2405:201:e00a:b034:fd95:738:4276:bc2f:0 - \"\u001b[1mGET /api/v1/runs/88e8d770-ab4b-46d1-b477-ba330a5507d3/graph HTTP/1.1\u001b[0m\" \u001b[32m200 OK\u001b[0m\n"
          ]
        },
        {
          "output_type": "stream",
          "name": "stderr",
          "text": [
            "INFO:pyngrok.process.ngrok:t=2024-09-07T05:27:34+0000 lvl=info msg=\"join connections\" obj=join id=368df78e6d8f l=127.0.0.1:8237 r=[2405:201:e00a:b034:fd95:738:4276:bc2f]:55412\n"
          ]
        },
        {
          "output_type": "stream",
          "name": "stdout",
          "text": [
            "\u001b[1;35mt=2024-09-07T05:27:34+0000 lvl=info msg=\"join connections\" obj=join id=368df78e6d8f l=127.0.0.1:8237 r=[2405:201:e00a:b034:fd95:738:4276:bc2f]:55412\u001b[0m\n"
          ]
        },
        {
          "output_type": "stream",
          "name": "stderr",
          "text": [
            "INFO:pyngrok.process.ngrok:t=2024-09-07T05:27:34+0000 lvl=info msg=\"join connections\" obj=join id=ea6b32eb1e73 l=127.0.0.1:8237 r=[2405:201:e00a:b034:fd95:738:4276:bc2f]:55412\n"
          ]
        },
        {
          "output_type": "stream",
          "name": "stdout",
          "text": [
            "\u001b[1;35mt=2024-09-07T05:27:34+0000 lvl=info msg=\"join connections\" obj=join id=ea6b32eb1e73 l=127.0.0.1:8237 r=[2405:201:e00a:b034:fd95:738:4276:bc2f]:55412\u001b[0m\n"
          ]
        },
        {
          "output_type": "stream",
          "name": "stderr",
          "text": [
            "INFO:pyngrok.process.ngrok:t=2024-09-07T05:27:34+0000 lvl=info msg=\"join connections\" obj=join id=36f356b7b0af l=127.0.0.1:8237 r=[2405:201:e00a:b034:fd95:738:4276:bc2f]:55412\n"
          ]
        },
        {
          "output_type": "stream",
          "name": "stdout",
          "text": [
            "\u001b[1;35mt=2024-09-07T05:27:34+0000 lvl=info msg=\"join connections\" obj=join id=36f356b7b0af l=127.0.0.1:8237 r=[2405:201:e00a:b034:fd95:738:4276:bc2f]:55412\u001b[0m\n"
          ]
        },
        {
          "output_type": "stream",
          "name": "stderr",
          "text": [
            "INFO:pyngrok.process.ngrok:t=2024-09-07T05:27:34+0000 lvl=info msg=\"join connections\" obj=join id=4cc38e651dc7 l=127.0.0.1:8237 r=[2405:201:e00a:b034:fd95:738:4276:bc2f]:55412\n"
          ]
        },
        {
          "output_type": "stream",
          "name": "stdout",
          "text": [
            "\u001b[1;35mt=2024-09-07T05:27:34+0000 lvl=info msg=\"join connections\" obj=join id=4cc38e651dc7 l=127.0.0.1:8237 r=[2405:201:e00a:b034:fd95:738:4276:bc2f]:55412\u001b[0m\n"
          ]
        },
        {
          "output_type": "stream",
          "name": "stderr",
          "text": [
            "INFO:pyngrok.process.ngrok:t=2024-09-07T05:27:34+0000 lvl=info msg=\"join connections\" obj=join id=e3893a59d383 l=127.0.0.1:8237 r=[2405:201:e00a:b034:fd95:738:4276:bc2f]:55412\n"
          ]
        },
        {
          "output_type": "stream",
          "name": "stdout",
          "text": [
            "\u001b[1;35mt=2024-09-07T05:27:34+0000 lvl=info msg=\"join connections\" obj=join id=e3893a59d383 l=127.0.0.1:8237 r=[2405:201:e00a:b034:fd95:738:4276:bc2f]:55412\u001b[0m\n"
          ]
        },
        {
          "output_type": "stream",
          "name": "stderr",
          "text": [
            "INFO:pyngrok.process.ngrok:t=2024-09-07T05:27:34+0000 lvl=info msg=\"join connections\" obj=join id=cecd51278659 l=127.0.0.1:8237 r=[2405:201:e00a:b034:fd95:738:4276:bc2f]:55412\n"
          ]
        },
        {
          "output_type": "stream",
          "name": "stdout",
          "text": [
            "\u001b[1;35mt=2024-09-07T05:27:34+0000 lvl=info msg=\"join connections\" obj=join id=cecd51278659 l=127.0.0.1:8237 r=[2405:201:e00a:b034:fd95:738:4276:bc2f]:55412\u001b[0m\n"
          ]
        },
        {
          "output_type": "stream",
          "name": "stderr",
          "text": [
            "INFO:pyngrok.process.ngrok:t=2024-09-07T05:27:34+0000 lvl=info msg=\"join connections\" obj=join id=a46493fc17e7 l=127.0.0.1:8237 r=[2405:201:e00a:b034:fd95:738:4276:bc2f]:55412\n"
          ]
        },
        {
          "output_type": "stream",
          "name": "stdout",
          "text": [
            "\u001b[1;35mt=2024-09-07T05:27:34+0000 lvl=info msg=\"join connections\" obj=join id=a46493fc17e7 l=127.0.0.1:8237 r=[2405:201:e00a:b034:fd95:738:4276:bc2f]:55412\u001b[0m\n",
            "\u001b[1;35mGot token from cookie\u001b[0m\n",
            "\u001b[1;35mGot token from cookie\u001b[0m\n",
            "\u001b[32mINFO\u001b[0m:     2405:201:e00a:b034:fd95:738:4276:bc2f:0 - \"\u001b[1mGET /api/v1/current-user HTTP/1.1\u001b[0m\" \u001b[32m200 OK\u001b[0m\n",
            "\u001b[1;35mGot token from cookie\u001b[0m\n",
            "\u001b[1;35mGot token from cookie\u001b[0m\n",
            "\u001b[1;35mGot token from cookie\u001b[0m\n",
            "\u001b[1;35mGot token from cookie\u001b[0m\n",
            "\u001b[32mINFO\u001b[0m:     2405:201:e00a:b034:fd95:738:4276:bc2f:0 - \"\u001b[1mGET /api/v1/stacks/051ca38e-09a1-47e6-b459-a4aa03bcf58f HTTP/1.1\u001b[0m\" \u001b[32m200 OK\u001b[0m\n",
            "\u001b[32mINFO\u001b[0m:     2405:201:e00a:b034:fd95:738:4276:bc2f:0 - \"\u001b[1mGET /api/v1/info HTTP/1.1\u001b[0m\" \u001b[32m200 OK\u001b[0m\n",
            "\u001b[32mINFO\u001b[0m:     2405:201:e00a:b034:fd95:738:4276:bc2f:0 - \"\u001b[1mGET /api/v1/settings HTTP/1.1\u001b[0m\" \u001b[32m200 OK\u001b[0m\n",
            "\u001b[32mINFO\u001b[0m:     2405:201:e00a:b034:fd95:738:4276:bc2f:0 - \"\u001b[1mGET /api/v1/onboarding_state HTTP/1.1\u001b[0m\" \u001b[32m200 OK\u001b[0m\n",
            "\u001b[32mINFO\u001b[0m:     2405:201:e00a:b034:fd95:738:4276:bc2f:0 - \"\u001b[1mGET /api/v1/runs/88e8d770-ab4b-46d1-b477-ba330a5507d3 HTTP/1.1\u001b[0m\" \u001b[32m200 OK\u001b[0m\n",
            "\u001b[32mINFO\u001b[0m:     2405:201:e00a:b034:fd95:738:4276:bc2f:0 - \"\u001b[1mGET /api/v1/runs/88e8d770-ab4b-46d1-b477-ba330a5507d3/graph HTTP/1.1\u001b[0m\" \u001b[32m200 OK\u001b[0m\n"
          ]
        },
        {
          "output_type": "stream",
          "name": "stderr",
          "text": [
            "INFO:pyngrok.process.ngrok:t=2024-09-07T05:29:24+0000 lvl=info msg=\"join connections\" obj=join id=352864470061 l=127.0.0.1:8237 r=[2405:201:e00a:b034:fd95:738:4276:bc2f]:55412\n"
          ]
        },
        {
          "output_type": "stream",
          "name": "stdout",
          "text": [
            "\u001b[1;35mt=2024-09-07T05:29:24+0000 lvl=info msg=\"join connections\" obj=join id=352864470061 l=127.0.0.1:8237 r=[2405:201:e00a:b034:fd95:738:4276:bc2f]:55412\u001b[0m\n"
          ]
        },
        {
          "output_type": "stream",
          "name": "stderr",
          "text": [
            "INFO:pyngrok.process.ngrok:t=2024-09-07T05:29:24+0000 lvl=info msg=\"join connections\" obj=join id=4d0d7b26a0d8 l=127.0.0.1:8237 r=[2405:201:e00a:b034:fd95:738:4276:bc2f]:55412\n"
          ]
        },
        {
          "output_type": "stream",
          "name": "stdout",
          "text": [
            "\u001b[1;35mt=2024-09-07T05:29:24+0000 lvl=info msg=\"join connections\" obj=join id=4d0d7b26a0d8 l=127.0.0.1:8237 r=[2405:201:e00a:b034:fd95:738:4276:bc2f]:55412\u001b[0m\n"
          ]
        },
        {
          "output_type": "stream",
          "name": "stderr",
          "text": [
            "INFO:pyngrok.process.ngrok:t=2024-09-07T05:29:24+0000 lvl=info msg=\"join connections\" obj=join id=8ff30dbbad90 l=127.0.0.1:8237 r=[2405:201:e00a:b034:fd95:738:4276:bc2f]:55412\n"
          ]
        },
        {
          "output_type": "stream",
          "name": "stdout",
          "text": [
            "\u001b[1;35mt=2024-09-07T05:29:24+0000 lvl=info msg=\"join connections\" obj=join id=8ff30dbbad90 l=127.0.0.1:8237 r=[2405:201:e00a:b034:fd95:738:4276:bc2f]:55412\u001b[0m\n"
          ]
        },
        {
          "output_type": "stream",
          "name": "stderr",
          "text": [
            "INFO:pyngrok.process.ngrok:t=2024-09-07T05:29:24+0000 lvl=info msg=\"join connections\" obj=join id=beef7664c488 l=127.0.0.1:8237 r=[2405:201:e00a:b034:fd95:738:4276:bc2f]:55412\n"
          ]
        },
        {
          "output_type": "stream",
          "name": "stdout",
          "text": [
            "\u001b[1;35mt=2024-09-07T05:29:24+0000 lvl=info msg=\"join connections\" obj=join id=beef7664c488 l=127.0.0.1:8237 r=[2405:201:e00a:b034:fd95:738:4276:bc2f]:55412\u001b[0m\n"
          ]
        },
        {
          "output_type": "stream",
          "name": "stderr",
          "text": [
            "INFO:pyngrok.process.ngrok:t=2024-09-07T05:29:24+0000 lvl=info msg=\"join connections\" obj=join id=70813966b4f7 l=127.0.0.1:8237 r=[2405:201:e00a:b034:fd95:738:4276:bc2f]:55412\n"
          ]
        },
        {
          "output_type": "stream",
          "name": "stdout",
          "text": [
            "\u001b[1;35mt=2024-09-07T05:29:24+0000 lvl=info msg=\"join connections\" obj=join id=70813966b4f7 l=127.0.0.1:8237 r=[2405:201:e00a:b034:fd95:738:4276:bc2f]:55412\u001b[0m\n"
          ]
        },
        {
          "output_type": "stream",
          "name": "stderr",
          "text": [
            "INFO:pyngrok.process.ngrok:t=2024-09-07T05:29:24+0000 lvl=info msg=\"join connections\" obj=join id=70219e71c346 l=127.0.0.1:8237 r=[2405:201:e00a:b034:fd95:738:4276:bc2f]:55412\n"
          ]
        },
        {
          "output_type": "stream",
          "name": "stdout",
          "text": [
            "\u001b[1;35mt=2024-09-07T05:29:24+0000 lvl=info msg=\"join connections\" obj=join id=70219e71c346 l=127.0.0.1:8237 r=[2405:201:e00a:b034:fd95:738:4276:bc2f]:55412\u001b[0m\n"
          ]
        },
        {
          "output_type": "stream",
          "name": "stderr",
          "text": [
            "INFO:pyngrok.process.ngrok:t=2024-09-07T05:29:24+0000 lvl=info msg=\"join connections\" obj=join id=b9329b215d20 l=127.0.0.1:8237 r=[2405:201:e00a:b034:fd95:738:4276:bc2f]:55412\n"
          ]
        },
        {
          "output_type": "stream",
          "name": "stdout",
          "text": [
            "\u001b[1;35mt=2024-09-07T05:29:24+0000 lvl=info msg=\"join connections\" obj=join id=b9329b215d20 l=127.0.0.1:8237 r=[2405:201:e00a:b034:fd95:738:4276:bc2f]:55412\u001b[0m\n"
          ]
        }
      ],
      "source": [
        "from zenml.environment import Environment\n",
        "\n",
        "def start_zenml_dashboard(port=8237):\n",
        "    if Environment.in_google_colab():\n",
        "        from pyngrok import ngrok\n",
        "        public_url = ngrok.connect(port)\n",
        "        # Corrected ANSI escape codes for color formatting\n",
        "        print(f\"\\033[31mIn Colab, use this URL instead: {public_url}\\033[0m\")\n",
        "        !zenml up --blocking --port {port}\n",
        "    else:\n",
        "        !zenml up --port {port}\n",
        "\n",
        "start_zenml_dashboard()\n"
      ]
    },
    {
      "cell_type": "code",
      "source": [],
      "metadata": {
        "id": "TkRpHhhFu90d"
      },
      "execution_count": null,
      "outputs": []
    }
  ],
  "metadata": {
    "colab": {
      "provenance": []
    },
    "kernelspec": {
      "display_name": "Python 3",
      "name": "python3"
    },
    "language_info": {
      "name": "python"
    }
  },
  "nbformat": 4,
  "nbformat_minor": 0
}