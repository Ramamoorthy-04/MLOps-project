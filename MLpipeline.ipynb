{
  "cells": [
    {
      "cell_type": "markdown",
      "source": [
        "### Install Required Dependencies\n",
        "\n",
        "Before running the pipeline, ensure that all necessary dependencies are installed.\n",
        "\n",
        "```bash\n",
        "# Install ZenML with server functionality\n",
        "%pip install \"zenml[server]\"\n",
        "\n",
        "# Install the ZenML sklearn integration\n",
        "!zenml integration install sklearn -y\n",
        "\n",
        "# Install a specific version of pyparsing if needed\n",
        "%pip install pyparsing==2.4.2"
      ],
      "metadata": {
        "id": "JL7uzFZRjDv5"
      }
    },
    {
      "cell_type": "code",
      "execution_count": 1,
      "metadata": {
        "colab": {
          "base_uri": "https://localhost:8080/",
          "height": 1000
        },
        "id": "q5RZzWdKIHcf",
        "outputId": "125d6d8d-0aa5-45a6-f5fe-6890e8796e7d"
      },
      "outputs": [
        {
          "output_type": "stream",
          "name": "stdout",
          "text": [
            "w\n",
            "Requirement already satisfied: zenml[server] in /usr/local/lib/python3.10/dist-packages (0.65.0)\n",
            "Requirement already satisfied: alembic<1.9.0,>=1.8.1 in /usr/local/lib/python3.10/dist-packages (from zenml[server]) (1.8.1)\n",
            "Requirement already satisfied: bcrypt==4.0.1 in /usr/local/lib/python3.10/dist-packages (from zenml[server]) (4.0.1)\n",
            "Requirement already satisfied: click<8.1.4,>=8.0.1 in /usr/local/lib/python3.10/dist-packages (from zenml[server]) (8.1.3)\n",
            "Requirement already satisfied: click-params<0.4.0,>=0.3.0 in /usr/local/lib/python3.10/dist-packages (from zenml[server]) (0.3.0)\n",
            "Requirement already satisfied: cloudpickle<3,>=2.0.0 in /usr/local/lib/python3.10/dist-packages (from zenml[server]) (2.2.1)\n",
            "Requirement already satisfied: distro<2.0.0,>=1.6.0 in /usr/lib/python3/dist-packages (from zenml[server]) (1.7.0)\n",
            "Requirement already satisfied: docker<7.2.0,>=7.1.0 in /usr/local/lib/python3.10/dist-packages (from zenml[server]) (7.1.0)\n",
            "Requirement already satisfied: gitpython<4.0.0,>=3.1.18 in /usr/local/lib/python3.10/dist-packages (from zenml[server]) (3.1.43)\n",
            "Requirement already satisfied: httplib2<0.20,>=0.19.1 in /usr/local/lib/python3.10/dist-packages (from zenml[server]) (0.19.1)\n",
            "Requirement already satisfied: numpy<2.0.0 in /usr/local/lib/python3.10/dist-packages (from zenml[server]) (1.26.4)\n",
            "Requirement already satisfied: packaging>=24.1 in /usr/local/lib/python3.10/dist-packages (from zenml[server]) (24.1)\n",
            "Requirement already satisfied: pandas>=1.1.5 in /usr/local/lib/python3.10/dist-packages (from zenml[server]) (2.1.4)\n",
            "Requirement already satisfied: passlib<1.8.0,>=1.7.4 in /usr/local/lib/python3.10/dist-packages (from passlib[bcrypt]<1.8.0,>=1.7.4->zenml[server]) (1.7.4)\n",
            "Requirement already satisfied: psutil>=5.0.0 in /usr/local/lib/python3.10/dist-packages (from zenml[server]) (5.9.5)\n",
            "Requirement already satisfied: pydantic<2.8,>=2.7 in /usr/local/lib/python3.10/dist-packages (from zenml[server]) (2.7.4)\n",
            "Requirement already satisfied: pydantic-settings<2.3.0,>=2.2.1 in /usr/local/lib/python3.10/dist-packages (from zenml[server]) (2.2.1)\n",
            "Requirement already satisfied: pymysql<1.2.0,>=1.1.1 in /usr/local/lib/python3.10/dist-packages (from zenml[server]) (1.1.1)\n",
            "Requirement already satisfied: pyparsing>=2.4.0 in /usr/local/lib/python3.10/dist-packages (from zenml[server]) (2.4.7)\n",
            "Requirement already satisfied: python-dateutil<3.0.0,>=2.8.1 in /usr/local/lib/python3.10/dist-packages (from zenml[server]) (2.9.0.post0)\n",
            "Requirement already satisfied: pyyaml>=6.0.1 in /usr/local/lib/python3.10/dist-packages (from zenml[server]) (6.0.2)\n",
            "Requirement already satisfied: rich>=12.0.0 in /usr/local/lib/python3.10/dist-packages (from rich[jupyter]>=12.0.0->zenml[server]) (13.8.0)\n",
            "Requirement already satisfied: secure<0.4.0,>=0.3.0 in /usr/local/lib/python3.10/dist-packages (from zenml[server]) (0.3.0)\n",
            "Requirement already satisfied: sqlalchemy<3.0.0,>=2.0.0 in /usr/local/lib/python3.10/dist-packages (from zenml[server]) (2.0.34)\n",
            "Requirement already satisfied: sqlalchemy_utils in /usr/local/lib/python3.10/dist-packages (from zenml[server]) (0.41.2)\n",
            "Requirement already satisfied: sqlmodel==0.0.18 in /usr/local/lib/python3.10/dist-packages (from zenml[server]) (0.0.18)\n",
            "Requirement already satisfied: Jinja2 in /usr/local/lib/python3.10/dist-packages (from zenml[server]) (3.1.4)\n",
            "Requirement already satisfied: fastapi<=0.110,>=0.100 in /usr/local/lib/python3.10/dist-packages (from zenml[server]) (0.110.0)\n",
            "Requirement already satisfied: ipinfo>=4.4.3 in /usr/local/lib/python3.10/dist-packages (from zenml[server]) (5.1.1)\n",
            "Requirement already satisfied: orjson<3.11.0,>=3.10.0 in /usr/local/lib/python3.10/dist-packages (from zenml[server]) (3.10.7)\n",
            "Requirement already satisfied: pyjwt==2.7.* in /usr/local/lib/python3.10/dist-packages (from pyjwt[crypto]==2.7.*; extra == \"server\"->zenml[server]) (2.7.0)\n",
            "Requirement already satisfied: python-multipart<0.1.0,>=0.0.9 in /usr/local/lib/python3.10/dist-packages (from zenml[server]) (0.0.9)\n",
            "Requirement already satisfied: uvicorn>=0.17.5 in /usr/local/lib/python3.10/dist-packages (from uvicorn[standard]>=0.17.5; extra == \"server\"->zenml[server]) (0.30.6)\n",
            "Requirement already satisfied: cryptography>=3.4.0 in /usr/lib/python3/dist-packages (from pyjwt[crypto]==2.7.*; extra == \"server\"->zenml[server]) (3.4.8)\n",
            "Requirement already satisfied: Mako in /usr/local/lib/python3.10/dist-packages (from alembic<1.9.0,>=1.8.1->zenml[server]) (1.3.5)\n",
            "Requirement already satisfied: validators<0.19,>=0.18 in /usr/local/lib/python3.10/dist-packages (from click-params<0.4.0,>=0.3.0->zenml[server]) (0.18.2)\n",
            "Requirement already satisfied: requests>=2.26.0 in /usr/local/lib/python3.10/dist-packages (from docker<7.2.0,>=7.1.0->zenml[server]) (2.32.3)\n",
            "Requirement already satisfied: urllib3>=1.26.0 in /usr/local/lib/python3.10/dist-packages (from docker<7.2.0,>=7.1.0->zenml[server]) (2.0.7)\n",
            "Requirement already satisfied: starlette<0.37.0,>=0.36.3 in /usr/local/lib/python3.10/dist-packages (from fastapi<=0.110,>=0.100->zenml[server]) (0.36.3)\n",
            "Requirement already satisfied: typing-extensions>=4.8.0 in /usr/local/lib/python3.10/dist-packages (from fastapi<=0.110,>=0.100->zenml[server]) (4.12.2)\n",
            "Requirement already satisfied: gitdb<5,>=4.0.1 in /usr/local/lib/python3.10/dist-packages (from gitpython<4.0.0,>=3.1.18->zenml[server]) (4.0.11)\n",
            "Requirement already satisfied: cachetools in /usr/local/lib/python3.10/dist-packages (from ipinfo>=4.4.3->zenml[server]) (5.5.0)\n",
            "Requirement already satisfied: aiohttp<=4 in /usr/local/lib/python3.10/dist-packages (from ipinfo>=4.4.3->zenml[server]) (3.10.5)\n",
            "Requirement already satisfied: pytz>=2020.1 in /usr/local/lib/python3.10/dist-packages (from pandas>=1.1.5->zenml[server]) (2024.1)\n",
            "Requirement already satisfied: tzdata>=2022.1 in /usr/local/lib/python3.10/dist-packages (from pandas>=1.1.5->zenml[server]) (2024.1)\n",
            "Requirement already satisfied: annotated-types>=0.4.0 in /usr/local/lib/python3.10/dist-packages (from pydantic<2.8,>=2.7->zenml[server]) (0.7.0)\n",
            "Requirement already satisfied: pydantic-core==2.18.4 in /usr/local/lib/python3.10/dist-packages (from pydantic<2.8,>=2.7->zenml[server]) (2.18.4)\n",
            "Requirement already satisfied: python-dotenv>=0.21.0 in /usr/local/lib/python3.10/dist-packages (from pydantic-settings<2.3.0,>=2.2.1->zenml[server]) (1.0.1)\n",
            "Requirement already satisfied: six>=1.5 in /usr/local/lib/python3.10/dist-packages (from python-dateutil<3.0.0,>=2.8.1->zenml[server]) (1.16.0)\n",
            "Requirement already satisfied: markdown-it-py>=2.2.0 in /usr/local/lib/python3.10/dist-packages (from rich>=12.0.0->rich[jupyter]>=12.0.0->zenml[server]) (3.0.0)\n",
            "Requirement already satisfied: pygments<3.0.0,>=2.13.0 in /usr/local/lib/python3.10/dist-packages (from rich>=12.0.0->rich[jupyter]>=12.0.0->zenml[server]) (2.18.0)\n",
            "Requirement already satisfied: ipywidgets<9,>=7.5.1 in /usr/local/lib/python3.10/dist-packages (from rich[jupyter]>=12.0.0->zenml[server]) (7.7.1)\n",
            "Requirement already satisfied: greenlet!=0.4.17 in /usr/local/lib/python3.10/dist-packages (from sqlalchemy<3.0.0,>=2.0.0->zenml[server]) (3.0.3)\n",
            "Requirement already satisfied: h11>=0.8 in /usr/local/lib/python3.10/dist-packages (from uvicorn>=0.17.5->uvicorn[standard]>=0.17.5; extra == \"server\"->zenml[server]) (0.14.0)\n",
            "Requirement already satisfied: httptools>=0.5.0 in /usr/local/lib/python3.10/dist-packages (from uvicorn[standard]>=0.17.5; extra == \"server\"->zenml[server]) (0.6.1)\n",
            "Requirement already satisfied: uvloop!=0.15.0,!=0.15.1,>=0.14.0 in /usr/local/lib/python3.10/dist-packages (from uvicorn[standard]>=0.17.5; extra == \"server\"->zenml[server]) (0.20.0)\n",
            "Requirement already satisfied: watchfiles>=0.13 in /usr/local/lib/python3.10/dist-packages (from uvicorn[standard]>=0.17.5; extra == \"server\"->zenml[server]) (0.24.0)\n",
            "Requirement already satisfied: websockets>=10.4 in /usr/local/lib/python3.10/dist-packages (from uvicorn[standard]>=0.17.5; extra == \"server\"->zenml[server]) (13.0.1)\n",
            "Requirement already satisfied: MarkupSafe>=2.0 in /usr/local/lib/python3.10/dist-packages (from Jinja2->zenml[server]) (2.1.5)\n",
            "Requirement already satisfied: aiohappyeyeballs>=2.3.0 in /usr/local/lib/python3.10/dist-packages (from aiohttp<=4->ipinfo>=4.4.3->zenml[server]) (2.4.0)\n",
            "Requirement already satisfied: aiosignal>=1.1.2 in /usr/local/lib/python3.10/dist-packages (from aiohttp<=4->ipinfo>=4.4.3->zenml[server]) (1.3.1)\n",
            "Requirement already satisfied: attrs>=17.3.0 in /usr/local/lib/python3.10/dist-packages (from aiohttp<=4->ipinfo>=4.4.3->zenml[server]) (24.2.0)\n",
            "Requirement already satisfied: frozenlist>=1.1.1 in /usr/local/lib/python3.10/dist-packages (from aiohttp<=4->ipinfo>=4.4.3->zenml[server]) (1.4.1)\n",
            "Requirement already satisfied: multidict<7.0,>=4.5 in /usr/local/lib/python3.10/dist-packages (from aiohttp<=4->ipinfo>=4.4.3->zenml[server]) (6.0.5)\n",
            "Requirement already satisfied: yarl<2.0,>=1.0 in /usr/local/lib/python3.10/dist-packages (from aiohttp<=4->ipinfo>=4.4.3->zenml[server]) (1.10.0)\n",
            "Requirement already satisfied: async-timeout<5.0,>=4.0 in /usr/local/lib/python3.10/dist-packages (from aiohttp<=4->ipinfo>=4.4.3->zenml[server]) (4.0.3)\n",
            "Requirement already satisfied: smmap<6,>=3.0.1 in /usr/local/lib/python3.10/dist-packages (from gitdb<5,>=4.0.1->gitpython<4.0.0,>=3.1.18->zenml[server]) (5.0.1)\n",
            "Requirement already satisfied: ipykernel>=4.5.1 in /usr/local/lib/python3.10/dist-packages (from ipywidgets<9,>=7.5.1->rich[jupyter]>=12.0.0->zenml[server]) (5.5.6)\n",
            "Requirement already satisfied: ipython-genutils~=0.2.0 in /usr/local/lib/python3.10/dist-packages (from ipywidgets<9,>=7.5.1->rich[jupyter]>=12.0.0->zenml[server]) (0.2.0)\n",
            "Requirement already satisfied: traitlets>=4.3.1 in /usr/local/lib/python3.10/dist-packages (from ipywidgets<9,>=7.5.1->rich[jupyter]>=12.0.0->zenml[server]) (5.7.1)\n",
            "Requirement already satisfied: widgetsnbextension~=3.6.0 in /usr/local/lib/python3.10/dist-packages (from ipywidgets<9,>=7.5.1->rich[jupyter]>=12.0.0->zenml[server]) (3.6.8)\n",
            "Requirement already satisfied: ipython>=4.0.0 in /usr/local/lib/python3.10/dist-packages (from ipywidgets<9,>=7.5.1->rich[jupyter]>=12.0.0->zenml[server]) (7.34.0)\n",
            "Requirement already satisfied: jupyterlab-widgets>=1.0.0 in /usr/local/lib/python3.10/dist-packages (from ipywidgets<9,>=7.5.1->rich[jupyter]>=12.0.0->zenml[server]) (3.0.13)\n",
            "Requirement already satisfied: mdurl~=0.1 in /usr/local/lib/python3.10/dist-packages (from markdown-it-py>=2.2.0->rich>=12.0.0->rich[jupyter]>=12.0.0->zenml[server]) (0.1.2)\n",
            "Requirement already satisfied: charset-normalizer<4,>=2 in /usr/local/lib/python3.10/dist-packages (from requests>=2.26.0->docker<7.2.0,>=7.1.0->zenml[server]) (3.3.2)\n",
            "Requirement already satisfied: idna<4,>=2.5 in /usr/local/lib/python3.10/dist-packages (from requests>=2.26.0->docker<7.2.0,>=7.1.0->zenml[server]) (3.8)\n",
            "Requirement already satisfied: certifi>=2017.4.17 in /usr/local/lib/python3.10/dist-packages (from requests>=2.26.0->docker<7.2.0,>=7.1.0->zenml[server]) (2024.8.30)\n",
            "Requirement already satisfied: anyio<5,>=3.4.0 in /usr/local/lib/python3.10/dist-packages (from starlette<0.37.0,>=0.36.3->fastapi<=0.110,>=0.100->zenml[server]) (3.7.1)\n",
            "Requirement already satisfied: decorator>=3.4.0 in /usr/local/lib/python3.10/dist-packages (from validators<0.19,>=0.18->click-params<0.4.0,>=0.3.0->zenml[server]) (5.1.1)\n",
            "Requirement already satisfied: sniffio>=1.1 in /usr/local/lib/python3.10/dist-packages (from anyio<5,>=3.4.0->starlette<0.37.0,>=0.36.3->fastapi<=0.110,>=0.100->zenml[server]) (1.3.1)\n",
            "Requirement already satisfied: exceptiongroup in /usr/local/lib/python3.10/dist-packages (from anyio<5,>=3.4.0->starlette<0.37.0,>=0.36.3->fastapi<=0.110,>=0.100->zenml[server]) (1.2.2)\n",
            "Requirement already satisfied: jupyter-client in /usr/local/lib/python3.10/dist-packages (from ipykernel>=4.5.1->ipywidgets<9,>=7.5.1->rich[jupyter]>=12.0.0->zenml[server]) (6.1.12)\n",
            "Requirement already satisfied: tornado>=4.2 in /usr/local/lib/python3.10/dist-packages (from ipykernel>=4.5.1->ipywidgets<9,>=7.5.1->rich[jupyter]>=12.0.0->zenml[server]) (6.3.3)\n",
            "Requirement already satisfied: setuptools>=18.5 in /usr/local/lib/python3.10/dist-packages (from ipython>=4.0.0->ipywidgets<9,>=7.5.1->rich[jupyter]>=12.0.0->zenml[server]) (71.0.4)\n",
            "Requirement already satisfied: jedi>=0.16 in /usr/local/lib/python3.10/dist-packages (from ipython>=4.0.0->ipywidgets<9,>=7.5.1->rich[jupyter]>=12.0.0->zenml[server]) (0.19.1)\n",
            "Requirement already satisfied: pickleshare in /usr/local/lib/python3.10/dist-packages (from ipython>=4.0.0->ipywidgets<9,>=7.5.1->rich[jupyter]>=12.0.0->zenml[server]) (0.7.5)\n",
            "Requirement already satisfied: prompt-toolkit!=3.0.0,!=3.0.1,<3.1.0,>=2.0.0 in /usr/local/lib/python3.10/dist-packages (from ipython>=4.0.0->ipywidgets<9,>=7.5.1->rich[jupyter]>=12.0.0->zenml[server]) (3.0.47)\n",
            "Requirement already satisfied: backcall in /usr/local/lib/python3.10/dist-packages (from ipython>=4.0.0->ipywidgets<9,>=7.5.1->rich[jupyter]>=12.0.0->zenml[server]) (0.2.0)\n",
            "Requirement already satisfied: matplotlib-inline in /usr/local/lib/python3.10/dist-packages (from ipython>=4.0.0->ipywidgets<9,>=7.5.1->rich[jupyter]>=12.0.0->zenml[server]) (0.1.7)\n",
            "Requirement already satisfied: pexpect>4.3 in /usr/local/lib/python3.10/dist-packages (from ipython>=4.0.0->ipywidgets<9,>=7.5.1->rich[jupyter]>=12.0.0->zenml[server]) (4.9.0)\n",
            "Requirement already satisfied: notebook>=4.4.1 in /usr/local/lib/python3.10/dist-packages (from widgetsnbextension~=3.6.0->ipywidgets<9,>=7.5.1->rich[jupyter]>=12.0.0->zenml[server]) (6.5.5)\n",
            "Requirement already satisfied: parso<0.9.0,>=0.8.3 in /usr/local/lib/python3.10/dist-packages (from jedi>=0.16->ipython>=4.0.0->ipywidgets<9,>=7.5.1->rich[jupyter]>=12.0.0->zenml[server]) (0.8.4)\n",
            "Requirement already satisfied: pyzmq<25,>=17 in /usr/local/lib/python3.10/dist-packages (from notebook>=4.4.1->widgetsnbextension~=3.6.0->ipywidgets<9,>=7.5.1->rich[jupyter]>=12.0.0->zenml[server]) (24.0.1)\n",
            "Requirement already satisfied: argon2-cffi in /usr/local/lib/python3.10/dist-packages (from notebook>=4.4.1->widgetsnbextension~=3.6.0->ipywidgets<9,>=7.5.1->rich[jupyter]>=12.0.0->zenml[server]) (23.1.0)\n",
            "Requirement already satisfied: jupyter-core>=4.6.1 in /usr/local/lib/python3.10/dist-packages (from notebook>=4.4.1->widgetsnbextension~=3.6.0->ipywidgets<9,>=7.5.1->rich[jupyter]>=12.0.0->zenml[server]) (5.7.2)\n",
            "Requirement already satisfied: nbformat in /usr/local/lib/python3.10/dist-packages (from notebook>=4.4.1->widgetsnbextension~=3.6.0->ipywidgets<9,>=7.5.1->rich[jupyter]>=12.0.0->zenml[server]) (5.10.4)\n",
            "Requirement already satisfied: nbconvert>=5 in /usr/local/lib/python3.10/dist-packages (from notebook>=4.4.1->widgetsnbextension~=3.6.0->ipywidgets<9,>=7.5.1->rich[jupyter]>=12.0.0->zenml[server]) (7.16.4)\n",
            "Requirement already satisfied: nest-asyncio>=1.5 in /usr/local/lib/python3.10/dist-packages (from notebook>=4.4.1->widgetsnbextension~=3.6.0->ipywidgets<9,>=7.5.1->rich[jupyter]>=12.0.0->zenml[server]) (1.6.0)\n",
            "Requirement already satisfied: Send2Trash>=1.8.0 in /usr/local/lib/python3.10/dist-packages (from notebook>=4.4.1->widgetsnbextension~=3.6.0->ipywidgets<9,>=7.5.1->rich[jupyter]>=12.0.0->zenml[server]) (1.8.3)\n",
            "Requirement already satisfied: terminado>=0.8.3 in /usr/local/lib/python3.10/dist-packages (from notebook>=4.4.1->widgetsnbextension~=3.6.0->ipywidgets<9,>=7.5.1->rich[jupyter]>=12.0.0->zenml[server]) (0.18.1)\n",
            "Requirement already satisfied: prometheus-client in /usr/local/lib/python3.10/dist-packages (from notebook>=4.4.1->widgetsnbextension~=3.6.0->ipywidgets<9,>=7.5.1->rich[jupyter]>=12.0.0->zenml[server]) (0.20.0)\n",
            "Requirement already satisfied: nbclassic>=0.4.7 in /usr/local/lib/python3.10/dist-packages (from notebook>=4.4.1->widgetsnbextension~=3.6.0->ipywidgets<9,>=7.5.1->rich[jupyter]>=12.0.0->zenml[server]) (1.1.0)\n",
            "Requirement already satisfied: ptyprocess>=0.5 in /usr/local/lib/python3.10/dist-packages (from pexpect>4.3->ipython>=4.0.0->ipywidgets<9,>=7.5.1->rich[jupyter]>=12.0.0->zenml[server]) (0.7.0)\n",
            "Requirement already satisfied: wcwidth in /usr/local/lib/python3.10/dist-packages (from prompt-toolkit!=3.0.0,!=3.0.1,<3.1.0,>=2.0.0->ipython>=4.0.0->ipywidgets<9,>=7.5.1->rich[jupyter]>=12.0.0->zenml[server]) (0.2.13)\n",
            "Requirement already satisfied: platformdirs>=2.5 in /usr/local/lib/python3.10/dist-packages (from jupyter-core>=4.6.1->notebook>=4.4.1->widgetsnbextension~=3.6.0->ipywidgets<9,>=7.5.1->rich[jupyter]>=12.0.0->zenml[server]) (4.2.2)\n",
            "Requirement already satisfied: notebook-shim>=0.2.3 in /usr/local/lib/python3.10/dist-packages (from nbclassic>=0.4.7->notebook>=4.4.1->widgetsnbextension~=3.6.0->ipywidgets<9,>=7.5.1->rich[jupyter]>=12.0.0->zenml[server]) (0.2.4)\n",
            "Requirement already satisfied: beautifulsoup4 in /usr/local/lib/python3.10/dist-packages (from nbconvert>=5->notebook>=4.4.1->widgetsnbextension~=3.6.0->ipywidgets<9,>=7.5.1->rich[jupyter]>=12.0.0->zenml[server]) (4.12.3)\n",
            "Requirement already satisfied: bleach!=5.0.0 in /usr/local/lib/python3.10/dist-packages (from nbconvert>=5->notebook>=4.4.1->widgetsnbextension~=3.6.0->ipywidgets<9,>=7.5.1->rich[jupyter]>=12.0.0->zenml[server]) (6.1.0)\n",
            "Requirement already satisfied: defusedxml in /usr/local/lib/python3.10/dist-packages (from nbconvert>=5->notebook>=4.4.1->widgetsnbextension~=3.6.0->ipywidgets<9,>=7.5.1->rich[jupyter]>=12.0.0->zenml[server]) (0.7.1)\n",
            "Requirement already satisfied: jupyterlab-pygments in /usr/local/lib/python3.10/dist-packages (from nbconvert>=5->notebook>=4.4.1->widgetsnbextension~=3.6.0->ipywidgets<9,>=7.5.1->rich[jupyter]>=12.0.0->zenml[server]) (0.3.0)\n",
            "Requirement already satisfied: mistune<4,>=2.0.3 in /usr/local/lib/python3.10/dist-packages (from nbconvert>=5->notebook>=4.4.1->widgetsnbextension~=3.6.0->ipywidgets<9,>=7.5.1->rich[jupyter]>=12.0.0->zenml[server]) (3.0.2)\n",
            "Requirement already satisfied: nbclient>=0.5.0 in /usr/local/lib/python3.10/dist-packages (from nbconvert>=5->notebook>=4.4.1->widgetsnbextension~=3.6.0->ipywidgets<9,>=7.5.1->rich[jupyter]>=12.0.0->zenml[server]) (0.10.0)\n",
            "Requirement already satisfied: pandocfilters>=1.4.1 in /usr/local/lib/python3.10/dist-packages (from nbconvert>=5->notebook>=4.4.1->widgetsnbextension~=3.6.0->ipywidgets<9,>=7.5.1->rich[jupyter]>=12.0.0->zenml[server]) (1.5.1)\n",
            "Requirement already satisfied: tinycss2 in /usr/local/lib/python3.10/dist-packages (from nbconvert>=5->notebook>=4.4.1->widgetsnbextension~=3.6.0->ipywidgets<9,>=7.5.1->rich[jupyter]>=12.0.0->zenml[server]) (1.3.0)\n",
            "Requirement already satisfied: fastjsonschema>=2.15 in /usr/local/lib/python3.10/dist-packages (from nbformat->notebook>=4.4.1->widgetsnbextension~=3.6.0->ipywidgets<9,>=7.5.1->rich[jupyter]>=12.0.0->zenml[server]) (2.20.0)\n",
            "Requirement already satisfied: jsonschema>=2.6 in /usr/local/lib/python3.10/dist-packages (from nbformat->notebook>=4.4.1->widgetsnbextension~=3.6.0->ipywidgets<9,>=7.5.1->rich[jupyter]>=12.0.0->zenml[server]) (4.23.0)\n",
            "Requirement already satisfied: argon2-cffi-bindings in /usr/local/lib/python3.10/dist-packages (from argon2-cffi->notebook>=4.4.1->widgetsnbextension~=3.6.0->ipywidgets<9,>=7.5.1->rich[jupyter]>=12.0.0->zenml[server]) (21.2.0)\n",
            "Requirement already satisfied: webencodings in /usr/local/lib/python3.10/dist-packages (from bleach!=5.0.0->nbconvert>=5->notebook>=4.4.1->widgetsnbextension~=3.6.0->ipywidgets<9,>=7.5.1->rich[jupyter]>=12.0.0->zenml[server]) (0.5.1)\n",
            "Requirement already satisfied: jsonschema-specifications>=2023.03.6 in /usr/local/lib/python3.10/dist-packages (from jsonschema>=2.6->nbformat->notebook>=4.4.1->widgetsnbextension~=3.6.0->ipywidgets<9,>=7.5.1->rich[jupyter]>=12.0.0->zenml[server]) (2023.12.1)\n",
            "Requirement already satisfied: referencing>=0.28.4 in /usr/local/lib/python3.10/dist-packages (from jsonschema>=2.6->nbformat->notebook>=4.4.1->widgetsnbextension~=3.6.0->ipywidgets<9,>=7.5.1->rich[jupyter]>=12.0.0->zenml[server]) (0.35.1)\n",
            "Requirement already satisfied: rpds-py>=0.7.1 in /usr/local/lib/python3.10/dist-packages (from jsonschema>=2.6->nbformat->notebook>=4.4.1->widgetsnbextension~=3.6.0->ipywidgets<9,>=7.5.1->rich[jupyter]>=12.0.0->zenml[server]) (0.20.0)\n",
            "Requirement already satisfied: jupyter-server<3,>=1.8 in /usr/local/lib/python3.10/dist-packages (from notebook-shim>=0.2.3->nbclassic>=0.4.7->notebook>=4.4.1->widgetsnbextension~=3.6.0->ipywidgets<9,>=7.5.1->rich[jupyter]>=12.0.0->zenml[server]) (1.24.0)\n",
            "Requirement already satisfied: cffi>=1.0.1 in /usr/local/lib/python3.10/dist-packages (from argon2-cffi-bindings->argon2-cffi->notebook>=4.4.1->widgetsnbextension~=3.6.0->ipywidgets<9,>=7.5.1->rich[jupyter]>=12.0.0->zenml[server]) (1.17.0)\n",
            "Requirement already satisfied: soupsieve>1.2 in /usr/local/lib/python3.10/dist-packages (from beautifulsoup4->nbconvert>=5->notebook>=4.4.1->widgetsnbextension~=3.6.0->ipywidgets<9,>=7.5.1->rich[jupyter]>=12.0.0->zenml[server]) (2.6)\n",
            "Requirement already satisfied: pycparser in /usr/local/lib/python3.10/dist-packages (from cffi>=1.0.1->argon2-cffi-bindings->argon2-cffi->notebook>=4.4.1->widgetsnbextension~=3.6.0->ipywidgets<9,>=7.5.1->rich[jupyter]>=12.0.0->zenml[server]) (2.22)\n",
            "Requirement already satisfied: websocket-client in /usr/local/lib/python3.10/dist-packages (from jupyter-server<3,>=1.8->notebook-shim>=0.2.3->nbclassic>=0.4.7->notebook>=4.4.1->widgetsnbextension~=3.6.0->ipywidgets<9,>=7.5.1->rich[jupyter]>=12.0.0->zenml[server]) (1.8.0)\n",
            "\u001b[2K\u001b[32m⠦\u001b[0m Installing integrations...\n",
            "\u001b[1A\u001b[2KCollecting pyparsing==2.4.2\n",
            "  Downloading pyparsing-2.4.2-py2.py3-none-any.whl.metadata (1.1 kB)\n",
            "Downloading pyparsing-2.4.2-py2.py3-none-any.whl (65 kB)\n",
            "\u001b[2K   \u001b[90m━━━━━━━━━━━━━━━━━━━━━━━━━━━━━━━━━━━━━━━━\u001b[0m \u001b[32m65.5/65.5 kB\u001b[0m \u001b[31m736.6 kB/s\u001b[0m eta \u001b[36m0:00:00\u001b[0m\n",
            "\u001b[?25hInstalling collected packages: pyparsing\n",
            "  Attempting uninstall: pyparsing\n",
            "    Found existing installation: pyparsing 2.4.7\n",
            "    Uninstalling pyparsing-2.4.7:\n",
            "      Successfully uninstalled pyparsing-2.4.7\n",
            "Successfully installed pyparsing-2.4.2\n"
          ]
        },
        {
          "output_type": "display_data",
          "data": {
            "application/vnd.colab-display-data+json": {
              "pip_warning": {
                "packages": [
                  "pyparsing"
                ]
              },
              "id": "b4bb61953c72464981686dc46ad84e44"
            }
          },
          "metadata": {}
        },
        {
          "output_type": "execute_result",
          "data": {
            "text/plain": [
              "{'status': 'ok', 'restart': True}"
            ]
          },
          "metadata": {},
          "execution_count": 1
        }
      ],
      "source": [
        "%pip install \"zenml[server]\"\n",
        "!zenml integration install sklearn -y\n",
        "%pip install pyparsing==2.4.2\n",
        "\n",
        "import IPython\n",
        "\n",
        "IPython.Application.instance().kernel.do_shutdown(restart=True)"
      ]
    },
    {
      "cell_type": "markdown",
      "source": [
        "### Set Ngrok Token\n",
        "\n",
        "To enable ZenML to run with a remote dashboard, you'll need to set up Ngrok with your authentication token. Replace the `NGROK_TOKEN` value with your personal token.\n",
        "\n",
        "```python\n",
        "# Set your Ngrok token\n",
        "NGROK_TOKEN = \"<YOUR_TOKEN>\"\n"
      ],
      "metadata": {
        "id": "P2o66ViujW0I"
      }
    },
    {
      "cell_type": "code",
      "execution_count": 1,
      "metadata": {
        "id": "MG3fgdOqCvSO"
      },
      "outputs": [],
      "source": [
        "NGROK_TOKEN = \"2leOXvPgrpSgsENdT4wyHK87Rr3_3BwAkrcZSw2XoBZR3VVzz\""
      ]
    },
    {
      "cell_type": "markdown",
      "source": [
        "### Set Up Ngrok in Google Colab\n",
        "\n",
        "To ensure that the ZenML dashboard works properly in Google Colab, you'll need to install and configure Ngrok.\n",
        "\n",
        "```python\n",
        "from zenml.environment import Environment\n",
        "\n",
        "# Check if the environment is Google Colab\n",
        "if Environment.in_google_colab():\n",
        "    # Install the pyngrok package\n",
        "    !pip install pyngrok\n",
        "    \n",
        "    # Authenticate Ngrok with your token\n",
        "    !ngrok authtoken {NGROK_TOKEN}\n"
      ],
      "metadata": {
        "id": "-FCossjUjmm2"
      }
    },
    {
      "cell_type": "code",
      "execution_count": 2,
      "metadata": {
        "colab": {
          "base_uri": "https://localhost:8080/"
        },
        "id": "Ebj0_gxIC2b_",
        "outputId": "380a7886-572c-408b-bd60-df575848a3cb"
      },
      "outputs": [
        {
          "output_type": "stream",
          "name": "stdout",
          "text": [
            "Collecting pyngrok\n",
            "  Downloading pyngrok-7.2.0-py3-none-any.whl.metadata (7.4 kB)\n",
            "Requirement already satisfied: PyYAML>=5.1 in /usr/local/lib/python3.10/dist-packages (from pyngrok) (6.0.2)\n",
            "Downloading pyngrok-7.2.0-py3-none-any.whl (22 kB)\n",
            "Installing collected packages: pyngrok\n",
            "Successfully installed pyngrok-7.2.0\n",
            "Authtoken saved to configuration file: /root/.config/ngrok/ngrok.yml\n"
          ]
        }
      ],
      "source": [
        "from zenml.environment import Environment\n",
        "if Environment.in_google_colab():\n",
        "  !pip install pyngrok\n",
        "  !ngrok authtoken {NGROK_TOKEN}"
      ]
    },
    {
      "cell_type": "markdown",
      "source": [
        "### Initialize ZenML in the Colab Environment\n",
        "\n",
        "Before starting with ZenML pipelines, you need to set up a ZenML repository. This process involves the following steps:\n",
        "\n",
        "1. **Remove Existing ZenML Repository**:\n",
        "\n",
        "   This command deletes the `.zen` directory if it exists. The `.zen` directory is where ZenML stores its configuration and metadata. Removing it ensures that any previous configurations or setups are cleared, allowing you to start with a clean slate.\n",
        "\n",
        "   ```bash\n",
        "   !rm -rf .zen\n",
        "### 2.Initialize a New ZenML Repository:\n",
        "\n",
        "This command initializes a new ZenML repository in your environment. It sets up the necessary directory structure and configuration files for ZenML to manage pipelines and artifacts.\n",
        "\n",
        "  ```bash\n",
        "  !zenml init\n",
        "zenml init is a ZenML command that initializes the ZenML environment.\n",
        "This will create a new .zen directory with the default configuration and set up the necessary environment for ZenML to function correctly."
      ],
      "metadata": {
        "id": "jZBiWjc8jqUK"
      }
    },
    {
      "cell_type": "code",
      "execution_count": 3,
      "metadata": {
        "colab": {
          "base_uri": "https://localhost:8080/"
        },
        "id": "EBSA7q4cDeLX",
        "outputId": "dd61868b-9afb-4ae3-cb28-d8eae321a57e"
      },
      "outputs": [
        {
          "output_type": "stream",
          "name": "stdout",
          "text": [
            "\u001b[?25l\u001b[1;35mInitializing the ZenML global configuration version to 0.65.0\u001b[0m\n",
            "\u001b[32m⠋\u001b[0m Initializing ZenML repository at /content.\n",
            "\u001b[1;35mCreating database tables\u001b[0m\n",
            "\u001b[2K\u001b[1A\u001b[2K\u001b[32m⠙\u001b[0m Initializing ZenML repository at /content.\n",
            "\u001b[2K\u001b[1A\u001b[2K\u001b[32m⠹\u001b[0m Initializing ZenML repository at /content.\n",
            "\u001b[2K\u001b[1A\u001b[2K\u001b[32m⠸\u001b[0m Initializing ZenML repository at /content.\n",
            "\u001b[2K\u001b[1A\u001b[2K\u001b[32m⠼\u001b[0m Initializing ZenML repository at /content.\n",
            "\u001b[2K\u001b[1A\u001b[2K\u001b[32m⠴\u001b[0m Initializing ZenML repository at /content.\n",
            "\u001b[2K\u001b[1A\u001b[2K\u001b[32m⠦\u001b[0m Initializing ZenML repository at /content.\n",
            "\u001b[2K\u001b[1A\u001b[2K\u001b[32m⠧\u001b[0m Initializing ZenML repository at /content.\n",
            "\u001b[2K\u001b[1A\u001b[2K\u001b[32m⠇\u001b[0m Initializing ZenML repository at /content.\n",
            "\u001b[2K\u001b[1A\u001b[2K\u001b[32m⠏\u001b[0m Initializing ZenML repository at /content.\n",
            "\u001b[2K\u001b[1A\u001b[2K\u001b[32m⠋\u001b[0m Initializing ZenML repository at /content.\n",
            "\u001b[2K\u001b[1A\u001b[2K\u001b[32m⠙\u001b[0m Initializing ZenML repository at /content.\n",
            "\u001b[2K\u001b[1A\u001b[2K\u001b[32m⠹\u001b[0m Initializing ZenML repository at /content.\n",
            "\u001b[1;35mCreating default workspace 'default' ...\u001b[0m\n",
            "\u001b[1;35mCreating default stack in workspace default...\u001b[0m\n",
            "\u001b[2K\u001b[1A\u001b[2K\u001b[32m⠸\u001b[0m Initializing ZenML repository at /content.\n",
            "\u001b[2K\u001b[1A\u001b[2K\u001b[32m⠼\u001b[0m Initializing ZenML repository at /content.\n",
            "\u001b[2K\u001b[1A\u001b[2K\u001b[32m⠴\u001b[0m Initializing ZenML repository at /content.\n",
            "\u001b[2K\u001b[1A\u001b[2K\u001b[32m⠦\u001b[0m Initializing ZenML repository at /content.\n",
            "\u001b[2K\u001b[1A\u001b[2K\u001b[32m⠧\u001b[0m Initializing ZenML repository at /content.\n",
            "\u001b[2K\u001b[1A\u001b[2K\u001b[32m⠇\u001b[0m Initializing ZenML repository at /content.\n",
            "\u001b[1;35mSetting the global active workspace to 'default'.\u001b[0m\n",
            "\u001b[33mSetting the global active stack to default.\u001b[0m\n",
            "\u001b[1;35mSetting the repo active workspace to 'default'.\u001b[0m\n",
            "\u001b[33mSetting the repo active stack to default.\u001b[0m\n",
            "\u001b[2K\u001b[1A\u001b[2K\u001b[32m⠏\u001b[0m Initializing ZenML repository at /content.\n",
            "\u001b[2K\u001b[1A\u001b[2K\u001b[32m⠋\u001b[0m Initializing ZenML repository at /content.\n",
            "\u001b[2K\u001b[1A\u001b[2K\u001b[32m⠙\u001b[0m Initializing ZenML repository at /content.\n",
            "\u001b[2K\u001b[1A\u001b[2K\u001b[32m⠹\u001b[0m Initializing ZenML repository at /content.\n",
            "\u001b[2K\u001b[1A\u001b[2K\u001b[32m⠸\u001b[0m Initializing ZenML repository at /content.\n",
            "\u001b[2K\u001b[1A\u001b[2K\u001b[32m⠼\u001b[0m Initializing ZenML repository at /content.\n",
            "\u001b[2K\u001b[1A\u001b[2K\u001b[32m⠴\u001b[0m Initializing ZenML repository at /content.\n",
            "\u001b[2K\u001b[1A\u001b[2K\u001b[32m⠦\u001b[0m Initializing ZenML repository at /content.\n",
            "\u001b[2K\u001b[1A\u001b[2K\u001b[32m⠧\u001b[0m Initializing ZenML repository at /content.\n",
            "\u001b[2K\u001b[1A\u001b[2K\u001b[32m⠇\u001b[0m Initializing ZenML repository at /content.\n",
            "\u001b[2K\u001b[1A\u001b[2K\u001b[32m⠏\u001b[0m Initializing ZenML repository at /content.\n",
            "\u001b[2K\u001b[1A\u001b[2K\u001b[32m⠋\u001b[0m Initializing ZenML repository at /content.\n",
            "\u001b[2K\u001b[1A\u001b[2K\u001b[32m⠙\u001b[0m Initializing ZenML repository at /content.\n",
            "\u001b[2K\u001b[1A\u001b[2K\u001b[32m⠹\u001b[0m Initializing ZenML repository at /content.\n",
            "\u001b[2K\u001b[1A\u001b[2K\u001b[32m⠸\u001b[0m Initializing ZenML repository at /content.\n",
            "\u001b[2K\u001b[1A\u001b[2K\u001b[32m⠼\u001b[0m Initializing ZenML repository at /content.\n",
            "\u001b[2K\u001b[1A\u001b[2K\u001b[32m⠴\u001b[0m Initializing ZenML repository at /content.\n",
            "\u001b[2K\u001b[1A\u001b[2K\u001b[32m⠦\u001b[0m Initializing ZenML repository at /content.\n",
            "\u001b[2K\u001b[1A\u001b[2K\u001b[32m⠇\u001b[0m Initializing ZenML repository at /content.\n",
            "\u001b[2K\u001b[1A\u001b[2K\u001b[32m⠏\u001b[0m Initializing ZenML repository at /content.\n",
            "\u001b[2K\u001b[1A\u001b[2K\u001b[32m⠋\u001b[0m Initializing ZenML repository at /content.\n",
            "\u001b[2K\u001b[1A\u001b[2K\u001b[32m⠙\u001b[0m Initializing ZenML repository at /content.\n",
            "\u001b[2K\u001b[1A\u001b[2K\u001b[32m⠹\u001b[0m Initializing ZenML repository at /content.\n",
            "\u001b[2K\u001b[1A\u001b[2K\u001b[32m⠸\u001b[0m Initializing ZenML repository at /content.\n",
            "\u001b[2K\u001b[1A\u001b[2K\u001b[32m⠼\u001b[0m Initializing ZenML repository at /content.\n",
            "\u001b[2K\u001b[1A\u001b[2K\u001b[32m⠴\u001b[0m Initializing ZenML repository at /content.\n",
            "\u001b[2K\u001b[1A\u001b[2K\u001b[32m⠦\u001b[0m Initializing ZenML repository at /content.\n",
            "\u001b[2K\u001b[1A\u001b[2K\u001b[32m⠧\u001b[0m Initializing ZenML repository at /content.\n",
            "\u001b[2K\u001b[1A\u001b[2K\u001b[32m⠇\u001b[0m Initializing ZenML repository at /content.\n",
            "\u001b[2K\u001b[1A\u001b[2K\u001b[32m⠏\u001b[0m Initializing ZenML repository at /content.\n",
            "\u001b[2K\u001b[1A\u001b[2K\u001b[32m⠋\u001b[0m Initializing ZenML repository at /content.\n",
            "\u001b[2K\u001b[1A\u001b[2K\u001b[32m⠙\u001b[0m Initializing ZenML repository at /content.\n",
            "\u001b[2K\u001b[1A\u001b[2K\u001b[32m⠹\u001b[0m Initializing ZenML repository at /content.\n",
            "\u001b[2K\u001b[1A\u001b[2K\u001b[32m⠸\u001b[0m Initializing ZenML repository at /content.\n",
            "\u001b[2K\u001b[1A\u001b[2K\u001b[32m⠼\u001b[0m Initializing ZenML repository at /content.\n",
            "\u001b[2K\u001b[1A\u001b[2K\u001b[32m⠴\u001b[0m Initializing ZenML repository at /content.\n",
            "\u001b[2K\u001b[1A\u001b[2K\u001b[32m⠦\u001b[0m Initializing ZenML repository at /content.\n",
            "\u001b[2K\u001b[1A\u001b[2K\u001b[32m⠧\u001b[0m Initializing ZenML repository at /content.\n",
            "\u001b[2K\u001b[1A\u001b[2K\u001b[32m⠇\u001b[0m Initializing ZenML repository at /content.\n",
            "\u001b[2K\u001b[1A\u001b[2K\u001b[32m⠏\u001b[0m Initializing ZenML repository at /content.\n",
            "\u001b[2K\u001b[1A\u001b[2K\u001b[32m⠋\u001b[0m Initializing ZenML repository at /content.\n",
            "\u001b[2K\u001b[1A\u001b[2K\u001b[32m⠙\u001b[0m Initializing ZenML repository at /content.\n",
            "\u001b[2K\u001b[1A\u001b[2K\u001b[32m⠹\u001b[0m Initializing ZenML repository at /content.\n",
            "\u001b[2K\u001b[1A\u001b[2K\u001b[32m⠸\u001b[0m Initializing ZenML repository at /content.\n",
            "\u001b[2K\u001b[1A\u001b[2K\u001b[32m⠼\u001b[0m Initializing ZenML repository at /content.\n",
            "\u001b[2K\u001b[1A\u001b[2K\u001b[32m⠴\u001b[0m Initializing ZenML repository at /content.\n",
            "\u001b[2K\u001b[1A\u001b[2K\u001b[32m⠦\u001b[0m Initializing ZenML repository at /content.\n",
            "\u001b[2K\u001b[1A\u001b[2K\u001b[32m⠧\u001b[0m Initializing ZenML repository at /content.\n",
            "\u001b[2K\u001b[1A\u001b[2K\u001b[32m⠇\u001b[0m Initializing ZenML repository at /content.\n",
            "\u001b[2K\u001b[1A\u001b[2K\u001b[32m⠏\u001b[0m Initializing ZenML repository at /content.\n",
            "\u001b[2K\u001b[1A\u001b[2K\u001b[32m⠋\u001b[0m Initializing ZenML repository at /content.\n",
            "\u001b[2K\u001b[1A\u001b[2K\u001b[32m⠙\u001b[0m Initializing ZenML repository at /content.\n",
            "\u001b[2K\u001b[1A\u001b[2K\u001b[32m⠹\u001b[0m Initializing ZenML repository at /content.\n",
            "\u001b[2K\u001b[1A\u001b[2K\u001b[32m⠼\u001b[0m Initializing ZenML repository at /content.\n",
            "\u001b[2K\u001b[1A\u001b[2K\u001b[32m⠴\u001b[0m Initializing ZenML repository at /content.\n",
            "\u001b[2K\u001b[1A\u001b[2K\u001b[32m⠦\u001b[0m Initializing ZenML repository at /content.\n",
            "\u001b[1;35mReloading configuration file /content/.zen/config.yaml\u001b[0m\n",
            "\u001b[2K\u001b[1A\u001b[2K\u001b[2;36mZenML repository initialized at \u001b[0m\u001b[2;35m/\u001b[0m\u001b[2;95mcontent.\u001b[0m\n",
            "\u001b[2;32m⠦\u001b[0m\u001b[2;36m Initializing ZenML repository at /content.\u001b[0m\n",
            "\u001b[2K\u001b[1A\u001b[2K\u001b[32m⠦\u001b[0m Initializing ZenML repository at /content.\n",
            "\n",
            "\u001b[1A\u001b[2K\u001b[1A\u001b[2K\u001b[2;36mThe local active stack was initialized to \u001b[0m\u001b[2;32m'default'\u001b[0m\u001b[2;36m. This local configuration will only take effect \u001b[0m\n",
            "\u001b[2;36mwhen you're running ZenML from the initialized repository root, or from a subdirectory. For more \u001b[0m\n",
            "\u001b[2;36minformation on repositories and configurations, please visit \u001b[0m\n",
            "\u001b[2;4;94mhttps://docs.zenml.io/user-guide/starter-guide/understand-stacks.\u001b[0m\n"
          ]
        }
      ],
      "source": [
        "!rm -rf .zen\n",
        "!zenml init"
      ]
    },
    {
      "cell_type": "markdown",
      "source": [
        "### Custom SVC Classifier with Training and Visualization\n",
        "\n",
        "This script demonstrates how to use a custom classifier, `CustomSVC`, to train on the digits dataset and visualize the results.\n",
        "\n",
        "1. **Imports**: Necessary libraries for data handling, model training, and visualization.\n",
        "\n",
        "2. **CustomSVC Class**:\n",
        "   - Inherits from `SVC` and `ClassifierMixin`.\n",
        "   - Uses `SVC`'s implementation for training and prediction.\n",
        "\n",
        "3. **train_and_visualize Function**:\n",
        "   - Loads and preprocesses the digits dataset.\n",
        "   - Splits data into training and testing sets.\n",
        "   - Trains the `CustomSVC` model.\n",
        "   - Predicts test data and calculates accuracy.\n",
        "   - Visualizes sample predictions and confusion matrix.\n",
        "\n",
        "4. **plot_sample_predictions Function**:\n",
        "   - Displays sample test images with true and predicted labels.\n",
        "\n",
        "5. **plot_confusion_matrix Function**:\n",
        "   - Plots the confusion matrix to assess classifier performance.\n",
        "\n",
        "The `train_and_visualize` function is executed to perform training and visualization.\n"
      ],
      "metadata": {
        "id": "juKWNszrkoww"
      }
    },
    {
      "cell_type": "code",
      "execution_count": 4,
      "metadata": {
        "colab": {
          "base_uri": "https://localhost:8080/",
          "height": 966
        },
        "id": "dp7Jxr9zD71x",
        "outputId": "3fe31a07-3602-41c9-aecd-b14efcc186d8"
      },
      "outputs": [
        {
          "output_type": "stream",
          "name": "stdout",
          "text": [
            "Test accuracy: 0.99\n"
          ]
        },
        {
          "output_type": "display_data",
          "data": {
            "text/plain": [
              "<Figure size 1000x500 with 10 Axes>"
            ],
            "image/png": "[encoded data removed]"
          },
          "metadata": {}
        },
        {
          "output_type": "display_data",
          "data": {
            "text/plain": [
              "<Figure size 640x480 with 2 Axes>"
            ],
            "image/png": "[encoded data removed]"
          },
          "metadata": {}
        }
      ],
      "source": [
        "import numpy as np\n",
        "import matplotlib.pyplot as plt\n",
        "from sklearn.svm import SVC\n",
        "from sklearn.base import ClassifierMixin\n",
        "from sklearn.datasets import load_digits\n",
        "from sklearn.model_selection import train_test_split\n",
        "from sklearn.metrics import accuracy_score, confusion_matrix, ConfusionMatrixDisplay\n",
        "\n",
        "\n",
        "# Custom classifier inheriting from SVC and ClassifierMixin\n",
        "class CustomSVC(SVC, ClassifierMixin):\n",
        "    def __init__(self, gamma=0.001):\n",
        "        super().__init__(gamma=gamma)\n",
        "\n",
        "    # No need to implement fit, predict, or score since SVC provides them\n",
        "    # ClassifierMixin provides the standard API requirements for classification\n",
        "\n",
        "\n",
        "def train_and_visualize() -> None:\n",
        "    # Load digits dataset\n",
        "    digits = load_digits()\n",
        "    data = digits.images.reshape((len(digits.images), -1))\n",
        "\n",
        "    # Split into train and test datasets\n",
        "    X_train, X_test, y_train, y_test = train_test_split(data, digits.target, test_size=0.2, shuffle=True, random_state=42)\n",
        "\n",
        "    # Create and train the custom model\n",
        "    model = CustomSVC()\n",
        "    model.fit(X_train, y_train)\n",
        "\n",
        "    # Predict and calculate accuracy\n",
        "    y_pred = model.predict(X_test)\n",
        "    test_acc = accuracy_score(y_test, y_pred)\n",
        "    print(f\"Test accuracy: {test_acc:.2f}\")\n",
        "\n",
        "    # Visualize some test predictions\n",
        "    plot_sample_predictions(digits, X_test, y_test, y_pred)\n",
        "\n",
        "    # Visualize the confusion matrix\n",
        "    plot_confusion_matrix(y_test, y_pred)\n",
        "\n",
        "\n",
        "def plot_sample_predictions(digits, X_test, y_test, y_pred):\n",
        "    \"\"\"Plot sample images with their true and predicted labels\"\"\"\n",
        "    fig, axes = plt.subplots(2, 5, figsize=(10, 5))\n",
        "    for i, ax in enumerate(axes.ravel()):\n",
        "        ax.imshow(X_test[i].reshape(8, 8), cmap='gray')\n",
        "        ax.set_title(f\"True: {y_test[i]}\\nPred: {y_pred[i]}\")\n",
        "        ax.axis('off')\n",
        "    plt.tight_layout()\n",
        "    plt.show()\n",
        "\n",
        "\n",
        "def plot_confusion_matrix(y_test, y_pred):\n",
        "    \"\"\"Plot confusion matrix to see how well the classifier performed.\"\"\"\n",
        "    cm = confusion_matrix(y_test, y_pred)\n",
        "    disp = ConfusionMatrixDisplay(confusion_matrix=cm)\n",
        "    disp.plot(cmap='Blues')\n",
        "    plt.title(\"Confusion Matrix\")\n",
        "    plt.show()\n",
        "\n",
        "\n",
        "# Run the function\n",
        "train_and_visualize()\n"
      ]
    },
    {
      "cell_type": "markdown",
      "source": [
        "### ZenML Pipeline for Digit Classification\n",
        "\n",
        "This script sets up a ZenML pipeline to classify handwritten digits using an SVC model and visualize the results.\n",
        "\n",
        "1. **Imports**: Necessary libraries for data handling, model training, and visualization.\n",
        "\n",
        "2. **ZenML Steps**:\n",
        "\n",
        "   - **`importer` Step**:\n",
        "     - Loads the digits dataset and reshapes the images.\n",
        "     - Splits the data into training and test sets.\n",
        "\n",
        "   - **`svc_trainer` Step**:\n",
        "     - Creates and trains an SVC model using the training data.\n",
        "     - Returns the trained model.\n",
        "\n",
        "   - **`evaluator` Step**:\n",
        "     - Accepts the model and test data.\n",
        "     - Makes predictions and calculates the accuracy.\n",
        "     - Returns both accuracy and predictions.\n",
        "\n",
        "   - **`visualizer` Step**:\n",
        "     - Visualizes results, including sample predictions and confusion matrix.\n",
        "\n",
        "3. **Visualization Functions**:\n",
        "\n",
        "   - **`plot_sample_predictions`**:\n",
        "     - Displays sample test images with true and predicted labels.\n",
        "\n",
        "   - **`plot_confusion_matrix`**:\n",
        "     - Plots a heatmap of the confusion matrix to show classification performance.\n",
        "\n",
        "This pipeline performs data import, model training, evaluation, and visualization of results.\n"
      ],
      "metadata": {
        "id": "ba2CMHK9kyVU"
      }
    },
    {
      "cell_type": "code",
      "execution_count": 14,
      "metadata": {
        "id": "k4opl_q0GH6R"
      },
      "outputs": [],
      "source": [
        "from zenml import step, pipeline\n",
        "from typing_extensions import Annotated\n",
        "from sklearn.datasets import load_digits\n",
        "from sklearn.model_selection import train_test_split\n",
        "from sklearn.svm import SVC\n",
        "from sklearn.base import ClassifierMixin\n",
        "from sklearn.metrics import accuracy_score, confusion_matrix\n",
        "import numpy as np\n",
        "import matplotlib.pyplot as plt\n",
        "import seaborn as sns\n",
        "from typing import Tuple\n",
        "\n",
        "# Step to import and split the data\n",
        "@step\n",
        "def importer() -> Tuple[\n",
        "    Annotated[np.ndarray, \"X_train\"],\n",
        "    Annotated[np.ndarray, \"X_test\"],\n",
        "    Annotated[np.ndarray, \"y_train\"],\n",
        "    Annotated[np.ndarray, \"y_test\"],\n",
        "]:\n",
        "    # Load the digits dataset\n",
        "    digits = load_digits()\n",
        "    data = digits.images.reshape((len(digits.images), -1))\n",
        "\n",
        "    # Split the data into training and test sets\n",
        "    X_train, X_test, y_train, y_test = train_test_split(data, digits.target, test_size=0.2, shuffle=True, random_state=42)\n",
        "    return X_train, X_test, y_train, y_test\n",
        "\n",
        "# Step to train the SVC model\n",
        "@step\n",
        "def svc_trainer(\n",
        "    X_train: np.ndarray,\n",
        "    y_train: np.ndarray,\n",
        ") -> ClassifierMixin:\n",
        "    # Create and train the SVC model\n",
        "    model = SVC(gamma=0.001)\n",
        "    model.fit(X_train, y_train)\n",
        "    return model\n",
        "\n",
        "# Step to evaluate the model\n",
        "@step\n",
        "def evaluator(\n",
        "    X_test: np.ndarray,\n",
        "    y_test: np.ndarray,\n",
        "    model: ClassifierMixin,  # Accept model\n",
        ") -> Tuple[float, np.ndarray]:\n",
        "    # Make predictions\n",
        "    y_pred = model.predict(X_test)\n",
        "\n",
        "    # Evaluate the model on the test set and print accuracy\n",
        "    test_acc = model.score(X_test, y_test)\n",
        "    print(f\"Test accuracy: {test_acc:.2f}\")\n",
        "    return test_acc, y_pred  # Return both accuracy and predictions\n",
        "\n",
        "# Step to visualize results\n",
        "@step\n",
        "def visualizer(\n",
        "    X_test: np.ndarray,\n",
        "    y_test: np.ndarray,\n",
        "    y_pred: np.ndarray,\n",
        ") -> None:\n",
        "    \"\"\"Visualize the results including confusion matrix and sample predictions.\"\"\"\n",
        "\n",
        "    # Plot sample predictions\n",
        "    plot_sample_predictions(X_test, y_test, y_pred)\n",
        "\n",
        "    # Plot confusion matrix\n",
        "    plot_confusion_matrix(y_test, y_pred)\n",
        "\n",
        "def plot_sample_predictions(X_test: np.ndarray, y_test: np.ndarray, y_pred: np.ndarray) -> None:\n",
        "    \"\"\"Plot sample images with their true and predicted labels\"\"\"\n",
        "    fig, axes = plt.subplots(2, 5, figsize=(10, 5))\n",
        "    for i, ax in enumerate(axes.ravel()):\n",
        "        ax.imshow(X_test[i].reshape(8, 8), cmap='gray')\n",
        "        ax.set_title(f\"True: {y_test[i]}\\nPred: {y_pred[i]}\")\n",
        "        ax.axis('off')\n",
        "    plt.tight_layout()\n",
        "    plt.show()\n",
        "\n",
        "def plot_confusion_matrix(y_test: np.ndarray, y_pred: np.ndarray) -> None:\n",
        "    \"\"\"Plot a Seaborn heatmap for the confusion matrix\"\"\"\n",
        "    cm = confusion_matrix(y_test, y_pred)\n",
        "    plt.figure(figsize=(8, 6))\n",
        "    sns.heatmap(cm, annot=True, fmt='d', cmap='Blues', cbar=False, xticklabels=np.unique(y_test), yticklabels=np.unique(y_test))\n",
        "    plt.title(\"Confusion Matrix (Seaborn Heatmap)\")\n",
        "    plt.xlabel(\"Predicted Label\")\n",
        "    plt.ylabel(\"True Label\")\n",
        "    plt.show()"
      ]
    },
    {
      "cell_type": "markdown",
      "source": [
        "### ZenML Pipeline Definition for Digit Recognition\n",
        "\n",
        "This section defines the ZenML pipeline for digit classification using an SVC model.\n",
        "\n",
        "1. **Pipeline Definition**:\n",
        "\n",
        "   - **`digit_recognition_pipeline`**:\n",
        "     - **`importer` Step**: Loads and splits the digits dataset into training and test sets.\n",
        "     - **`svc_trainer` Step**: Trains the SVC model on the training data.\n",
        "     - **`evaluator` Step**: Evaluates the model on the test data, returns both accuracy and predictions.\n",
        "     - **`visualizer` Step**: Visualizes sample predictions and the confusion matrix using the test data and predictions.\n",
        "\n",
        "2. **Pipeline Output**:\n",
        "   - The pipeline returns the test accuracy of the model.\n",
        "\n",
        "This pipeline integrates the data loading, model training, evaluation, and visualization steps to provide a complete workflow for digit recognition.\n"
      ],
      "metadata": {
        "id": "XRKXpmvxk77g"
      }
    },
    {
      "cell_type": "code",
      "execution_count": 15,
      "metadata": {
        "id": "4xy5iE8Yd0YB"
      },
      "outputs": [],
      "source": [
        "from zenml import pipeline\n",
        "\n",
        "@pipeline\n",
        "def digit_recognition_pipeline():\n",
        "    X_train, X_test, y_train, y_test = importer()\n",
        "    model = svc_trainer(X_train, y_train)\n",
        "    test_acc, y_pred = evaluator(X_test, y_test, model)  # Get both accuracy and predictions\n",
        "    visualizer(X_test, y_test, y_pred)\n",
        "    return test_acc\n"
      ]
    },
    {
      "cell_type": "markdown",
      "source": [
        "### Pipeline Instance Creation\n",
        "\n",
        "This line of code creates an instance of the `digit_recognition_pipeline`:\n",
        "\n",
        "```python\n",
        "digits_svc_pipeline = digit_recognition_pipeline()\n"
      ],
      "metadata": {
        "id": "4WFSez_Ak-Yi"
      }
    },
    {
      "cell_type": "code",
      "execution_count": 17,
      "metadata": {
        "id": "b7B9J5q2eJsh",
        "colab": {
          "base_uri": "https://localhost:8080/"
        },
        "outputId": "dbb0b879-95d6-4ca8-dd8a-29e08410f20a"
      },
      "outputs": [
        {
          "output_type": "stream",
          "name": "stdout",
          "text": [
            "\u001b[1;35mInitiating a new run for the pipeline: \u001b[0m\u001b[1;36mdigit_recognition_pipeline\u001b[1;35m.\u001b[0m\n",
            "\u001b[1;35mExecuting a new run.\u001b[0m\n",
            "\u001b[1;35mUsing user: \u001b[0m\u001b[1;36mdefault\u001b[1;35m\u001b[0m\n",
            "\u001b[1;35mUsing stack: \u001b[0m\u001b[1;36mdefault\u001b[1;35m\u001b[0m\n",
            "\u001b[1;35m  orchestrator: \u001b[0m\u001b[1;36mdefault\u001b[1;35m\u001b[0m\n",
            "\u001b[1;35m  artifact_store: \u001b[0m\u001b[1;36mdefault\u001b[1;35m\u001b[0m\n",
            "\u001b[1;35mYou can visualize your pipeline runs in the \u001b[0m\u001b[1;36mZenML Dashboard\u001b[1;35m. In order to try it locally, please run \u001b[0m\u001b[1;36mzenml up\u001b[1;35m.\u001b[0m\n",
            "\u001b[1;35mUsing cached version of \u001b[0m\u001b[1;36mimporter\u001b[1;35m.\u001b[0m\n",
            "\u001b[1;35mStep \u001b[0m\u001b[1;36mimporter\u001b[1;35m has started.\u001b[0m\n",
            "\u001b[1;35mUsing cached version of \u001b[0m\u001b[1;36msvc_trainer\u001b[1;35m.\u001b[0m\n",
            "\u001b[1;35mStep \u001b[0m\u001b[1;36msvc_trainer\u001b[1;35m has started.\u001b[0m\n",
            "\u001b[1;35mUsing cached version of \u001b[0m\u001b[1;36mevaluator\u001b[1;35m.\u001b[0m\n",
            "\u001b[1;35mStep \u001b[0m\u001b[1;36mevaluator\u001b[1;35m has started.\u001b[0m\n",
            "\u001b[1;35mUsing cached version of \u001b[0m\u001b[1;36mvisualizer\u001b[1;35m.\u001b[0m\n",
            "\u001b[1;35mStep \u001b[0m\u001b[1;36mvisualizer\u001b[1;35m has started.\u001b[0m\n",
            "\u001b[1;35mPipeline run has finished in \u001b[0m\u001b[1;36m0.684s\u001b[1;35m.\u001b[0m\n"
          ]
        }
      ],
      "source": [
        "digits_svc_pipeline = digit_recognition_pipeline()"
      ]
    },
    {
      "cell_type": "markdown",
      "source": [
        "### Start ZenML Dashboard\n",
        "\n",
        "This function starts the ZenML dashboard and provides access based on the environment (Google Colab or local).\n",
        "\n",
        "1. **Function Definition**:\n",
        "\n",
        "   - **`start_zenml_dashboard(port=8237)`**:\n",
        "     - **`port`**: The port on which the ZenML dashboard will run (default is 8237).\n",
        "\n",
        "2. **Google Colab Environment**:\n",
        "   - If running in Google Colab, it uses `pyngrok` to create a secure tunnel to the local port.\n",
        "   - **`ngrok.connect(port)`**: Establishes the tunnel and returns a public URL.\n",
        "   - Prints the public URL to access the ZenML dashboard from Colab.\n",
        "   - Runs `!zenml up --blocking --port {port}` to start the dashboard and block the execution until it is stopped.\n",
        "\n",
        "3. **Local Environment**:\n",
        "   - If not in Colab, it starts the ZenML dashboard directly using `!zenml up --port {port}` without blocking.\n",
        "\n",
        "4. **Function Call**:\n",
        "\n",
        "   ```python\n",
        "   start_zenml_dashboard()\n"
      ],
      "metadata": {
        "id": "KNYn3J1tlLqZ"
      }
    },
    {
      "cell_type": "code",
      "execution_count": null,
      "metadata": {
        "colab": {
          "background_save": true,
          "base_uri": "https://localhost:8080/"
        },
        "id": "PbY1dKxvfw4t",
        "outputId": "a2814632-316f-4b3d-ece9-2665e0bfe6df"
      },
      "outputs": [
        {
          "output_type": "stream",
          "name": "stderr",
          "text": [
            "INFO:pyngrok.ngrok:Opening tunnel named: http-8237-d46632f7-31e9-470b-911a-b81c3d058b8f\n"
          ]
        },
        {
          "output_type": "stream",
          "name": "stdout",
          "text": [
            "\u001b[1;35mOpening tunnel named: http-8237-d46632f7-31e9-470b-911a-b81c3d058b8f\u001b[0m\n"
          ]
        },
        {
          "output_type": "stream",
          "name": "stderr",
          "text": [
            "INFO:pyngrok.process.ngrok:t=2024-09-08T12:07:49+0000 lvl=info msg=\"no configuration paths supplied\"\n"
          ]
        },
        {
          "output_type": "stream",
          "name": "stdout",
          "text": [
            "\u001b[1;35mt=2024-09-08T12:07:49+0000 lvl=info msg=\"no configuration paths supplied\"\u001b[0m\n"
          ]
        },
        {
          "output_type": "stream",
          "name": "stderr",
          "text": [
            "INFO:pyngrok.process.ngrok:t=2024-09-08T12:07:49+0000 lvl=info msg=\"using configuration at default config path\" path=/root/.config/ngrok/ngrok.yml\n"
          ]
        },
        {
          "output_type": "stream",
          "name": "stdout",
          "text": [
            "\u001b[1;35mt=2024-09-08T12:07:49+0000 lvl=info msg=\"using configuration at default config path\" path=/root/.config/ngrok/ngrok.yml\u001b[0m\n"
          ]
        },
        {
          "output_type": "stream",
          "name": "stderr",
          "text": [
            "INFO:pyngrok.process.ngrok:t=2024-09-08T12:07:49+0000 lvl=info msg=\"open config file\" path=/root/.config/ngrok/ngrok.yml err=nil\n"
          ]
        },
        {
          "output_type": "stream",
          "name": "stdout",
          "text": [
            "\u001b[1;35mt=2024-09-08T12:07:49+0000 lvl=info msg=\"open config file\" path=/root/.config/ngrok/ngrok.yml err=nil\u001b[0m\n"
          ]
        },
        {
          "output_type": "stream",
          "name": "stderr",
          "text": [
            "INFO:pyngrok.process.ngrok:t=2024-09-08T12:07:49+0000 lvl=info msg=\"starting web service\" obj=web addr=127.0.0.1:4040 allow_hosts=[]\n"
          ]
        },
        {
          "output_type": "stream",
          "name": "stdout",
          "text": [
            "\u001b[1;35mt=2024-09-08T12:07:49+0000 lvl=info msg=\"starting web service\" obj=web addr=127.0.0.1:4040 allow_hosts=[]\u001b[0m\n"
          ]
        },
        {
          "output_type": "stream",
          "name": "stderr",
          "text": [
            "INFO:pyngrok.process.ngrok:t=2024-09-08T12:07:49+0000 lvl=info msg=\"client session established\" obj=tunnels.session\n"
          ]
        },
        {
          "output_type": "stream",
          "name": "stdout",
          "text": [
            "\u001b[1;35mt=2024-09-08T12:07:49+0000 lvl=info msg=\"client session established\" obj=tunnels.session\u001b[0m\n"
          ]
        },
        {
          "output_type": "stream",
          "name": "stderr",
          "text": [
            "INFO:pyngrok.process.ngrok:t=2024-09-08T12:07:49+0000 lvl=info msg=\"tunnel session started\" obj=tunnels.session\n"
          ]
        },
        {
          "output_type": "stream",
          "name": "stdout",
          "text": [
            "\u001b[1;35mt=2024-09-08T12:07:49+0000 lvl=info msg=\"tunnel session started\" obj=tunnels.session\u001b[0m\n"
          ]
        },
        {
          "output_type": "stream",
          "name": "stderr",
          "text": [
            "INFO:pyngrok.process.ngrok:t=2024-09-08T12:07:49+0000 lvl=info msg=start pg=/api/tunnels id=ca6f94380e946aba\n"
          ]
        },
        {
          "output_type": "stream",
          "name": "stdout",
          "text": [
            "\u001b[1;35mt=2024-09-08T12:07:49+0000 lvl=info msg=start pg=/api/tunnels id=ca6f94380e946aba\u001b[0m\n"
          ]
        },
        {
          "output_type": "stream",
          "name": "stderr",
          "text": [
            "INFO:pyngrok.process.ngrok:t=2024-09-08T12:07:49+0000 lvl=info msg=end pg=/api/tunnels id=ca6f94380e946aba status=200 dur=260.66µs\n"
          ]
        },
        {
          "output_type": "stream",
          "name": "stdout",
          "text": [
            "\u001b[1;35mt=2024-09-08T12:07:49+0000 lvl=info msg=end pg=/api/tunnels id=ca6f94380e946aba status=200 dur=260.66µs\u001b[0m\n"
          ]
        },
        {
          "output_type": "stream",
          "name": "stderr",
          "text": [
            "INFO:pyngrok.process.ngrok:t=2024-09-08T12:07:49+0000 lvl=info msg=start pg=/api/tunnels id=80f499bbf2041264\n"
          ]
        },
        {
          "output_type": "stream",
          "name": "stdout",
          "text": [
            "\u001b[1;35mt=2024-09-08T12:07:49+0000 lvl=info msg=start pg=/api/tunnels id=80f499bbf2041264\u001b[0m\n"
          ]
        },
        {
          "output_type": "stream",
          "name": "stderr",
          "text": [
            "INFO:pyngrok.process.ngrok:t=2024-09-08T12:07:49+0000 lvl=info msg=end pg=/api/tunnels id=80f499bbf2041264 status=200 dur=89.98µs\n"
          ]
        },
        {
          "output_type": "stream",
          "name": "stdout",
          "text": [
            "\u001b[1;35mt=2024-09-08T12:07:49+0000 lvl=info msg=end pg=/api/tunnels id=80f499bbf2041264 status=200 dur=89.98µs\u001b[0m\n"
          ]
        },
        {
          "output_type": "stream",
          "name": "stderr",
          "text": [
            "INFO:pyngrok.process.ngrok:t=2024-09-08T12:07:49+0000 lvl=info msg=start pg=/api/tunnels id=87d176fa7e10c330\n"
          ]
        },
        {
          "output_type": "stream",
          "name": "stdout",
          "text": [
            "\u001b[1;35mt=2024-09-08T12:07:49+0000 lvl=info msg=start pg=/api/tunnels id=87d176fa7e10c330\u001b[0m\n"
          ]
        },
        {
          "output_type": "stream",
          "name": "stderr",
          "text": [
            "INFO:pyngrok.process.ngrok:t=2024-09-08T12:07:49+0000 lvl=info msg=\"started tunnel\" obj=tunnels name=http-8237-d46632f7-31e9-470b-911a-b81c3d058b8f addr=http://localhost:8237 url=https://9a06-34-172-87-242.ngrok-free.app\n"
          ]
        },
        {
          "output_type": "stream",
          "name": "stdout",
          "text": [
            "\u001b[31mIn Colab, use this URL instead: NgrokTunnel: \"https://9a06-34-172-87-242.ngrok-free.app\" -> \"http://localhost:8237\"\u001b[0m\n",
            "\u001b[1;35mt=2024-09-08T12:07:49+0000 lvl=info msg=\"started tunnel\" obj=tunnels name=http-8237-d46632f7-31e9-470b-911a-b81c3d058b8f addr=\u001b[0m\u001b[34mhttp://localhost:8237\u001b[1;35m url=\u001b[0m\u001b[34mhttps://9a06-34-172-87-242.ngrok-free.app\u001b[1;35m\u001b[0m\n"
          ]
        },
        {
          "output_type": "stream",
          "name": "stderr",
          "text": [
            "INFO:pyngrok.process.ngrok:t=2024-09-08T12:07:49+0000 lvl=info msg=end pg=/api/tunnels id=87d176fa7e10c330 status=201 dur=27.186681ms\n"
          ]
        },
        {
          "output_type": "stream",
          "name": "stdout",
          "text": [
            "\u001b[1;35mt=2024-09-08T12:07:49+0000 lvl=info msg=end pg=/api/tunnels id=87d176fa7e10c330 status=201 dur=27.186681ms\u001b[0m\n",
            "\u001b[2;36mThe local ZenML dashboard is about to deploy in a blocking process. You can connect to it using the \u001b[0m\n",
            "\u001b[2;32m'default'\u001b[0m\u001b[2;36m username and an empty password.\u001b[0m\n",
            "\u001b[1;35mDeploying a local ZenML server with name 'local'.\u001b[0m\n",
            "\u001b[1;35mInitializing the ZenML global configuration version to 0.65.0\u001b[0m\n",
            "\u001b[1;35mStarting ZenML Server as blocking process... press CTRL+C once to stop it.\u001b[0m\n",
            "\u001b[32mINFO\u001b[0m:     Started server process [\u001b[36m5646\u001b[0m]\n",
            "\u001b[32mINFO\u001b[0m:     Waiting for application startup.\n",
            "\u001b[1;35mNot writing the global configuration to disk in a ZenML server environment.\u001b[0m\n",
            "\u001b[1;35mNot writing the global configuration to disk in a ZenML server environment.\u001b[0m\n",
            "\u001b[32mINFO\u001b[0m:     Application startup complete.\n",
            "\u001b[32mINFO\u001b[0m:     Uvicorn running on \u001b[1mhttp://127.0.0.1:8237\u001b[0m (Press CTRL+C to quit)\n"
          ]
        },
        {
          "output_type": "stream",
          "name": "stderr",
          "text": [
            "INFO:pyngrok.process.ngrok:t=2024-09-08T12:08:13+0000 lvl=info msg=\"join connections\" obj=join id=397ad6b08575 l=127.0.0.1:8237 r=[2405:201:e00a:b0bb:6979:1cc8:431a:e357]:64949\n"
          ]
        },
        {
          "output_type": "stream",
          "name": "stdout",
          "text": [
            "\u001b[1;35mt=2024-09-08T12:08:13+0000 lvl=info msg=\"join connections\" obj=join id=397ad6b08575 l=127.0.0.1:8237 r=[2405:201:e00a:b0bb:6979:1cc8:431a:e357]:64949\u001b[0m\n",
            "\u001b[32mINFO\u001b[0m:     2405:201:e00a:b0bb:6979:1cc8:431a:e357:0 - \"\u001b[1mGET / HTTP/1.1\u001b[0m\" \u001b[32m200 OK\u001b[0m\n"
          ]
        },
        {
          "output_type": "stream",
          "name": "stderr",
          "text": [
            "INFO:pyngrok.process.ngrok:t=2024-09-08T12:08:13+0000 lvl=info msg=\"join connections\" obj=join id=4e95a9f58ad3 l=127.0.0.1:8237 r=[2405:201:e00a:b0bb:6979:1cc8:431a:e357]:64949\n"
          ]
        },
        {
          "output_type": "stream",
          "name": "stdout",
          "text": [
            "\u001b[32mINFO\u001b[0m:     2405:201:e00a:b0bb:6979:1cc8:431a:e357:0 - \"\u001b[1mGET /assets/index-Davdjm1d.js HTTP/1.1\u001b[0m\" \u001b[32m200 OK\u001b[0m\n",
            "\u001b[1;35mt=2024-09-08T12:08:13+0000 lvl=info msg=\"join connections\" obj=join id=4e95a9f58ad3 l=127.0.0.1:8237 r=[2405:201:e00a:b0bb:6979:1cc8:431a:e357]:64949\u001b[0m\n"
          ]
        },
        {
          "output_type": "stream",
          "name": "stderr",
          "text": [
            "INFO:pyngrok.process.ngrok:t=2024-09-08T12:08:13+0000 lvl=info msg=\"join connections\" obj=join id=5f099f82cf5b l=127.0.0.1:8237 r=[2405:201:e00a:b0bb:6979:1cc8:431a:e357]:64949\n"
          ]
        },
        {
          "output_type": "stream",
          "name": "stdout",
          "text": [
            "\u001b[1;35mt=2024-09-08T12:08:13+0000 lvl=info msg=\"join connections\" obj=join id=5f099f82cf5b l=127.0.0.1:8237 r=[2405:201:e00a:b0bb:6979:1cc8:431a:e357]:64949\u001b[0m\n"
          ]
        },
        {
          "output_type": "stream",
          "name": "stderr",
          "text": [
            "INFO:pyngrok.process.ngrok:t=2024-09-08T12:08:13+0000 lvl=info msg=\"join connections\" obj=join id=4a6086f69ffa l=127.0.0.1:8237 r=[2405:201:e00a:b0bb:6979:1cc8:431a:e357]:64949\n"
          ]
        },
        {
          "output_type": "stream",
          "name": "stdout",
          "text": [
            "\u001b[1;35mt=2024-09-08T12:08:13+0000 lvl=info msg=\"join connections\" obj=join id=4a6086f69ffa l=127.0.0.1:8237 r=[2405:201:e00a:b0bb:6979:1cc8:431a:e357]:64949\u001b[0m\n"
          ]
        },
        {
          "output_type": "stream",
          "name": "stderr",
          "text": [
            "INFO:pyngrok.process.ngrok:t=2024-09-08T12:08:13+0000 lvl=info msg=\"join connections\" obj=join id=6ced22cfe3c8 l=127.0.0.1:8237 r=[2405:201:e00a:b0bb:6979:1cc8:431a:e357]:64949\n"
          ]
        },
        {
          "output_type": "stream",
          "name": "stdout",
          "text": [
            "\u001b[1;35mt=2024-09-08T12:08:13+0000 lvl=info msg=\"join connections\" obj=join id=6ced22cfe3c8 l=127.0.0.1:8237 r=[2405:201:e00a:b0bb:6979:1cc8:431a:e357]:64949\u001b[0m\n"
          ]
        },
        {
          "output_type": "stream",
          "name": "stderr",
          "text": [
            "INFO:pyngrok.process.ngrok:t=2024-09-08T12:08:13+0000 lvl=info msg=\"join connections\" obj=join id=154ddd29cf12 l=127.0.0.1:8237 r=[2405:201:e00a:b0bb:6979:1cc8:431a:e357]:64949\n"
          ]
        },
        {
          "output_type": "stream",
          "name": "stdout",
          "text": [
            "\u001b[1;35mt=2024-09-08T12:08:13+0000 lvl=info msg=\"join connections\" obj=join id=154ddd29cf12 l=127.0.0.1:8237 r=[2405:201:e00a:b0bb:6979:1cc8:431a:e357]:64949\u001b[0m\n"
          ]
        },
        {
          "output_type": "stream",
          "name": "stderr",
          "text": [
            "INFO:pyngrok.process.ngrok:t=2024-09-08T12:08:13+0000 lvl=info msg=\"join connections\" obj=join id=87b21e7ed134 l=127.0.0.1:8237 r=[2405:201:e00a:b0bb:6979:1cc8:431a:e357]:64949\n"
          ]
        },
        {
          "output_type": "stream",
          "name": "stdout",
          "text": [
            "\u001b[1;35mt=2024-09-08T12:08:13+0000 lvl=info msg=\"join connections\" obj=join id=87b21e7ed134 l=127.0.0.1:8237 r=[2405:201:e00a:b0bb:6979:1cc8:431a:e357]:64949\u001b[0m\n"
          ]
        },
        {
          "output_type": "stream",
          "name": "stderr",
          "text": [
            "INFO:pyngrok.process.ngrok:t=2024-09-08T12:08:13+0000 lvl=info msg=\"join connections\" obj=join id=6a5363736e74 l=127.0.0.1:8237 r=[2405:201:e00a:b0bb:6979:1cc8:431a:e357]:64949\n"
          ]
        },
        {
          "output_type": "stream",
          "name": "stdout",
          "text": [
            "\u001b[1;35mt=2024-09-08T12:08:13+0000 lvl=info msg=\"join connections\" obj=join id=6a5363736e74 l=127.0.0.1:8237 r=[2405:201:e00a:b0bb:6979:1cc8:431a:e357]:64949\u001b[0m\n"
          ]
        },
        {
          "output_type": "stream",
          "name": "stderr",
          "text": [
            "INFO:pyngrok.process.ngrok:t=2024-09-08T12:08:13+0000 lvl=info msg=\"join connections\" obj=join id=9d133907ffbf l=127.0.0.1:8237 r=[2405:201:e00a:b0bb:6979:1cc8:431a:e357]:64949\n"
          ]
        },
        {
          "output_type": "stream",
          "name": "stdout",
          "text": [
            "\u001b[1;35mt=2024-09-08T12:08:13+0000 lvl=info msg=\"join connections\" obj=join id=9d133907ffbf l=127.0.0.1:8237 r=[2405:201:e00a:b0bb:6979:1cc8:431a:e357]:64949\u001b[0m\n"
          ]
        },
        {
          "output_type": "stream",
          "name": "stderr",
          "text": [
            "INFO:pyngrok.process.ngrok:t=2024-09-08T12:08:13+0000 lvl=info msg=\"join connections\" obj=join id=d19bcdb5f81b l=127.0.0.1:8237 r=[2405:201:e00a:b0bb:6979:1cc8:431a:e357]:64949\n"
          ]
        },
        {
          "output_type": "stream",
          "name": "stdout",
          "text": [
            "\u001b[1;35mt=2024-09-08T12:08:13+0000 lvl=info msg=\"join connections\" obj=join id=d19bcdb5f81b l=127.0.0.1:8237 r=[2405:201:e00a:b0bb:6979:1cc8:431a:e357]:64949\u001b[0m\n"
          ]
        },
        {
          "output_type": "stream",
          "name": "stderr",
          "text": [
            "INFO:pyngrok.process.ngrok:t=2024-09-08T12:08:13+0000 lvl=info msg=\"join connections\" obj=join id=ebbb7a9cd82e l=127.0.0.1:8237 r=[2405:201:e00a:b0bb:6979:1cc8:431a:e357]:64949\n"
          ]
        },
        {
          "output_type": "stream",
          "name": "stdout",
          "text": [
            "\u001b[1;35mt=2024-09-08T12:08:13+0000 lvl=info msg=\"join connections\" obj=join id=ebbb7a9cd82e l=127.0.0.1:8237 r=[2405:201:e00a:b0bb:6979:1cc8:431a:e357]:64949\u001b[0m\n"
          ]
        },
        {
          "output_type": "stream",
          "name": "stderr",
          "text": [
            "INFO:pyngrok.process.ngrok:t=2024-09-08T12:08:13+0000 lvl=info msg=\"join connections\" obj=join id=df7c11a57acf l=127.0.0.1:8237 r=[2405:201:e00a:b0bb:6979:1cc8:431a:e357]:64949\n"
          ]
        },
        {
          "output_type": "stream",
          "name": "stdout",
          "text": [
            "\u001b[1;35mt=2024-09-08T12:08:13+0000 lvl=info msg=\"join connections\" obj=join id=df7c11a57acf l=127.0.0.1:8237 r=[2405:201:e00a:b0bb:6979:1cc8:431a:e357]:64949\u001b[0m\n"
          ]
        },
        {
          "output_type": "stream",
          "name": "stderr",
          "text": [
            "INFO:pyngrok.process.ngrok:t=2024-09-08T12:08:13+0000 lvl=info msg=\"join connections\" obj=join id=0fcac030c74c l=127.0.0.1:8237 r=[2405:201:e00a:b0bb:6979:1cc8:431a:e357]:64949\n"
          ]
        },
        {
          "output_type": "stream",
          "name": "stdout",
          "text": [
            "\u001b[1;35mt=2024-09-08T12:08:13+0000 lvl=info msg=\"join connections\" obj=join id=0fcac030c74c l=127.0.0.1:8237 r=[2405:201:e00a:b0bb:6979:1cc8:431a:e357]:64949\u001b[0m\n"
          ]
        },
        {
          "output_type": "stream",
          "name": "stderr",
          "text": [
            "INFO:pyngrok.process.ngrok:t=2024-09-08T12:08:13+0000 lvl=info msg=\"join connections\" obj=join id=f604470e1c11 l=127.0.0.1:8237 r=[2405:201:e00a:b0bb:6979:1cc8:431a:e357]:64949\n"
          ]
        },
        {
          "output_type": "stream",
          "name": "stdout",
          "text": [
            "\u001b[1;35mt=2024-09-08T12:08:13+0000 lvl=info msg=\"join connections\" obj=join id=f604470e1c11 l=127.0.0.1:8237 r=[2405:201:e00a:b0bb:6979:1cc8:431a:e357]:64949\u001b[0m\n"
          ]
        },
        {
          "output_type": "stream",
          "name": "stderr",
          "text": [
            "INFO:pyngrok.process.ngrok:t=2024-09-08T12:08:13+0000 lvl=info msg=\"join connections\" obj=join id=25ec25fccc03 l=127.0.0.1:8237 r=[2405:201:e00a:b0bb:6979:1cc8:431a:e357]:64949\n"
          ]
        },
        {
          "output_type": "stream",
          "name": "stdout",
          "text": [
            "\u001b[1;35mt=2024-09-08T12:08:13+0000 lvl=info msg=\"join connections\" obj=join id=25ec25fccc03 l=127.0.0.1:8237 r=[2405:201:e00a:b0bb:6979:1cc8:431a:e357]:64949\u001b[0m\n"
          ]
        },
        {
          "output_type": "stream",
          "name": "stderr",
          "text": [
            "INFO:pyngrok.process.ngrok:t=2024-09-08T12:08:13+0000 lvl=info msg=\"join connections\" obj=join id=0bbd360f48eb l=127.0.0.1:8237 r=[2405:201:e00a:b0bb:6979:1cc8:431a:e357]:64949\n"
          ]
        },
        {
          "output_type": "stream",
          "name": "stdout",
          "text": [
            "\u001b[1;35mt=2024-09-08T12:08:13+0000 lvl=info msg=\"join connections\" obj=join id=0bbd360f48eb l=127.0.0.1:8237 r=[2405:201:e00a:b0bb:6979:1cc8:431a:e357]:64949\u001b[0m\n"
          ]
        },
        {
          "output_type": "stream",
          "name": "stderr",
          "text": [
            "INFO:pyngrok.process.ngrok:t=2024-09-08T12:08:13+0000 lvl=info msg=\"join connections\" obj=join id=afae75bc407b l=127.0.0.1:8237 r=[2405:201:e00a:b0bb:6979:1cc8:431a:e357]:64949\n"
          ]
        },
        {
          "output_type": "stream",
          "name": "stdout",
          "text": [
            "\u001b[1;35mt=2024-09-08T12:08:13+0000 lvl=info msg=\"join connections\" obj=join id=afae75bc407b l=127.0.0.1:8237 r=[2405:201:e00a:b0bb:6979:1cc8:431a:e357]:64949\u001b[0m\n"
          ]
        },
        {
          "output_type": "stream",
          "name": "stderr",
          "text": [
            "INFO:pyngrok.process.ngrok:t=2024-09-08T12:08:13+0000 lvl=info msg=\"join connections\" obj=join id=8cec29a300fc l=127.0.0.1:8237 r=[2405:201:e00a:b0bb:6979:1cc8:431a:e357]:64949\n"
          ]
        },
        {
          "output_type": "stream",
          "name": "stdout",
          "text": [
            "\u001b[1;35mt=2024-09-08T12:08:13+0000 lvl=info msg=\"join connections\" obj=join id=8cec29a300fc l=127.0.0.1:8237 r=[2405:201:e00a:b0bb:6979:1cc8:431a:e357]:64949\u001b[0m\n"
          ]
        },
        {
          "output_type": "stream",
          "name": "stderr",
          "text": [
            "INFO:pyngrok.process.ngrok:t=2024-09-08T12:08:13+0000 lvl=info msg=\"join connections\" obj=join id=2beaf9fac53c l=127.0.0.1:8237 r=[2405:201:e00a:b0bb:6979:1cc8:431a:e357]:64949\n"
          ]
        },
        {
          "output_type": "stream",
          "name": "stdout",
          "text": [
            "\u001b[1;35mt=2024-09-08T12:08:13+0000 lvl=info msg=\"join connections\" obj=join id=2beaf9fac53c l=127.0.0.1:8237 r=[2405:201:e00a:b0bb:6979:1cc8:431a:e357]:64949\u001b[0m\n"
          ]
        },
        {
          "output_type": "stream",
          "name": "stderr",
          "text": [
            "INFO:pyngrok.process.ngrok:t=2024-09-08T12:08:13+0000 lvl=info msg=\"join connections\" obj=join id=c7912e728d39 l=127.0.0.1:8237 r=[2405:201:e00a:b0bb:6979:1cc8:431a:e357]:64949\n"
          ]
        },
        {
          "output_type": "stream",
          "name": "stdout",
          "text": [
            "\u001b[1;35mt=2024-09-08T12:08:13+0000 lvl=info msg=\"join connections\" obj=join id=c7912e728d39 l=127.0.0.1:8237 r=[2405:201:e00a:b0bb:6979:1cc8:431a:e357]:64949\u001b[0m\n"
          ]
        },
        {
          "output_type": "stream",
          "name": "stderr",
          "text": [
            "INFO:pyngrok.process.ngrok:t=2024-09-08T12:08:13+0000 lvl=info msg=\"join connections\" obj=join id=d93d33e7cf46 l=127.0.0.1:8237 r=[2405:201:e00a:b0bb:6979:1cc8:431a:e357]:64949\n"
          ]
        },
        {
          "output_type": "stream",
          "name": "stdout",
          "text": [
            "\u001b[1;35mt=2024-09-08T12:08:13+0000 lvl=info msg=\"join connections\" obj=join id=d93d33e7cf46 l=127.0.0.1:8237 r=[2405:201:e00a:b0bb:6979:1cc8:431a:e357]:64949\u001b[0m\n"
          ]
        },
        {
          "output_type": "stream",
          "name": "stderr",
          "text": [
            "INFO:pyngrok.process.ngrok:t=2024-09-08T12:08:13+0000 lvl=info msg=\"join connections\" obj=join id=f431428bbb23 l=127.0.0.1:8237 r=[2405:201:e00a:b0bb:6979:1cc8:431a:e357]:64949\n"
          ]
        },
        {
          "output_type": "stream",
          "name": "stdout",
          "text": [
            "\u001b[1;35mt=2024-09-08T12:08:13+0000 lvl=info msg=\"join connections\" obj=join id=f431428bbb23 l=127.0.0.1:8237 r=[2405:201:e00a:b0bb:6979:1cc8:431a:e357]:64949\u001b[0m\n"
          ]
        },
        {
          "output_type": "stream",
          "name": "stderr",
          "text": [
            "INFO:pyngrok.process.ngrok:t=2024-09-08T12:08:13+0000 lvl=info msg=\"join connections\" obj=join id=036b1df1dbc0 l=127.0.0.1:8237 r=[2405:201:e00a:b0bb:6979:1cc8:431a:e357]:64949\n"
          ]
        },
        {
          "output_type": "stream",
          "name": "stdout",
          "text": [
            "\u001b[1;35mt=2024-09-08T12:08:13+0000 lvl=info msg=\"join connections\" obj=join id=036b1df1dbc0 l=127.0.0.1:8237 r=[2405:201:e00a:b0bb:6979:1cc8:431a:e357]:64949\u001b[0m\n"
          ]
        },
        {
          "output_type": "stream",
          "name": "stderr",
          "text": [
            "INFO:pyngrok.process.ngrok:t=2024-09-08T12:08:13+0000 lvl=info msg=\"join connections\" obj=join id=e9786da60dd4 l=127.0.0.1:8237 r=[2405:201:e00a:b0bb:6979:1cc8:431a:e357]:64949\n"
          ]
        },
        {
          "output_type": "stream",
          "name": "stdout",
          "text": [
            "\u001b[1;35mt=2024-09-08T12:08:13+0000 lvl=info msg=\"join connections\" obj=join id=e9786da60dd4 l=127.0.0.1:8237 r=[2405:201:e00a:b0bb:6979:1cc8:431a:e357]:64949\u001b[0m\n"
          ]
        },
        {
          "output_type": "stream",
          "name": "stderr",
          "text": [
            "INFO:pyngrok.process.ngrok:t=2024-09-08T12:08:13+0000 lvl=info msg=\"join connections\" obj=join id=4a1b0745f4ce l=127.0.0.1:8237 r=[2405:201:e00a:b0bb:6979:1cc8:431a:e357]:64949\n"
          ]
        },
        {
          "output_type": "stream",
          "name": "stdout",
          "text": [
            "\u001b[1;35mt=2024-09-08T12:08:13+0000 lvl=info msg=\"join connections\" obj=join id=4a1b0745f4ce l=127.0.0.1:8237 r=[2405:201:e00a:b0bb:6979:1cc8:431a:e357]:64949\u001b[0m\n"
          ]
        },
        {
          "output_type": "stream",
          "name": "stderr",
          "text": [
            "INFO:pyngrok.process.ngrok:t=2024-09-08T12:08:13+0000 lvl=info msg=\"join connections\" obj=join id=79c519dc5ec7 l=127.0.0.1:8237 r=[2405:201:e00a:b0bb:6979:1cc8:431a:e357]:64949\n"
          ]
        },
        {
          "output_type": "stream",
          "name": "stdout",
          "text": [
            "\u001b[1;35mt=2024-09-08T12:08:13+0000 lvl=info msg=\"join connections\" obj=join id=79c519dc5ec7 l=127.0.0.1:8237 r=[2405:201:e00a:b0bb:6979:1cc8:431a:e357]:64949\u001b[0m\n"
          ]
        },
        {
          "output_type": "stream",
          "name": "stderr",
          "text": [
            "INFO:pyngrok.process.ngrok:t=2024-09-08T12:08:13+0000 lvl=info msg=\"join connections\" obj=join id=f38a7bbc0629 l=127.0.0.1:8237 r=[2405:201:e00a:b0bb:6979:1cc8:431a:e357]:64949\n"
          ]
        },
        {
          "output_type": "stream",
          "name": "stdout",
          "text": [
            "\u001b[1;35mt=2024-09-08T12:08:13+0000 lvl=info msg=\"join connections\" obj=join id=f38a7bbc0629 l=127.0.0.1:8237 r=[2405:201:e00a:b0bb:6979:1cc8:431a:e357]:64949\u001b[0m\n"
          ]
        },
        {
          "output_type": "stream",
          "name": "stderr",
          "text": [
            "INFO:pyngrok.process.ngrok:t=2024-09-08T12:08:13+0000 lvl=info msg=\"join connections\" obj=join id=054e34a91fdb l=127.0.0.1:8237 r=[2405:201:e00a:b0bb:6979:1cc8:431a:e357]:64949\n"
          ]
        },
        {
          "output_type": "stream",
          "name": "stdout",
          "text": [
            "\u001b[1;35mt=2024-09-08T12:08:13+0000 lvl=info msg=\"join connections\" obj=join id=054e34a91fdb l=127.0.0.1:8237 r=[2405:201:e00a:b0bb:6979:1cc8:431a:e357]:64949\u001b[0m\n"
          ]
        },
        {
          "output_type": "stream",
          "name": "stderr",
          "text": [
            "INFO:pyngrok.process.ngrok:t=2024-09-08T12:08:13+0000 lvl=info msg=\"join connections\" obj=join id=67d15308f0a4 l=127.0.0.1:8237 r=[2405:201:e00a:b0bb:6979:1cc8:431a:e357]:64949\n"
          ]
        },
        {
          "output_type": "stream",
          "name": "stdout",
          "text": [
            "\u001b[1;35mt=2024-09-08T12:08:13+0000 lvl=info msg=\"join connections\" obj=join id=67d15308f0a4 l=127.0.0.1:8237 r=[2405:201:e00a:b0bb:6979:1cc8:431a:e357]:64949\u001b[0m\n"
          ]
        },
        {
          "output_type": "stream",
          "name": "stderr",
          "text": [
            "INFO:pyngrok.process.ngrok:t=2024-09-08T12:08:13+0000 lvl=info msg=\"join connections\" obj=join id=2ea8e6a7a382 l=127.0.0.1:8237 r=[2405:201:e00a:b0bb:6979:1cc8:431a:e357]:64949\n"
          ]
        },
        {
          "output_type": "stream",
          "name": "stdout",
          "text": [
            "\u001b[1;35mt=2024-09-08T12:08:13+0000 lvl=info msg=\"join connections\" obj=join id=2ea8e6a7a382 l=127.0.0.1:8237 r=[2405:201:e00a:b0bb:6979:1cc8:431a:e357]:64949\u001b[0m\n"
          ]
        },
        {
          "output_type": "stream",
          "name": "stderr",
          "text": [
            "INFO:pyngrok.process.ngrok:t=2024-09-08T12:08:13+0000 lvl=info msg=\"join connections\" obj=join id=0ba340650557 l=127.0.0.1:8237 r=[2405:201:e00a:b0bb:6979:1cc8:431a:e357]:64949\n"
          ]
        },
        {
          "output_type": "stream",
          "name": "stdout",
          "text": [
            "\u001b[1;35mt=2024-09-08T12:08:13+0000 lvl=info msg=\"join connections\" obj=join id=0ba340650557 l=127.0.0.1:8237 r=[2405:201:e00a:b0bb:6979:1cc8:431a:e357]:64949\u001b[0m\n"
          ]
        },
        {
          "output_type": "stream",
          "name": "stderr",
          "text": [
            "INFO:pyngrok.process.ngrok:t=2024-09-08T12:08:13+0000 lvl=info msg=\"join connections\" obj=join id=ac651d8c42bb l=127.0.0.1:8237 r=[2405:201:e00a:b0bb:6979:1cc8:431a:e357]:64949\n"
          ]
        },
        {
          "output_type": "stream",
          "name": "stdout",
          "text": [
            "\u001b[1;35mt=2024-09-08T12:08:13+0000 lvl=info msg=\"join connections\" obj=join id=ac651d8c42bb l=127.0.0.1:8237 r=[2405:201:e00a:b0bb:6979:1cc8:431a:e357]:64949\u001b[0m\n"
          ]
        },
        {
          "output_type": "stream",
          "name": "stderr",
          "text": [
            "INFO:pyngrok.process.ngrok:t=2024-09-08T12:08:13+0000 lvl=info msg=\"join connections\" obj=join id=16208b16634d l=127.0.0.1:8237 r=[2405:201:e00a:b0bb:6979:1cc8:431a:e357]:64949\n"
          ]
        },
        {
          "output_type": "stream",
          "name": "stdout",
          "text": [
            "\u001b[1;35mt=2024-09-08T12:08:13+0000 lvl=info msg=\"join connections\" obj=join id=16208b16634d l=127.0.0.1:8237 r=[2405:201:e00a:b0bb:6979:1cc8:431a:e357]:64949\u001b[0m\n"
          ]
        },
        {
          "output_type": "stream",
          "name": "stderr",
          "text": [
            "INFO:pyngrok.process.ngrok:t=2024-09-08T12:08:13+0000 lvl=info msg=\"join connections\" obj=join id=425e3f3335a5 l=127.0.0.1:8237 r=[2405:201:e00a:b0bb:6979:1cc8:431a:e357]:64949\n"
          ]
        },
        {
          "output_type": "stream",
          "name": "stdout",
          "text": [
            "\u001b[1;35mt=2024-09-08T12:08:13+0000 lvl=info msg=\"join connections\" obj=join id=425e3f3335a5 l=127.0.0.1:8237 r=[2405:201:e00a:b0bb:6979:1cc8:431a:e357]:64949\u001b[0m\n"
          ]
        },
        {
          "output_type": "stream",
          "name": "stderr",
          "text": [
            "INFO:pyngrok.process.ngrok:t=2024-09-08T12:08:13+0000 lvl=info msg=\"join connections\" obj=join id=09db5e9a3352 l=127.0.0.1:8237 r=[2405:201:e00a:b0bb:6979:1cc8:431a:e357]:64949\n"
          ]
        },
        {
          "output_type": "stream",
          "name": "stdout",
          "text": [
            "\u001b[1;35mt=2024-09-08T12:08:13+0000 lvl=info msg=\"join connections\" obj=join id=09db5e9a3352 l=127.0.0.1:8237 r=[2405:201:e00a:b0bb:6979:1cc8:431a:e357]:64949\u001b[0m\n"
          ]
        },
        {
          "output_type": "stream",
          "name": "stderr",
          "text": [
            "INFO:pyngrok.process.ngrok:t=2024-09-08T12:08:13+0000 lvl=info msg=\"join connections\" obj=join id=073e300c9d2d l=127.0.0.1:8237 r=[2405:201:e00a:b0bb:6979:1cc8:431a:e357]:64949\n"
          ]
        },
        {
          "output_type": "stream",
          "name": "stdout",
          "text": [
            "\u001b[1;35mt=2024-09-08T12:08:13+0000 lvl=info msg=\"join connections\" obj=join id=073e300c9d2d l=127.0.0.1:8237 r=[2405:201:e00a:b0bb:6979:1cc8:431a:e357]:64949\u001b[0m\n"
          ]
        },
        {
          "output_type": "stream",
          "name": "stderr",
          "text": [
            "INFO:pyngrok.process.ngrok:t=2024-09-08T12:08:13+0000 lvl=info msg=\"join connections\" obj=join id=b3087b24f52b l=127.0.0.1:8237 r=[2405:201:e00a:b0bb:6979:1cc8:431a:e357]:64949\n"
          ]
        },
        {
          "output_type": "stream",
          "name": "stdout",
          "text": [
            "\u001b[1;35mt=2024-09-08T12:08:13+0000 lvl=info msg=\"join connections\" obj=join id=b3087b24f52b l=127.0.0.1:8237 r=[2405:201:e00a:b0bb:6979:1cc8:431a:e357]:64949\u001b[0m\n",
            "\u001b[32mINFO\u001b[0m:     2405:201:e00a:b0bb:6979:1cc8:431a:e357:0 - \"\u001b[1mGET /assets/%40reactflow-C26Olbza.css HTTP/1.1\u001b[0m\" \u001b[32m200 OK\u001b[0m\n",
            "\u001b[32mINFO\u001b[0m:     2405:201:e00a:b0bb:6979:1cc8:431a:e357:0 - \"\u001b[1mGET /assets/inter-latin-ext-400-normal-D3W-OpO-.woff2 HTTP/1.1\u001b[0m\" \u001b[32m200 OK\u001b[0m\n",
            "\u001b[32mINFO\u001b[0m:     2405:201:e00a:b0bb:6979:1cc8:431a:e357:0 - \"\u001b[1mGET /assets/%40tanstack-QbMbTrh5.js HTTP/1.1\u001b[0m\" \u001b[32m200 OK\u001b[0m\n",
            "\u001b[32mINFO\u001b[0m:     2405:201:e00a:b0bb:6979:1cc8:431a:e357:0 - \"\u001b[1mGET /assets/%40reactflow-IuMOnBUC.js HTTP/1.1\u001b[0m\" \u001b[32m200 OK\u001b[0m\n",
            "\u001b[32mINFO\u001b[0m:     2405:201:e00a:b0bb:6979:1cc8:431a:e357:0 - \"\u001b[1mGET /assets/%40react-router-APVeuk-U.js HTTP/1.1\u001b[0m\" \u001b[32m200 OK\u001b[0m\n",
            "\u001b[32mINFO\u001b[0m:     2405:201:e00a:b0bb:6979:1cc8:431a:e357:0 - \"\u001b[1mGET /assets/%40radix-DnFH_oo1.js HTTP/1.1\u001b[0m\" \u001b[32m200 OK\u001b[0m\n"
          ]
        },
        {
          "output_type": "stream",
          "name": "stderr",
          "text": [
            "INFO:pyngrok.process.ngrok:t=2024-09-08T12:08:13+0000 lvl=info msg=\"join connections\" obj=join id=de1ab27a2ace l=127.0.0.1:8237 r=[2405:201:e00a:b0bb:6979:1cc8:431a:e357]:64949\n"
          ]
        },
        {
          "output_type": "stream",
          "name": "stdout",
          "text": [
            "\u001b[1;35mt=2024-09-08T12:08:13+0000 lvl=info msg=\"join connections\" obj=join id=de1ab27a2ace l=127.0.0.1:8237 r=[2405:201:e00a:b0bb:6979:1cc8:431a:e357]:64949\u001b[0m\n"
          ]
        },
        {
          "output_type": "stream",
          "name": "stderr",
          "text": [
            "INFO:pyngrok.process.ngrok:t=2024-09-08T12:08:13+0000 lvl=info msg=\"join connections\" obj=join id=cb90f458da29 l=127.0.0.1:8237 r=[2405:201:e00a:b0bb:6979:1cc8:431a:e357]:64949\n"
          ]
        },
        {
          "output_type": "stream",
          "name": "stdout",
          "text": [
            "\u001b[1;35mt=2024-09-08T12:08:13+0000 lvl=info msg=\"join connections\" obj=join id=cb90f458da29 l=127.0.0.1:8237 r=[2405:201:e00a:b0bb:6979:1cc8:431a:e357]:64949\u001b[0m\n"
          ]
        },
        {
          "output_type": "stream",
          "name": "stderr",
          "text": [
            "INFO:pyngrok.process.ngrok:t=2024-09-08T12:08:13+0000 lvl=info msg=\"join connections\" obj=join id=e3e30225a7ea l=127.0.0.1:8237 r=[2405:201:e00a:b0bb:6979:1cc8:431a:e357]:64949\n"
          ]
        },
        {
          "output_type": "stream",
          "name": "stdout",
          "text": [
            "\u001b[1;35mt=2024-09-08T12:08:13+0000 lvl=info msg=\"join connections\" obj=join id=e3e30225a7ea l=127.0.0.1:8237 r=[2405:201:e00a:b0bb:6979:1cc8:431a:e357]:64949\u001b[0m\n"
          ]
        },
        {
          "output_type": "stream",
          "name": "stderr",
          "text": [
            "INFO:pyngrok.process.ngrok:t=2024-09-08T12:08:13+0000 lvl=info msg=\"join connections\" obj=join id=23e078d0f2b3 l=127.0.0.1:8237 r=[2405:201:e00a:b0bb:6979:1cc8:431a:e357]:64949\n"
          ]
        },
        {
          "output_type": "stream",
          "name": "stdout",
          "text": [
            "\u001b[1;35mt=2024-09-08T12:08:13+0000 lvl=info msg=\"join connections\" obj=join id=23e078d0f2b3 l=127.0.0.1:8237 r=[2405:201:e00a:b0bb:6979:1cc8:431a:e357]:64949\u001b[0m\n"
          ]
        },
        {
          "output_type": "stream",
          "name": "stderr",
          "text": [
            "INFO:pyngrok.process.ngrok:t=2024-09-08T12:08:13+0000 lvl=info msg=\"join connections\" obj=join id=1e747e70388e l=127.0.0.1:8237 r=[2405:201:e00a:b0bb:6979:1cc8:431a:e357]:64949\n"
          ]
        },
        {
          "output_type": "stream",
          "name": "stdout",
          "text": [
            "\u001b[1;35mt=2024-09-08T12:08:13+0000 lvl=info msg=\"join connections\" obj=join id=1e747e70388e l=127.0.0.1:8237 r=[2405:201:e00a:b0bb:6979:1cc8:431a:e357]:64949\u001b[0m\n"
          ]
        },
        {
          "output_type": "stream",
          "name": "stderr",
          "text": [
            "INFO:pyngrok.process.ngrok:t=2024-09-08T12:08:13+0000 lvl=info msg=\"join connections\" obj=join id=228f60dc4937 l=127.0.0.1:8237 r=[2405:201:e00a:b0bb:6979:1cc8:431a:e357]:64949\n"
          ]
        },
        {
          "output_type": "stream",
          "name": "stdout",
          "text": [
            "\u001b[1;35mt=2024-09-08T12:08:13+0000 lvl=info msg=\"join connections\" obj=join id=228f60dc4937 l=127.0.0.1:8237 r=[2405:201:e00a:b0bb:6979:1cc8:431a:e357]:64949\u001b[0m\n"
          ]
        },
        {
          "output_type": "stream",
          "name": "stderr",
          "text": [
            "INFO:pyngrok.process.ngrok:t=2024-09-08T12:08:13+0000 lvl=info msg=\"join connections\" obj=join id=81c57465fc37 l=127.0.0.1:8237 r=[2405:201:e00a:b0bb:6979:1cc8:431a:e357]:64949\n"
          ]
        },
        {
          "output_type": "stream",
          "name": "stdout",
          "text": [
            "\u001b[1;35mt=2024-09-08T12:08:13+0000 lvl=info msg=\"join connections\" obj=join id=81c57465fc37 l=127.0.0.1:8237 r=[2405:201:e00a:b0bb:6979:1cc8:431a:e357]:64949\u001b[0m\n"
          ]
        },
        {
          "output_type": "stream",
          "name": "stderr",
          "text": [
            "INFO:pyngrok.process.ngrok:t=2024-09-08T12:08:13+0000 lvl=info msg=\"join connections\" obj=join id=7e170d2e0391 l=127.0.0.1:8237 r=[2405:201:e00a:b0bb:6979:1cc8:431a:e357]:64949\n"
          ]
        },
        {
          "output_type": "stream",
          "name": "stdout",
          "text": [
            "\u001b[1;35mt=2024-09-08T12:08:13+0000 lvl=info msg=\"join connections\" obj=join id=7e170d2e0391 l=127.0.0.1:8237 r=[2405:201:e00a:b0bb:6979:1cc8:431a:e357]:64949\u001b[0m\n"
          ]
        },
        {
          "output_type": "stream",
          "name": "stderr",
          "text": [
            "INFO:pyngrok.process.ngrok:t=2024-09-08T12:08:13+0000 lvl=info msg=\"join connections\" obj=join id=a9cb08c078da l=127.0.0.1:8237 r=[2405:201:e00a:b0bb:6979:1cc8:431a:e357]:64949\n"
          ]
        },
        {
          "output_type": "stream",
          "name": "stdout",
          "text": [
            "\u001b[1;35mt=2024-09-08T12:08:13+0000 lvl=info msg=\"join connections\" obj=join id=a9cb08c078da l=127.0.0.1:8237 r=[2405:201:e00a:b0bb:6979:1cc8:431a:e357]:64949\u001b[0m\n"
          ]
        },
        {
          "output_type": "stream",
          "name": "stderr",
          "text": [
            "INFO:pyngrok.process.ngrok:t=2024-09-08T12:08:13+0000 lvl=info msg=\"join connections\" obj=join id=9bbdb4f159b5 l=127.0.0.1:8237 r=[2405:201:e00a:b0bb:6979:1cc8:431a:e357]:64949\n"
          ]
        },
        {
          "output_type": "stream",
          "name": "stdout",
          "text": [
            "\u001b[1;35mt=2024-09-08T12:08:13+0000 lvl=info msg=\"join connections\" obj=join id=9bbdb4f159b5 l=127.0.0.1:8237 r=[2405:201:e00a:b0bb:6979:1cc8:431a:e357]:64949\u001b[0m\n"
          ]
        },
        {
          "output_type": "stream",
          "name": "stderr",
          "text": [
            "INFO:pyngrok.process.ngrok:t=2024-09-08T12:08:13+0000 lvl=info msg=\"join connections\" obj=join id=7c11c0b7aed1 l=127.0.0.1:8237 r=[2405:201:e00a:b0bb:6979:1cc8:431a:e357]:64949\n"
          ]
        },
        {
          "output_type": "stream",
          "name": "stdout",
          "text": [
            "\u001b[1;35mt=2024-09-08T12:08:13+0000 lvl=info msg=\"join connections\" obj=join id=7c11c0b7aed1 l=127.0.0.1:8237 r=[2405:201:e00a:b0bb:6979:1cc8:431a:e357]:64949\u001b[0m\n"
          ]
        },
        {
          "output_type": "stream",
          "name": "stderr",
          "text": [
            "INFO:pyngrok.process.ngrok:t=2024-09-08T12:08:13+0000 lvl=info msg=\"join connections\" obj=join id=0b05d748b5e5 l=127.0.0.1:8237 r=[2405:201:e00a:b0bb:6979:1cc8:431a:e357]:64949\n"
          ]
        },
        {
          "output_type": "stream",
          "name": "stdout",
          "text": [
            "\u001b[1;35mt=2024-09-08T12:08:13+0000 lvl=info msg=\"join connections\" obj=join id=0b05d748b5e5 l=127.0.0.1:8237 r=[2405:201:e00a:b0bb:6979:1cc8:431a:e357]:64949\u001b[0m\n"
          ]
        },
        {
          "output_type": "stream",
          "name": "stderr",
          "text": [
            "INFO:pyngrok.process.ngrok:t=2024-09-08T12:08:13+0000 lvl=info msg=\"join connections\" obj=join id=bdc26d9bf5a3 l=127.0.0.1:8237 r=[2405:201:e00a:b0bb:6979:1cc8:431a:e357]:64949\n"
          ]
        },
        {
          "output_type": "stream",
          "name": "stdout",
          "text": [
            "\u001b[1;35mt=2024-09-08T12:08:13+0000 lvl=info msg=\"join connections\" obj=join id=bdc26d9bf5a3 l=127.0.0.1:8237 r=[2405:201:e00a:b0bb:6979:1cc8:431a:e357]:64949\u001b[0m\n"
          ]
        },
        {
          "output_type": "stream",
          "name": "stderr",
          "text": [
            "INFO:pyngrok.process.ngrok:t=2024-09-08T12:08:13+0000 lvl=info msg=\"join connections\" obj=join id=50f79504d9e4 l=127.0.0.1:8237 r=[2405:201:e00a:b0bb:6979:1cc8:431a:e357]:64949\n"
          ]
        },
        {
          "output_type": "stream",
          "name": "stdout",
          "text": [
            "\u001b[1;35mt=2024-09-08T12:08:13+0000 lvl=info msg=\"join connections\" obj=join id=50f79504d9e4 l=127.0.0.1:8237 r=[2405:201:e00a:b0bb:6979:1cc8:431a:e357]:64949\u001b[0m\n"
          ]
        },
        {
          "output_type": "stream",
          "name": "stderr",
          "text": [
            "INFO:pyngrok.process.ngrok:t=2024-09-08T12:08:13+0000 lvl=info msg=\"join connections\" obj=join id=8cae155d473b l=127.0.0.1:8237 r=[2405:201:e00a:b0bb:6979:1cc8:431a:e357]:64949\n"
          ]
        },
        {
          "output_type": "stream",
          "name": "stdout",
          "text": [
            "\u001b[1;35mt=2024-09-08T12:08:13+0000 lvl=info msg=\"join connections\" obj=join id=8cae155d473b l=127.0.0.1:8237 r=[2405:201:e00a:b0bb:6979:1cc8:431a:e357]:64949\u001b[0m\n"
          ]
        },
        {
          "output_type": "stream",
          "name": "stderr",
          "text": [
            "INFO:pyngrok.process.ngrok:t=2024-09-08T12:08:13+0000 lvl=info msg=\"join connections\" obj=join id=1b150dbd31e1 l=127.0.0.1:8237 r=[2405:201:e00a:b0bb:6979:1cc8:431a:e357]:64949\n"
          ]
        },
        {
          "output_type": "stream",
          "name": "stdout",
          "text": [
            "\u001b[1;35mt=2024-09-08T12:08:13+0000 lvl=info msg=\"join connections\" obj=join id=1b150dbd31e1 l=127.0.0.1:8237 r=[2405:201:e00a:b0bb:6979:1cc8:431a:e357]:64949\u001b[0m\n"
          ]
        },
        {
          "output_type": "stream",
          "name": "stderr",
          "text": [
            "INFO:pyngrok.process.ngrok:t=2024-09-08T12:08:13+0000 lvl=info msg=\"join connections\" obj=join id=2026afa13365 l=127.0.0.1:8237 r=[2405:201:e00a:b0bb:6979:1cc8:431a:e357]:64949\n"
          ]
        },
        {
          "output_type": "stream",
          "name": "stdout",
          "text": [
            "\u001b[1;35mt=2024-09-08T12:08:13+0000 lvl=info msg=\"join connections\" obj=join id=2026afa13365 l=127.0.0.1:8237 r=[2405:201:e00a:b0bb:6979:1cc8:431a:e357]:64949\u001b[0m\n"
          ]
        },
        {
          "output_type": "stream",
          "name": "stderr",
          "text": [
            "INFO:pyngrok.process.ngrok:t=2024-09-08T12:08:13+0000 lvl=info msg=\"join connections\" obj=join id=4c43cc0edc85 l=127.0.0.1:8237 r=[2405:201:e00a:b0bb:6979:1cc8:431a:e357]:64949\n"
          ]
        },
        {
          "output_type": "stream",
          "name": "stdout",
          "text": [
            "\u001b[1;35mt=2024-09-08T12:08:13+0000 lvl=info msg=\"join connections\" obj=join id=4c43cc0edc85 l=127.0.0.1:8237 r=[2405:201:e00a:b0bb:6979:1cc8:431a:e357]:64949\u001b[0m\n"
          ]
        },
        {
          "output_type": "stream",
          "name": "stderr",
          "text": [
            "INFO:pyngrok.process.ngrok:t=2024-09-08T12:08:13+0000 lvl=info msg=\"join connections\" obj=join id=e6eec04de209 l=127.0.0.1:8237 r=[2405:201:e00a:b0bb:6979:1cc8:431a:e357]:64949\n"
          ]
        },
        {
          "output_type": "stream",
          "name": "stdout",
          "text": [
            "\u001b[1;35mt=2024-09-08T12:08:13+0000 lvl=info msg=\"join connections\" obj=join id=e6eec04de209 l=127.0.0.1:8237 r=[2405:201:e00a:b0bb:6979:1cc8:431a:e357]:64949\u001b[0m\n"
          ]
        },
        {
          "output_type": "stream",
          "name": "stderr",
          "text": [
            "INFO:pyngrok.process.ngrok:t=2024-09-08T12:08:13+0000 lvl=info msg=\"join connections\" obj=join id=039beb4708fb l=127.0.0.1:8237 r=[2405:201:e00a:b0bb:6979:1cc8:431a:e357]:64949\n"
          ]
        },
        {
          "output_type": "stream",
          "name": "stdout",
          "text": [
            "\u001b[1;35mt=2024-09-08T12:08:13+0000 lvl=info msg=\"join connections\" obj=join id=039beb4708fb l=127.0.0.1:8237 r=[2405:201:e00a:b0bb:6979:1cc8:431a:e357]:64949\u001b[0m\n"
          ]
        },
        {
          "output_type": "stream",
          "name": "stderr",
          "text": [
            "INFO:pyngrok.process.ngrok:t=2024-09-08T12:08:13+0000 lvl=info msg=\"join connections\" obj=join id=6ac82a9ddfce l=127.0.0.1:8237 r=[2405:201:e00a:b0bb:6979:1cc8:431a:e357]:64949\n"
          ]
        },
        {
          "output_type": "stream",
          "name": "stdout",
          "text": [
            "\u001b[1;35mt=2024-09-08T12:08:13+0000 lvl=info msg=\"join connections\" obj=join id=6ac82a9ddfce l=127.0.0.1:8237 r=[2405:201:e00a:b0bb:6979:1cc8:431a:e357]:64949\u001b[0m\n"
          ]
        },
        {
          "output_type": "stream",
          "name": "stderr",
          "text": [
            "INFO:pyngrok.process.ngrok:t=2024-09-08T12:08:13+0000 lvl=info msg=\"join connections\" obj=join id=a84e54bf17d5 l=127.0.0.1:8237 r=[2405:201:e00a:b0bb:6979:1cc8:431a:e357]:64949\n"
          ]
        },
        {
          "output_type": "stream",
          "name": "stdout",
          "text": [
            "\u001b[1;35mt=2024-09-08T12:08:13+0000 lvl=info msg=\"join connections\" obj=join id=a84e54bf17d5 l=127.0.0.1:8237 r=[2405:201:e00a:b0bb:6979:1cc8:431a:e357]:64949\u001b[0m\n"
          ]
        },
        {
          "output_type": "stream",
          "name": "stderr",
          "text": [
            "INFO:pyngrok.process.ngrok:t=2024-09-08T12:08:13+0000 lvl=info msg=\"join connections\" obj=join id=d65e1dfc2db0 l=127.0.0.1:8237 r=[2405:201:e00a:b0bb:6979:1cc8:431a:e357]:64949\n"
          ]
        },
        {
          "output_type": "stream",
          "name": "stdout",
          "text": [
            "\u001b[1;35mt=2024-09-08T12:08:13+0000 lvl=info msg=\"join connections\" obj=join id=d65e1dfc2db0 l=127.0.0.1:8237 r=[2405:201:e00a:b0bb:6979:1cc8:431a:e357]:64949\u001b[0m\n"
          ]
        },
        {
          "output_type": "stream",
          "name": "stderr",
          "text": [
            "INFO:pyngrok.process.ngrok:t=2024-09-08T12:08:13+0000 lvl=info msg=\"join connections\" obj=join id=9e7238f53608 l=127.0.0.1:8237 r=[2405:201:e00a:b0bb:6979:1cc8:431a:e357]:64949\n"
          ]
        },
        {
          "output_type": "stream",
          "name": "stdout",
          "text": [
            "\u001b[1;35mt=2024-09-08T12:08:13+0000 lvl=info msg=\"join connections\" obj=join id=9e7238f53608 l=127.0.0.1:8237 r=[2405:201:e00a:b0bb:6979:1cc8:431a:e357]:64949\u001b[0m\n"
          ]
        },
        {
          "output_type": "stream",
          "name": "stderr",
          "text": [
            "INFO:pyngrok.process.ngrok:t=2024-09-08T12:08:13+0000 lvl=info msg=\"join connections\" obj=join id=0d6d5a178f82 l=127.0.0.1:8237 r=[2405:201:e00a:b0bb:6979:1cc8:431a:e357]:64949\n"
          ]
        },
        {
          "output_type": "stream",
          "name": "stdout",
          "text": [
            "\u001b[1;35mt=2024-09-08T12:08:13+0000 lvl=info msg=\"join connections\" obj=join id=0d6d5a178f82 l=127.0.0.1:8237 r=[2405:201:e00a:b0bb:6979:1cc8:431a:e357]:64949\u001b[0m\n"
          ]
        },
        {
          "output_type": "stream",
          "name": "stderr",
          "text": [
            "INFO:pyngrok.process.ngrok:t=2024-09-08T12:08:13+0000 lvl=info msg=\"join connections\" obj=join id=5dad623c96c4 l=127.0.0.1:8237 r=[2405:201:e00a:b0bb:6979:1cc8:431a:e357]:64949\n"
          ]
        },
        {
          "output_type": "stream",
          "name": "stdout",
          "text": [
            "\u001b[1;35mt=2024-09-08T12:08:13+0000 lvl=info msg=\"join connections\" obj=join id=5dad623c96c4 l=127.0.0.1:8237 r=[2405:201:e00a:b0bb:6979:1cc8:431a:e357]:64949\u001b[0m\n"
          ]
        },
        {
          "output_type": "stream",
          "name": "stderr",
          "text": [
            "INFO:pyngrok.process.ngrok:t=2024-09-08T12:08:13+0000 lvl=info msg=\"join connections\" obj=join id=a6a1f8fa4439 l=127.0.0.1:8237 r=[2405:201:e00a:b0bb:6979:1cc8:431a:e357]:64949\n"
          ]
        },
        {
          "output_type": "stream",
          "name": "stdout",
          "text": [
            "\u001b[1;35mt=2024-09-08T12:08:13+0000 lvl=info msg=\"join connections\" obj=join id=a6a1f8fa4439 l=127.0.0.1:8237 r=[2405:201:e00a:b0bb:6979:1cc8:431a:e357]:64949\u001b[0m\n"
          ]
        },
        {
          "output_type": "stream",
          "name": "stderr",
          "text": [
            "INFO:pyngrok.process.ngrok:t=2024-09-08T12:08:13+0000 lvl=info msg=\"join connections\" obj=join id=4b15039df2e3 l=127.0.0.1:8237 r=[2405:201:e00a:b0bb:6979:1cc8:431a:e357]:64949\n"
          ]
        },
        {
          "output_type": "stream",
          "name": "stdout",
          "text": [
            "\u001b[1;35mt=2024-09-08T12:08:13+0000 lvl=info msg=\"join connections\" obj=join id=4b15039df2e3 l=127.0.0.1:8237 r=[2405:201:e00a:b0bb:6979:1cc8:431a:e357]:64949\u001b[0m\n"
          ]
        },
        {
          "output_type": "stream",
          "name": "stderr",
          "text": [
            "INFO:pyngrok.process.ngrok:t=2024-09-08T12:08:13+0000 lvl=info msg=\"join connections\" obj=join id=bcb1b4b332eb l=127.0.0.1:8237 r=[2405:201:e00a:b0bb:6979:1cc8:431a:e357]:64949\n"
          ]
        },
        {
          "output_type": "stream",
          "name": "stdout",
          "text": [
            "\u001b[1;35mt=2024-09-08T12:08:13+0000 lvl=info msg=\"join connections\" obj=join id=bcb1b4b332eb l=127.0.0.1:8237 r=[2405:201:e00a:b0bb:6979:1cc8:431a:e357]:64949\u001b[0m\n"
          ]
        },
        {
          "output_type": "stream",
          "name": "stderr",
          "text": [
            "INFO:pyngrok.process.ngrok:t=2024-09-08T12:08:13+0000 lvl=info msg=\"join connections\" obj=join id=2e2b10eee7d3 l=127.0.0.1:8237 r=[2405:201:e00a:b0bb:6979:1cc8:431a:e357]:64949\n"
          ]
        },
        {
          "output_type": "stream",
          "name": "stdout",
          "text": [
            "\u001b[1;35mt=2024-09-08T12:08:13+0000 lvl=info msg=\"join connections\" obj=join id=2e2b10eee7d3 l=127.0.0.1:8237 r=[2405:201:e00a:b0bb:6979:1cc8:431a:e357]:64949\u001b[0m\n"
          ]
        },
        {
          "output_type": "stream",
          "name": "stderr",
          "text": [
            "INFO:pyngrok.process.ngrok:t=2024-09-08T12:08:13+0000 lvl=info msg=\"join connections\" obj=join id=97a87a0e2536 l=127.0.0.1:8237 r=[2405:201:e00a:b0bb:6979:1cc8:431a:e357]:64949\n"
          ]
        },
        {
          "output_type": "stream",
          "name": "stdout",
          "text": [
            "\u001b[1;35mt=2024-09-08T12:08:13+0000 lvl=info msg=\"join connections\" obj=join id=97a87a0e2536 l=127.0.0.1:8237 r=[2405:201:e00a:b0bb:6979:1cc8:431a:e357]:64949\u001b[0m\n"
          ]
        },
        {
          "output_type": "stream",
          "name": "stderr",
          "text": [
            "INFO:pyngrok.process.ngrok:t=2024-09-08T12:08:13+0000 lvl=info msg=\"join connections\" obj=join id=46a1fcc4128c l=127.0.0.1:8237 r=[2405:201:e00a:b0bb:6979:1cc8:431a:e357]:64949\n"
          ]
        },
        {
          "output_type": "stream",
          "name": "stdout",
          "text": [
            "\u001b[1;35mt=2024-09-08T12:08:13+0000 lvl=info msg=\"join connections\" obj=join id=46a1fcc4128c l=127.0.0.1:8237 r=[2405:201:e00a:b0bb:6979:1cc8:431a:e357]:64949\u001b[0m\n"
          ]
        },
        {
          "output_type": "stream",
          "name": "stderr",
          "text": [
            "INFO:pyngrok.process.ngrok:t=2024-09-08T12:08:13+0000 lvl=info msg=\"join connections\" obj=join id=c871861e4587 l=127.0.0.1:8237 r=[2405:201:e00a:b0bb:6979:1cc8:431a:e357]:64949\n"
          ]
        },
        {
          "output_type": "stream",
          "name": "stdout",
          "text": [
            "\u001b[1;35mt=2024-09-08T12:08:13+0000 lvl=info msg=\"join connections\" obj=join id=c871861e4587 l=127.0.0.1:8237 r=[2405:201:e00a:b0bb:6979:1cc8:431a:e357]:64949\u001b[0m\n"
          ]
        },
        {
          "output_type": "stream",
          "name": "stderr",
          "text": [
            "INFO:pyngrok.process.ngrok:t=2024-09-08T12:08:13+0000 lvl=info msg=\"join connections\" obj=join id=663ef3f0a2a6 l=127.0.0.1:8237 r=[2405:201:e00a:b0bb:6979:1cc8:431a:e357]:64949\n"
          ]
        },
        {
          "output_type": "stream",
          "name": "stdout",
          "text": [
            "\u001b[1;35mt=2024-09-08T12:08:13+0000 lvl=info msg=\"join connections\" obj=join id=663ef3f0a2a6 l=127.0.0.1:8237 r=[2405:201:e00a:b0bb:6979:1cc8:431a:e357]:64949\u001b[0m\n"
          ]
        },
        {
          "output_type": "stream",
          "name": "stderr",
          "text": [
            "INFO:pyngrok.process.ngrok:t=2024-09-08T12:08:13+0000 lvl=info msg=\"join connections\" obj=join id=f9f3aeb47d84 l=127.0.0.1:8237 r=[2405:201:e00a:b0bb:6979:1cc8:431a:e357]:64949\n"
          ]
        },
        {
          "output_type": "stream",
          "name": "stdout",
          "text": [
            "\u001b[1;35mt=2024-09-08T12:08:13+0000 lvl=info msg=\"join connections\" obj=join id=f9f3aeb47d84 l=127.0.0.1:8237 r=[2405:201:e00a:b0bb:6979:1cc8:431a:e357]:64949\u001b[0m\n"
          ]
        },
        {
          "output_type": "stream",
          "name": "stderr",
          "text": [
            "INFO:pyngrok.process.ngrok:t=2024-09-08T12:08:13+0000 lvl=info msg=\"join connections\" obj=join id=ce3577c685ea l=127.0.0.1:8237 r=[2405:201:e00a:b0bb:6979:1cc8:431a:e357]:64949\n"
          ]
        },
        {
          "output_type": "stream",
          "name": "stdout",
          "text": [
            "\u001b[1;35mt=2024-09-08T12:08:13+0000 lvl=info msg=\"join connections\" obj=join id=ce3577c685ea l=127.0.0.1:8237 r=[2405:201:e00a:b0bb:6979:1cc8:431a:e357]:64949\u001b[0m\n"
          ]
        },
        {
          "output_type": "stream",
          "name": "stderr",
          "text": [
            "INFO:pyngrok.process.ngrok:t=2024-09-08T12:08:13+0000 lvl=info msg=\"join connections\" obj=join id=64f90c05b36d l=127.0.0.1:8237 r=[2405:201:e00a:b0bb:6979:1cc8:431a:e357]:64949\n"
          ]
        },
        {
          "output_type": "stream",
          "name": "stdout",
          "text": [
            "\u001b[1;35mt=2024-09-08T12:08:13+0000 lvl=info msg=\"join connections\" obj=join id=64f90c05b36d l=127.0.0.1:8237 r=[2405:201:e00a:b0bb:6979:1cc8:431a:e357]:64949\u001b[0m\n"
          ]
        },
        {
          "output_type": "stream",
          "name": "stderr",
          "text": [
            "INFO:pyngrok.process.ngrok:t=2024-09-08T12:08:13+0000 lvl=info msg=\"join connections\" obj=join id=cfeac27dd26d l=127.0.0.1:8237 r=[2405:201:e00a:b0bb:6979:1cc8:431a:e357]:64949\n"
          ]
        },
        {
          "output_type": "stream",
          "name": "stdout",
          "text": [
            "\u001b[1;35mt=2024-09-08T12:08:13+0000 lvl=info msg=\"join connections\" obj=join id=cfeac27dd26d l=127.0.0.1:8237 r=[2405:201:e00a:b0bb:6979:1cc8:431a:e357]:64949\u001b[0m\n"
          ]
        },
        {
          "output_type": "stream",
          "name": "stderr",
          "text": [
            "INFO:pyngrok.process.ngrok:t=2024-09-08T12:08:13+0000 lvl=info msg=\"join connections\" obj=join id=c026309ffdab l=127.0.0.1:8237 r=[2405:201:e00a:b0bb:6979:1cc8:431a:e357]:64949\n"
          ]
        },
        {
          "output_type": "stream",
          "name": "stdout",
          "text": [
            "\u001b[1;35mt=2024-09-08T12:08:13+0000 lvl=info msg=\"join connections\" obj=join id=c026309ffdab l=127.0.0.1:8237 r=[2405:201:e00a:b0bb:6979:1cc8:431a:e357]:64949\u001b[0m\n"
          ]
        },
        {
          "output_type": "stream",
          "name": "stderr",
          "text": [
            "INFO:pyngrok.process.ngrok:t=2024-09-08T12:08:13+0000 lvl=info msg=\"join connections\" obj=join id=768ea2963f43 l=127.0.0.1:8237 r=[2405:201:e00a:b0bb:6979:1cc8:431a:e357]:64949\n"
          ]
        },
        {
          "output_type": "stream",
          "name": "stdout",
          "text": [
            "\u001b[1;35mt=2024-09-08T12:08:13+0000 lvl=info msg=\"join connections\" obj=join id=768ea2963f43 l=127.0.0.1:8237 r=[2405:201:e00a:b0bb:6979:1cc8:431a:e357]:64949\u001b[0m\n"
          ]
        },
        {
          "output_type": "stream",
          "name": "stderr",
          "text": [
            "INFO:pyngrok.process.ngrok:t=2024-09-08T12:08:13+0000 lvl=info msg=\"join connections\" obj=join id=c920bd1e989d l=127.0.0.1:8237 r=[2405:201:e00a:b0bb:6979:1cc8:431a:e357]:64949\n"
          ]
        },
        {
          "output_type": "stream",
          "name": "stdout",
          "text": [
            "\u001b[1;35mt=2024-09-08T12:08:13+0000 lvl=info msg=\"join connections\" obj=join id=c920bd1e989d l=127.0.0.1:8237 r=[2405:201:e00a:b0bb:6979:1cc8:431a:e357]:64949\u001b[0m\n"
          ]
        },
        {
          "output_type": "stream",
          "name": "stderr",
          "text": [
            "INFO:pyngrok.process.ngrok:t=2024-09-08T12:08:13+0000 lvl=info msg=\"join connections\" obj=join id=fdd7149045a2 l=127.0.0.1:8237 r=[2405:201:e00a:b0bb:6979:1cc8:431a:e357]:64949\n"
          ]
        },
        {
          "output_type": "stream",
          "name": "stdout",
          "text": [
            "\u001b[32mINFO\u001b[0m:     2405:201:e00a:b0bb:6979:1cc8:431a:e357:0 - \"\u001b[1mGET /assets/index-CsIuf3i6.css HTTP/1.1\u001b[0m\" \u001b[32m200 OK\u001b[0m\n",
            "\u001b[32mINFO\u001b[0m:     2405:201:e00a:b0bb:6979:1cc8:431a:e357:0 - \"\u001b[1mGET /assets/inter-latin-ext-500-normal-B9u8Q_zH.woff2 HTTP/1.1\u001b[0m\" \u001b[32m200 OK\u001b[0m\n",
            "\u001b[32mINFO\u001b[0m:     2405:201:e00a:b0bb:6979:1cc8:431a:e357:0 - \"\u001b[1mGET /assets/inter-cyrillic-500-normal-BRrLR67x.woff2 HTTP/1.1\u001b[0m\" \u001b[32m200 OK\u001b[0m\n",
            "\u001b[32mINFO\u001b[0m:     2405:201:e00a:b0bb:6979:1cc8:431a:e357:0 - \"\u001b[1mGET /assets/inter-latin-400-normal-BT1H-PT_.woff2 HTTP/1.1\u001b[0m\" \u001b[32m200 OK\u001b[0m\n",
            "\u001b[32mINFO\u001b[0m:     2405:201:e00a:b0bb:6979:1cc8:431a:e357:0 - \"\u001b[1mGET /assets/inter-cyrillic-ext-400-normal-tyfMZHQw.woff2 HTTP/1.1\u001b[0m\" \u001b[32m200 OK\u001b[0m\n",
            "\u001b[32mINFO\u001b[0m:     2405:201:e00a:b0bb:6979:1cc8:431a:e357:0 - \"\u001b[1mGET /assets/inter-vietnamese-400-normal-Cnt0N5Vm.woff2 HTTP/1.1\u001b[0m\" \u001b[32m200 OK\u001b[0m\n",
            "\u001b[32mINFO\u001b[0m:     2405:201:e00a:b0bb:6979:1cc8:431a:e357:0 - \"\u001b[1mGET /assets/inter-greek-ext-400-normal-CIdlr5YK.woff2 HTTP/1.1\u001b[0m\" \u001b[32m200 OK\u001b[0m\n",
            "\u001b[32mINFO\u001b[0m:     2405:201:e00a:b0bb:6979:1cc8:431a:e357:0 - \"\u001b[1mGET /assets/inter-greek-ext-500-normal-2pdUafRD.woff2 HTTP/1.1\u001b[0m\" \u001b[32m200 OK\u001b[0m\n",
            "\u001b[32mINFO\u001b[0m:     2405:201:e00a:b0bb:6979:1cc8:431a:e357:0 - \"\u001b[1mGET /assets/inter-cyrillic-400-normal-Df6ckaLK.woff2 HTTP/1.1\u001b[0m\" \u001b[32m200 OK\u001b[0m\n",
            "\u001b[32mINFO\u001b[0m:     2405:201:e00a:b0bb:6979:1cc8:431a:e357:0 - \"\u001b[1mGET /assets/inter-greek-500-normal-CmOavsDc.woff2 HTTP/1.1\u001b[0m\" \u001b[32m200 OK\u001b[0m\n",
            "\u001b[32mINFO\u001b[0m:     2405:201:e00a:b0bb:6979:1cc8:431a:e357:0 - \"\u001b[1mGET /assets/inter-greek-400-normal-DQXyrmoy.woff2 HTTP/1.1\u001b[0m\" \u001b[32m200 OK\u001b[0m\n",
            "\u001b[32mINFO\u001b[0m:     2405:201:e00a:b0bb:6979:1cc8:431a:e357:0 - \"\u001b[1mGET /assets/inter-cyrillic-600-normal-DDpWG8g5.woff2 HTTP/1.1\u001b[0m\" \u001b[32m200 OK\u001b[0m\n",
            "\u001b[32mINFO\u001b[0m:     2405:201:e00a:b0bb:6979:1cc8:431a:e357:0 - \"\u001b[1mGET /assets/inter-vietnamese-500-normal-5IkPJ6Nk.woff2 HTTP/1.1\u001b[0m\" \u001b[32m200 OK\u001b[0m\n",
            "\u001b[32mINFO\u001b[0m:     2405:201:e00a:b0bb:6979:1cc8:431a:e357:0 - \"\u001b[1mGET /assets/inter-vietnamese-600-normal-DjnxGF-L.woff2 HTTP/1.1\u001b[0m\" \u001b[32m200 OK\u001b[0m\n",
            "\u001b[32mINFO\u001b[0m:     2405:201:e00a:b0bb:6979:1cc8:431a:e357:0 - \"\u001b[1mGET /assets/inter-cyrillic-ext-500-normal-DOnSzjnx.woff2 HTTP/1.1\u001b[0m\" \u001b[32m200 OK\u001b[0m\n",
            "\u001b[32mINFO\u001b[0m:     2405:201:e00a:b0bb:6979:1cc8:431a:e357:0 - \"\u001b[1mGET /assets/inter-greek-ext-600-normal-CkBLDEl_.woff2 HTTP/1.1\u001b[0m\" \u001b[32m200 OK\u001b[0m\n",
            "\u001b[32mINFO\u001b[0m:     2405:201:e00a:b0bb:6979:1cc8:431a:e357:0 - \"\u001b[1mGET /assets/adam-e-y0WnB_.webp HTTP/1.1\u001b[0m\" \u001b[32m200 OK\u001b[0m\n",
            "\u001b[32mINFO\u001b[0m:     2405:201:e00a:b0bb:6979:1cc8:431a:e357:0 - \"\u001b[1mGET /assets/inter-latin-500-normal-kWhwEdDH.woff2 HTTP/1.1\u001b[0m\" \u001b[32m200 OK\u001b[0m\n",
            "\u001b[32mINFO\u001b[0m:     2405:201:e00a:b0bb:6979:1cc8:431a:e357:0 - \"\u001b[1mGET /assets/inter-vietnamese-500-normal-0i6yoQMg.woff HTTP/1.1\u001b[0m\" \u001b[32m200 OK\u001b[0m\n",
            "\u001b[32mINFO\u001b[0m:     2405:201:e00a:b0bb:6979:1cc8:431a:e357:0 - \"\u001b[1mGET /assets/inter-latin-ext-600-normal-ao35dkSb.woff2 HTTP/1.1\u001b[0m\" \u001b[32m200 OK\u001b[0m\n",
            "\u001b[32mINFO\u001b[0m:     2405:201:e00a:b0bb:6979:1cc8:431a:e357:0 - \"\u001b[1mGET /assets/flyte-Cj-xy_8I.svg HTTP/1.1\u001b[0m\" \u001b[32m200 OK\u001b[0m\n",
            "\u001b[32mINFO\u001b[0m:     2405:201:e00a:b0bb:6979:1cc8:431a:e357:0 - \"\u001b[1mGET /assets/inter-cyrillic-ext-600-normal-DpA2xaRd.woff2 HTTP/1.1\u001b[0m\" \u001b[32m200 OK\u001b[0m\n",
            "\u001b[32mINFO\u001b[0m:     2405:201:e00a:b0bb:6979:1cc8:431a:e357:0 - \"\u001b[1mGET /assets/inter-greek-ext-500-normal-Dtavx3qw.woff HTTP/1.1\u001b[0m\" \u001b[32m200 OK\u001b[0m\n",
            "\u001b[32mINFO\u001b[0m:     2405:201:e00a:b0bb:6979:1cc8:431a:e357:0 - \"\u001b[1mGET /assets/inter-cyrillic-ext-500-normal-Xebo2OyJ.woff HTTP/1.1\u001b[0m\" \u001b[32m200 OK\u001b[0m\n",
            "\u001b[1;35mt=2024-09-08T12:08:13+0000 lvl=info msg=\"join connections\" obj=join id=fdd7149045a2 l=127.0.0.1:8237 r=[2405:201:e00a:b0bb:6979:1cc8:431a:e357]:64949\u001b[0m\n"
          ]
        },
        {
          "output_type": "stream",
          "name": "stderr",
          "text": [
            "INFO:pyngrok.process.ngrok:t=2024-09-08T12:08:13+0000 lvl=info msg=\"join connections\" obj=join id=083f8cdfad44 l=127.0.0.1:8237 r=[2405:201:e00a:b0bb:6979:1cc8:431a:e357]:64949\n"
          ]
        },
        {
          "output_type": "stream",
          "name": "stdout",
          "text": [
            "\u001b[1;35mt=2024-09-08T12:08:13+0000 lvl=info msg=\"join connections\" obj=join id=083f8cdfad44 l=127.0.0.1:8237 r=[2405:201:e00a:b0bb:6979:1cc8:431a:e357]:64949\u001b[0m\n"
          ]
        },
        {
          "output_type": "stream",
          "name": "stderr",
          "text": [
            "INFO:pyngrok.process.ngrok:t=2024-09-08T12:08:13+0000 lvl=info msg=\"join connections\" obj=join id=59470efbd676 l=127.0.0.1:8237 r=[2405:201:e00a:b0bb:6979:1cc8:431a:e357]:64949\n"
          ]
        },
        {
          "output_type": "stream",
          "name": "stdout",
          "text": [
            "\u001b[1;35mt=2024-09-08T12:08:13+0000 lvl=info msg=\"join connections\" obj=join id=59470efbd676 l=127.0.0.1:8237 r=[2405:201:e00a:b0bb:6979:1cc8:431a:e357]:64949\u001b[0m\n"
          ]
        },
        {
          "output_type": "stream",
          "name": "stderr",
          "text": [
            "INFO:pyngrok.process.ngrok:t=2024-09-08T12:08:13+0000 lvl=info msg=\"join connections\" obj=join id=2a6e6192f2f0 l=127.0.0.1:8237 r=[2405:201:e00a:b0bb:6979:1cc8:431a:e357]:64949\n"
          ]
        },
        {
          "output_type": "stream",
          "name": "stdout",
          "text": [
            "\u001b[1;35mt=2024-09-08T12:08:13+0000 lvl=info msg=\"join connections\" obj=join id=2a6e6192f2f0 l=127.0.0.1:8237 r=[2405:201:e00a:b0bb:6979:1cc8:431a:e357]:64949\u001b[0m\n"
          ]
        },
        {
          "output_type": "stream",
          "name": "stderr",
          "text": [
            "INFO:pyngrok.process.ngrok:t=2024-09-08T12:08:13+0000 lvl=info msg=\"join connections\" obj=join id=63dbfb81c3a7 l=127.0.0.1:8237 r=[2405:201:e00a:b0bb:6979:1cc8:431a:e357]:64949\n"
          ]
        },
        {
          "output_type": "stream",
          "name": "stdout",
          "text": [
            "\u001b[1;35mt=2024-09-08T12:08:13+0000 lvl=info msg=\"join connections\" obj=join id=63dbfb81c3a7 l=127.0.0.1:8237 r=[2405:201:e00a:b0bb:6979:1cc8:431a:e357]:64949\u001b[0m\n"
          ]
        },
        {
          "output_type": "stream",
          "name": "stderr",
          "text": [
            "INFO:pyngrok.process.ngrok:t=2024-09-08T12:08:13+0000 lvl=info msg=\"join connections\" obj=join id=e8b8e3ac1d79 l=127.0.0.1:8237 r=[2405:201:e00a:b0bb:6979:1cc8:431a:e357]:64949\n"
          ]
        },
        {
          "output_type": "stream",
          "name": "stdout",
          "text": [
            "\u001b[1;35mt=2024-09-08T12:08:13+0000 lvl=info msg=\"join connections\" obj=join id=e8b8e3ac1d79 l=127.0.0.1:8237 r=[2405:201:e00a:b0bb:6979:1cc8:431a:e357]:64949\u001b[0m\n"
          ]
        },
        {
          "output_type": "stream",
          "name": "stderr",
          "text": [
            "INFO:pyngrok.process.ngrok:t=2024-09-08T12:08:13+0000 lvl=info msg=\"join connections\" obj=join id=0cbbca863515 l=127.0.0.1:8237 r=[2405:201:e00a:b0bb:6979:1cc8:431a:e357]:64949\n"
          ]
        },
        {
          "output_type": "stream",
          "name": "stdout",
          "text": [
            "\u001b[1;35mt=2024-09-08T12:08:13+0000 lvl=info msg=\"join connections\" obj=join id=0cbbca863515 l=127.0.0.1:8237 r=[2405:201:e00a:b0bb:6979:1cc8:431a:e357]:64949\u001b[0m\n"
          ]
        },
        {
          "output_type": "stream",
          "name": "stderr",
          "text": [
            "INFO:pyngrok.process.ngrok:t=2024-09-08T12:08:13+0000 lvl=info msg=\"join connections\" obj=join id=c0c70ce6204a l=127.0.0.1:8237 r=[2405:201:e00a:b0bb:6979:1cc8:431a:e357]:64949\n"
          ]
        },
        {
          "output_type": "stream",
          "name": "stdout",
          "text": [
            "\u001b[1;35mt=2024-09-08T12:08:13+0000 lvl=info msg=\"join connections\" obj=join id=c0c70ce6204a l=127.0.0.1:8237 r=[2405:201:e00a:b0bb:6979:1cc8:431a:e357]:64949\u001b[0m\n"
          ]
        },
        {
          "output_type": "stream",
          "name": "stderr",
          "text": [
            "INFO:pyngrok.process.ngrok:t=2024-09-08T12:08:13+0000 lvl=info msg=\"join connections\" obj=join id=9bb54bc1568b l=127.0.0.1:8237 r=[2405:201:e00a:b0bb:6979:1cc8:431a:e357]:64949\n"
          ]
        },
        {
          "output_type": "stream",
          "name": "stdout",
          "text": [
            "\u001b[1;35mt=2024-09-08T12:08:13+0000 lvl=info msg=\"join connections\" obj=join id=9bb54bc1568b l=127.0.0.1:8237 r=[2405:201:e00a:b0bb:6979:1cc8:431a:e357]:64949\u001b[0m\n"
          ]
        },
        {
          "output_type": "stream",
          "name": "stderr",
          "text": [
            "INFO:pyngrok.process.ngrok:t=2024-09-08T12:08:13+0000 lvl=info msg=\"join connections\" obj=join id=02d364a8c0fa l=127.0.0.1:8237 r=[2405:201:e00a:b0bb:6979:1cc8:431a:e357]:64949\n"
          ]
        },
        {
          "output_type": "stream",
          "name": "stdout",
          "text": [
            "\u001b[1;35mt=2024-09-08T12:08:13+0000 lvl=info msg=\"join connections\" obj=join id=02d364a8c0fa l=127.0.0.1:8237 r=[2405:201:e00a:b0bb:6979:1cc8:431a:e357]:64949\u001b[0m\n"
          ]
        },
        {
          "output_type": "stream",
          "name": "stderr",
          "text": [
            "INFO:pyngrok.process.ngrok:t=2024-09-08T12:08:13+0000 lvl=info msg=\"join connections\" obj=join id=a32be09ac6f3 l=127.0.0.1:8237 r=[2405:201:e00a:b0bb:6979:1cc8:431a:e357]:64949\n"
          ]
        },
        {
          "output_type": "stream",
          "name": "stdout",
          "text": [
            "\u001b[1;35mt=2024-09-08T12:08:13+0000 lvl=info msg=\"join connections\" obj=join id=a32be09ac6f3 l=127.0.0.1:8237 r=[2405:201:e00a:b0bb:6979:1cc8:431a:e357]:64949\u001b[0m\n"
          ]
        },
        {
          "output_type": "stream",
          "name": "stderr",
          "text": [
            "INFO:pyngrok.process.ngrok:t=2024-09-08T12:08:13+0000 lvl=info msg=\"join connections\" obj=join id=d9b88c11329e l=127.0.0.1:8237 r=[2405:201:e00a:b0bb:6979:1cc8:431a:e357]:64949\n"
          ]
        },
        {
          "output_type": "stream",
          "name": "stdout",
          "text": [
            "\u001b[1;35mt=2024-09-08T12:08:13+0000 lvl=info msg=\"join connections\" obj=join id=d9b88c11329e l=127.0.0.1:8237 r=[2405:201:e00a:b0bb:6979:1cc8:431a:e357]:64949\u001b[0m\n"
          ]
        },
        {
          "output_type": "stream",
          "name": "stderr",
          "text": [
            "INFO:pyngrok.process.ngrok:t=2024-09-08T12:08:13+0000 lvl=info msg=\"join connections\" obj=join id=1d2c92d09354 l=127.0.0.1:8237 r=[2405:201:e00a:b0bb:6979:1cc8:431a:e357]:64949\n"
          ]
        },
        {
          "output_type": "stream",
          "name": "stdout",
          "text": [
            "\u001b[1;35mt=2024-09-08T12:08:13+0000 lvl=info msg=\"join connections\" obj=join id=1d2c92d09354 l=127.0.0.1:8237 r=[2405:201:e00a:b0bb:6979:1cc8:431a:e357]:64949\u001b[0m\n"
          ]
        },
        {
          "output_type": "stream",
          "name": "stderr",
          "text": [
            "INFO:pyngrok.process.ngrok:t=2024-09-08T12:08:13+0000 lvl=info msg=\"join connections\" obj=join id=d68960c46e30 l=127.0.0.1:8237 r=[2405:201:e00a:b0bb:6979:1cc8:431a:e357]:64949\n"
          ]
        },
        {
          "output_type": "stream",
          "name": "stdout",
          "text": [
            "\u001b[1;35mt=2024-09-08T12:08:13+0000 lvl=info msg=\"join connections\" obj=join id=d68960c46e30 l=127.0.0.1:8237 r=[2405:201:e00a:b0bb:6979:1cc8:431a:e357]:64949\u001b[0m\n"
          ]
        },
        {
          "output_type": "stream",
          "name": "stderr",
          "text": [
            "INFO:pyngrok.process.ngrok:t=2024-09-08T12:08:13+0000 lvl=info msg=\"join connections\" obj=join id=c9a648444c70 l=127.0.0.1:8237 r=[2405:201:e00a:b0bb:6979:1cc8:431a:e357]:64949\n"
          ]
        },
        {
          "output_type": "stream",
          "name": "stdout",
          "text": [
            "\u001b[1;35mt=2024-09-08T12:08:13+0000 lvl=info msg=\"join connections\" obj=join id=c9a648444c70 l=127.0.0.1:8237 r=[2405:201:e00a:b0bb:6979:1cc8:431a:e357]:64949\u001b[0m\n"
          ]
        },
        {
          "output_type": "stream",
          "name": "stderr",
          "text": [
            "INFO:pyngrok.process.ngrok:t=2024-09-08T12:08:13+0000 lvl=info msg=\"join connections\" obj=join id=743b364ecc41 l=127.0.0.1:8237 r=[2405:201:e00a:b0bb:6979:1cc8:431a:e357]:64949\n"
          ]
        },
        {
          "output_type": "stream",
          "name": "stdout",
          "text": [
            "\u001b[1;35mt=2024-09-08T12:08:13+0000 lvl=info msg=\"join connections\" obj=join id=743b364ecc41 l=127.0.0.1:8237 r=[2405:201:e00a:b0bb:6979:1cc8:431a:e357]:64949\u001b[0m\n"
          ]
        },
        {
          "output_type": "stream",
          "name": "stderr",
          "text": [
            "INFO:pyngrok.process.ngrok:t=2024-09-08T12:08:13+0000 lvl=info msg=\"join connections\" obj=join id=e21c242b5982 l=127.0.0.1:8237 r=[2405:201:e00a:b0bb:6979:1cc8:431a:e357]:64949\n"
          ]
        },
        {
          "output_type": "stream",
          "name": "stdout",
          "text": [
            "\u001b[1;35mt=2024-09-08T12:08:13+0000 lvl=info msg=\"join connections\" obj=join id=e21c242b5982 l=127.0.0.1:8237 r=[2405:201:e00a:b0bb:6979:1cc8:431a:e357]:64949\u001b[0m\n"
          ]
        },
        {
          "output_type": "stream",
          "name": "stderr",
          "text": [
            "INFO:pyngrok.process.ngrok:t=2024-09-08T12:08:13+0000 lvl=info msg=\"join connections\" obj=join id=4358635a0c5a l=127.0.0.1:8237 r=[2405:201:e00a:b0bb:6979:1cc8:431a:e357]:64949\n"
          ]
        },
        {
          "output_type": "stream",
          "name": "stdout",
          "text": [
            "\u001b[1;35mt=2024-09-08T12:08:13+0000 lvl=info msg=\"join connections\" obj=join id=4358635a0c5a l=127.0.0.1:8237 r=[2405:201:e00a:b0bb:6979:1cc8:431a:e357]:64949\u001b[0m\n"
          ]
        },
        {
          "output_type": "stream",
          "name": "stderr",
          "text": [
            "INFO:pyngrok.process.ngrok:t=2024-09-08T12:08:13+0000 lvl=info msg=\"join connections\" obj=join id=a01b96233306 l=127.0.0.1:8237 r=[2405:201:e00a:b0bb:6979:1cc8:431a:e357]:64949\n"
          ]
        },
        {
          "output_type": "stream",
          "name": "stdout",
          "text": [
            "\u001b[1;35mt=2024-09-08T12:08:13+0000 lvl=info msg=\"join connections\" obj=join id=a01b96233306 l=127.0.0.1:8237 r=[2405:201:e00a:b0bb:6979:1cc8:431a:e357]:64949\u001b[0m\n"
          ]
        },
        {
          "output_type": "stream",
          "name": "stderr",
          "text": [
            "INFO:pyngrok.process.ngrok:t=2024-09-08T12:08:13+0000 lvl=info msg=\"join connections\" obj=join id=cfecfe719716 l=127.0.0.1:8237 r=[2405:201:e00a:b0bb:6979:1cc8:431a:e357]:64949\n"
          ]
        },
        {
          "output_type": "stream",
          "name": "stdout",
          "text": [
            "\u001b[1;35mt=2024-09-08T12:08:13+0000 lvl=info msg=\"join connections\" obj=join id=cfecfe719716 l=127.0.0.1:8237 r=[2405:201:e00a:b0bb:6979:1cc8:431a:e357]:64949\u001b[0m\n"
          ]
        },
        {
          "output_type": "stream",
          "name": "stderr",
          "text": [
            "INFO:pyngrok.process.ngrok:t=2024-09-08T12:08:13+0000 lvl=info msg=\"join connections\" obj=join id=26b2494f9ba4 l=127.0.0.1:8237 r=[2405:201:e00a:b0bb:6979:1cc8:431a:e357]:64949\n"
          ]
        },
        {
          "output_type": "stream",
          "name": "stdout",
          "text": [
            "\u001b[1;35mt=2024-09-08T12:08:13+0000 lvl=info msg=\"join connections\" obj=join id=26b2494f9ba4 l=127.0.0.1:8237 r=[2405:201:e00a:b0bb:6979:1cc8:431a:e357]:64949\u001b[0m\n"
          ]
        },
        {
          "output_type": "stream",
          "name": "stderr",
          "text": [
            "INFO:pyngrok.process.ngrok:t=2024-09-08T12:08:13+0000 lvl=info msg=\"join connections\" obj=join id=d30a34cd4a64 l=127.0.0.1:8237 r=[2405:201:e00a:b0bb:6979:1cc8:431a:e357]:64949\n"
          ]
        },
        {
          "output_type": "stream",
          "name": "stdout",
          "text": [
            "\u001b[1;35mt=2024-09-08T12:08:13+0000 lvl=info msg=\"join connections\" obj=join id=d30a34cd4a64 l=127.0.0.1:8237 r=[2405:201:e00a:b0bb:6979:1cc8:431a:e357]:64949\u001b[0m\n"
          ]
        },
        {
          "output_type": "stream",
          "name": "stderr",
          "text": [
            "INFO:pyngrok.process.ngrok:t=2024-09-08T12:08:13+0000 lvl=info msg=\"join connections\" obj=join id=4fd1687d0315 l=127.0.0.1:8237 r=[2405:201:e00a:b0bb:6979:1cc8:431a:e357]:64949\n"
          ]
        },
        {
          "output_type": "stream",
          "name": "stdout",
          "text": [
            "\u001b[1;35mt=2024-09-08T12:08:13+0000 lvl=info msg=\"join connections\" obj=join id=4fd1687d0315 l=127.0.0.1:8237 r=[2405:201:e00a:b0bb:6979:1cc8:431a:e357]:64949\u001b[0m\n"
          ]
        },
        {
          "output_type": "stream",
          "name": "stderr",
          "text": [
            "INFO:pyngrok.process.ngrok:t=2024-09-08T12:08:13+0000 lvl=info msg=\"join connections\" obj=join id=c4b2ae4c46a8 l=127.0.0.1:8237 r=[2405:201:e00a:b0bb:6979:1cc8:431a:e357]:64949\n"
          ]
        },
        {
          "output_type": "stream",
          "name": "stdout",
          "text": [
            "\u001b[1;35mt=2024-09-08T12:08:13+0000 lvl=info msg=\"join connections\" obj=join id=c4b2ae4c46a8 l=127.0.0.1:8237 r=[2405:201:e00a:b0bb:6979:1cc8:431a:e357]:64949\u001b[0m\n"
          ]
        },
        {
          "output_type": "stream",
          "name": "stderr",
          "text": [
            "INFO:pyngrok.process.ngrok:t=2024-09-08T12:08:13+0000 lvl=info msg=\"join connections\" obj=join id=3120183af7ee l=127.0.0.1:8237 r=[2405:201:e00a:b0bb:6979:1cc8:431a:e357]:64949\n"
          ]
        },
        {
          "output_type": "stream",
          "name": "stdout",
          "text": [
            "\u001b[1;35mt=2024-09-08T12:08:13+0000 lvl=info msg=\"join connections\" obj=join id=3120183af7ee l=127.0.0.1:8237 r=[2405:201:e00a:b0bb:6979:1cc8:431a:e357]:64949\u001b[0m\n"
          ]
        },
        {
          "output_type": "stream",
          "name": "stderr",
          "text": [
            "INFO:pyngrok.process.ngrok:t=2024-09-08T12:08:13+0000 lvl=info msg=\"join connections\" obj=join id=6a719b20ab9c l=127.0.0.1:8237 r=[2405:201:e00a:b0bb:6979:1cc8:431a:e357]:64949\n"
          ]
        },
        {
          "output_type": "stream",
          "name": "stdout",
          "text": [
            "\u001b[1;35mt=2024-09-08T12:08:13+0000 lvl=info msg=\"join connections\" obj=join id=6a719b20ab9c l=127.0.0.1:8237 r=[2405:201:e00a:b0bb:6979:1cc8:431a:e357]:64949\u001b[0m\n"
          ]
        },
        {
          "output_type": "stream",
          "name": "stderr",
          "text": [
            "INFO:pyngrok.process.ngrok:t=2024-09-08T12:08:13+0000 lvl=info msg=\"join connections\" obj=join id=1dbd0637e505 l=127.0.0.1:8237 r=[2405:201:e00a:b0bb:6979:1cc8:431a:e357]:64949\n"
          ]
        },
        {
          "output_type": "stream",
          "name": "stdout",
          "text": [
            "\u001b[1;35mt=2024-09-08T12:08:13+0000 lvl=info msg=\"join connections\" obj=join id=1dbd0637e505 l=127.0.0.1:8237 r=[2405:201:e00a:b0bb:6979:1cc8:431a:e357]:64949\u001b[0m\n"
          ]
        },
        {
          "output_type": "stream",
          "name": "stderr",
          "text": [
            "INFO:pyngrok.process.ngrok:t=2024-09-08T12:08:13+0000 lvl=info msg=\"join connections\" obj=join id=40e9ca3bf520 l=127.0.0.1:8237 r=[2405:201:e00a:b0bb:6979:1cc8:431a:e357]:64949\n"
          ]
        },
        {
          "output_type": "stream",
          "name": "stdout",
          "text": [
            "\u001b[1;35mt=2024-09-08T12:08:13+0000 lvl=info msg=\"join connections\" obj=join id=40e9ca3bf520 l=127.0.0.1:8237 r=[2405:201:e00a:b0bb:6979:1cc8:431a:e357]:64949\u001b[0m\n"
          ]
        },
        {
          "output_type": "stream",
          "name": "stderr",
          "text": [
            "INFO:pyngrok.process.ngrok:t=2024-09-08T12:08:13+0000 lvl=info msg=\"join connections\" obj=join id=eae5bdd4413d l=127.0.0.1:8237 r=[2405:201:e00a:b0bb:6979:1cc8:431a:e357]:64949\n"
          ]
        },
        {
          "output_type": "stream",
          "name": "stdout",
          "text": [
            "\u001b[1;35mt=2024-09-08T12:08:13+0000 lvl=info msg=\"join connections\" obj=join id=eae5bdd4413d l=127.0.0.1:8237 r=[2405:201:e00a:b0bb:6979:1cc8:431a:e357]:64949\u001b[0m\n"
          ]
        },
        {
          "output_type": "stream",
          "name": "stderr",
          "text": [
            "INFO:pyngrok.process.ngrok:t=2024-09-08T12:08:13+0000 lvl=info msg=\"join connections\" obj=join id=41efba047f0c l=127.0.0.1:8237 r=[2405:201:e00a:b0bb:6979:1cc8:431a:e357]:64949\n"
          ]
        },
        {
          "output_type": "stream",
          "name": "stdout",
          "text": [
            "\u001b[1;35mt=2024-09-08T12:08:13+0000 lvl=info msg=\"join connections\" obj=join id=41efba047f0c l=127.0.0.1:8237 r=[2405:201:e00a:b0bb:6979:1cc8:431a:e357]:64949\u001b[0m\n"
          ]
        },
        {
          "output_type": "stream",
          "name": "stderr",
          "text": [
            "INFO:pyngrok.process.ngrok:t=2024-09-08T12:08:13+0000 lvl=info msg=\"join connections\" obj=join id=90c78486c337 l=127.0.0.1:8237 r=[2405:201:e00a:b0bb:6979:1cc8:431a:e357]:64949\n"
          ]
        },
        {
          "output_type": "stream",
          "name": "stdout",
          "text": [
            "\u001b[1;35mt=2024-09-08T12:08:13+0000 lvl=info msg=\"join connections\" obj=join id=90c78486c337 l=127.0.0.1:8237 r=[2405:201:e00a:b0bb:6979:1cc8:431a:e357]:64949\u001b[0m\n"
          ]
        },
        {
          "output_type": "stream",
          "name": "stderr",
          "text": [
            "INFO:pyngrok.process.ngrok:t=2024-09-08T12:08:13+0000 lvl=info msg=\"join connections\" obj=join id=c70e50def616 l=127.0.0.1:8237 r=[2405:201:e00a:b0bb:6979:1cc8:431a:e357]:64949\n"
          ]
        },
        {
          "output_type": "stream",
          "name": "stdout",
          "text": [
            "\u001b[1;35mt=2024-09-08T12:08:13+0000 lvl=info msg=\"join connections\" obj=join id=c70e50def616 l=127.0.0.1:8237 r=[2405:201:e00a:b0bb:6979:1cc8:431a:e357]:64949\u001b[0m\n"
          ]
        },
        {
          "output_type": "stream",
          "name": "stderr",
          "text": [
            "INFO:pyngrok.process.ngrok:t=2024-09-08T12:08:13+0000 lvl=info msg=\"join connections\" obj=join id=b93b43811e9c l=127.0.0.1:8237 r=[2405:201:e00a:b0bb:6979:1cc8:431a:e357]:64949\n"
          ]
        },
        {
          "output_type": "stream",
          "name": "stdout",
          "text": [
            "\u001b[1;35mt=2024-09-08T12:08:13+0000 lvl=info msg=\"join connections\" obj=join id=b93b43811e9c l=127.0.0.1:8237 r=[2405:201:e00a:b0bb:6979:1cc8:431a:e357]:64949\u001b[0m\n",
            "\u001b[32mINFO\u001b[0m:     2405:201:e00a:b0bb:6979:1cc8:431a:e357:0 - \"\u001b[1mGET /assets/inter-latin-500-normal-D4I8BKCx.woff HTTP/1.1\u001b[0m\" \u001b[32m200 OK\u001b[0m\n",
            "\u001b[32mINFO\u001b[0m:     2405:201:e00a:b0bb:6979:1cc8:431a:e357:0 - \"\u001b[1mGET /assets/inter-cyrillic-ext-400-normal-CzG7Kr3z.woff HTTP/1.1\u001b[0m\" \u001b[32m200 OK\u001b[0m\n",
            "\u001b[32mINFO\u001b[0m:     2405:201:e00a:b0bb:6979:1cc8:431a:e357:0 - \"\u001b[1mGET /assets/inter-greek-600-normal-B-l8Lzzd.woff2 HTTP/1.1\u001b[0m\" \u001b[32m200 OK\u001b[0m\n",
            "\u001b[32mINFO\u001b[0m:     2405:201:e00a:b0bb:6979:1cc8:431a:e357:0 - \"\u001b[1mGET /assets/inter-latin-600-normal-Dbvh0wvx.woff HTTP/1.1\u001b[0m\" \u001b[32m200 OK\u001b[0m\n",
            "\u001b[32mINFO\u001b[0m:     2405:201:e00a:b0bb:6979:1cc8:431a:e357:0 - \"\u001b[1mGET /assets/inter-latin-ext-500-normal-SuUkSNTU.woff HTTP/1.1\u001b[0m\" \u001b[32m200 OK\u001b[0m\n",
            "\u001b[32mINFO\u001b[0m:     2405:201:e00a:b0bb:6979:1cc8:431a:e357:0 - \"\u001b[1mGET /assets/inter-latin-400-normal-Cdi8t5Mu.woff HTTP/1.1\u001b[0m\" \u001b[32m200 OK\u001b[0m\n",
            "\u001b[32mINFO\u001b[0m:     2405:201:e00a:b0bb:6979:1cc8:431a:e357:0 - \"\u001b[1mGET /assets/inter-latin-ext-400-normal-8tIzm-yw.woff HTTP/1.1\u001b[0m\" \u001b[32m200 OK\u001b[0m\n",
            "\u001b[32mINFO\u001b[0m:     2405:201:e00a:b0bb:6979:1cc8:431a:e357:0 - \"\u001b[1mGET /assets/inter-latin-ext-600-normal-Dg0Bk0Yr.woff HTTP/1.1\u001b[0m\" \u001b[32m200 OK\u001b[0m\n",
            "\u001b[32mINFO\u001b[0m:     2405:201:e00a:b0bb:6979:1cc8:431a:e357:0 - \"\u001b[1mGET /assets/inter-greek-ext-400-normal-_Rr29XE2.woff HTTP/1.1\u001b[0m\" \u001b[32m200 OK\u001b[0m\n",
            "\u001b[32mINFO\u001b[0m:     2405:201:e00a:b0bb:6979:1cc8:431a:e357:0 - \"\u001b[1mGET /assets/inter-vietnamese-400-normal-DIOGfGLL.woff HTTP/1.1\u001b[0m\" \u001b[32m200 OK\u001b[0m\n",
            "\u001b[32mINFO\u001b[0m:     2405:201:e00a:b0bb:6979:1cc8:431a:e357:0 - \"\u001b[1mGET /assets/settings_preview-0JLrRgHP.webp HTTP/1.1\u001b[0m\" \u001b[32m200 OK\u001b[0m\n",
            "\u001b[32mINFO\u001b[0m:     2405:201:e00a:b0bb:6979:1cc8:431a:e357:0 - \"\u001b[1mGET /assets/hamza-NKKOZz1I.webp HTTP/1.1\u001b[0m\" \u001b[32m200 OK\u001b[0m\n",
            "\u001b[32mINFO\u001b[0m:     2405:201:e00a:b0bb:6979:1cc8:431a:e357:0 - \"\u001b[1mGET /assets/inter-cyrillic-ext-600-normal-KAwcVx6H.woff HTTP/1.1\u001b[0m\" \u001b[32m200 OK\u001b[0m\n",
            "\u001b[32mINFO\u001b[0m:     2405:201:e00a:b0bb:6979:1cc8:431a:e357:0 - \"\u001b[1mGET /assets/tour-cover-BYfeen6M.webp HTTP/1.1\u001b[0m\" \u001b[32m200 OK\u001b[0m\n",
            "\u001b[32mINFO\u001b[0m:     2405:201:e00a:b0bb:6979:1cc8:431a:e357:0 - \"\u001b[1mGET /assets/baris-C0ZrZ10g.webp HTTP/1.1\u001b[0m\" \u001b[32m200 OK\u001b[0m\n",
            "\u001b[32mINFO\u001b[0m:     2405:201:e00a:b0bb:6979:1cc8:431a:e357:0 - \"\u001b[1mGET /assets/cloud-squares-DeRLMopf.svg HTTP/1.1\u001b[0m\" \u001b[32m200 OK\u001b[0m\n",
            "\u001b[32mINFO\u001b[0m:     2405:201:e00a:b0bb:6979:1cc8:431a:e357:0 - \"\u001b[1mGET /assets/inter-cyrillic-500-normal-DskEQOpE.woff HTTP/1.1\u001b[0m\" \u001b[32m200 OK\u001b[0m\n"
          ]
        },
        {
          "output_type": "stream",
          "name": "stderr",
          "text": [
            "INFO:pyngrok.process.ngrok:t=2024-09-08T12:08:13+0000 lvl=info msg=\"join connections\" obj=join id=7cf1b79865eb l=127.0.0.1:8237 r=[2405:201:e00a:b0bb:6979:1cc8:431a:e357]:64949\n"
          ]
        },
        {
          "output_type": "stream",
          "name": "stdout",
          "text": [
            "\u001b[1;35mt=2024-09-08T12:08:13+0000 lvl=info msg=\"join connections\" obj=join id=7cf1b79865eb l=127.0.0.1:8237 r=[2405:201:e00a:b0bb:6979:1cc8:431a:e357]:64949\u001b[0m\n"
          ]
        },
        {
          "output_type": "stream",
          "name": "stderr",
          "text": [
            "INFO:pyngrok.process.ngrok:t=2024-09-08T12:08:13+0000 lvl=info msg=\"join connections\" obj=join id=5b8135401c25 l=127.0.0.1:8237 r=[2405:201:e00a:b0bb:6979:1cc8:431a:e357]:64949\n"
          ]
        },
        {
          "output_type": "stream",
          "name": "stdout",
          "text": [
            "\u001b[1;35mt=2024-09-08T12:08:13+0000 lvl=info msg=\"join connections\" obj=join id=5b8135401c25 l=127.0.0.1:8237 r=[2405:201:e00a:b0bb:6979:1cc8:431a:e357]:64949\u001b[0m\n"
          ]
        },
        {
          "output_type": "stream",
          "name": "stderr",
          "text": [
            "INFO:pyngrok.process.ngrok:t=2024-09-08T12:08:13+0000 lvl=info msg=\"join connections\" obj=join id=283aa5d52157 l=127.0.0.1:8237 r=[2405:201:e00a:b0bb:6979:1cc8:431a:e357]:64949\n"
          ]
        },
        {
          "output_type": "stream",
          "name": "stdout",
          "text": [
            "\u001b[1;35mt=2024-09-08T12:08:13+0000 lvl=info msg=\"join connections\" obj=join id=283aa5d52157 l=127.0.0.1:8237 r=[2405:201:e00a:b0bb:6979:1cc8:431a:e357]:64949\u001b[0m\n"
          ]
        },
        {
          "output_type": "stream",
          "name": "stderr",
          "text": [
            "INFO:pyngrok.process.ngrok:t=2024-09-08T12:08:13+0000 lvl=info msg=\"join connections\" obj=join id=9c7bf217c083 l=127.0.0.1:8237 r=[2405:201:e00a:b0bb:6979:1cc8:431a:e357]:64949\n"
          ]
        },
        {
          "output_type": "stream",
          "name": "stdout",
          "text": [
            "\u001b[1;35mt=2024-09-08T12:08:13+0000 lvl=info msg=\"join connections\" obj=join id=9c7bf217c083 l=127.0.0.1:8237 r=[2405:201:e00a:b0bb:6979:1cc8:431a:e357]:64949\u001b[0m\n"
          ]
        },
        {
          "output_type": "stream",
          "name": "stderr",
          "text": [
            "INFO:pyngrok.process.ngrok:t=2024-09-08T12:08:13+0000 lvl=info msg=\"join connections\" obj=join id=8768f82d4ae7 l=127.0.0.1:8237 r=[2405:201:e00a:b0bb:6979:1cc8:431a:e357]:64949\n"
          ]
        },
        {
          "output_type": "stream",
          "name": "stdout",
          "text": [
            "\u001b[1;35mt=2024-09-08T12:08:13+0000 lvl=info msg=\"join connections\" obj=join id=8768f82d4ae7 l=127.0.0.1:8237 r=[2405:201:e00a:b0bb:6979:1cc8:431a:e357]:64949\u001b[0m\n"
          ]
        },
        {
          "output_type": "stream",
          "name": "stderr",
          "text": [
            "INFO:pyngrok.process.ngrok:t=2024-09-08T12:08:13+0000 lvl=info msg=\"join connections\" obj=join id=b208a446d398 l=127.0.0.1:8237 r=[2405:201:e00a:b0bb:6979:1cc8:431a:e357]:64949\n"
          ]
        },
        {
          "output_type": "stream",
          "name": "stdout",
          "text": [
            "\u001b[1;35mt=2024-09-08T12:08:13+0000 lvl=info msg=\"join connections\" obj=join id=b208a446d398 l=127.0.0.1:8237 r=[2405:201:e00a:b0bb:6979:1cc8:431a:e357]:64949\u001b[0m\n"
          ]
        },
        {
          "output_type": "stream",
          "name": "stderr",
          "text": [
            "INFO:pyngrok.process.ngrok:t=2024-09-08T12:08:13+0000 lvl=info msg=\"join connections\" obj=join id=ced069925f05 l=127.0.0.1:8237 r=[2405:201:e00a:b0bb:6979:1cc8:431a:e357]:64949\n"
          ]
        },
        {
          "output_type": "stream",
          "name": "stdout",
          "text": [
            "\u001b[1;35mt=2024-09-08T12:08:13+0000 lvl=info msg=\"join connections\" obj=join id=ced069925f05 l=127.0.0.1:8237 r=[2405:201:e00a:b0bb:6979:1cc8:431a:e357]:64949\u001b[0m\n"
          ]
        },
        {
          "output_type": "stream",
          "name": "stderr",
          "text": [
            "INFO:pyngrok.process.ngrok:t=2024-09-08T12:08:13+0000 lvl=info msg=\"join connections\" obj=join id=0bfd86d37a03 l=127.0.0.1:8237 r=[2405:201:e00a:b0bb:6979:1cc8:431a:e357]:64949\n"
          ]
        },
        {
          "output_type": "stream",
          "name": "stdout",
          "text": [
            "\u001b[1;35mt=2024-09-08T12:08:13+0000 lvl=info msg=\"join connections\" obj=join id=0bfd86d37a03 l=127.0.0.1:8237 r=[2405:201:e00a:b0bb:6979:1cc8:431a:e357]:64949\u001b[0m\n"
          ]
        },
        {
          "output_type": "stream",
          "name": "stderr",
          "text": [
            "INFO:pyngrok.process.ngrok:t=2024-09-08T12:08:13+0000 lvl=info msg=\"join connections\" obj=join id=ae54f27144d4 l=127.0.0.1:8237 r=[2405:201:e00a:b0bb:6979:1cc8:431a:e357]:64949\n"
          ]
        },
        {
          "output_type": "stream",
          "name": "stdout",
          "text": [
            "\u001b[1;35mt=2024-09-08T12:08:13+0000 lvl=info msg=\"join connections\" obj=join id=ae54f27144d4 l=127.0.0.1:8237 r=[2405:201:e00a:b0bb:6979:1cc8:431a:e357]:64949\u001b[0m\n"
          ]
        },
        {
          "output_type": "stream",
          "name": "stderr",
          "text": [
            "INFO:pyngrok.process.ngrok:t=2024-09-08T12:08:13+0000 lvl=info msg=\"join connections\" obj=join id=afa3936f3fe7 l=127.0.0.1:8237 r=[2405:201:e00a:b0bb:6979:1cc8:431a:e357]:64949\n"
          ]
        },
        {
          "output_type": "stream",
          "name": "stdout",
          "text": [
            "\u001b[1;35mt=2024-09-08T12:08:13+0000 lvl=info msg=\"join connections\" obj=join id=afa3936f3fe7 l=127.0.0.1:8237 r=[2405:201:e00a:b0bb:6979:1cc8:431a:e357]:64949\u001b[0m\n"
          ]
        },
        {
          "output_type": "stream",
          "name": "stderr",
          "text": [
            "INFO:pyngrok.process.ngrok:t=2024-09-08T12:08:13+0000 lvl=info msg=\"join connections\" obj=join id=0b1538917522 l=127.0.0.1:8237 r=[2405:201:e00a:b0bb:6979:1cc8:431a:e357]:64949\n"
          ]
        },
        {
          "output_type": "stream",
          "name": "stdout",
          "text": [
            "\u001b[1;35mt=2024-09-08T12:08:13+0000 lvl=info msg=\"join connections\" obj=join id=0b1538917522 l=127.0.0.1:8237 r=[2405:201:e00a:b0bb:6979:1cc8:431a:e357]:64949\u001b[0m\n"
          ]
        },
        {
          "output_type": "stream",
          "name": "stderr",
          "text": [
            "INFO:pyngrok.process.ngrok:t=2024-09-08T12:08:13+0000 lvl=info msg=\"join connections\" obj=join id=69babd561ab7 l=127.0.0.1:8237 r=[2405:201:e00a:b0bb:6979:1cc8:431a:e357]:64949\n"
          ]
        },
        {
          "output_type": "stream",
          "name": "stdout",
          "text": [
            "\u001b[1;35mt=2024-09-08T12:08:13+0000 lvl=info msg=\"join connections\" obj=join id=69babd561ab7 l=127.0.0.1:8237 r=[2405:201:e00a:b0bb:6979:1cc8:431a:e357]:64949\u001b[0m\n"
          ]
        },
        {
          "output_type": "stream",
          "name": "stderr",
          "text": [
            "INFO:pyngrok.process.ngrok:t=2024-09-08T12:08:13+0000 lvl=info msg=\"join connections\" obj=join id=2822d7898524 l=127.0.0.1:8237 r=[2405:201:e00a:b0bb:6979:1cc8:431a:e357]:64949\n"
          ]
        },
        {
          "output_type": "stream",
          "name": "stdout",
          "text": [
            "\u001b[1;35mt=2024-09-08T12:08:13+0000 lvl=info msg=\"join connections\" obj=join id=2822d7898524 l=127.0.0.1:8237 r=[2405:201:e00a:b0bb:6979:1cc8:431a:e357]:64949\u001b[0m\n"
          ]
        },
        {
          "output_type": "stream",
          "name": "stderr",
          "text": [
            "INFO:pyngrok.process.ngrok:t=2024-09-08T12:08:13+0000 lvl=info msg=\"join connections\" obj=join id=0758e65458b1 l=127.0.0.1:8237 r=[2405:201:e00a:b0bb:6979:1cc8:431a:e357]:64949\n"
          ]
        },
        {
          "output_type": "stream",
          "name": "stdout",
          "text": [
            "\u001b[1;35mt=2024-09-08T12:08:13+0000 lvl=info msg=\"join connections\" obj=join id=0758e65458b1 l=127.0.0.1:8237 r=[2405:201:e00a:b0bb:6979:1cc8:431a:e357]:64949\u001b[0m\n"
          ]
        },
        {
          "output_type": "stream",
          "name": "stderr",
          "text": [
            "INFO:pyngrok.process.ngrok:t=2024-09-08T12:08:13+0000 lvl=info msg=\"join connections\" obj=join id=ba6a08a41371 l=127.0.0.1:8237 r=[2405:201:e00a:b0bb:6979:1cc8:431a:e357]:64949\n"
          ]
        },
        {
          "output_type": "stream",
          "name": "stdout",
          "text": [
            "\u001b[1;35mt=2024-09-08T12:08:13+0000 lvl=info msg=\"join connections\" obj=join id=ba6a08a41371 l=127.0.0.1:8237 r=[2405:201:e00a:b0bb:6979:1cc8:431a:e357]:64949\u001b[0m\n"
          ]
        },
        {
          "output_type": "stream",
          "name": "stderr",
          "text": [
            "INFO:pyngrok.process.ngrok:t=2024-09-08T12:08:13+0000 lvl=info msg=\"join connections\" obj=join id=465648097b78 l=127.0.0.1:8237 r=[2405:201:e00a:b0bb:6979:1cc8:431a:e357]:64949\n"
          ]
        },
        {
          "output_type": "stream",
          "name": "stdout",
          "text": [
            "\u001b[1;35mt=2024-09-08T12:08:13+0000 lvl=info msg=\"join connections\" obj=join id=465648097b78 l=127.0.0.1:8237 r=[2405:201:e00a:b0bb:6979:1cc8:431a:e357]:64949\u001b[0m\n"
          ]
        },
        {
          "output_type": "stream",
          "name": "stderr",
          "text": [
            "INFO:pyngrok.process.ngrok:t=2024-09-08T12:08:13+0000 lvl=info msg=\"join connections\" obj=join id=57d9927886ec l=127.0.0.1:8237 r=[2405:201:e00a:b0bb:6979:1cc8:431a:e357]:64949\n"
          ]
        },
        {
          "output_type": "stream",
          "name": "stdout",
          "text": [
            "\u001b[1;35mt=2024-09-08T12:08:13+0000 lvl=info msg=\"join connections\" obj=join id=57d9927886ec l=127.0.0.1:8237 r=[2405:201:e00a:b0bb:6979:1cc8:431a:e357]:64949\u001b[0m\n"
          ]
        },
        {
          "output_type": "stream",
          "name": "stderr",
          "text": [
            "INFO:pyngrok.process.ngrok:t=2024-09-08T12:08:13+0000 lvl=info msg=\"join connections\" obj=join id=989a950f4f7e l=127.0.0.1:8237 r=[2405:201:e00a:b0bb:6979:1cc8:431a:e357]:64949\n"
          ]
        },
        {
          "output_type": "stream",
          "name": "stdout",
          "text": [
            "\u001b[1;35mt=2024-09-08T12:08:13+0000 lvl=info msg=\"join connections\" obj=join id=989a950f4f7e l=127.0.0.1:8237 r=[2405:201:e00a:b0bb:6979:1cc8:431a:e357]:64949\u001b[0m\n"
          ]
        },
        {
          "output_type": "stream",
          "name": "stderr",
          "text": [
            "INFO:pyngrok.process.ngrok:t=2024-09-08T12:08:13+0000 lvl=info msg=\"join connections\" obj=join id=78dcef95860f l=127.0.0.1:8237 r=[2405:201:e00a:b0bb:6979:1cc8:431a:e357]:64949\n"
          ]
        },
        {
          "output_type": "stream",
          "name": "stdout",
          "text": [
            "\u001b[1;35mt=2024-09-08T12:08:13+0000 lvl=info msg=\"join connections\" obj=join id=78dcef95860f l=127.0.0.1:8237 r=[2405:201:e00a:b0bb:6979:1cc8:431a:e357]:64949\u001b[0m\n"
          ]
        },
        {
          "output_type": "stream",
          "name": "stderr",
          "text": [
            "INFO:pyngrok.process.ngrok:t=2024-09-08T12:08:13+0000 lvl=info msg=\"join connections\" obj=join id=ff4b44e4f409 l=127.0.0.1:8237 r=[2405:201:e00a:b0bb:6979:1cc8:431a:e357]:64949\n"
          ]
        },
        {
          "output_type": "stream",
          "name": "stdout",
          "text": [
            "\u001b[1;35mt=2024-09-08T12:08:13+0000 lvl=info msg=\"join connections\" obj=join id=ff4b44e4f409 l=127.0.0.1:8237 r=[2405:201:e00a:b0bb:6979:1cc8:431a:e357]:64949\u001b[0m\n"
          ]
        },
        {
          "output_type": "stream",
          "name": "stderr",
          "text": [
            "INFO:pyngrok.process.ngrok:t=2024-09-08T12:08:13+0000 lvl=info msg=\"join connections\" obj=join id=702839124557 l=127.0.0.1:8237 r=[2405:201:e00a:b0bb:6979:1cc8:431a:e357]:64949\n"
          ]
        },
        {
          "output_type": "stream",
          "name": "stdout",
          "text": [
            "\u001b[1;35mt=2024-09-08T12:08:13+0000 lvl=info msg=\"join connections\" obj=join id=702839124557 l=127.0.0.1:8237 r=[2405:201:e00a:b0bb:6979:1cc8:431a:e357]:64949\u001b[0m\n"
          ]
        },
        {
          "output_type": "stream",
          "name": "stderr",
          "text": [
            "INFO:pyngrok.process.ngrok:t=2024-09-08T12:08:13+0000 lvl=info msg=\"join connections\" obj=join id=c7076ffd3fe6 l=127.0.0.1:8237 r=[2405:201:e00a:b0bb:6979:1cc8:431a:e357]:64949\n"
          ]
        },
        {
          "output_type": "stream",
          "name": "stdout",
          "text": [
            "\u001b[1;35mt=2024-09-08T12:08:13+0000 lvl=info msg=\"join connections\" obj=join id=c7076ffd3fe6 l=127.0.0.1:8237 r=[2405:201:e00a:b0bb:6979:1cc8:431a:e357]:64949\u001b[0m\n"
          ]
        },
        {
          "output_type": "stream",
          "name": "stderr",
          "text": [
            "INFO:pyngrok.process.ngrok:t=2024-09-08T12:08:13+0000 lvl=info msg=\"join connections\" obj=join id=5a29f338f8cb l=127.0.0.1:8237 r=[2405:201:e00a:b0bb:6979:1cc8:431a:e357]:64949\n"
          ]
        },
        {
          "output_type": "stream",
          "name": "stdout",
          "text": [
            "\u001b[1;35mt=2024-09-08T12:08:13+0000 lvl=info msg=\"join connections\" obj=join id=5a29f338f8cb l=127.0.0.1:8237 r=[2405:201:e00a:b0bb:6979:1cc8:431a:e357]:64949\u001b[0m\n"
          ]
        },
        {
          "output_type": "stream",
          "name": "stderr",
          "text": [
            "INFO:pyngrok.process.ngrok:t=2024-09-08T12:08:13+0000 lvl=info msg=\"join connections\" obj=join id=2516c4ab1c6e l=127.0.0.1:8237 r=[2405:201:e00a:b0bb:6979:1cc8:431a:e357]:64949\n"
          ]
        },
        {
          "output_type": "stream",
          "name": "stdout",
          "text": [
            "\u001b[1;35mt=2024-09-08T12:08:13+0000 lvl=info msg=\"join connections\" obj=join id=2516c4ab1c6e l=127.0.0.1:8237 r=[2405:201:e00a:b0bb:6979:1cc8:431a:e357]:64949\u001b[0m\n"
          ]
        },
        {
          "output_type": "stream",
          "name": "stderr",
          "text": [
            "INFO:pyngrok.process.ngrok:t=2024-09-08T12:08:13+0000 lvl=info msg=\"join connections\" obj=join id=312347fcdd36 l=127.0.0.1:8237 r=[2405:201:e00a:b0bb:6979:1cc8:431a:e357]:64949\n"
          ]
        },
        {
          "output_type": "stream",
          "name": "stdout",
          "text": [
            "\u001b[1;35mt=2024-09-08T12:08:13+0000 lvl=info msg=\"join connections\" obj=join id=312347fcdd36 l=127.0.0.1:8237 r=[2405:201:e00a:b0bb:6979:1cc8:431a:e357]:64949\u001b[0m\n"
          ]
        },
        {
          "output_type": "stream",
          "name": "stderr",
          "text": [
            "INFO:pyngrok.process.ngrok:t=2024-09-08T12:08:13+0000 lvl=info msg=\"join connections\" obj=join id=4f42f6918f69 l=127.0.0.1:8237 r=[2405:201:e00a:b0bb:6979:1cc8:431a:e357]:64949\n"
          ]
        },
        {
          "output_type": "stream",
          "name": "stdout",
          "text": [
            "\u001b[1;35mt=2024-09-08T12:08:13+0000 lvl=info msg=\"join connections\" obj=join id=4f42f6918f69 l=127.0.0.1:8237 r=[2405:201:e00a:b0bb:6979:1cc8:431a:e357]:64949\u001b[0m\n"
          ]
        },
        {
          "output_type": "stream",
          "name": "stderr",
          "text": [
            "INFO:pyngrok.process.ngrok:t=2024-09-08T12:08:13+0000 lvl=info msg=\"join connections\" obj=join id=0562f3203439 l=127.0.0.1:8237 r=[2405:201:e00a:b0bb:6979:1cc8:431a:e357]:64949\n"
          ]
        },
        {
          "output_type": "stream",
          "name": "stdout",
          "text": [
            "\u001b[1;35mt=2024-09-08T12:08:13+0000 lvl=info msg=\"join connections\" obj=join id=0562f3203439 l=127.0.0.1:8237 r=[2405:201:e00a:b0bb:6979:1cc8:431a:e357]:64949\u001b[0m\n"
          ]
        },
        {
          "output_type": "stream",
          "name": "stderr",
          "text": [
            "INFO:pyngrok.process.ngrok:t=2024-09-08T12:08:13+0000 lvl=info msg=\"join connections\" obj=join id=e85fc3efb17a l=127.0.0.1:8237 r=[2405:201:e00a:b0bb:6979:1cc8:431a:e357]:64949\n"
          ]
        },
        {
          "output_type": "stream",
          "name": "stdout",
          "text": [
            "\u001b[1;35mt=2024-09-08T12:08:13+0000 lvl=info msg=\"join connections\" obj=join id=e85fc3efb17a l=127.0.0.1:8237 r=[2405:201:e00a:b0bb:6979:1cc8:431a:e357]:64949\u001b[0m\n"
          ]
        },
        {
          "output_type": "stream",
          "name": "stderr",
          "text": [
            "INFO:pyngrok.process.ngrok:t=2024-09-08T12:08:13+0000 lvl=info msg=\"join connections\" obj=join id=3b53392bc3f0 l=127.0.0.1:8237 r=[2405:201:e00a:b0bb:6979:1cc8:431a:e357]:64949\n"
          ]
        },
        {
          "output_type": "stream",
          "name": "stdout",
          "text": [
            "\u001b[1;35mt=2024-09-08T12:08:13+0000 lvl=info msg=\"join connections\" obj=join id=3b53392bc3f0 l=127.0.0.1:8237 r=[2405:201:e00a:b0bb:6979:1cc8:431a:e357]:64949\u001b[0m\n"
          ]
        },
        {
          "output_type": "stream",
          "name": "stderr",
          "text": [
            "INFO:pyngrok.process.ngrok:t=2024-09-08T12:08:13+0000 lvl=info msg=\"join connections\" obj=join id=3f595bf5ccdb l=127.0.0.1:8237 r=[2405:201:e00a:b0bb:6979:1cc8:431a:e357]:64949\n"
          ]
        },
        {
          "output_type": "stream",
          "name": "stdout",
          "text": [
            "\u001b[1;35mt=2024-09-08T12:08:13+0000 lvl=info msg=\"join connections\" obj=join id=3f595bf5ccdb l=127.0.0.1:8237 r=[2405:201:e00a:b0bb:6979:1cc8:431a:e357]:64949\u001b[0m\n"
          ]
        },
        {
          "output_type": "stream",
          "name": "stderr",
          "text": [
            "INFO:pyngrok.process.ngrok:t=2024-09-08T12:08:13+0000 lvl=info msg=\"join connections\" obj=join id=a754fbce395c l=127.0.0.1:8237 r=[2405:201:e00a:b0bb:6979:1cc8:431a:e357]:64949\n"
          ]
        },
        {
          "output_type": "stream",
          "name": "stdout",
          "text": [
            "\u001b[1;35mt=2024-09-08T12:08:13+0000 lvl=info msg=\"join connections\" obj=join id=a754fbce395c l=127.0.0.1:8237 r=[2405:201:e00a:b0bb:6979:1cc8:431a:e357]:64949\u001b[0m\n"
          ]
        },
        {
          "output_type": "stream",
          "name": "stderr",
          "text": [
            "INFO:pyngrok.process.ngrok:t=2024-09-08T12:08:13+0000 lvl=info msg=\"join connections\" obj=join id=6ec4cc170295 l=127.0.0.1:8237 r=[2405:201:e00a:b0bb:6979:1cc8:431a:e357]:64949\n"
          ]
        },
        {
          "output_type": "stream",
          "name": "stdout",
          "text": [
            "\u001b[1;35mt=2024-09-08T12:08:13+0000 lvl=info msg=\"join connections\" obj=join id=6ec4cc170295 l=127.0.0.1:8237 r=[2405:201:e00a:b0bb:6979:1cc8:431a:e357]:64949\u001b[0m\n"
          ]
        },
        {
          "output_type": "stream",
          "name": "stderr",
          "text": [
            "INFO:pyngrok.process.ngrok:t=2024-09-08T12:08:13+0000 lvl=info msg=\"join connections\" obj=join id=c5300fc69c7b l=127.0.0.1:8237 r=[2405:201:e00a:b0bb:6979:1cc8:431a:e357]:64949\n"
          ]
        },
        {
          "output_type": "stream",
          "name": "stdout",
          "text": [
            "\u001b[1;35mt=2024-09-08T12:08:13+0000 lvl=info msg=\"join connections\" obj=join id=c5300fc69c7b l=127.0.0.1:8237 r=[2405:201:e00a:b0bb:6979:1cc8:431a:e357]:64949\u001b[0m\n"
          ]
        },
        {
          "output_type": "stream",
          "name": "stderr",
          "text": [
            "INFO:pyngrok.process.ngrok:t=2024-09-08T12:08:13+0000 lvl=info msg=\"join connections\" obj=join id=85a05b551380 l=127.0.0.1:8237 r=[2405:201:e00a:b0bb:6979:1cc8:431a:e357]:64949\n"
          ]
        },
        {
          "output_type": "stream",
          "name": "stdout",
          "text": [
            "\u001b[1;35mt=2024-09-08T12:08:13+0000 lvl=info msg=\"join connections\" obj=join id=85a05b551380 l=127.0.0.1:8237 r=[2405:201:e00a:b0bb:6979:1cc8:431a:e357]:64949\u001b[0m\n"
          ]
        },
        {
          "output_type": "stream",
          "name": "stderr",
          "text": [
            "INFO:pyngrok.process.ngrok:t=2024-09-08T12:08:13+0000 lvl=info msg=\"join connections\" obj=join id=97cbf360127f l=127.0.0.1:8237 r=[2405:201:e00a:b0bb:6979:1cc8:431a:e357]:64949\n"
          ]
        },
        {
          "output_type": "stream",
          "name": "stdout",
          "text": [
            "\u001b[1;35mt=2024-09-08T12:08:13+0000 lvl=info msg=\"join connections\" obj=join id=97cbf360127f l=127.0.0.1:8237 r=[2405:201:e00a:b0bb:6979:1cc8:431a:e357]:64949\u001b[0m\n"
          ]
        },
        {
          "output_type": "stream",
          "name": "stderr",
          "text": [
            "INFO:pyngrok.process.ngrok:t=2024-09-08T12:08:13+0000 lvl=info msg=\"join connections\" obj=join id=9f6358de0586 l=127.0.0.1:8237 r=[2405:201:e00a:b0bb:6979:1cc8:431a:e357]:64949\n"
          ]
        },
        {
          "output_type": "stream",
          "name": "stdout",
          "text": [
            "\u001b[1;35mt=2024-09-08T12:08:13+0000 lvl=info msg=\"join connections\" obj=join id=9f6358de0586 l=127.0.0.1:8237 r=[2405:201:e00a:b0bb:6979:1cc8:431a:e357]:64949\u001b[0m\n"
          ]
        },
        {
          "output_type": "stream",
          "name": "stderr",
          "text": [
            "INFO:pyngrok.process.ngrok:t=2024-09-08T12:08:13+0000 lvl=info msg=\"join connections\" obj=join id=748671bf00c0 l=127.0.0.1:8237 r=[2405:201:e00a:b0bb:6979:1cc8:431a:e357]:64949\n"
          ]
        },
        {
          "output_type": "stream",
          "name": "stdout",
          "text": [
            "\u001b[1;35mt=2024-09-08T12:08:13+0000 lvl=info msg=\"join connections\" obj=join id=748671bf00c0 l=127.0.0.1:8237 r=[2405:201:e00a:b0bb:6979:1cc8:431a:e357]:64949\u001b[0m\n"
          ]
        },
        {
          "output_type": "stream",
          "name": "stderr",
          "text": [
            "INFO:pyngrok.process.ngrok:t=2024-09-08T12:08:13+0000 lvl=info msg=\"join connections\" obj=join id=cd4006ba7ea3 l=127.0.0.1:8237 r=[2405:201:e00a:b0bb:6979:1cc8:431a:e357]:64949\n"
          ]
        },
        {
          "output_type": "stream",
          "name": "stdout",
          "text": [
            "\u001b[1;35mt=2024-09-08T12:08:13+0000 lvl=info msg=\"join connections\" obj=join id=cd4006ba7ea3 l=127.0.0.1:8237 r=[2405:201:e00a:b0bb:6979:1cc8:431a:e357]:64949\u001b[0m\n"
          ]
        },
        {
          "output_type": "stream",
          "name": "stderr",
          "text": [
            "INFO:pyngrok.process.ngrok:t=2024-09-08T12:08:13+0000 lvl=info msg=\"join connections\" obj=join id=79542104343a l=127.0.0.1:8237 r=[2405:201:e00a:b0bb:6979:1cc8:431a:e357]:64949\n"
          ]
        },
        {
          "output_type": "stream",
          "name": "stdout",
          "text": [
            "\u001b[1;35mt=2024-09-08T12:08:13+0000 lvl=info msg=\"join connections\" obj=join id=79542104343a l=127.0.0.1:8237 r=[2405:201:e00a:b0bb:6979:1cc8:431a:e357]:64949\u001b[0m\n"
          ]
        },
        {
          "output_type": "stream",
          "name": "stderr",
          "text": [
            "INFO:pyngrok.process.ngrok:t=2024-09-08T12:08:13+0000 lvl=info msg=\"join connections\" obj=join id=04f54f65f69b l=127.0.0.1:8237 r=[2405:201:e00a:b0bb:6979:1cc8:431a:e357]:64949\n"
          ]
        },
        {
          "output_type": "stream",
          "name": "stdout",
          "text": [
            "\u001b[1;35mt=2024-09-08T12:08:13+0000 lvl=info msg=\"join connections\" obj=join id=04f54f65f69b l=127.0.0.1:8237 r=[2405:201:e00a:b0bb:6979:1cc8:431a:e357]:64949\u001b[0m\n"
          ]
        },
        {
          "output_type": "stream",
          "name": "stderr",
          "text": [
            "INFO:pyngrok.process.ngrok:t=2024-09-08T12:08:13+0000 lvl=info msg=\"join connections\" obj=join id=5676604863ea l=127.0.0.1:8237 r=[2405:201:e00a:b0bb:6979:1cc8:431a:e357]:64949\n"
          ]
        },
        {
          "output_type": "stream",
          "name": "stdout",
          "text": [
            "\u001b[1;35mt=2024-09-08T12:08:13+0000 lvl=info msg=\"join connections\" obj=join id=5676604863ea l=127.0.0.1:8237 r=[2405:201:e00a:b0bb:6979:1cc8:431a:e357]:64949\u001b[0m\n"
          ]
        },
        {
          "output_type": "stream",
          "name": "stderr",
          "text": [
            "INFO:pyngrok.process.ngrok:t=2024-09-08T12:08:13+0000 lvl=info msg=\"join connections\" obj=join id=96b4e0df4c93 l=127.0.0.1:8237 r=[2405:201:e00a:b0bb:6979:1cc8:431a:e357]:64949\n"
          ]
        },
        {
          "output_type": "stream",
          "name": "stdout",
          "text": [
            "\u001b[1;35mt=2024-09-08T12:08:13+0000 lvl=info msg=\"join connections\" obj=join id=96b4e0df4c93 l=127.0.0.1:8237 r=[2405:201:e00a:b0bb:6979:1cc8:431a:e357]:64949\u001b[0m\n"
          ]
        },
        {
          "output_type": "stream",
          "name": "stderr",
          "text": [
            "INFO:pyngrok.process.ngrok:t=2024-09-08T12:08:13+0000 lvl=info msg=\"join connections\" obj=join id=2cf1aec88867 l=127.0.0.1:8237 r=[2405:201:e00a:b0bb:6979:1cc8:431a:e357]:64949\n"
          ]
        },
        {
          "output_type": "stream",
          "name": "stdout",
          "text": [
            "\u001b[1;35mt=2024-09-08T12:08:13+0000 lvl=info msg=\"join connections\" obj=join id=2cf1aec88867 l=127.0.0.1:8237 r=[2405:201:e00a:b0bb:6979:1cc8:431a:e357]:64949\u001b[0m\n",
            "\u001b[32mINFO\u001b[0m:     2405:201:e00a:b0bb:6979:1cc8:431a:e357:0 - \"\u001b[1mGET /assets/inter-greek-ext-600-normal-BmtRFZgT.woff HTTP/1.1\u001b[0m\" \u001b[32m200 OK\u001b[0m\n",
            "\u001b[32mINFO\u001b[0m:     2405:201:e00a:b0bb:6979:1cc8:431a:e357:0 - \"\u001b[1mGET /assets/repos-video-D8kpu60k.svg HTTP/1.1\u001b[0m\" \u001b[32m200 OK\u001b[0m\n",
            "\u001b[32mINFO\u001b[0m:     2405:201:e00a:b0bb:6979:1cc8:431a:e357:0 - \"\u001b[1mGET /assets/alex-DcCuDHPg.webp HTTP/1.1\u001b[0m\" \u001b[32m200 OK\u001b[0m\n",
            "\u001b[32mINFO\u001b[0m:     2405:201:e00a:b0bb:6979:1cc8:431a:e357:0 - \"\u001b[1mGET /assets/metaflow-weOkWNyT.svg HTTP/1.1\u001b[0m\" \u001b[32m200 OK\u001b[0m\n",
            "\u001b[32mINFO\u001b[0m:     2405:201:e00a:b0bb:6979:1cc8:431a:e357:0 - \"\u001b[1mGET /assets/inter-latin-600-normal-B2Ssfs8e.woff2 HTTP/1.1\u001b[0m\" \u001b[32m200 OK\u001b[0m\n",
            "\u001b[32mINFO\u001b[0m:     2405:201:e00a:b0bb:6979:1cc8:431a:e357:0 - \"\u001b[1mGET /assets/inter-vietnamese-600-normal-BQ_dbMbg.woff HTTP/1.1\u001b[0m\" \u001b[32m200 OK\u001b[0m\n",
            "\u001b[32mINFO\u001b[0m:     2405:201:e00a:b0bb:6979:1cc8:431a:e357:0 - \"\u001b[1mGET /assets/inter-greek-500-normal-BjpBGs91.woff HTTP/1.1\u001b[0m\" \u001b[32m200 OK\u001b[0m\n",
            "\u001b[32mINFO\u001b[0m:     2405:201:e00a:b0bb:6979:1cc8:431a:e357:0 - \"\u001b[1mGET /assets/url-DNHuFfYx.js HTTP/1.1\u001b[0m\" \u001b[32m200 OK\u001b[0m\n",
            "\u001b[32mINFO\u001b[0m:     2405:201:e00a:b0bb:6979:1cc8:431a:e357:0 - \"\u001b[1mGET /assets/connectors-video-C9qY4syJ.svg HTTP/1.1\u001b[0m\" \u001b[32m200 OK\u001b[0m\n",
            "\u001b[32mINFO\u001b[0m:     2405:201:e00a:b0bb:6979:1cc8:431a:e357:0 - \"\u001b[1mGET /assets/Error-QMgFNDTs.js HTTP/1.1\u001b[0m\" \u001b[32m200 OK\u001b[0m\n",
            "\u001b[32mINFO\u001b[0m:     2405:201:e00a:b0bb:6979:1cc8:431a:e357:0 - \"\u001b[1mGET /assets/page-DsQOL6ZL.js HTTP/1.1\u001b[0m\" \u001b[32m200 OK\u001b[0m\n",
            "\u001b[32mINFO\u001b[0m:     2405:201:e00a:b0bb:6979:1cc8:431a:e357:0 - \"\u001b[1mGET /assets/layout-Dru15_XR.js HTTP/1.1\u001b[0m\" \u001b[32m200 OK\u001b[0m\n",
            "\u001b[32mINFO\u001b[0m:     2405:201:e00a:b0bb:6979:1cc8:431a:e357:0 - \"\u001b[1mGET /assets/page-Bg5X2mLz.js HTTP/1.1\u001b[0m\" \u001b[32m200 OK\u001b[0m\n",
            "\u001b[32mINFO\u001b[0m:     2405:201:e00a:b0bb:6979:1cc8:431a:e357:0 - \"\u001b[1mGET /assets/cloud-only-DrdxC8NV.js HTTP/1.1\u001b[0m\" \u001b[32m200 OK\u001b[0m\n",
            "\u001b[32mINFO\u001b[0m:     2405:201:e00a:b0bb:6979:1cc8:431a:e357:0 - \"\u001b[1mGET /assets/inter-cyrillic-600-normal-iz1--dBq.woff HTTP/1.1\u001b[0m\" \u001b[32m200 OK\u001b[0m\n",
            "\u001b[32mINFO\u001b[0m:     2405:201:e00a:b0bb:6979:1cc8:431a:e357:0 - \"\u001b[1mGET /assets/CodeSnippet-Bbx6fIb6.css HTTP/1.1\u001b[0m\" \u001b[32m200 OK\u001b[0m\n",
            "\u001b[32mINFO\u001b[0m:     2405:201:e00a:b0bb:6979:1cc8:431a:e357:0 - \"\u001b[1mGET /assets/inter-greek-600-normal-BLZsI-P3.woff HTTP/1.1\u001b[0m\" \u001b[32m200 OK\u001b[0m\n",
            "\u001b[32mINFO\u001b[0m:     2405:201:e00a:b0bb:6979:1cc8:431a:e357:0 - \"\u001b[1mGET /assets/UpdatePasswordSchemas-BKyR7Eqi.js HTTP/1.1\u001b[0m\" \u001b[32m200 OK\u001b[0m\n",
            "\u001b[32mINFO\u001b[0m:     2405:201:e00a:b0bb:6979:1cc8:431a:e357:0 - \"\u001b[1mGET /assets/inter-greek-400-normal-DvIPHDQ7.woff HTTP/1.1\u001b[0m\" \u001b[32m200 OK\u001b[0m\n",
            "\u001b[32mINFO\u001b[0m:     2405:201:e00a:b0bb:6979:1cc8:431a:e357:0 - \"\u001b[1mGET /assets/page-XReFLy-1.js HTTP/1.1\u001b[0m\" \u001b[32m200 OK\u001b[0m\n",
            "\u001b[32mINFO\u001b[0m:     2405:201:e00a:b0bb:6979:1cc8:431a:e357:0 - \"\u001b[1mGET /assets/inter-cyrillic-400-normal-JrS_4yms.woff HTTP/1.1\u001b[0m\" \u001b[32m200 OK\u001b[0m\n",
            "\u001b[32mINFO\u001b[0m:     2405:201:e00a:b0bb:6979:1cc8:431a:e357:0 - \"\u001b[1mGET /assets/page-D5I0-LSs.js HTTP/1.1\u001b[0m\" \u001b[32m200 OK\u001b[0m\n",
            "\u001b[32mINFO\u001b[0m:     2405:201:e00a:b0bb:6979:1cc8:431a:e357:0 - \"\u001b[1mGET /assets/mcp-Cb1aMeoq.webp HTTP/1.1\u001b[0m\" \u001b[32m200 OK\u001b[0m\n",
            "\u001b[32mINFO\u001b[0m:     2405:201:e00a:b0bb:6979:1cc8:431a:e357:0 - \"\u001b[1mGET /assets/package-DYKZ5jKW.js HTTP/1.1\u001b[0m\" \u001b[32m200 OK\u001b[0m\n",
            "\u001b[32mINFO\u001b[0m:     2405:201:e00a:b0bb:6979:1cc8:431a:e357:0 - \"\u001b[1mGET /assets/acp-DOsXjFc7.webp HTTP/1.1\u001b[0m\" \u001b[32m200 OK\u001b[0m\n",
            "\u001b[32mINFO\u001b[0m:     2405:201:e00a:b0bb:6979:1cc8:431a:e357:0 - \"\u001b[1mGET /assets/stack-detail-query-fuuoot1D.js HTTP/1.1\u001b[0m\" \u001b[32m200 OK\u001b[0m\n",
            "\u001b[32mINFO\u001b[0m:     2405:201:e00a:b0bb:6979:1cc8:431a:e357:0 - \"\u001b[1mGET /assets/page-wPiJkPp6.js HTTP/1.1\u001b[0m\" \u001b[32m200 OK\u001b[0m\n",
            "\u001b[32mINFO\u001b[0m:     2405:201:e00a:b0bb:6979:1cc8:431a:e357:0 - \"\u001b[1mGET /assets/zod-uFd1wBcd.js HTTP/1.1\u001b[0m\" \u001b[32m200 OK\u001b[0m\n",
            "\u001b[32mINFO\u001b[0m:     2405:201:e00a:b0bb:6979:1cc8:431a:e357:0 - \"\u001b[1mGET /assets/login-mutation-TIWnZoJ7.js HTTP/1.1\u001b[0m\" \u001b[32m200 OK\u001b[0m\n",
            "\u001b[32mINFO\u001b[0m:     2405:201:e00a:b0bb:6979:1cc8:431a:e357:0 - \"\u001b[1mGET /assets/page-BhqIV8mu.js HTTP/1.1\u001b[0m\" \u001b[32m200 OK\u001b[0m\n",
            "\u001b[32mINFO\u001b[0m:     2405:201:e00a:b0bb:6979:1cc8:431a:e357:0 - \"\u001b[1mGET /assets/SetPassword-kA6Bi_Kp.js HTTP/1.1\u001b[0m\" \u001b[32m200 OK\u001b[0m\n",
            "\u001b[32mINFO\u001b[0m:     2405:201:e00a:b0bb:6979:1cc8:431a:e357:0 - \"\u001b[1mGET /assets/page-OmVfClGH.js HTTP/1.1\u001b[0m\" \u001b[32m200 OK\u001b[0m\n",
            "\u001b[32mINFO\u001b[0m:     2405:201:e00a:b0bb:6979:1cc8:431a:e357:0 - \"\u001b[1mGET /assets/page-CUOBhxxU.js HTTP/1.1\u001b[0m\" \u001b[32m200 OK\u001b[0m\n",
            "\u001b[32mINFO\u001b[0m:     2405:201:e00a:b0bb:6979:1cc8:431a:e357:0 - \"\u001b[1mGET /assets/AlertDialogDropdownItem-CO2rOw5M.js HTTP/1.1\u001b[0m\" \u001b[32m200 OK\u001b[0m\n",
            "\u001b[32mINFO\u001b[0m:     2405:201:e00a:b0bb:6979:1cc8:431a:e357:0 - \"\u001b[1mGET /assets/index-5GJ5ysEZ.js HTTP/1.1\u001b[0m\" \u001b[32m200 OK\u001b[0m\n",
            "\u001b[32mINFO\u001b[0m:     2405:201:e00a:b0bb:6979:1cc8:431a:e357:0 - \"\u001b[1mGET /assets/stefan-B08Ftbba.webp HTTP/1.1\u001b[0m\" \u001b[32m200 OK\u001b[0m\n",
            "\u001b[32mINFO\u001b[0m:     2405:201:e00a:b0bb:6979:1cc8:431a:e357:0 - \"\u001b[1mGET /assets/WizardFooter-sUnbJ70r.js HTTP/1.1\u001b[0m\" \u001b[32m200 OK\u001b[0m\n",
            "\u001b[32mINFO\u001b[0m:     2405:201:e00a:b0bb:6979:1cc8:431a:e357:0 - \"\u001b[1mGET /assets/page-BSkbj719.js HTTP/1.1\u001b[0m\" \u001b[32m200 OK\u001b[0m\n",
            "\u001b[32mINFO\u001b[0m:     2405:201:e00a:b0bb:6979:1cc8:431a:e357:0 - \"\u001b[1mGET /assets/not-found-C_bW_Kkr.js HTTP/1.1\u001b[0m\" \u001b[32m200 OK\u001b[0m\n",
            "\u001b[32mINFO\u001b[0m:     2405:201:e00a:b0bb:6979:1cc8:431a:e357:0 - \"\u001b[1mGET /assets/DisplayDate-DkCy54Bp.js HTTP/1.1\u001b[0m\" \u001b[32m200 OK\u001b[0m\n",
            "\u001b[32mINFO\u001b[0m:     2405:201:e00a:b0bb:6979:1cc8:431a:e357:0 - \"\u001b[1mGET /assets/sharedSchema-Dbpe2oAO.js HTTP/1.1\u001b[0m\" \u001b[32m200 OK\u001b[0m\n",
            "\u001b[32mINFO\u001b[0m:     2405:201:e00a:b0bb:6979:1cc8:431a:e357:0 - \"\u001b[1mGET /assets/UsageReason-DbgUeRkI.js HTTP/1.1\u001b[0m\" \u001b[32m200 OK\u001b[0m\n",
            "\u001b[32mINFO\u001b[0m:     2405:201:e00a:b0bb:6979:1cc8:431a:e357:0 - \"\u001b[1mGET /assets/persist-g4uRK-v-.js HTTP/1.1\u001b[0m\" \u001b[32m200 OK\u001b[0m\n",
            "\u001b[32mINFO\u001b[0m:     2405:201:e00a:b0bb:6979:1cc8:431a:e357:0 - \"\u001b[1mGET /assets/PasswordChecker-DE71J_3F.js HTTP/1.1\u001b[0m\" \u001b[32m200 OK\u001b[0m\n",
            "\u001b[32mINFO\u001b[0m:     2405:201:e00a:b0bb:6979:1cc8:431a:e357:0 - \"\u001b[1mGET /assets/ExecutionStatus-BSQgMpzk.js HTTP/1.1\u001b[0m\" \u001b[32m200 OK\u001b[0m\n",
            "\u001b[32mINFO\u001b[0m:     2405:201:e00a:b0bb:6979:1cc8:431a:e357:0 - \"\u001b[1mGET /assets/persist-CnMMI8ls.js HTTP/1.1\u001b[0m\" \u001b[32m200 OK\u001b[0m\n",
            "\u001b[32mINFO\u001b[0m:     2405:201:e00a:b0bb:6979:1cc8:431a:e357:0 - \"\u001b[1mGET /assets/NumberBox-CrN0_kqI.js HTTP/1.1\u001b[0m\" \u001b[32m200 OK\u001b[0m\n",
            "\u001b[32mINFO\u001b[0m:     2405:201:e00a:b0bb:6979:1cc8:431a:e357:0 - \"\u001b[1mGET /assets/form-schemas-DD4OppNK.js HTTP/1.1\u001b[0m\" \u001b[32m200 OK\u001b[0m\n",
            "\u001b[32mINFO\u001b[0m:     2405:201:e00a:b0bb:6979:1cc8:431a:e357:0 - \"\u001b[1mGET /assets/terminal-DRIPb4oF.js HTTP/1.1\u001b[0m\" \u001b[32m200 OK\u001b[0m\n",
            "\u001b[32mINFO\u001b[0m:     2405:201:e00a:b0bb:6979:1cc8:431a:e357:0 - \"\u001b[1mGET /assets/components-Br2ezRib.js HTTP/1.1\u001b[0m\" \u001b[32m200 OK\u001b[0m\n",
            "\u001b[32mINFO\u001b[0m:     2405:201:e00a:b0bb:6979:1cc8:431a:e357:0 - \"\u001b[1mGET /assets/update-server-settings-mutation-YhoZKgC9.js HTTP/1.1\u001b[0m\" \u001b[32m200 OK\u001b[0m\n",
            "\u001b[32mINFO\u001b[0m:     2405:201:e00a:b0bb:6979:1cc8:431a:e357:0 - \"\u001b[1mGET /assets/InlineAvatar-C2ZECnGP.js HTTP/1.1\u001b[0m\" \u001b[32m200 OK\u001b[0m\n",
            "\u001b[32mINFO\u001b[0m:     2405:201:e00a:b0bb:6979:1cc8:431a:e357:0 - \"\u001b[1mGET /assets/page-BN7n3Dsp.js HTTP/1.1\u001b[0m\" \u001b[32m200 OK\u001b[0m\n",
            "\u001b[32mINFO\u001b[0m:     2405:201:e00a:b0bb:6979:1cc8:431a:e357:0 - \"\u001b[1mGET /assets/Lock-CmIn0szs.js HTTP/1.1\u001b[0m\" \u001b[32m200 OK\u001b[0m\n",
            "\u001b[32mINFO\u001b[0m:     2405:201:e00a:b0bb:6979:1cc8:431a:e357:0 - \"\u001b[1mGET /assets/index.esm-BE1uqCX5.js HTTP/1.1\u001b[0m\" \u001b[32m200 OK\u001b[0m\n",
            "\u001b[32mINFO\u001b[0m:     2405:201:e00a:b0bb:6979:1cc8:431a:e357:0 - \"\u001b[1mGET /assets/page-wQ8_y5mW.js HTTP/1.1\u001b[0m\" \u001b[32m200 OK\u001b[0m\n",
            "\u001b[32mINFO\u001b[0m:     2405:201:e00a:b0bb:6979:1cc8:431a:e357:0 - \"\u001b[1mGET /assets/docker-BFAFXr2_.js HTTP/1.1\u001b[0m\" \u001b[32m200 OK\u001b[0m\n",
            "\u001b[32mINFO\u001b[0m:     2405:201:e00a:b0bb:6979:1cc8:431a:e357:0 - \"\u001b[1mGET /assets/copy-CaGlDsUy.js HTTP/1.1\u001b[0m\" \u001b[32m200 OK\u001b[0m\n",
            "\u001b[32mINFO\u001b[0m:     2405:201:e00a:b0bb:6979:1cc8:431a:e357:0 - \"\u001b[1mGET /assets/Helpbox-C96LeSX9.js HTTP/1.1\u001b[0m\" \u001b[32m200 OK\u001b[0m\n",
            "\u001b[32mINFO\u001b[0m:     2405:201:e00a:b0bb:6979:1cc8:431a:e357:0 - \"\u001b[1mGET /assets/chevron-right-double-c9H46Kl8.js HTTP/1.1\u001b[0m\" \u001b[32m200 OK\u001b[0m\n",
            "\u001b[32mINFO\u001b[0m:     2405:201:e00a:b0bb:6979:1cc8:431a:e357:0 - \"\u001b[1mGET /assets/page-0eecLRNs.js HTTP/1.1\u001b[0m\" \u001b[32m200 OK\u001b[0m\n",
            "\u001b[32mINFO\u001b[0m:     2405:201:e00a:b0bb:6979:1cc8:431a:e357:0 - \"\u001b[1mGET /assets/dots-horizontal-C6K59vUm.js HTTP/1.1\u001b[0m\" \u001b[32m200 OK\u001b[0m\n",
            "\u001b[32mINFO\u001b[0m:     2405:201:e00a:b0bb:6979:1cc8:431a:e357:0 - \"\u001b[1mGET /assets/DialogItem-B576Svvy.js HTTP/1.1\u001b[0m\" \u001b[32m200 OK\u001b[0m\n",
            "\u001b[32mINFO\u001b[0m:     2405:201:e00a:b0bb:6979:1cc8:431a:e357:0 - \"\u001b[1mGET /assets/trash-DUWZWzse.js HTTP/1.1\u001b[0m\" \u001b[32m200 OK\u001b[0m\n",
            "\u001b[32mINFO\u001b[0m:     2405:201:e00a:b0bb:6979:1cc8:431a:e357:0 - \"\u001b[1mGET /assets/index-CnqMjIZT.js HTTP/1.1\u001b[0m\" \u001b[32m200 OK\u001b[0m\n",
            "\u001b[32mINFO\u001b[0m:     2405:201:e00a:b0bb:6979:1cc8:431a:e357:0 - \"\u001b[1mGET /assets/gcp-Dj6ntk0L.js HTTP/1.1\u001b[0m\" \u001b[32m200 OK\u001b[0m\n",
            "\u001b[32mINFO\u001b[0m:     2405:201:e00a:b0bb:6979:1cc8:431a:e357:0 - \"\u001b[1mGET /assets/page-DQBv3t8t.js HTTP/1.1\u001b[0m\" \u001b[32m200 OK\u001b[0m\n",
            "\u001b[32mINFO\u001b[0m:     2405:201:e00a:b0bb:6979:1cc8:431a:e357:0 - \"\u001b[1mGET /assets/page-t1VWIy6W.js HTTP/1.1\u001b[0m\" \u001b[32m200 OK\u001b[0m\n",
            "\u001b[32mINFO\u001b[0m:     2405:201:e00a:b0bb:6979:1cc8:431a:e357:0 - \"\u001b[1mGET /assets/page-D7bwpJvV.js HTTP/1.1\u001b[0m\" \u001b[32m200 OK\u001b[0m\n",
            "\u001b[32mINFO\u001b[0m:     2405:201:e00a:b0bb:6979:1cc8:431a:e357:0 - \"\u001b[1mGET /assets/ProviderRadio-DkPE6alG.js HTTP/1.1\u001b[0m\" \u001b[32m200 OK\u001b[0m\n",
            "\u001b[32mINFO\u001b[0m:     2405:201:e00a:b0bb:6979:1cc8:431a:e357:0 - \"\u001b[1mGET /assets/CsvVizualization-Bbzv7VEL.js HTTP/1.1\u001b[0m\" \u001b[32m200 OK\u001b[0m\n",
            "\u001b[32mINFO\u001b[0m:     2405:201:e00a:b0bb:6979:1cc8:431a:e357:0 - \"\u001b[1mGET /assets/page-DyM2M_wT.js HTTP/1.1\u001b[0m\" \u001b[32m200 OK\u001b[0m\n",
            "\u001b[32mINFO\u001b[0m:     2405:201:e00a:b0bb:6979:1cc8:431a:e357:0 - \"\u001b[1mGET /assets/CollapsibleCard-C9BzoY6q.js HTTP/1.1\u001b[0m\" \u001b[32m200 OK\u001b[0m\n",
            "\u001b[32mINFO\u001b[0m:     2405:201:e00a:b0bb:6979:1cc8:431a:e357:0 - \"\u001b[1mGET /assets/Tick-DEACFydX.js HTTP/1.1\u001b[0m\" \u001b[32m200 OK\u001b[0m\n",
            "\u001b[32mINFO\u001b[0m:     2405:201:e00a:b0bb:6979:1cc8:431a:e357:0 - \"\u001b[1mGET /assets/rocket-SESCGQXm.js HTTP/1.1\u001b[0m\" \u001b[32m200 OK\u001b[0m\n",
            "\u001b[32mINFO\u001b[0m:     2405:201:e00a:b0bb:6979:1cc8:431a:e357:0 - \"\u001b[1mGET /assets/create-stack-u6VyIXZP.js HTTP/1.1\u001b[0m\" \u001b[32m200 OK\u001b[0m\n",
            "\u001b[32mINFO\u001b[0m:     2405:201:e00a:b0bb:6979:1cc8:431a:e357:0 - \"\u001b[1mGET /assets/refresh-CtPKdk2G.js HTTP/1.1\u001b[0m\" \u001b[32m200 OK\u001b[0m\n",
            "\u001b[32mINFO\u001b[0m:     2405:201:e00a:b0bb:6979:1cc8:431a:e357:0 - \"\u001b[1mGET /assets/Infobox-BB7dfbrO.js HTTP/1.1\u001b[0m\" \u001b[32m200 OK\u001b[0m\n",
            "\u001b[32mINFO\u001b[0m:     2405:201:e00a:b0bb:6979:1cc8:431a:e357:0 - \"\u001b[1mGET /assets/plus-Bc8eLSDM.js HTTP/1.1\u001b[0m\" \u001b[32m200 OK\u001b[0m\n",
            "\u001b[32mINFO\u001b[0m:     2405:201:e00a:b0bb:6979:1cc8:431a:e357:0 - \"\u001b[1mGET /assets/Commands-m9HMl-eh.js HTTP/1.1\u001b[0m\" \u001b[32m200 OK\u001b[0m\n",
            "\u001b[32mINFO\u001b[0m:     2405:201:e00a:b0bb:6979:1cc8:431a:e357:0 - \"\u001b[1mGET /assets/kubernetes-BjbR6D-1.js HTTP/1.1\u001b[0m\" \u001b[32m200 OK\u001b[0m\n",
            "\u001b[32mINFO\u001b[0m:     2405:201:e00a:b0bb:6979:1cc8:431a:e357:0 - \"\u001b[1mGET /assets/help-CwN931fX.js HTTP/1.1\u001b[0m\" \u001b[32m200 OK\u001b[0m\n",
            "\u001b[32mINFO\u001b[0m:     2405:201:e00a:b0bb:6979:1cc8:431a:e357:0 - \"\u001b[1mGET /assets/404-nKxQ4QDX.js HTTP/1.1\u001b[0m\" \u001b[32m200 OK\u001b[0m\n",
            "\u001b[32mINFO\u001b[0m:     2405:201:e00a:b0bb:6979:1cc8:431a:e357:0 - \"\u001b[1mGET /assets/EditSecretDialog-CmY9fiM0.js HTTP/1.1\u001b[0m\" \u001b[32m200 OK\u001b[0m\n",
            "\u001b[32mINFO\u001b[0m:     2405:201:e00a:b0bb:6979:1cc8:431a:e357:0 - \"\u001b[1mGET /assets/page-HXZtxyWq.js HTTP/1.1\u001b[0m\" \u001b[32m200 OK\u001b[0m\n",
            "\u001b[32mINFO\u001b[0m:     2405:201:e00a:b0bb:6979:1cc8:431a:e357:0 - \"\u001b[1mGET /assets/Partials-RDhJ8Ci7.js HTTP/1.1\u001b[0m\" \u001b[32m200 OK\u001b[0m\n",
            "\u001b[32mINFO\u001b[0m:     2405:201:e00a:b0bb:6979:1cc8:431a:e357:0 - \"\u001b[1mGET /assets/CodeSnippet-i_WEOWw9.js HTTP/1.1\u001b[0m\" \u001b[32m200 OK\u001b[0m\n",
            "\u001b[32mINFO\u001b[0m:     2405:201:e00a:b0bb:6979:1cc8:431a:e357:0 - \"\u001b[1mGET /assets/check-circle-DOoS4yhF.js HTTP/1.1\u001b[0m\" \u001b[32m200 OK\u001b[0m\n",
            "\u001b[32mINFO\u001b[0m:     2405:201:e00a:b0bb:6979:1cc8:431a:e357:0 - \"\u001b[1mGET /assets/logs-GiDJXbLS.js HTTP/1.1\u001b[0m\" \u001b[32m200 OK\u001b[0m\n",
            "\u001b[32mINFO\u001b[0m:     2405:201:e00a:b0bb:6979:1cc8:431a:e357:0 - \"\u001b[1mGET /assets/page-BxPQz4Q8.js HTTP/1.1\u001b[0m\" \u001b[32m200 OK\u001b[0m\n",
            "\u001b[32mINFO\u001b[0m:     2405:201:e00a:b0bb:6979:1cc8:431a:e357:0 - \"\u001b[1mGET /assets/page-D4J2Oy-I.js HTTP/1.1\u001b[0m\" \u001b[32m200 OK\u001b[0m\n",
            "\u001b[32mINFO\u001b[0m:     2405:201:e00a:b0bb:6979:1cc8:431a:e357:0 - \"\u001b[1mGET /assets/page-BPFkP_IB.js HTTP/1.1\u001b[0m\" \u001b[32m200 OK\u001b[0m\n",
            "\u001b[32mINFO\u001b[0m:     2405:201:e00a:b0bb:6979:1cc8:431a:e357:0 - \"\u001b[1mGET /assets/MarkdownVisualization-DS05sfBm.js HTTP/1.1\u001b[0m\" \u001b[32m200 OK\u001b[0m\n",
            "\u001b[32mINFO\u001b[0m:     2405:201:e00a:b0bb:6979:1cc8:431a:e357:0 - \"\u001b[1mGET /assets/EmptyState-Cs3DEmso.js HTTP/1.1\u001b[0m\" \u001b[32m200 OK\u001b[0m\n",
            "\u001b[32mINFO\u001b[0m:     2405:201:e00a:b0bb:6979:1cc8:431a:e357:0 - \"\u001b[1mGET /assets/page-Dy0EbJQD.js HTTP/1.1\u001b[0m\" \u001b[32m200 OK\u001b[0m\n",
            "\u001b[32mINFO\u001b[0m:     2405:201:e00a:b0bb:6979:1cc8:431a:e357:0 - \"\u001b[1mGET /assets/CopyButton-BAYaQlWF.js HTTP/1.1\u001b[0m\" \u001b[32m200 OK\u001b[0m\n",
            "\u001b[32mINFO\u001b[0m:     2405:201:e00a:b0bb:6979:1cc8:431a:e357:0 - \"\u001b[1mGET /assets/page-DYNlbmas.js HTTP/1.1\u001b[0m\" \u001b[32m200 OK\u001b[0m\n",
            "\u001b[32mINFO\u001b[0m:     2405:201:e00a:b0bb:6979:1cc8:431a:e357:0 - \"\u001b[1mGET /assets/SearchField-BPNazO4G.js HTTP/1.1\u001b[0m\" \u001b[32m200 OK\u001b[0m\n",
            "\u001b[32mINFO\u001b[0m:     2405:201:e00a:b0bb:6979:1cc8:431a:e357:0 - \"\u001b[1mGET /assets/page-Dvr6lpJm.js HTTP/1.1\u001b[0m\" \u001b[32m200 OK\u001b[0m\n",
            "\u001b[32mINFO\u001b[0m:     2405:201:e00a:b0bb:6979:1cc8:431a:e357:0 - \"\u001b[1mGET /assets/ProviderIcon-wA4qBOv1.js HTTP/1.1\u001b[0m\" \u001b[32m200 OK\u001b[0m\n",
            "\u001b[32mINFO\u001b[0m:     2405:201:e00a:b0bb:6979:1cc8:431a:e357:0 - \"\u001b[1mGET /assets/page-DsKroTLH.js HTTP/1.1\u001b[0m\" \u001b[32m200 OK\u001b[0m\n",
            "\u001b[32mINFO\u001b[0m:     2405:201:e00a:b0bb:6979:1cc8:431a:e357:0 - \"\u001b[1mGET /assets/page-CrjI9mjm.js HTTP/1.1\u001b[0m\" \u001b[32m200 OK\u001b[0m\n",
            "\u001b[32mINFO\u001b[0m:     2405:201:e00a:b0bb:6979:1cc8:431a:e357:0 - \"\u001b[1mGET /assets/chevron-down-Cwb-W_B_.js HTTP/1.1\u001b[0m\" \u001b[32m200 OK\u001b[0m\n",
            "\u001b[32mINFO\u001b[0m:     2405:201:e00a:b0bb:6979:1cc8:431a:e357:0 - \"\u001b[1mGET /assets/page-CDG9uQT9.js HTTP/1.1\u001b[0m\" \u001b[32m200 OK\u001b[0m\n",
            "\u001b[32mINFO\u001b[0m:     2405:201:e00a:b0bb:6979:1cc8:431a:e357:0 - \"\u001b[1mGET /assets/page-DCnizFO_.js HTTP/1.1\u001b[0m\" \u001b[32m200 OK\u001b[0m\n",
            "\u001b[32mINFO\u001b[0m:     2405:201:e00a:b0bb:6979:1cc8:431a:e357:0 - \"\u001b[1mGET /assets/code-browser-BJYErIjr.js HTTP/1.1\u001b[0m\" \u001b[32m200 OK\u001b[0m\n",
            "\u001b[32mINFO\u001b[0m:     2405:201:e00a:b0bb:6979:1cc8:431a:e357:0 - \"\u001b[1mGET /api/v1/info HTTP/1.1\u001b[0m\" \u001b[32m200 OK\u001b[0m\n",
            "\u001b[32mINFO\u001b[0m:     2405:201:e00a:b0bb:6979:1cc8:431a:e357:0 - \"\u001b[1mGET /favicon.ico HTTP/1.1\u001b[0m\" \u001b[32m200 OK\u001b[0m\n",
            "\u001b[32mINFO\u001b[0m:     2405:201:e00a:b0bb:6979:1cc8:431a:e357:0 - \"\u001b[1mGET /api/v1/info HTTP/1.1\u001b[0m\" \u001b[32m200 OK\u001b[0m\n",
            "\u001b[32mINFO\u001b[0m:     2405:201:e00a:b0bb:6979:1cc8:431a:e357:0 - \"\u001b[1mGET /assets/page-XReFLy-1.js HTTP/1.1\u001b[0m\" \u001b[32m200 OK\u001b[0m\n"
          ]
        },
        {
          "output_type": "stream",
          "name": "stderr",
          "text": [
            "INFO:pyngrok.process.ngrok:t=2024-09-08T12:08:15+0000 lvl=info msg=\"join connections\" obj=join id=8afb663295fb l=127.0.0.1:8237 r=[2405:201:e00a:b0bb:6979:1cc8:431a:e357]:64949\n"
          ]
        },
        {
          "output_type": "stream",
          "name": "stdout",
          "text": [
            "\u001b[1;35mt=2024-09-08T12:08:15+0000 lvl=info msg=\"join connections\" obj=join id=8afb663295fb l=127.0.0.1:8237 r=[2405:201:e00a:b0bb:6979:1cc8:431a:e357]:64949\u001b[0m\n",
            "\u001b[32mINFO\u001b[0m:     2405:201:e00a:b0bb:6979:1cc8:431a:e357:0 - \"\u001b[1mGET /favicon.ico HTTP/1.1\u001b[0m\" \u001b[32m200 OK\u001b[0m\n",
            "\u001b[32mINFO\u001b[0m:     2405:201:e00a:b0bb:6979:1cc8:431a:e357:0 - \"\u001b[1mGET /assets/index.esm-BE1uqCX5.js HTTP/1.1\u001b[0m\" \u001b[32m200 OK\u001b[0m\n",
            "\u001b[32mINFO\u001b[0m:     2405:201:e00a:b0bb:6979:1cc8:431a:e357:0 - \"\u001b[1mGET /assets/login-mutation-TIWnZoJ7.js HTTP/1.1\u001b[0m\" \u001b[32m200 OK\u001b[0m\n"
          ]
        },
        {
          "output_type": "stream",
          "name": "stderr",
          "text": [
            "INFO:pyngrok.process.ngrok:t=2024-09-08T12:08:15+0000 lvl=info msg=\"join connections\" obj=join id=38c733467cbe l=127.0.0.1:8237 r=[2405:201:e00a:b0bb:6979:1cc8:431a:e357]:64949\n"
          ]
        },
        {
          "output_type": "stream",
          "name": "stdout",
          "text": [
            "\u001b[32mINFO\u001b[0m:     2405:201:e00a:b0bb:6979:1cc8:431a:e357:0 - \"\u001b[1mGET /assets/zod-uFd1wBcd.js HTTP/1.1\u001b[0m\" \u001b[32m200 OK\u001b[0m\n",
            "\u001b[1;35mt=2024-09-08T12:08:15+0000 lvl=info msg=\"join connections\" obj=join id=38c733467cbe l=127.0.0.1:8237 r=[2405:201:e00a:b0bb:6979:1cc8:431a:e357]:64949\u001b[0m\n",
            "\u001b[32mINFO\u001b[0m:     2405:201:e00a:b0bb:6979:1cc8:431a:e357:0 - \"\u001b[1mGET /assets/inter-latin-600-normal-B2Ssfs8e.woff2 HTTP/1.1\u001b[0m\" \u001b[32m200 OK\u001b[0m\n",
            "\u001b[32mINFO\u001b[0m:     2405:201:e00a:b0bb:6979:1cc8:431a:e357:0 - \"\u001b[1mGET /assets/inter-latin-500-normal-kWhwEdDH.woff2 HTTP/1.1\u001b[0m\" \u001b[32m200 OK\u001b[0m\n",
            "\u001b[32mINFO\u001b[0m:     2405:201:e00a:b0bb:6979:1cc8:431a:e357:0 - \"\u001b[1mPOST /api/v1/login HTTP/1.1\u001b[0m\" \u001b[32m200 OK\u001b[0m\n",
            "\u001b[1;35mGot token from cookie\u001b[0m\n",
            "\u001b[1;35mGot token from cookie\u001b[0m\n",
            "\u001b[32mINFO\u001b[0m:     2405:201:e00a:b0bb:6979:1cc8:431a:e357:0 - \"\u001b[1mGET /api/v1/settings HTTP/1.1\u001b[0m\" \u001b[32m200 OK\u001b[0m\n",
            "\u001b[32mINFO\u001b[0m:     2405:201:e00a:b0bb:6979:1cc8:431a:e357:0 - \"\u001b[1mGET /api/v1/current-user HTTP/1.1\u001b[0m\" \u001b[32m200 OK\u001b[0m\n"
          ]
        },
        {
          "output_type": "stream",
          "name": "stderr",
          "text": [
            "INFO:pyngrok.process.ngrok:t=2024-09-08T12:08:20+0000 lvl=info msg=\"join connections\" obj=join id=282264c8ca8a l=127.0.0.1:8237 r=[2405:201:e00a:b0bb:6979:1cc8:431a:e357]:64949\n"
          ]
        },
        {
          "output_type": "stream",
          "name": "stdout",
          "text": [
            "\u001b[1;35mGot token from cookie\u001b[0m\n",
            "\u001b[32mINFO\u001b[0m:     2405:201:e00a:b0bb:6979:1cc8:431a:e357:0 - \"\u001b[1mGET /assets/page-BSkbj719.js HTTP/1.1\u001b[0m\" \u001b[32m200 OK\u001b[0m\n",
            "\u001b[32mINFO\u001b[0m:     2405:201:e00a:b0bb:6979:1cc8:431a:e357:0 - \"\u001b[1mGET /api/v1/current-user HTTP/1.1\u001b[0m\" \u001b[32m200 OK\u001b[0m\n",
            "\u001b[1;35mt=2024-09-08T12:08:20+0000 lvl=info msg=\"join connections\" obj=join id=282264c8ca8a l=127.0.0.1:8237 r=[2405:201:e00a:b0bb:6979:1cc8:431a:e357]:64949\u001b[0m\n"
          ]
        },
        {
          "output_type": "stream",
          "name": "stderr",
          "text": [
            "INFO:pyngrok.process.ngrok:t=2024-09-08T12:08:21+0000 lvl=info msg=\"join connections\" obj=join id=766b77eccdae l=127.0.0.1:8237 r=[2405:201:e00a:b0bb:6979:1cc8:431a:e357]:64949\n"
          ]
        },
        {
          "output_type": "stream",
          "name": "stdout",
          "text": [
            "\u001b[32mINFO\u001b[0m:     2405:201:e00a:b0bb:6979:1cc8:431a:e357:0 - \"\u001b[1mGET /assets/inter-latin-400-normal-BT1H-PT_.woff2 HTTP/1.1\u001b[0m\" \u001b[32m200 OK\u001b[0m\n",
            "\u001b[32mINFO\u001b[0m:     2405:201:e00a:b0bb:6979:1cc8:431a:e357:0 - \"\u001b[1mGET /assets/form-schemas-DD4OppNK.js HTTP/1.1\u001b[0m\" \u001b[32m200 OK\u001b[0m\n",
            "\u001b[32mINFO\u001b[0m:     2405:201:e00a:b0bb:6979:1cc8:431a:e357:0 - \"\u001b[1mGET /assets/url-DNHuFfYx.js HTTP/1.1\u001b[0m\" \u001b[32m200 OK\u001b[0m\n",
            "\u001b[1;35mt=2024-09-08T12:08:21+0000 lvl=info msg=\"join connections\" obj=join id=766b77eccdae l=127.0.0.1:8237 r=[2405:201:e00a:b0bb:6979:1cc8:431a:e357]:64949\u001b[0m\n"
          ]
        },
        {
          "output_type": "stream",
          "name": "stderr",
          "text": [
            "INFO:pyngrok.process.ngrok:t=2024-09-08T12:08:21+0000 lvl=info msg=\"join connections\" obj=join id=864394245680 l=127.0.0.1:8237 r=[2405:201:e00a:b0bb:6979:1cc8:431a:e357]:64949\n"
          ]
        },
        {
          "output_type": "stream",
          "name": "stdout",
          "text": [
            "\u001b[1;35mt=2024-09-08T12:08:21+0000 lvl=info msg=\"join connections\" obj=join id=864394245680 l=127.0.0.1:8237 r=[2405:201:e00a:b0bb:6979:1cc8:431a:e357]:64949\u001b[0m\n"
          ]
        },
        {
          "output_type": "stream",
          "name": "stderr",
          "text": [
            "INFO:pyngrok.process.ngrok:t=2024-09-08T12:08:21+0000 lvl=info msg=\"join connections\" obj=join id=eb0e6fb3e2a1 l=127.0.0.1:8237 r=[2405:201:e00a:b0bb:6979:1cc8:431a:e357]:64949\n"
          ]
        },
        {
          "output_type": "stream",
          "name": "stdout",
          "text": [
            "\u001b[1;35mt=2024-09-08T12:08:21+0000 lvl=info msg=\"join connections\" obj=join id=eb0e6fb3e2a1 l=127.0.0.1:8237 r=[2405:201:e00a:b0bb:6979:1cc8:431a:e357]:64949\u001b[0m\n"
          ]
        },
        {
          "output_type": "stream",
          "name": "stderr",
          "text": [
            "INFO:pyngrok.process.ngrok:t=2024-09-08T12:08:21+0000 lvl=info msg=\"join connections\" obj=join id=c600653f2e57 l=127.0.0.1:8237 r=[2405:201:e00a:b0bb:6979:1cc8:431a:e357]:64949\n"
          ]
        },
        {
          "output_type": "stream",
          "name": "stdout",
          "text": [
            "\u001b[1;35mt=2024-09-08T12:08:21+0000 lvl=info msg=\"join connections\" obj=join id=c600653f2e57 l=127.0.0.1:8237 r=[2405:201:e00a:b0bb:6979:1cc8:431a:e357]:64949\u001b[0m\n"
          ]
        },
        {
          "output_type": "stream",
          "name": "stderr",
          "text": [
            "INFO:pyngrok.process.ngrok:t=2024-09-08T12:08:21+0000 lvl=info msg=\"join connections\" obj=join id=57d57a7082e8 l=127.0.0.1:8237 r=[2405:201:e00a:b0bb:6979:1cc8:431a:e357]:64949\n"
          ]
        },
        {
          "output_type": "stream",
          "name": "stdout",
          "text": [
            "\u001b[1;35mt=2024-09-08T12:08:21+0000 lvl=info msg=\"join connections\" obj=join id=57d57a7082e8 l=127.0.0.1:8237 r=[2405:201:e00a:b0bb:6979:1cc8:431a:e357]:64949\u001b[0m\n"
          ]
        },
        {
          "output_type": "stream",
          "name": "stderr",
          "text": [
            "INFO:pyngrok.process.ngrok:t=2024-09-08T12:08:21+0000 lvl=info msg=\"join connections\" obj=join id=f5446021da22 l=127.0.0.1:8237 r=[2405:201:e00a:b0bb:6979:1cc8:431a:e357]:64949\n"
          ]
        },
        {
          "output_type": "stream",
          "name": "stdout",
          "text": [
            "\u001b[1;35mt=2024-09-08T12:08:21+0000 lvl=info msg=\"join connections\" obj=join id=f5446021da22 l=127.0.0.1:8237 r=[2405:201:e00a:b0bb:6979:1cc8:431a:e357]:64949\u001b[0m\n",
            "\u001b[32mINFO\u001b[0m:     2405:201:e00a:b0bb:6979:1cc8:431a:e357:0 - \"\u001b[1mGET /assets/UsageReason-DbgUeRkI.js HTTP/1.1\u001b[0m\" \u001b[32m200 OK\u001b[0m\n",
            "\u001b[32mINFO\u001b[0m:     2405:201:e00a:b0bb:6979:1cc8:431a:e357:0 - \"\u001b[1mGET /assets/gcp-Dj6ntk0L.js HTTP/1.1\u001b[0m\" \u001b[32m200 OK\u001b[0m\n",
            "\u001b[32mINFO\u001b[0m:     2405:201:e00a:b0bb:6979:1cc8:431a:e357:0 - \"\u001b[1mGET /assets/check-circle-DOoS4yhF.js HTTP/1.1\u001b[0m\" \u001b[32m200 OK\u001b[0m\n",
            "\u001b[32mINFO\u001b[0m:     2405:201:e00a:b0bb:6979:1cc8:431a:e357:0 - \"\u001b[1mGET /assets/rocket-SESCGQXm.js HTTP/1.1\u001b[0m\" \u001b[32m200 OK\u001b[0m\n",
            "\u001b[32mINFO\u001b[0m:     2405:201:e00a:b0bb:6979:1cc8:431a:e357:0 - \"\u001b[1mGET /assets/kubernetes-BjbR6D-1.js HTTP/1.1\u001b[0m\" \u001b[32m200 OK\u001b[0m\n",
            "\u001b[32mINFO\u001b[0m:     2405:201:e00a:b0bb:6979:1cc8:431a:e357:0 - \"\u001b[1mGET /assets/UpdatePasswordSchemas-BKyR7Eqi.js HTTP/1.1\u001b[0m\" \u001b[32m200 OK\u001b[0m\n",
            "\u001b[1;35mGot token from cookie\u001b[0m\n",
            "\u001b[32mINFO\u001b[0m:     2405:201:e00a:b0bb:6979:1cc8:431a:e357:0 - \"\u001b[1mGET /api/v1/current-user HTTP/1.1\u001b[0m\" \u001b[32m200 OK\u001b[0m\n"
          ]
        },
        {
          "output_type": "stream",
          "name": "stderr",
          "text": [
            "INFO:pyngrok.process.ngrok:t=2024-09-08T12:08:32+0000 lvl=info msg=\"join connections\" obj=join id=0ca47f1b4bb1 l=127.0.0.1:8237 r=[2405:201:e00a:b0bb:6979:1cc8:431a:e357]:64949\n"
          ]
        },
        {
          "output_type": "stream",
          "name": "stdout",
          "text": [
            "\u001b[1;35mt=2024-09-08T12:08:32+0000 lvl=info msg=\"join connections\" obj=join id=0ca47f1b4bb1 l=127.0.0.1:8237 r=[2405:201:e00a:b0bb:6979:1cc8:431a:e357]:64949\u001b[0m\n",
            "\u001b[1;35mGot token from cookie\u001b[0m\n",
            "\u001b[32mINFO\u001b[0m:     2405:201:e00a:b0bb:6979:1cc8:431a:e357:0 - \"\u001b[1mPUT /api/v1/current-user HTTP/1.1\u001b[0m\" \u001b[32m200 OK\u001b[0m\n",
            "\u001b[1;35mGot token from cookie\u001b[0m\n",
            "\u001b[32mINFO\u001b[0m:     2405:201:e00a:b0bb:6979:1cc8:431a:e357:0 - \"\u001b[1mGET /api/v1/current-user HTTP/1.1\u001b[0m\" \u001b[32m200 OK\u001b[0m\n"
          ]
        },
        {
          "output_type": "stream",
          "name": "stderr",
          "text": [
            "INFO:pyngrok.process.ngrok:t=2024-09-08T12:08:33+0000 lvl=info msg=\"join connections\" obj=join id=40b7473a72fe l=127.0.0.1:8237 r=[2405:201:e00a:b0bb:6979:1cc8:431a:e357]:64949\n"
          ]
        },
        {
          "output_type": "stream",
          "name": "stdout",
          "text": [
            "\u001b[32mINFO\u001b[0m:     2405:201:e00a:b0bb:6979:1cc8:431a:e357:0 - \"\u001b[1mGET /assets/adam-e-y0WnB_.webp HTTP/1.1\u001b[0m\" \u001b[32m200 OK\u001b[0m\n",
            "\u001b[1;35mt=2024-09-08T12:08:33+0000 lvl=info msg=\"join connections\" obj=join id=40b7473a72fe l=127.0.0.1:8237 r=[2405:201:e00a:b0bb:6979:1cc8:431a:e357]:64949\u001b[0m\n"
          ]
        },
        {
          "output_type": "stream",
          "name": "stderr",
          "text": [
            "INFO:pyngrok.process.ngrok:t=2024-09-08T12:08:33+0000 lvl=info msg=\"join connections\" obj=join id=35903df3d93d l=127.0.0.1:8237 r=[2405:201:e00a:b0bb:6979:1cc8:431a:e357]:64949\n"
          ]
        },
        {
          "output_type": "stream",
          "name": "stdout",
          "text": [
            "\u001b[32mINFO\u001b[0m:     2405:201:e00a:b0bb:6979:1cc8:431a:e357:0 - \"\u001b[1mGET /assets/alex-DcCuDHPg.webp HTTP/1.1\u001b[0m\" \u001b[32m200 OK\u001b[0m\n",
            "\u001b[1;35mt=2024-09-08T12:08:33+0000 lvl=info msg=\"join connections\" obj=join id=35903df3d93d l=127.0.0.1:8237 r=[2405:201:e00a:b0bb:6979:1cc8:431a:e357]:64949\u001b[0m\n"
          ]
        },
        {
          "output_type": "stream",
          "name": "stderr",
          "text": [
            "INFO:pyngrok.process.ngrok:t=2024-09-08T12:08:33+0000 lvl=info msg=\"join connections\" obj=join id=e7dea34782e6 l=127.0.0.1:8237 r=[2405:201:e00a:b0bb:6979:1cc8:431a:e357]:64949\n"
          ]
        },
        {
          "output_type": "stream",
          "name": "stdout",
          "text": [
            "\u001b[1;35mt=2024-09-08T12:08:33+0000 lvl=info msg=\"join connections\" obj=join id=e7dea34782e6 l=127.0.0.1:8237 r=[2405:201:e00a:b0bb:6979:1cc8:431a:e357]:64949\u001b[0m\n"
          ]
        },
        {
          "output_type": "stream",
          "name": "stderr",
          "text": [
            "INFO:pyngrok.process.ngrok:t=2024-09-08T12:08:33+0000 lvl=info msg=\"join connections\" obj=join id=1c57d8df9080 l=127.0.0.1:8237 r=[2405:201:e00a:b0bb:6979:1cc8:431a:e357]:64949\n"
          ]
        },
        {
          "output_type": "stream",
          "name": "stdout",
          "text": [
            "\u001b[1;35mt=2024-09-08T12:08:33+0000 lvl=info msg=\"join connections\" obj=join id=1c57d8df9080 l=127.0.0.1:8237 r=[2405:201:e00a:b0bb:6979:1cc8:431a:e357]:64949\u001b[0m\n",
            "\u001b[32mINFO\u001b[0m:     2405:201:e00a:b0bb:6979:1cc8:431a:e357:0 - \"\u001b[1mGET /assets/stefan-B08Ftbba.webp HTTP/1.1\u001b[0m\" \u001b[32m200 OK\u001b[0m\n",
            "\u001b[32mINFO\u001b[0m:     2405:201:e00a:b0bb:6979:1cc8:431a:e357:0 - \"\u001b[1mGET /assets/baris-C0ZrZ10g.webp HTTP/1.1\u001b[0m\" \u001b[32m200 OK\u001b[0m\n",
            "\u001b[32mINFO\u001b[0m:     2405:201:e00a:b0bb:6979:1cc8:431a:e357:0 - \"\u001b[1mGET /assets/hamza-NKKOZz1I.webp HTTP/1.1\u001b[0m\" \u001b[32m200 OK\u001b[0m\n",
            "\u001b[32mINFO\u001b[0m:     2405:201:e00a:b0bb:6979:1cc8:431a:e357:0 - \"\u001b[1mGET /assets/adam-e-y0WnB_.webp HTTP/1.1\u001b[0m\" \u001b[32m200 OK\u001b[0m\n",
            "\u001b[32mINFO\u001b[0m:     2405:201:e00a:b0bb:6979:1cc8:431a:e357:0 - \"\u001b[1mGET /assets/baris-C0ZrZ10g.webp HTTP/1.1\u001b[0m\" \u001b[32m200 OK\u001b[0m\n",
            "\u001b[32mINFO\u001b[0m:     2405:201:e00a:b0bb:6979:1cc8:431a:e357:0 - \"\u001b[1mGET /assets/stefan-B08Ftbba.webp HTTP/1.1\u001b[0m\" \u001b[32m200 OK\u001b[0m\n"
          ]
        },
        {
          "output_type": "stream",
          "name": "stderr",
          "text": [
            "INFO:pyngrok.process.ngrok:t=2024-09-08T12:08:33+0000 lvl=info msg=\"join connections\" obj=join id=2f0ce5220dd0 l=127.0.0.1:8237 r=[2405:201:e00a:b0bb:6979:1cc8:431a:e357]:64949\n"
          ]
        },
        {
          "output_type": "stream",
          "name": "stdout",
          "text": [
            "\u001b[32mINFO\u001b[0m:     2405:201:e00a:b0bb:6979:1cc8:431a:e357:0 - \"\u001b[1mGET /assets/hamza-NKKOZz1I.webp HTTP/1.1\u001b[0m\" \u001b[32m200 OK\u001b[0m\n",
            "\u001b[1;35mt=2024-09-08T12:08:33+0000 lvl=info msg=\"join connections\" obj=join id=2f0ce5220dd0 l=127.0.0.1:8237 r=[2405:201:e00a:b0bb:6979:1cc8:431a:e357]:64949\u001b[0m\n",
            "\u001b[32mINFO\u001b[0m:     2405:201:e00a:b0bb:6979:1cc8:431a:e357:0 - \"\u001b[1mGET /assets/CodeSnippet-Bbx6fIb6.css HTTP/1.1\u001b[0m\" \u001b[32m200 OK\u001b[0m\n",
            "\u001b[32mINFO\u001b[0m:     2405:201:e00a:b0bb:6979:1cc8:431a:e357:0 - \"\u001b[1mGET /assets/tour-cover-BYfeen6M.webp HTTP/1.1\u001b[0m\" \u001b[32m200 OK\u001b[0m\n",
            "\u001b[32mINFO\u001b[0m:     2405:201:e00a:b0bb:6979:1cc8:431a:e357:0 - \"\u001b[1mGET /assets/page-OmVfClGH.js HTTP/1.1\u001b[0m\" \u001b[32m200 OK\u001b[0m\n"
          ]
        },
        {
          "output_type": "stream",
          "name": "stderr",
          "text": [
            "INFO:pyngrok.process.ngrok:t=2024-09-08T12:08:35+0000 lvl=info msg=\"join connections\" obj=join id=4feecb8d30d3 l=127.0.0.1:8237 r=[2405:201:e00a:b0bb:6979:1cc8:431a:e357]:64949\n"
          ]
        },
        {
          "output_type": "stream",
          "name": "stdout",
          "text": [
            "\u001b[32mINFO\u001b[0m:     2405:201:e00a:b0bb:6979:1cc8:431a:e357:0 - \"\u001b[1mGET /assets/package-DYKZ5jKW.js HTTP/1.1\u001b[0m\" \u001b[32m200 OK\u001b[0m\n",
            "\u001b[32mINFO\u001b[0m:     2405:201:e00a:b0bb:6979:1cc8:431a:e357:0 - \"\u001b[1mGET /assets/chevron-down-Cwb-W_B_.js HTTP/1.1\u001b[0m\" \u001b[32m200 OK\u001b[0m\n",
            "\u001b[1;35mt=2024-09-08T12:08:35+0000 lvl=info msg=\"join connections\" obj=join id=4feecb8d30d3 l=127.0.0.1:8237 r=[2405:201:e00a:b0bb:6979:1cc8:431a:e357]:64949\u001b[0m\n"
          ]
        },
        {
          "output_type": "stream",
          "name": "stderr",
          "text": [
            "INFO:pyngrok.process.ngrok:t=2024-09-08T12:08:35+0000 lvl=info msg=\"join connections\" obj=join id=d92e6f5a1690 l=127.0.0.1:8237 r=[2405:201:e00a:b0bb:6979:1cc8:431a:e357]:64949\n"
          ]
        },
        {
          "output_type": "stream",
          "name": "stdout",
          "text": [
            "\u001b[1;35mt=2024-09-08T12:08:35+0000 lvl=info msg=\"join connections\" obj=join id=d92e6f5a1690 l=127.0.0.1:8237 r=[2405:201:e00a:b0bb:6979:1cc8:431a:e357]:64949\u001b[0m\n"
          ]
        },
        {
          "output_type": "stream",
          "name": "stderr",
          "text": [
            "INFO:pyngrok.process.ngrok:t=2024-09-08T12:08:35+0000 lvl=info msg=\"join connections\" obj=join id=13802eb56d25 l=127.0.0.1:8237 r=[2405:201:e00a:b0bb:6979:1cc8:431a:e357]:64949\n"
          ]
        },
        {
          "output_type": "stream",
          "name": "stdout",
          "text": [
            "\u001b[1;35mt=2024-09-08T12:08:35+0000 lvl=info msg=\"join connections\" obj=join id=13802eb56d25 l=127.0.0.1:8237 r=[2405:201:e00a:b0bb:6979:1cc8:431a:e357]:64949\u001b[0m\n"
          ]
        },
        {
          "output_type": "stream",
          "name": "stderr",
          "text": [
            "INFO:pyngrok.process.ngrok:t=2024-09-08T12:08:35+0000 lvl=info msg=\"join connections\" obj=join id=f290afba9390 l=127.0.0.1:8237 r=[2405:201:e00a:b0bb:6979:1cc8:431a:e357]:64949\n"
          ]
        },
        {
          "output_type": "stream",
          "name": "stdout",
          "text": [
            "\u001b[1;35mt=2024-09-08T12:08:35+0000 lvl=info msg=\"join connections\" obj=join id=f290afba9390 l=127.0.0.1:8237 r=[2405:201:e00a:b0bb:6979:1cc8:431a:e357]:64949\u001b[0m\n"
          ]
        },
        {
          "output_type": "stream",
          "name": "stderr",
          "text": [
            "INFO:pyngrok.process.ngrok:t=2024-09-08T12:08:35+0000 lvl=info msg=\"join connections\" obj=join id=db5a61abb473 l=127.0.0.1:8237 r=[2405:201:e00a:b0bb:6979:1cc8:431a:e357]:64949\n"
          ]
        },
        {
          "output_type": "stream",
          "name": "stdout",
          "text": [
            "\u001b[1;35mt=2024-09-08T12:08:35+0000 lvl=info msg=\"join connections\" obj=join id=db5a61abb473 l=127.0.0.1:8237 r=[2405:201:e00a:b0bb:6979:1cc8:431a:e357]:64949\u001b[0m\n"
          ]
        },
        {
          "output_type": "stream",
          "name": "stderr",
          "text": [
            "INFO:pyngrok.process.ngrok:t=2024-09-08T12:08:35+0000 lvl=info msg=\"join connections\" obj=join id=5b68bc1b3d0b l=127.0.0.1:8237 r=[2405:201:e00a:b0bb:6979:1cc8:431a:e357]:64949\n"
          ]
        },
        {
          "output_type": "stream",
          "name": "stdout",
          "text": [
            "\u001b[1;35mt=2024-09-08T12:08:35+0000 lvl=info msg=\"join connections\" obj=join id=5b68bc1b3d0b l=127.0.0.1:8237 r=[2405:201:e00a:b0bb:6979:1cc8:431a:e357]:64949\u001b[0m\n"
          ]
        },
        {
          "output_type": "stream",
          "name": "stderr",
          "text": [
            "INFO:pyngrok.process.ngrok:t=2024-09-08T12:08:35+0000 lvl=info msg=\"join connections\" obj=join id=e4a4d76b544e l=127.0.0.1:8237 r=[2405:201:e00a:b0bb:6979:1cc8:431a:e357]:64949\n"
          ]
        },
        {
          "output_type": "stream",
          "name": "stdout",
          "text": [
            "\u001b[1;35mt=2024-09-08T12:08:35+0000 lvl=info msg=\"join connections\" obj=join id=e4a4d76b544e l=127.0.0.1:8237 r=[2405:201:e00a:b0bb:6979:1cc8:431a:e357]:64949\u001b[0m\n"
          ]
        },
        {
          "output_type": "stream",
          "name": "stderr",
          "text": [
            "INFO:pyngrok.process.ngrok:t=2024-09-08T12:08:35+0000 lvl=info msg=\"join connections\" obj=join id=7a56c715fdeb l=127.0.0.1:8237 r=[2405:201:e00a:b0bb:6979:1cc8:431a:e357]:64949\n"
          ]
        },
        {
          "output_type": "stream",
          "name": "stdout",
          "text": [
            "\u001b[1;35mt=2024-09-08T12:08:35+0000 lvl=info msg=\"join connections\" obj=join id=7a56c715fdeb l=127.0.0.1:8237 r=[2405:201:e00a:b0bb:6979:1cc8:431a:e357]:64949\u001b[0m\n",
            "\u001b[32mINFO\u001b[0m:     2405:201:e00a:b0bb:6979:1cc8:431a:e357:0 - \"\u001b[1mGET /assets/plus-Bc8eLSDM.js HTTP/1.1\u001b[0m\" \u001b[32m200 OK\u001b[0m\n",
            "\u001b[32mINFO\u001b[0m:     2405:201:e00a:b0bb:6979:1cc8:431a:e357:0 - \"\u001b[1mGET /assets/Helpbox-C96LeSX9.js HTTP/1.1\u001b[0m\" \u001b[32m200 OK\u001b[0m\n",
            "\u001b[32mINFO\u001b[0m:     2405:201:e00a:b0bb:6979:1cc8:431a:e357:0 - \"\u001b[1mGET /assets/Tick-DEACFydX.js HTTP/1.1\u001b[0m\" \u001b[32m200 OK\u001b[0m\n",
            "\u001b[32mINFO\u001b[0m:     2405:201:e00a:b0bb:6979:1cc8:431a:e357:0 - \"\u001b[1mGET /assets/copy-CaGlDsUy.js HTTP/1.1\u001b[0m\" \u001b[32m200 OK\u001b[0m\n",
            "\u001b[32mINFO\u001b[0m:     2405:201:e00a:b0bb:6979:1cc8:431a:e357:0 - \"\u001b[1mGET /assets/help-CwN931fX.js HTTP/1.1\u001b[0m\" \u001b[32m200 OK\u001b[0m\n",
            "\u001b[32mINFO\u001b[0m:     2405:201:e00a:b0bb:6979:1cc8:431a:e357:0 - \"\u001b[1mGET /assets/terminal-DRIPb4oF.js HTTP/1.1\u001b[0m\" \u001b[32m200 OK\u001b[0m\n",
            "\u001b[32mINFO\u001b[0m:     2405:201:e00a:b0bb:6979:1cc8:431a:e357:0 - \"\u001b[1mGET /assets/chevron-right-double-c9H46Kl8.js HTTP/1.1\u001b[0m\" \u001b[32m200 OK\u001b[0m\n",
            "\u001b[32mINFO\u001b[0m:     2405:201:e00a:b0bb:6979:1cc8:431a:e357:0 - \"\u001b[1mGET /assets/CodeSnippet-i_WEOWw9.js HTTP/1.1\u001b[0m\" \u001b[32m200 OK\u001b[0m\n"
          ]
        },
        {
          "output_type": "stream",
          "name": "stderr",
          "text": [
            "INFO:pyngrok.process.ngrok:t=2024-09-08T12:08:36+0000 lvl=info msg=\"join connections\" obj=join id=77668c9b10ea l=127.0.0.1:8237 r=[2405:201:e00a:b0bb:6979:1cc8:431a:e357]:64949\n"
          ]
        },
        {
          "output_type": "stream",
          "name": "stdout",
          "text": [
            "\u001b[32mINFO\u001b[0m:     2405:201:e00a:b0bb:6979:1cc8:431a:e357:0 - \"\u001b[1mGET /assets/tour-cover-BYfeen6M.webp HTTP/1.1\u001b[0m\" \u001b[32m200 OK\u001b[0m\n",
            "\u001b[1;35mGot token from cookie\u001b[0m\n",
            "\u001b[32mINFO\u001b[0m:     2405:201:e00a:b0bb:6979:1cc8:431a:e357:0 - \"\u001b[1mGET /api/v1/current-user HTTP/1.1\u001b[0m\" \u001b[32m200 OK\u001b[0m\n",
            "\u001b[1;35mt=2024-09-08T12:08:36+0000 lvl=info msg=\"join connections\" obj=join id=77668c9b10ea l=127.0.0.1:8237 r=[2405:201:e00a:b0bb:6979:1cc8:431a:e357]:64949\u001b[0m\n"
          ]
        },
        {
          "output_type": "stream",
          "name": "stderr",
          "text": [
            "INFO:pyngrok.process.ngrok:t=2024-09-08T12:08:36+0000 lvl=info msg=\"join connections\" obj=join id=406511cc12b3 l=127.0.0.1:8237 r=[2405:201:e00a:b0bb:6979:1cc8:431a:e357]:64949\n"
          ]
        },
        {
          "output_type": "stream",
          "name": "stdout",
          "text": [
            "\u001b[1;35mt=2024-09-08T12:08:36+0000 lvl=info msg=\"join connections\" obj=join id=406511cc12b3 l=127.0.0.1:8237 r=[2405:201:e00a:b0bb:6979:1cc8:431a:e357]:64949\u001b[0m\n"
          ]
        },
        {
          "output_type": "stream",
          "name": "stderr",
          "text": [
            "INFO:pyngrok.process.ngrok:t=2024-09-08T12:08:36+0000 lvl=info msg=\"join connections\" obj=join id=4460cd6fcee7 l=127.0.0.1:8237 r=[2405:201:e00a:b0bb:6979:1cc8:431a:e357]:64949\n"
          ]
        },
        {
          "output_type": "stream",
          "name": "stdout",
          "text": [
            "\u001b[1;35mt=2024-09-08T12:08:36+0000 lvl=info msg=\"join connections\" obj=join id=4460cd6fcee7 l=127.0.0.1:8237 r=[2405:201:e00a:b0bb:6979:1cc8:431a:e357]:64949\u001b[0m\n",
            "\u001b[1;35mGot token from cookie\u001b[0m\n",
            "\u001b[1;35mGot token from cookie\u001b[0m\n",
            "\u001b[32mINFO\u001b[0m:     2405:201:e00a:b0bb:6979:1cc8:431a:e357:0 - \"\u001b[1mGET /api/v1/info HTTP/1.1\u001b[0m\" \u001b[32m200 OK\u001b[0m\n",
            "\u001b[32mINFO\u001b[0m:     2405:201:e00a:b0bb:6979:1cc8:431a:e357:0 - \"\u001b[1mGET /api/v1/onboarding_state HTTP/1.1\u001b[0m\" \u001b[32m200 OK\u001b[0m\n",
            "\u001b[32mINFO\u001b[0m:     2405:201:e00a:b0bb:6979:1cc8:431a:e357:0 - \"\u001b[1mGET /api/v1/settings HTTP/1.1\u001b[0m\" \u001b[32m200 OK\u001b[0m\n",
            "\u001b[32mINFO\u001b[0m:     2405:201:e00a:b0bb:6979:1cc8:431a:e357:0 - \"\u001b[1mGET /api/v1/info HTTP/1.1\u001b[0m\" \u001b[32m200 OK\u001b[0m\n",
            "\u001b[1;35mGot token from cookie\u001b[0m\n",
            "\u001b[32mINFO\u001b[0m:     2405:201:e00a:b0bb:6979:1cc8:431a:e357:0 - \"\u001b[1mPUT /api/v1/current-user HTTP/1.1\u001b[0m\" \u001b[32m200 OK\u001b[0m\n",
            "\u001b[1;35mGot token from cookie\u001b[0m\n",
            "\u001b[32mINFO\u001b[0m:     2405:201:e00a:b0bb:6979:1cc8:431a:e357:0 - \"\u001b[1mGET /api/v1/current-user HTTP/1.1\u001b[0m\" \u001b[32m200 OK\u001b[0m\n",
            "\u001b[32mINFO\u001b[0m:     2405:201:e00a:b0bb:6979:1cc8:431a:e357:0 - \"\u001b[1mGET /assets/page-D5I0-LSs.js HTTP/1.1\u001b[0m\" \u001b[32m200 OK\u001b[0m\n"
          ]
        },
        {
          "output_type": "stream",
          "name": "stderr",
          "text": [
            "INFO:pyngrok.process.ngrok:t=2024-09-08T12:08:38+0000 lvl=info msg=\"join connections\" obj=join id=54bdcade59e1 l=127.0.0.1:8237 r=[2405:201:e00a:b0bb:6979:1cc8:431a:e357]:64949\n"
          ]
        },
        {
          "output_type": "stream",
          "name": "stdout",
          "text": [
            "\u001b[32mINFO\u001b[0m:     2405:201:e00a:b0bb:6979:1cc8:431a:e357:0 - \"\u001b[1mGET /assets/refresh-CtPKdk2G.js HTTP/1.1\u001b[0m\" \u001b[32m200 OK\u001b[0m\n",
            "\u001b[32mINFO\u001b[0m:     2405:201:e00a:b0bb:6979:1cc8:431a:e357:0 - \"\u001b[1mGET /assets/ExecutionStatus-BSQgMpzk.js HTTP/1.1\u001b[0m\" \u001b[32m200 OK\u001b[0m\n",
            "\u001b[1;35mt=2024-09-08T12:08:38+0000 lvl=info msg=\"join connections\" obj=join id=54bdcade59e1 l=127.0.0.1:8237 r=[2405:201:e00a:b0bb:6979:1cc8:431a:e357]:64949\u001b[0m\n"
          ]
        },
        {
          "output_type": "stream",
          "name": "stderr",
          "text": [
            "INFO:pyngrok.process.ngrok:t=2024-09-08T12:08:38+0000 lvl=info msg=\"join connections\" obj=join id=2e752bfdd006 l=127.0.0.1:8237 r=[2405:201:e00a:b0bb:6979:1cc8:431a:e357]:64949\n"
          ]
        },
        {
          "output_type": "stream",
          "name": "stdout",
          "text": [
            "\u001b[1;35mt=2024-09-08T12:08:38+0000 lvl=info msg=\"join connections\" obj=join id=2e752bfdd006 l=127.0.0.1:8237 r=[2405:201:e00a:b0bb:6979:1cc8:431a:e357]:64949\u001b[0m\n"
          ]
        },
        {
          "output_type": "stream",
          "name": "stderr",
          "text": [
            "INFO:pyngrok.process.ngrok:t=2024-09-08T12:08:38+0000 lvl=info msg=\"join connections\" obj=join id=fa56986a2f67 l=127.0.0.1:8237 r=[2405:201:e00a:b0bb:6979:1cc8:431a:e357]:64949\n"
          ]
        },
        {
          "output_type": "stream",
          "name": "stdout",
          "text": [
            "\u001b[1;35mt=2024-09-08T12:08:38+0000 lvl=info msg=\"join connections\" obj=join id=fa56986a2f67 l=127.0.0.1:8237 r=[2405:201:e00a:b0bb:6979:1cc8:431a:e357]:64949\u001b[0m\n"
          ]
        },
        {
          "output_type": "stream",
          "name": "stderr",
          "text": [
            "INFO:pyngrok.process.ngrok:t=2024-09-08T12:08:38+0000 lvl=info msg=\"join connections\" obj=join id=41cf9076b25d l=127.0.0.1:8237 r=[2405:201:e00a:b0bb:6979:1cc8:431a:e357]:64949\n"
          ]
        },
        {
          "output_type": "stream",
          "name": "stdout",
          "text": [
            "\u001b[1;35mt=2024-09-08T12:08:38+0000 lvl=info msg=\"join connections\" obj=join id=41cf9076b25d l=127.0.0.1:8237 r=[2405:201:e00a:b0bb:6979:1cc8:431a:e357]:64949\u001b[0m\n",
            "\u001b[32mINFO\u001b[0m:     2405:201:e00a:b0bb:6979:1cc8:431a:e357:0 - \"\u001b[1mGET /assets/CopyButton-BAYaQlWF.js HTTP/1.1\u001b[0m\" \u001b[32m200 OK\u001b[0m\n",
            "\u001b[32mINFO\u001b[0m:     2405:201:e00a:b0bb:6979:1cc8:431a:e357:0 - \"\u001b[1mGET /assets/SearchField-BPNazO4G.js HTTP/1.1\u001b[0m\" \u001b[32m200 OK\u001b[0m\n",
            "\u001b[32mINFO\u001b[0m:     2405:201:e00a:b0bb:6979:1cc8:431a:e357:0 - \"\u001b[1mGET /assets/dots-horizontal-C6K59vUm.js HTTP/1.1\u001b[0m\" \u001b[32m200 OK\u001b[0m\n",
            "\u001b[32mINFO\u001b[0m:     2405:201:e00a:b0bb:6979:1cc8:431a:e357:0 - \"\u001b[1mGET /assets/index-5GJ5ysEZ.js HTTP/1.1\u001b[0m\" \u001b[32m200 OK\u001b[0m\n",
            "\u001b[1;35mGot token from cookie\u001b[0m\n",
            "\u001b[32mINFO\u001b[0m:     2405:201:e00a:b0bb:6979:1cc8:431a:e357:0 - \"\u001b[1mGET /api/v1/pipelines?page=1&sort_by=desc%3Alatest_run HTTP/1.1\u001b[0m\" \u001b[32m200 OK\u001b[0m\n",
            "\u001b[32mINFO\u001b[0m:     2405:201:e00a:b0bb:6979:1cc8:431a:e357:0 - \"\u001b[1mGET /assets/page-CUOBhxxU.js HTTP/1.1\u001b[0m\" \u001b[32m200 OK\u001b[0m\n",
            "\u001b[32mINFO\u001b[0m:     2405:201:e00a:b0bb:6979:1cc8:431a:e357:0 - \"\u001b[1mGET /assets/InlineAvatar-C2ZECnGP.js HTTP/1.1\u001b[0m\" \u001b[32m200 OK\u001b[0m\n",
            "\u001b[32mINFO\u001b[0m:     2405:201:e00a:b0bb:6979:1cc8:431a:e357:0 - \"\u001b[1mGET /assets/DisplayDate-DkCy54Bp.js HTTP/1.1\u001b[0m\" \u001b[32m200 OK\u001b[0m\n",
            "\u001b[1;35mGot token from cookie\u001b[0m\n",
            "\u001b[32mINFO\u001b[0m:     2405:201:e00a:b0bb:6979:1cc8:431a:e357:0 - \"\u001b[1mGET /api/v1/runs?pipeline_name=digit_recognition_pipeline&page=1&sort_by=desc%3Aupdated HTTP/1.1\u001b[0m\" \u001b[32m200 OK\u001b[0m\n",
            "\u001b[32mINFO\u001b[0m:     2405:201:e00a:b0bb:6979:1cc8:431a:e357:0 - \"\u001b[1mGET /assets/page-DCnizFO_.js HTTP/1.1\u001b[0m\" \u001b[32m200 OK\u001b[0m\n"
          ]
        },
        {
          "output_type": "stream",
          "name": "stderr",
          "text": [
            "INFO:pyngrok.process.ngrok:t=2024-09-08T12:08:43+0000 lvl=info msg=\"join connections\" obj=join id=a04186fd519d l=127.0.0.1:8237 r=[2405:201:e00a:b0bb:6979:1cc8:431a:e357]:64949\n"
          ]
        },
        {
          "output_type": "stream",
          "name": "stdout",
          "text": [
            "\u001b[32mINFO\u001b[0m:     2405:201:e00a:b0bb:6979:1cc8:431a:e357:0 - \"\u001b[1mGET /assets/Error-QMgFNDTs.js HTTP/1.1\u001b[0m\" \u001b[32m200 OK\u001b[0m\n",
            "\u001b[32mINFO\u001b[0m:     2405:201:e00a:b0bb:6979:1cc8:431a:e357:0 - \"\u001b[1mGET /assets/CollapsibleCard-C9BzoY6q.js HTTP/1.1\u001b[0m\" \u001b[32m200 OK\u001b[0m\n",
            "\u001b[1;35mt=2024-09-08T12:08:43+0000 lvl=info msg=\"join connections\" obj=join id=a04186fd519d l=127.0.0.1:8237 r=[2405:201:e00a:b0bb:6979:1cc8:431a:e357]:64949\u001b[0m\n"
          ]
        },
        {
          "output_type": "stream",
          "name": "stderr",
          "text": [
            "INFO:pyngrok.process.ngrok:t=2024-09-08T12:08:43+0000 lvl=info msg=\"join connections\" obj=join id=79721691a65f l=127.0.0.1:8237 r=[2405:201:e00a:b0bb:6979:1cc8:431a:e357]:64949\n"
          ]
        },
        {
          "output_type": "stream",
          "name": "stdout",
          "text": [
            "\u001b[1;35mt=2024-09-08T12:08:43+0000 lvl=info msg=\"join connections\" obj=join id=79721691a65f l=127.0.0.1:8237 r=[2405:201:e00a:b0bb:6979:1cc8:431a:e357]:64949\u001b[0m\n"
          ]
        },
        {
          "output_type": "stream",
          "name": "stderr",
          "text": [
            "INFO:pyngrok.process.ngrok:t=2024-09-08T12:08:43+0000 lvl=info msg=\"join connections\" obj=join id=219208d388b4 l=127.0.0.1:8237 r=[2405:201:e00a:b0bb:6979:1cc8:431a:e357]:64949\n"
          ]
        },
        {
          "output_type": "stream",
          "name": "stdout",
          "text": [
            "\u001b[1;35mt=2024-09-08T12:08:43+0000 lvl=info msg=\"join connections\" obj=join id=219208d388b4 l=127.0.0.1:8237 r=[2405:201:e00a:b0bb:6979:1cc8:431a:e357]:64949\u001b[0m\n"
          ]
        },
        {
          "output_type": "stream",
          "name": "stderr",
          "text": [
            "INFO:pyngrok.process.ngrok:t=2024-09-08T12:08:43+0000 lvl=info msg=\"join connections\" obj=join id=bb1b97821926 l=127.0.0.1:8237 r=[2405:201:e00a:b0bb:6979:1cc8:431a:e357]:64949\n"
          ]
        },
        {
          "output_type": "stream",
          "name": "stdout",
          "text": [
            "\u001b[1;35mt=2024-09-08T12:08:43+0000 lvl=info msg=\"join connections\" obj=join id=bb1b97821926 l=127.0.0.1:8237 r=[2405:201:e00a:b0bb:6979:1cc8:431a:e357]:64949\u001b[0m\n"
          ]
        },
        {
          "output_type": "stream",
          "name": "stderr",
          "text": [
            "INFO:pyngrok.process.ngrok:t=2024-09-08T12:08:43+0000 lvl=info msg=\"join connections\" obj=join id=a1aafb5027ad l=127.0.0.1:8237 r=[2405:201:e00a:b0bb:6979:1cc8:431a:e357]:64949\n"
          ]
        },
        {
          "output_type": "stream",
          "name": "stdout",
          "text": [
            "\u001b[1;35mt=2024-09-08T12:08:43+0000 lvl=info msg=\"join connections\" obj=join id=a1aafb5027ad l=127.0.0.1:8237 r=[2405:201:e00a:b0bb:6979:1cc8:431a:e357]:64949\u001b[0m\n"
          ]
        },
        {
          "output_type": "stream",
          "name": "stderr",
          "text": [
            "INFO:pyngrok.process.ngrok:t=2024-09-08T12:08:43+0000 lvl=info msg=\"join connections\" obj=join id=bdca92798a72 l=127.0.0.1:8237 r=[2405:201:e00a:b0bb:6979:1cc8:431a:e357]:64949\n"
          ]
        },
        {
          "output_type": "stream",
          "name": "stdout",
          "text": [
            "\u001b[1;35mt=2024-09-08T12:08:43+0000 lvl=info msg=\"join connections\" obj=join id=bdca92798a72 l=127.0.0.1:8237 r=[2405:201:e00a:b0bb:6979:1cc8:431a:e357]:64949\u001b[0m\n",
            "\u001b[32mINFO\u001b[0m:     2405:201:e00a:b0bb:6979:1cc8:431a:e357:0 - \"\u001b[1mGET /assets/stack-detail-query-fuuoot1D.js HTTP/1.1\u001b[0m\" \u001b[32m200 OK\u001b[0m\n",
            "\u001b[32mINFO\u001b[0m:     2405:201:e00a:b0bb:6979:1cc8:431a:e357:0 - \"\u001b[1mGET /assets/docker-BFAFXr2_.js HTTP/1.1\u001b[0m\" \u001b[32m200 OK\u001b[0m\n",
            "\u001b[32mINFO\u001b[0m:     2405:201:e00a:b0bb:6979:1cc8:431a:e357:0 - \"\u001b[1mGET /assets/logs-GiDJXbLS.js HTTP/1.1\u001b[0m\" \u001b[32m200 OK\u001b[0m\n",
            "\u001b[32mINFO\u001b[0m:     2405:201:e00a:b0bb:6979:1cc8:431a:e357:0 - \"\u001b[1mGET /assets/EmptyState-Cs3DEmso.js HTTP/1.1\u001b[0m\" \u001b[32m200 OK\u001b[0m\n",
            "\u001b[32mINFO\u001b[0m:     2405:201:e00a:b0bb:6979:1cc8:431a:e357:0 - \"\u001b[1mGET /assets/Infobox-BB7dfbrO.js HTTP/1.1\u001b[0m\" \u001b[32m200 OK\u001b[0m\n",
            "\u001b[32mINFO\u001b[0m:     2405:201:e00a:b0bb:6979:1cc8:431a:e357:0 - \"\u001b[1mGET /assets/code-browser-BJYErIjr.js HTTP/1.1\u001b[0m\" \u001b[32m200 OK\u001b[0m\n"
          ]
        },
        {
          "output_type": "stream",
          "name": "stderr",
          "text": [
            "INFO:pyngrok.process.ngrok:t=2024-09-08T12:08:44+0000 lvl=info msg=\"join connections\" obj=join id=bf8fcdf0ccd6 l=127.0.0.1:8237 r=[2405:201:e00a:b0bb:6979:1cc8:431a:e357]:64949\n"
          ]
        },
        {
          "output_type": "stream",
          "name": "stdout",
          "text": [
            "\u001b[1;35mGot token from cookie\u001b[0m\n",
            "\u001b[32mINFO\u001b[0m:     2405:201:e00a:b0bb:6979:1cc8:431a:e357:0 - \"\u001b[1mGET /api/v1/info HTTP/1.1\u001b[0m\" \u001b[32m200 OK\u001b[0m\n",
            "\u001b[1;35mt=2024-09-08T12:08:44+0000 lvl=info msg=\"join connections\" obj=join id=bf8fcdf0ccd6 l=127.0.0.1:8237 r=[2405:201:e00a:b0bb:6979:1cc8:431a:e357]:64949\u001b[0m\n",
            "\u001b[1;35mGot token from cookie\u001b[0m\n",
            "\u001b[32mINFO\u001b[0m:     2405:201:e00a:b0bb:6979:1cc8:431a:e357:0 - \"\u001b[1mGET /api/v1/runs/154cd769-a733-47e0-9ec6-3a0a3e81822e/graph HTTP/1.1\u001b[0m\" \u001b[32m200 OK\u001b[0m\n",
            "\u001b[32mINFO\u001b[0m:     2405:201:e00a:b0bb:6979:1cc8:431a:e357:0 - \"\u001b[1mGET /api/v1/runs/154cd769-a733-47e0-9ec6-3a0a3e81822e HTTP/1.1\u001b[0m\" \u001b[32m200 OK\u001b[0m\n",
            "\u001b[1;35mGot token from cookie\u001b[0m\n",
            "\u001b[32mINFO\u001b[0m:     2405:201:e00a:b0bb:6979:1cc8:431a:e357:0 - \"\u001b[1mGET /api/v1/runs/154cd769-a733-47e0-9ec6-3a0a3e81822e/graph HTTP/1.1\u001b[0m\" \u001b[32m200 OK\u001b[0m\n",
            "\u001b[1;35mGot token from cookie\u001b[0m\n",
            "\u001b[32mINFO\u001b[0m:     2405:201:e00a:b0bb:6979:1cc8:431a:e357:0 - \"\u001b[1mGET /api/v1/stacks/f9dc991c-0206-4974-b638-9a14f14f42ad HTTP/1.1\u001b[0m\" \u001b[32m200 OK\u001b[0m\n"
          ]
        },
        {
          "output_type": "stream",
          "name": "stderr",
          "text": [
            "INFO:pyngrok.process.ngrok:t=2024-09-08T12:08:50+0000 lvl=info msg=\"join connections\" obj=join id=4cb8240ad2ec l=127.0.0.1:8237 r=[2405:201:e00a:b0bb:6979:1cc8:431a:e357]:64949\n"
          ]
        },
        {
          "output_type": "stream",
          "name": "stdout",
          "text": [
            "\u001b[1;35mt=2024-09-08T12:08:50+0000 lvl=info msg=\"join connections\" obj=join id=4cb8240ad2ec l=127.0.0.1:8237 r=[2405:201:e00a:b0bb:6979:1cc8:431a:e357]:64949\u001b[0m\n"
          ]
        },
        {
          "output_type": "stream",
          "name": "stderr",
          "text": [
            "INFO:pyngrok.process.ngrok:t=2024-09-08T12:08:50+0000 lvl=info msg=\"join connections\" obj=join id=c609a09819d7 l=127.0.0.1:8237 r=[2405:201:e00a:b0bb:6979:1cc8:431a:e357]:64949\n"
          ]
        },
        {
          "output_type": "stream",
          "name": "stdout",
          "text": [
            "\u001b[1;35mt=2024-09-08T12:08:50+0000 lvl=info msg=\"join connections\" obj=join id=c609a09819d7 l=127.0.0.1:8237 r=[2405:201:e00a:b0bb:6979:1cc8:431a:e357]:64949\u001b[0m\n"
          ]
        },
        {
          "output_type": "stream",
          "name": "stderr",
          "text": [
            "INFO:pyngrok.process.ngrok:t=2024-09-08T12:08:50+0000 lvl=info msg=\"join connections\" obj=join id=595db18f2bf8 l=127.0.0.1:8237 r=[2405:201:e00a:b0bb:6979:1cc8:431a:e357]:64949\n"
          ]
        },
        {
          "output_type": "stream",
          "name": "stdout",
          "text": [
            "\u001b[1;35mt=2024-09-08T12:08:50+0000 lvl=info msg=\"join connections\" obj=join id=595db18f2bf8 l=127.0.0.1:8237 r=[2405:201:e00a:b0bb:6979:1cc8:431a:e357]:64949\u001b[0m\n",
            "\u001b[1;35mGot token from cookie\u001b[0m\n",
            "\u001b[1;35mGot token from cookie\u001b[0m\n",
            "\u001b[1;35mGot token from cookie\u001b[0m\n",
            "\u001b[32mINFO\u001b[0m:     2405:201:e00a:b0bb:6979:1cc8:431a:e357:0 - \"\u001b[1mGET /api/v1/stacks/f9dc991c-0206-4974-b638-9a14f14f42ad HTTP/1.1\u001b[0m\" \u001b[32m200 OK\u001b[0m\n",
            "\u001b[32mINFO\u001b[0m:     2405:201:e00a:b0bb:6979:1cc8:431a:e357:0 - \"\u001b[1mGET /api/v1/steps/441e6a0b-9cd8-418a-9ced-7717f4744fef HTTP/1.1\u001b[0m\" \u001b[32m200 OK\u001b[0m\n",
            "\u001b[32mINFO\u001b[0m:     2405:201:e00a:b0bb:6979:1cc8:431a:e357:0 - \"\u001b[1mGET /api/v1/runs/154cd769-a733-47e0-9ec6-3a0a3e81822e HTTP/1.1\u001b[0m\" \u001b[32m200 OK\u001b[0m\n"
          ]
        },
        {
          "output_type": "stream",
          "name": "stderr",
          "text": [
            "INFO:pyngrok.process.ngrok:t=2024-09-08T12:10:48+0000 lvl=info msg=\"join connections\" obj=join id=3b0a9193a24f l=127.0.0.1:8237 r=[2405:201:e00a:b0bb:6979:1cc8:431a:e357]:64949\n"
          ]
        },
        {
          "output_type": "stream",
          "name": "stdout",
          "text": [
            "\u001b[1;35mt=2024-09-08T12:10:48+0000 lvl=info msg=\"join connections\" obj=join id=3b0a9193a24f l=127.0.0.1:8237 r=[2405:201:e00a:b0bb:6979:1cc8:431a:e357]:64949\u001b[0m\n"
          ]
        },
        {
          "output_type": "stream",
          "name": "stderr",
          "text": [
            "INFO:pyngrok.process.ngrok:t=2024-09-08T12:10:48+0000 lvl=info msg=\"join connections\" obj=join id=bdae605c0f13 l=127.0.0.1:8237 r=[2405:201:e00a:b0bb:6979:1cc8:431a:e357]:64949\n"
          ]
        },
        {
          "output_type": "stream",
          "name": "stdout",
          "text": [
            "\u001b[1;35mt=2024-09-08T12:10:48+0000 lvl=info msg=\"join connections\" obj=join id=bdae605c0f13 l=127.0.0.1:8237 r=[2405:201:e00a:b0bb:6979:1cc8:431a:e357]:64949\u001b[0m\n"
          ]
        },
        {
          "output_type": "stream",
          "name": "stderr",
          "text": [
            "INFO:pyngrok.process.ngrok:t=2024-09-08T12:10:48+0000 lvl=info msg=\"join connections\" obj=join id=c5affa23961c l=127.0.0.1:8237 r=[2405:201:e00a:b0bb:6979:1cc8:431a:e357]:64949\n"
          ]
        },
        {
          "output_type": "stream",
          "name": "stdout",
          "text": [
            "\u001b[1;35mt=2024-09-08T12:10:48+0000 lvl=info msg=\"join connections\" obj=join id=c5affa23961c l=127.0.0.1:8237 r=[2405:201:e00a:b0bb:6979:1cc8:431a:e357]:64949\u001b[0m\n"
          ]
        },
        {
          "output_type": "stream",
          "name": "stderr",
          "text": [
            "INFO:pyngrok.process.ngrok:t=2024-09-08T12:10:48+0000 lvl=info msg=\"join connections\" obj=join id=67d389c35560 l=127.0.0.1:8237 r=[2405:201:e00a:b0bb:6979:1cc8:431a:e357]:64949\n"
          ]
        },
        {
          "output_type": "stream",
          "name": "stdout",
          "text": [
            "\u001b[1;35mt=2024-09-08T12:10:48+0000 lvl=info msg=\"join connections\" obj=join id=67d389c35560 l=127.0.0.1:8237 r=[2405:201:e00a:b0bb:6979:1cc8:431a:e357]:64949\u001b[0m\n"
          ]
        },
        {
          "output_type": "stream",
          "name": "stderr",
          "text": [
            "INFO:pyngrok.process.ngrok:t=2024-09-08T12:10:48+0000 lvl=info msg=\"join connections\" obj=join id=4de23f17ca04 l=127.0.0.1:8237 r=[2405:201:e00a:b0bb:6979:1cc8:431a:e357]:64949\n"
          ]
        },
        {
          "output_type": "stream",
          "name": "stdout",
          "text": [
            "\u001b[1;35mt=2024-09-08T12:10:48+0000 lvl=info msg=\"join connections\" obj=join id=4de23f17ca04 l=127.0.0.1:8237 r=[2405:201:e00a:b0bb:6979:1cc8:431a:e357]:64949\u001b[0m\n"
          ]
        },
        {
          "output_type": "stream",
          "name": "stderr",
          "text": [
            "INFO:pyngrok.process.ngrok:t=2024-09-08T12:10:48+0000 lvl=info msg=\"join connections\" obj=join id=6d25e1050b13 l=127.0.0.1:8237 r=[2405:201:e00a:b0bb:6979:1cc8:431a:e357]:64949\n"
          ]
        },
        {
          "output_type": "stream",
          "name": "stdout",
          "text": [
            "\u001b[1;35mt=2024-09-08T12:10:48+0000 lvl=info msg=\"join connections\" obj=join id=6d25e1050b13 l=127.0.0.1:8237 r=[2405:201:e00a:b0bb:6979:1cc8:431a:e357]:64949\u001b[0m\n"
          ]
        },
        {
          "output_type": "stream",
          "name": "stderr",
          "text": [
            "INFO:pyngrok.process.ngrok:t=2024-09-08T12:10:48+0000 lvl=info msg=\"join connections\" obj=join id=cc6144102042 l=127.0.0.1:8237 r=[2405:201:e00a:b0bb:6979:1cc8:431a:e357]:64949\n"
          ]
        },
        {
          "output_type": "stream",
          "name": "stdout",
          "text": [
            "\u001b[1;35mt=2024-09-08T12:10:48+0000 lvl=info msg=\"join connections\" obj=join id=cc6144102042 l=127.0.0.1:8237 r=[2405:201:e00a:b0bb:6979:1cc8:431a:e357]:64949\u001b[0m\n",
            "\u001b[1;35mGot token from cookie\u001b[0m\n",
            "\u001b[1;35mGot token from cookie\u001b[0m\n",
            "\u001b[1;35mGot token from cookie\u001b[0m\n",
            "\u001b[1;35mGot token from cookie\u001b[0m\n",
            "\u001b[1;35mGot token from cookie\u001b[0m\n",
            "\u001b[1;35mGot token from cookie\u001b[0m\n",
            "\u001b[32mINFO\u001b[0m:     2405:201:e00a:b0bb:6979:1cc8:431a:e357:0 - \"\u001b[1mGET /api/v1/settings HTTP/1.1\u001b[0m\" \u001b[32m200 OK\u001b[0m\n",
            "\u001b[32mINFO\u001b[0m:     2405:201:e00a:b0bb:6979:1cc8:431a:e357:0 - \"\u001b[1mGET /api/v1/current-user HTTP/1.1\u001b[0m\" \u001b[32m200 OK\u001b[0m\n",
            "\u001b[32mINFO\u001b[0m:     2405:201:e00a:b0bb:6979:1cc8:431a:e357:0 - \"\u001b[1mGET /api/v1/info HTTP/1.1\u001b[0m\" \u001b[32m200 OK\u001b[0m\n",
            "\u001b[32mINFO\u001b[0m:     2405:201:e00a:b0bb:6979:1cc8:431a:e357:0 - \"\u001b[1mGET /api/v1/onboarding_state HTTP/1.1\u001b[0m\" \u001b[32m200 OK\u001b[0m\n",
            "\u001b[32mINFO\u001b[0m:     2405:201:e00a:b0bb:6979:1cc8:431a:e357:0 - \"\u001b[1mGET /api/v1/stacks/f9dc991c-0206-4974-b638-9a14f14f42ad HTTP/1.1\u001b[0m\" \u001b[32m200 OK\u001b[0m\n",
            "\u001b[32mINFO\u001b[0m:     2405:201:e00a:b0bb:6979:1cc8:431a:e357:0 - \"\u001b[1mGET /api/v1/runs/154cd769-a733-47e0-9ec6-3a0a3e81822e HTTP/1.1\u001b[0m\" \u001b[32m200 OK\u001b[0m\n",
            "\u001b[32mINFO\u001b[0m:     2405:201:e00a:b0bb:6979:1cc8:431a:e357:0 - \"\u001b[1mGET /api/v1/runs/154cd769-a733-47e0-9ec6-3a0a3e81822e/graph HTTP/1.1\u001b[0m\" \u001b[32m200 OK\u001b[0m\n"
          ]
        },
        {
          "output_type": "stream",
          "name": "stderr",
          "text": [
            "INFO:pyngrok.process.ngrok:t=2024-09-08T12:11:04+0000 lvl=info msg=\"join connections\" obj=join id=abe08adbe0e3 l=127.0.0.1:8237 r=[2405:201:e00a:b0bb:6979:1cc8:431a:e357]:64949\n"
          ]
        },
        {
          "output_type": "stream",
          "name": "stdout",
          "text": [
            "\u001b[1;35mt=2024-09-08T12:11:04+0000 lvl=info msg=\"join connections\" obj=join id=abe08adbe0e3 l=127.0.0.1:8237 r=[2405:201:e00a:b0bb:6979:1cc8:431a:e357]:64949\u001b[0m\n"
          ]
        },
        {
          "output_type": "stream",
          "name": "stderr",
          "text": [
            "INFO:pyngrok.process.ngrok:t=2024-09-08T12:11:04+0000 lvl=info msg=\"join connections\" obj=join id=414cecb0ae48 l=127.0.0.1:8237 r=[2405:201:e00a:b0bb:6979:1cc8:431a:e357]:64949\n"
          ]
        },
        {
          "output_type": "stream",
          "name": "stdout",
          "text": [
            "\u001b[1;35mt=2024-09-08T12:11:04+0000 lvl=info msg=\"join connections\" obj=join id=414cecb0ae48 l=127.0.0.1:8237 r=[2405:201:e00a:b0bb:6979:1cc8:431a:e357]:64949\u001b[0m\n"
          ]
        },
        {
          "output_type": "stream",
          "name": "stderr",
          "text": [
            "INFO:pyngrok.process.ngrok:t=2024-09-08T12:11:04+0000 lvl=info msg=\"join connections\" obj=join id=701e72ec576b l=127.0.0.1:8237 r=[2405:201:e00a:b0bb:6979:1cc8:431a:e357]:64949\n"
          ]
        },
        {
          "output_type": "stream",
          "name": "stdout",
          "text": [
            "\u001b[1;35mt=2024-09-08T12:11:04+0000 lvl=info msg=\"join connections\" obj=join id=701e72ec576b l=127.0.0.1:8237 r=[2405:201:e00a:b0bb:6979:1cc8:431a:e357]:64949\u001b[0m\n"
          ]
        },
        {
          "output_type": "stream",
          "name": "stderr",
          "text": [
            "INFO:pyngrok.process.ngrok:t=2024-09-08T12:11:04+0000 lvl=info msg=\"join connections\" obj=join id=0a2caa86a85c l=127.0.0.1:8237 r=[2405:201:e00a:b0bb:6979:1cc8:431a:e357]:64949\n"
          ]
        },
        {
          "output_type": "stream",
          "name": "stdout",
          "text": [
            "\u001b[1;35mt=2024-09-08T12:11:04+0000 lvl=info msg=\"join connections\" obj=join id=0a2caa86a85c l=127.0.0.1:8237 r=[2405:201:e00a:b0bb:6979:1cc8:431a:e357]:64949\u001b[0m\n"
          ]
        },
        {
          "output_type": "stream",
          "name": "stderr",
          "text": [
            "INFO:pyngrok.process.ngrok:t=2024-09-08T12:11:04+0000 lvl=info msg=\"join connections\" obj=join id=471b0e529fa5 l=127.0.0.1:8237 r=[2405:201:e00a:b0bb:6979:1cc8:431a:e357]:64949\n"
          ]
        },
        {
          "output_type": "stream",
          "name": "stdout",
          "text": [
            "\u001b[1;35mt=2024-09-08T12:11:04+0000 lvl=info msg=\"join connections\" obj=join id=471b0e529fa5 l=127.0.0.1:8237 r=[2405:201:e00a:b0bb:6979:1cc8:431a:e357]:64949\u001b[0m\n"
          ]
        },
        {
          "output_type": "stream",
          "name": "stderr",
          "text": [
            "INFO:pyngrok.process.ngrok:t=2024-09-08T12:11:04+0000 lvl=info msg=\"join connections\" obj=join id=324052b5e4d5 l=127.0.0.1:8237 r=[2405:201:e00a:b0bb:6979:1cc8:431a:e357]:64949\n"
          ]
        },
        {
          "output_type": "stream",
          "name": "stdout",
          "text": [
            "\u001b[1;35mGot token from cookie\u001b[0m\n",
            "\u001b[1;35mGot token from cookie\u001b[0m\n",
            "\u001b[32mINFO\u001b[0m:     2405:201:e00a:b0bb:6979:1cc8:431a:e357:0 - \"\u001b[1mGET /api/v1/onboarding_state HTTP/1.1\u001b[0m\" \u001b[32m200 OK\u001b[0m\n",
            "\u001b[1;35mGot token from cookie\u001b[0m\n",
            "\u001b[1;35mt=2024-09-08T12:11:04+0000 lvl=info msg=\"join connections\" obj=join id=324052b5e4d5 l=127.0.0.1:8237 r=[2405:201:e00a:b0bb:6979:1cc8:431a:e357]:64949\u001b[0m\n"
          ]
        },
        {
          "output_type": "stream",
          "name": "stderr",
          "text": [
            "INFO:pyngrok.process.ngrok:t=2024-09-08T12:11:04+0000 lvl=info msg=\"join connections\" obj=join id=36a722c9ab7c l=127.0.0.1:8237 r=[2405:201:e00a:b0bb:6979:1cc8:431a:e357]:64949\n"
          ]
        },
        {
          "output_type": "stream",
          "name": "stdout",
          "text": [
            "\u001b[1;35mt=2024-09-08T12:11:04+0000 lvl=info msg=\"join connections\" obj=join id=36a722c9ab7c l=127.0.0.1:8237 r=[2405:201:e00a:b0bb:6979:1cc8:431a:e357]:64949\u001b[0m\n",
            "\u001b[1;35mGot token from cookie\u001b[0m\n",
            "\u001b[1;35mGot token from cookie\u001b[0m\n",
            "\u001b[1;35mGot token from cookie\u001b[0m\n",
            "\u001b[32mINFO\u001b[0m:     2405:201:e00a:b0bb:6979:1cc8:431a:e357:0 - \"\u001b[1mGET /api/v1/info HTTP/1.1\u001b[0m\" \u001b[32m200 OK\u001b[0m\n",
            "\u001b[32mINFO\u001b[0m:     2405:201:e00a:b0bb:6979:1cc8:431a:e357:0 - \"\u001b[1mGET /api/v1/settings HTTP/1.1\u001b[0m\" \u001b[32m200 OK\u001b[0m\n",
            "\u001b[32mINFO\u001b[0m:     2405:201:e00a:b0bb:6979:1cc8:431a:e357:0 - \"\u001b[1mGET /api/v1/current-user HTTP/1.1\u001b[0m\" \u001b[32m200 OK\u001b[0m\n",
            "\u001b[32mINFO\u001b[0m:     2405:201:e00a:b0bb:6979:1cc8:431a:e357:0 - \"\u001b[1mGET /api/v1/stacks/f9dc991c-0206-4974-b638-9a14f14f42ad HTTP/1.1\u001b[0m\" \u001b[32m200 OK\u001b[0m\n",
            "\u001b[32mINFO\u001b[0m:     2405:201:e00a:b0bb:6979:1cc8:431a:e357:0 - \"\u001b[1mGET /api/v1/runs/154cd769-a733-47e0-9ec6-3a0a3e81822e HTTP/1.1\u001b[0m\" \u001b[32m200 OK\u001b[0m\n",
            "\u001b[32mINFO\u001b[0m:     2405:201:e00a:b0bb:6979:1cc8:431a:e357:0 - \"\u001b[1mGET /api/v1/runs/154cd769-a733-47e0-9ec6-3a0a3e81822e/graph HTTP/1.1\u001b[0m\" \u001b[32m200 OK\u001b[0m\n"
          ]
        },
        {
          "output_type": "stream",
          "name": "stderr",
          "text": [
            "INFO:pyngrok.process.ngrok:t=2024-09-08T12:11:07+0000 lvl=info msg=\"join connections\" obj=join id=4a994e144a32 l=127.0.0.1:8237 r=[2405:201:e00a:b0bb:6979:1cc8:431a:e357]:64949\n"
          ]
        },
        {
          "output_type": "stream",
          "name": "stdout",
          "text": [
            "\u001b[1;35mGot token from cookie\u001b[0m\n",
            "\u001b[32mINFO\u001b[0m:     2405:201:e00a:b0bb:6979:1cc8:431a:e357:0 - \"\u001b[1mGET /api/v1/info HTTP/1.1\u001b[0m\" \u001b[32m200 OK\u001b[0m\n",
            "\u001b[32mINFO\u001b[0m:     2405:201:e00a:b0bb:6979:1cc8:431a:e357:0 - \"\u001b[1mGET /api/v1/current-user HTTP/1.1\u001b[0m\" \u001b[32m200 OK\u001b[0m\n",
            "\u001b[1;35mt=2024-09-08T12:11:07+0000 lvl=info msg=\"join connections\" obj=join id=4a994e144a32 l=127.0.0.1:8237 r=[2405:201:e00a:b0bb:6979:1cc8:431a:e357]:64949\u001b[0m\n"
          ]
        },
        {
          "output_type": "stream",
          "name": "stderr",
          "text": [
            "INFO:pyngrok.process.ngrok:t=2024-09-08T12:11:07+0000 lvl=info msg=\"join connections\" obj=join id=ee3981dd72a9 l=127.0.0.1:8237 r=[2405:201:e00a:b0bb:6979:1cc8:431a:e357]:64949\n"
          ]
        },
        {
          "output_type": "stream",
          "name": "stdout",
          "text": [
            "\u001b[1;35mt=2024-09-08T12:11:07+0000 lvl=info msg=\"join connections\" obj=join id=ee3981dd72a9 l=127.0.0.1:8237 r=[2405:201:e00a:b0bb:6979:1cc8:431a:e357]:64949\u001b[0m\n"
          ]
        },
        {
          "output_type": "stream",
          "name": "stderr",
          "text": [
            "INFO:pyngrok.process.ngrok:t=2024-09-08T12:11:07+0000 lvl=info msg=\"join connections\" obj=join id=e6036471bdcc l=127.0.0.1:8237 r=[2405:201:e00a:b0bb:6979:1cc8:431a:e357]:64949\n"
          ]
        },
        {
          "output_type": "stream",
          "name": "stdout",
          "text": [
            "\u001b[1;35mt=2024-09-08T12:11:07+0000 lvl=info msg=\"join connections\" obj=join id=e6036471bdcc l=127.0.0.1:8237 r=[2405:201:e00a:b0bb:6979:1cc8:431a:e357]:64949\u001b[0m\n"
          ]
        },
        {
          "output_type": "stream",
          "name": "stderr",
          "text": [
            "INFO:pyngrok.process.ngrok:t=2024-09-08T12:11:07+0000 lvl=info msg=\"join connections\" obj=join id=4a2b0a819ebd l=127.0.0.1:8237 r=[2405:201:e00a:b0bb:6979:1cc8:431a:e357]:64949\n"
          ]
        },
        {
          "output_type": "stream",
          "name": "stdout",
          "text": [
            "\u001b[1;35mt=2024-09-08T12:11:07+0000 lvl=info msg=\"join connections\" obj=join id=4a2b0a819ebd l=127.0.0.1:8237 r=[2405:201:e00a:b0bb:6979:1cc8:431a:e357]:64949\u001b[0m\n"
          ]
        },
        {
          "output_type": "stream",
          "name": "stderr",
          "text": [
            "INFO:pyngrok.process.ngrok:t=2024-09-08T12:11:07+0000 lvl=info msg=\"join connections\" obj=join id=fc216faff8c8 l=127.0.0.1:8237 r=[2405:201:e00a:b0bb:6979:1cc8:431a:e357]:64949\n"
          ]
        },
        {
          "output_type": "stream",
          "name": "stdout",
          "text": [
            "\u001b[1;35mt=2024-09-08T12:11:07+0000 lvl=info msg=\"join connections\" obj=join id=fc216faff8c8 l=127.0.0.1:8237 r=[2405:201:e00a:b0bb:6979:1cc8:431a:e357]:64949\u001b[0m\n",
            "\u001b[1;35mGot token from cookie\u001b[0m\n",
            "\u001b[32mINFO\u001b[0m:     2405:201:e00a:b0bb:6979:1cc8:431a:e357:0 - \"\u001b[1mGET /api/v1/stacks/f9dc991c-0206-4974-b638-9a14f14f42ad HTTP/1.1\u001b[0m\" \u001b[32m200 OK\u001b[0m\n",
            "\u001b[1;35mGot token from cookie\u001b[0m\n",
            "\u001b[1;35mGot token from cookie\u001b[0m\n",
            "\u001b[1;35mGot token from cookie\u001b[0m\n",
            "\u001b[1;35mGot token from cookie\u001b[0m\n",
            "\u001b[32mINFO\u001b[0m:     2405:201:e00a:b0bb:6979:1cc8:431a:e357:0 - \"\u001b[1mGET /api/v1/settings HTTP/1.1\u001b[0m\" \u001b[32m200 OK\u001b[0m\n",
            "\u001b[32mINFO\u001b[0m:     2405:201:e00a:b0bb:6979:1cc8:431a:e357:0 - \"\u001b[1mGET /api/v1/onboarding_state HTTP/1.1\u001b[0m\" \u001b[32m200 OK\u001b[0m\n",
            "\u001b[32mINFO\u001b[0m:     2405:201:e00a:b0bb:6979:1cc8:431a:e357:0 - \"\u001b[1mGET /api/v1/runs/154cd769-a733-47e0-9ec6-3a0a3e81822e HTTP/1.1\u001b[0m\" \u001b[32m200 OK\u001b[0m\n",
            "\u001b[32mINFO\u001b[0m:     2405:201:e00a:b0bb:6979:1cc8:431a:e357:0 - \"\u001b[1mGET /api/v1/runs/154cd769-a733-47e0-9ec6-3a0a3e81822e/graph HTTP/1.1\u001b[0m\" \u001b[32m200 OK\u001b[0m\n"
          ]
        },
        {
          "output_type": "stream",
          "name": "stderr",
          "text": [
            "INFO:pyngrok.process.ngrok:t=2024-09-08T12:11:53+0000 lvl=info msg=\"join connections\" obj=join id=83f5c004aba7 l=127.0.0.1:8237 r=[2405:201:e00a:b0bb:6979:1cc8:431a:e357]:64949\n"
          ]
        },
        {
          "output_type": "stream",
          "name": "stdout",
          "text": [
            "\u001b[1;35mt=2024-09-08T12:11:53+0000 lvl=info msg=\"join connections\" obj=join id=83f5c004aba7 l=127.0.0.1:8237 r=[2405:201:e00a:b0bb:6979:1cc8:431a:e357]:64949\u001b[0m\n"
          ]
        },
        {
          "output_type": "stream",
          "name": "stderr",
          "text": [
            "INFO:pyngrok.process.ngrok:t=2024-09-08T12:11:53+0000 lvl=info msg=\"join connections\" obj=join id=5ce8c9daac5f l=127.0.0.1:8237 r=[2405:201:e00a:b0bb:6979:1cc8:431a:e357]:64949\n"
          ]
        },
        {
          "output_type": "stream",
          "name": "stdout",
          "text": [
            "\u001b[1;35mt=2024-09-08T12:11:53+0000 lvl=info msg=\"join connections\" obj=join id=5ce8c9daac5f l=127.0.0.1:8237 r=[2405:201:e00a:b0bb:6979:1cc8:431a:e357]:64949\u001b[0m\n"
          ]
        },
        {
          "output_type": "stream",
          "name": "stderr",
          "text": [
            "INFO:pyngrok.process.ngrok:t=2024-09-08T12:11:53+0000 lvl=info msg=\"join connections\" obj=join id=5598769a51ee l=127.0.0.1:8237 r=[2405:201:e00a:b0bb:6979:1cc8:431a:e357]:64949\n"
          ]
        },
        {
          "output_type": "stream",
          "name": "stdout",
          "text": [
            "\u001b[1;35mt=2024-09-08T12:11:53+0000 lvl=info msg=\"join connections\" obj=join id=5598769a51ee l=127.0.0.1:8237 r=[2405:201:e00a:b0bb:6979:1cc8:431a:e357]:64949\u001b[0m\n"
          ]
        },
        {
          "output_type": "stream",
          "name": "stderr",
          "text": [
            "INFO:pyngrok.process.ngrok:t=2024-09-08T12:11:53+0000 lvl=info msg=\"join connections\" obj=join id=be8a35a58f35 l=127.0.0.1:8237 r=[2405:201:e00a:b0bb:6979:1cc8:431a:e357]:64949\n"
          ]
        },
        {
          "output_type": "stream",
          "name": "stdout",
          "text": [
            "\u001b[1;35mt=2024-09-08T12:11:53+0000 lvl=info msg=\"join connections\" obj=join id=be8a35a58f35 l=127.0.0.1:8237 r=[2405:201:e00a:b0bb:6979:1cc8:431a:e357]:64949\u001b[0m\n"
          ]
        },
        {
          "output_type": "stream",
          "name": "stderr",
          "text": [
            "INFO:pyngrok.process.ngrok:t=2024-09-08T12:11:53+0000 lvl=info msg=\"join connections\" obj=join id=d49c64be9761 l=127.0.0.1:8237 r=[2405:201:e00a:b0bb:6979:1cc8:431a:e357]:64949\n"
          ]
        },
        {
          "output_type": "stream",
          "name": "stdout",
          "text": [
            "\u001b[1;35mt=2024-09-08T12:11:53+0000 lvl=info msg=\"join connections\" obj=join id=d49c64be9761 l=127.0.0.1:8237 r=[2405:201:e00a:b0bb:6979:1cc8:431a:e357]:64949\u001b[0m\n"
          ]
        },
        {
          "output_type": "stream",
          "name": "stderr",
          "text": [
            "INFO:pyngrok.process.ngrok:t=2024-09-08T12:11:53+0000 lvl=info msg=\"join connections\" obj=join id=2557d90c8183 l=127.0.0.1:8237 r=[2405:201:e00a:b0bb:6979:1cc8:431a:e357]:64949\n"
          ]
        },
        {
          "output_type": "stream",
          "name": "stdout",
          "text": [
            "\u001b[1;35mt=2024-09-08T12:11:53+0000 lvl=info msg=\"join connections\" obj=join id=2557d90c8183 l=127.0.0.1:8237 r=[2405:201:e00a:b0bb:6979:1cc8:431a:e357]:64949\u001b[0m\n"
          ]
        },
        {
          "output_type": "stream",
          "name": "stderr",
          "text": [
            "INFO:pyngrok.process.ngrok:t=2024-09-08T12:11:53+0000 lvl=info msg=\"join connections\" obj=join id=fb9f863a4c7d l=127.0.0.1:8237 r=[2405:201:e00a:b0bb:6979:1cc8:431a:e357]:64949\n"
          ]
        },
        {
          "output_type": "stream",
          "name": "stdout",
          "text": [
            "\u001b[1;35mt=2024-09-08T12:11:53+0000 lvl=info msg=\"join connections\" obj=join id=fb9f863a4c7d l=127.0.0.1:8237 r=[2405:201:e00a:b0bb:6979:1cc8:431a:e357]:64949\u001b[0m\n",
            "\u001b[1;35mGot token from cookie\u001b[0m\n",
            "\u001b[1;35mGot token from cookie\u001b[0m\n",
            "\u001b[1;35mGot token from cookie\u001b[0m\n",
            "\u001b[1;35mGot token from cookie\u001b[0m\n",
            "\u001b[1;35mGot token from cookie\u001b[0m\n",
            "\u001b[1;35mGot token from cookie\u001b[0m\n",
            "\u001b[32mINFO\u001b[0m:     2405:201:e00a:b0bb:6979:1cc8:431a:e357:0 - \"\u001b[1mGET /api/v1/current-user HTTP/1.1\u001b[0m\" \u001b[32m200 OK\u001b[0m\n",
            "\u001b[32mINFO\u001b[0m:     2405:201:e00a:b0bb:6979:1cc8:431a:e357:0 - \"\u001b[1mGET /api/v1/info HTTP/1.1\u001b[0m\" \u001b[32m200 OK\u001b[0m\n",
            "\u001b[32mINFO\u001b[0m:     2405:201:e00a:b0bb:6979:1cc8:431a:e357:0 - \"\u001b[1mGET /api/v1/onboarding_state HTTP/1.1\u001b[0m\" \u001b[32m200 OK\u001b[0m\n",
            "\u001b[32mINFO\u001b[0m:     2405:201:e00a:b0bb:6979:1cc8:431a:e357:0 - \"\u001b[1mGET /api/v1/settings HTTP/1.1\u001b[0m\" \u001b[32m200 OK\u001b[0m\n",
            "\u001b[32mINFO\u001b[0m:     2405:201:e00a:b0bb:6979:1cc8:431a:e357:0 - \"\u001b[1mGET /api/v1/stacks/f9dc991c-0206-4974-b638-9a14f14f42ad HTTP/1.1\u001b[0m\" \u001b[32m200 OK\u001b[0m\n",
            "\u001b[32mINFO\u001b[0m:     2405:201:e00a:b0bb:6979:1cc8:431a:e357:0 - \"\u001b[1mGET /api/v1/runs/154cd769-a733-47e0-9ec6-3a0a3e81822e HTTP/1.1\u001b[0m\" \u001b[32m200 OK\u001b[0m\n",
            "\u001b[32mINFO\u001b[0m:     2405:201:e00a:b0bb:6979:1cc8:431a:e357:0 - \"\u001b[1mGET /api/v1/runs/154cd769-a733-47e0-9ec6-3a0a3e81822e/graph HTTP/1.1\u001b[0m\" \u001b[32m200 OK\u001b[0m\n"
          ]
        },
        {
          "output_type": "stream",
          "name": "stderr",
          "text": [
            "INFO:pyngrok.process.ngrok:t=2024-09-08T12:12:34+0000 lvl=info msg=\"join connections\" obj=join id=94a74056c3bb l=127.0.0.1:8237 r=[2405:201:e00a:b0bb:6979:1cc8:431a:e357]:64949\n"
          ]
        },
        {
          "output_type": "stream",
          "name": "stdout",
          "text": [
            "\u001b[1;35mt=2024-09-08T12:12:34+0000 lvl=info msg=\"join connections\" obj=join id=94a74056c3bb l=127.0.0.1:8237 r=[2405:201:e00a:b0bb:6979:1cc8:431a:e357]:64949\u001b[0m\n"
          ]
        },
        {
          "output_type": "stream",
          "name": "stderr",
          "text": [
            "INFO:pyngrok.process.ngrok:t=2024-09-08T12:12:34+0000 lvl=info msg=\"join connections\" obj=join id=de21228975be l=127.0.0.1:8237 r=[2405:201:e00a:b0bb:6979:1cc8:431a:e357]:64949\n"
          ]
        },
        {
          "output_type": "stream",
          "name": "stdout",
          "text": [
            "\u001b[1;35mt=2024-09-08T12:12:34+0000 lvl=info msg=\"join connections\" obj=join id=de21228975be l=127.0.0.1:8237 r=[2405:201:e00a:b0bb:6979:1cc8:431a:e357]:64949\u001b[0m\n"
          ]
        },
        {
          "output_type": "stream",
          "name": "stderr",
          "text": [
            "INFO:pyngrok.process.ngrok:t=2024-09-08T12:12:34+0000 lvl=info msg=\"join connections\" obj=join id=0e408c63ffe8 l=127.0.0.1:8237 r=[2405:201:e00a:b0bb:6979:1cc8:431a:e357]:64949\n"
          ]
        },
        {
          "output_type": "stream",
          "name": "stdout",
          "text": [
            "\u001b[1;35mt=2024-09-08T12:12:34+0000 lvl=info msg=\"join connections\" obj=join id=0e408c63ffe8 l=127.0.0.1:8237 r=[2405:201:e00a:b0bb:6979:1cc8:431a:e357]:64949\u001b[0m\n"
          ]
        },
        {
          "output_type": "stream",
          "name": "stderr",
          "text": [
            "INFO:pyngrok.process.ngrok:t=2024-09-08T12:12:34+0000 lvl=info msg=\"join connections\" obj=join id=e56c12dc819f l=127.0.0.1:8237 r=[2405:201:e00a:b0bb:6979:1cc8:431a:e357]:64949\n"
          ]
        },
        {
          "output_type": "stream",
          "name": "stdout",
          "text": [
            "\u001b[1;35mt=2024-09-08T12:12:34+0000 lvl=info msg=\"join connections\" obj=join id=e56c12dc819f l=127.0.0.1:8237 r=[2405:201:e00a:b0bb:6979:1cc8:431a:e357]:64949\u001b[0m\n"
          ]
        },
        {
          "output_type": "stream",
          "name": "stderr",
          "text": [
            "INFO:pyngrok.process.ngrok:t=2024-09-08T12:12:34+0000 lvl=info msg=\"join connections\" obj=join id=71bedab00a59 l=127.0.0.1:8237 r=[2405:201:e00a:b0bb:6979:1cc8:431a:e357]:64949\n"
          ]
        },
        {
          "output_type": "stream",
          "name": "stdout",
          "text": [
            "\u001b[1;35mt=2024-09-08T12:12:34+0000 lvl=info msg=\"join connections\" obj=join id=71bedab00a59 l=127.0.0.1:8237 r=[2405:201:e00a:b0bb:6979:1cc8:431a:e357]:64949\u001b[0m\n"
          ]
        },
        {
          "output_type": "stream",
          "name": "stderr",
          "text": [
            "INFO:pyngrok.process.ngrok:t=2024-09-08T12:12:34+0000 lvl=info msg=\"join connections\" obj=join id=a83b3e46e184 l=127.0.0.1:8237 r=[2405:201:e00a:b0bb:6979:1cc8:431a:e357]:64949\n"
          ]
        },
        {
          "output_type": "stream",
          "name": "stdout",
          "text": [
            "\u001b[1;35mt=2024-09-08T12:12:34+0000 lvl=info msg=\"join connections\" obj=join id=a83b3e46e184 l=127.0.0.1:8237 r=[2405:201:e00a:b0bb:6979:1cc8:431a:e357]:64949\u001b[0m\n"
          ]
        },
        {
          "output_type": "stream",
          "name": "stderr",
          "text": [
            "INFO:pyngrok.process.ngrok:t=2024-09-08T12:12:34+0000 lvl=info msg=\"join connections\" obj=join id=cf5f80e88074 l=127.0.0.1:8237 r=[2405:201:e00a:b0bb:6979:1cc8:431a:e357]:64949\n"
          ]
        },
        {
          "output_type": "stream",
          "name": "stdout",
          "text": [
            "\u001b[1;35mt=2024-09-08T12:12:34+0000 lvl=info msg=\"join connections\" obj=join id=cf5f80e88074 l=127.0.0.1:8237 r=[2405:201:e00a:b0bb:6979:1cc8:431a:e357]:64949\u001b[0m\n",
            "\u001b[1;35mGot token from cookie\u001b[0m\n",
            "\u001b[1;35mGot token from cookie\u001b[0m\n",
            "\u001b[1;35mGot token from cookie\u001b[0m\n",
            "\u001b[1;35mGot token from cookie\u001b[0m\n",
            "\u001b[1;35mGot token from cookie\u001b[0m\n",
            "\u001b[1;35mGot token from cookie\u001b[0m\n",
            "\u001b[32mINFO\u001b[0m:     2405:201:e00a:b0bb:6979:1cc8:431a:e357:0 - \"\u001b[1mGET /api/v1/settings HTTP/1.1\u001b[0m\" \u001b[32m200 OK\u001b[0m\n",
            "\u001b[32mINFO\u001b[0m:     2405:201:e00a:b0bb:6979:1cc8:431a:e357:0 - \"\u001b[1mGET /api/v1/info HTTP/1.1\u001b[0m\" \u001b[32m200 OK\u001b[0m\n",
            "\u001b[32mINFO\u001b[0m:     2405:201:e00a:b0bb:6979:1cc8:431a:e357:0 - \"\u001b[1mGET /api/v1/onboarding_state HTTP/1.1\u001b[0m\" \u001b[32m200 OK\u001b[0m\n",
            "\u001b[32mINFO\u001b[0m:     2405:201:e00a:b0bb:6979:1cc8:431a:e357:0 - \"\u001b[1mGET /api/v1/current-user HTTP/1.1\u001b[0m\" \u001b[32m200 OK\u001b[0m\n",
            "\u001b[32mINFO\u001b[0m:     2405:201:e00a:b0bb:6979:1cc8:431a:e357:0 - \"\u001b[1mGET /api/v1/stacks/f9dc991c-0206-4974-b638-9a14f14f42ad HTTP/1.1\u001b[0m\" \u001b[32m200 OK\u001b[0m\n",
            "\u001b[32mINFO\u001b[0m:     2405:201:e00a:b0bb:6979:1cc8:431a:e357:0 - \"\u001b[1mGET /api/v1/runs/154cd769-a733-47e0-9ec6-3a0a3e81822e HTTP/1.1\u001b[0m\" \u001b[32m200 OK\u001b[0m\n",
            "\u001b[32mINFO\u001b[0m:     2405:201:e00a:b0bb:6979:1cc8:431a:e357:0 - \"\u001b[1mGET /api/v1/runs/154cd769-a733-47e0-9ec6-3a0a3e81822e/graph HTTP/1.1\u001b[0m\" \u001b[32m200 OK\u001b[0m\n"
          ]
        },
        {
          "output_type": "stream",
          "name": "stderr",
          "text": [
            "INFO:pyngrok.process.ngrok:t=2024-09-08T12:13:08+0000 lvl=info msg=\"join connections\" obj=join id=2ed4f3d3df2c l=127.0.0.1:8237 r=[2405:201:e00a:b0bb:6979:1cc8:431a:e357]:64949\n"
          ]
        },
        {
          "output_type": "stream",
          "name": "stdout",
          "text": [
            "\u001b[1;35mt=2024-09-08T12:13:08+0000 lvl=info msg=\"join connections\" obj=join id=2ed4f3d3df2c l=127.0.0.1:8237 r=[2405:201:e00a:b0bb:6979:1cc8:431a:e357]:64949\u001b[0m\n"
          ]
        },
        {
          "output_type": "stream",
          "name": "stderr",
          "text": [
            "INFO:pyngrok.process.ngrok:t=2024-09-08T12:13:08+0000 lvl=info msg=\"join connections\" obj=join id=24f84057ff37 l=127.0.0.1:8237 r=[2405:201:e00a:b0bb:6979:1cc8:431a:e357]:64949\n"
          ]
        },
        {
          "output_type": "stream",
          "name": "stdout",
          "text": [
            "\u001b[1;35mt=2024-09-08T12:13:08+0000 lvl=info msg=\"join connections\" obj=join id=24f84057ff37 l=127.0.0.1:8237 r=[2405:201:e00a:b0bb:6979:1cc8:431a:e357]:64949\u001b[0m\n"
          ]
        },
        {
          "output_type": "stream",
          "name": "stderr",
          "text": [
            "INFO:pyngrok.process.ngrok:t=2024-09-08T12:13:08+0000 lvl=info msg=\"join connections\" obj=join id=62d771a84e85 l=127.0.0.1:8237 r=[2405:201:e00a:b0bb:6979:1cc8:431a:e357]:64949\n"
          ]
        },
        {
          "output_type": "stream",
          "name": "stdout",
          "text": [
            "\u001b[1;35mt=2024-09-08T12:13:08+0000 lvl=info msg=\"join connections\" obj=join id=62d771a84e85 l=127.0.0.1:8237 r=[2405:201:e00a:b0bb:6979:1cc8:431a:e357]:64949\u001b[0m\n"
          ]
        },
        {
          "output_type": "stream",
          "name": "stderr",
          "text": [
            "INFO:pyngrok.process.ngrok:t=2024-09-08T12:13:08+0000 lvl=info msg=\"join connections\" obj=join id=ef1c9a899e43 l=127.0.0.1:8237 r=[2405:201:e00a:b0bb:6979:1cc8:431a:e357]:64949\n"
          ]
        },
        {
          "output_type": "stream",
          "name": "stdout",
          "text": [
            "\u001b[1;35mt=2024-09-08T12:13:08+0000 lvl=info msg=\"join connections\" obj=join id=ef1c9a899e43 l=127.0.0.1:8237 r=[2405:201:e00a:b0bb:6979:1cc8:431a:e357]:64949\u001b[0m\n"
          ]
        },
        {
          "output_type": "stream",
          "name": "stderr",
          "text": [
            "INFO:pyngrok.process.ngrok:t=2024-09-08T12:13:08+0000 lvl=info msg=\"join connections\" obj=join id=e53f21834948 l=127.0.0.1:8237 r=[2405:201:e00a:b0bb:6979:1cc8:431a:e357]:64949\n"
          ]
        },
        {
          "output_type": "stream",
          "name": "stdout",
          "text": [
            "\u001b[1;35mt=2024-09-08T12:13:08+0000 lvl=info msg=\"join connections\" obj=join id=e53f21834948 l=127.0.0.1:8237 r=[2405:201:e00a:b0bb:6979:1cc8:431a:e357]:64949\u001b[0m\n"
          ]
        },
        {
          "output_type": "stream",
          "name": "stderr",
          "text": [
            "INFO:pyngrok.process.ngrok:t=2024-09-08T12:13:08+0000 lvl=info msg=\"join connections\" obj=join id=0e774a9e4498 l=127.0.0.1:8237 r=[2405:201:e00a:b0bb:6979:1cc8:431a:e357]:64949\n"
          ]
        },
        {
          "output_type": "stream",
          "name": "stdout",
          "text": [
            "\u001b[1;35mt=2024-09-08T12:13:08+0000 lvl=info msg=\"join connections\" obj=join id=0e774a9e4498 l=127.0.0.1:8237 r=[2405:201:e00a:b0bb:6979:1cc8:431a:e357]:64949\u001b[0m\n"
          ]
        },
        {
          "output_type": "stream",
          "name": "stderr",
          "text": [
            "INFO:pyngrok.process.ngrok:t=2024-09-08T12:13:08+0000 lvl=info msg=\"join connections\" obj=join id=b8466e10a565 l=127.0.0.1:8237 r=[2405:201:e00a:b0bb:6979:1cc8:431a:e357]:64949\n"
          ]
        },
        {
          "output_type": "stream",
          "name": "stdout",
          "text": [
            "\u001b[1;35mt=2024-09-08T12:13:08+0000 lvl=info msg=\"join connections\" obj=join id=b8466e10a565 l=127.0.0.1:8237 r=[2405:201:e00a:b0bb:6979:1cc8:431a:e357]:64949\u001b[0m\n",
            "\u001b[1;35mGot token from cookie\u001b[0m\n",
            "\u001b[1;35mGot token from cookie\u001b[0m\n",
            "\u001b[1;35mGot token from cookie\u001b[0m\n",
            "\u001b[1;35mGot token from cookie\u001b[0m\n",
            "\u001b[1;35mGot token from cookie\u001b[0m\n",
            "\u001b[1;35mGot token from cookie\u001b[0m\n",
            "\u001b[32mINFO\u001b[0m:     2405:201:e00a:b0bb:6979:1cc8:431a:e357:0 - \"\u001b[1mGET /api/v1/info HTTP/1.1\u001b[0m\" \u001b[32m200 OK\u001b[0m\n",
            "\u001b[32mINFO\u001b[0m:     2405:201:e00a:b0bb:6979:1cc8:431a:e357:0 - \"\u001b[1mGET /api/v1/settings HTTP/1.1\u001b[0m\" \u001b[32m200 OK\u001b[0m\n",
            "\u001b[32mINFO\u001b[0m:     2405:201:e00a:b0bb:6979:1cc8:431a:e357:0 - \"\u001b[1mGET /api/v1/onboarding_state HTTP/1.1\u001b[0m\" \u001b[32m200 OK\u001b[0m\n",
            "\u001b[32mINFO\u001b[0m:     2405:201:e00a:b0bb:6979:1cc8:431a:e357:0 - \"\u001b[1mGET /api/v1/current-user HTTP/1.1\u001b[0m\" \u001b[32m200 OK\u001b[0m\n",
            "\u001b[32mINFO\u001b[0m:     2405:201:e00a:b0bb:6979:1cc8:431a:e357:0 - \"\u001b[1mGET /api/v1/stacks/f9dc991c-0206-4974-b638-9a14f14f42ad HTTP/1.1\u001b[0m\" \u001b[32m200 OK\u001b[0m\n",
            "\u001b[32mINFO\u001b[0m:     2405:201:e00a:b0bb:6979:1cc8:431a:e357:0 - \"\u001b[1mGET /api/v1/runs/154cd769-a733-47e0-9ec6-3a0a3e81822e HTTP/1.1\u001b[0m\" \u001b[32m200 OK\u001b[0m\n",
            "\u001b[32mINFO\u001b[0m:     2405:201:e00a:b0bb:6979:1cc8:431a:e357:0 - \"\u001b[1mGET /api/v1/runs/154cd769-a733-47e0-9ec6-3a0a3e81822e/graph HTTP/1.1\u001b[0m\" \u001b[32m200 OK\u001b[0m\n"
          ]
        },
        {
          "output_type": "stream",
          "name": "stderr",
          "text": [
            "INFO:pyngrok.process.ngrok:t=2024-09-08T12:14:14+0000 lvl=info msg=\"join connections\" obj=join id=62935ca3a611 l=127.0.0.1:8237 r=[2405:201:e00a:b0bb:6979:1cc8:431a:e357]:64949\n"
          ]
        },
        {
          "output_type": "stream",
          "name": "stdout",
          "text": [
            "\u001b[1;35mt=2024-09-08T12:14:14+0000 lvl=info msg=\"join connections\" obj=join id=62935ca3a611 l=127.0.0.1:8237 r=[2405:201:e00a:b0bb:6979:1cc8:431a:e357]:64949\u001b[0m\n"
          ]
        },
        {
          "output_type": "stream",
          "name": "stderr",
          "text": [
            "INFO:pyngrok.process.ngrok:t=2024-09-08T12:14:14+0000 lvl=info msg=\"join connections\" obj=join id=fbe37051cedd l=127.0.0.1:8237 r=[2405:201:e00a:b0bb:6979:1cc8:431a:e357]:64949\n"
          ]
        },
        {
          "output_type": "stream",
          "name": "stdout",
          "text": [
            "\u001b[1;35mt=2024-09-08T12:14:14+0000 lvl=info msg=\"join connections\" obj=join id=fbe37051cedd l=127.0.0.1:8237 r=[2405:201:e00a:b0bb:6979:1cc8:431a:e357]:64949\u001b[0m\n"
          ]
        },
        {
          "output_type": "stream",
          "name": "stderr",
          "text": [
            "INFO:pyngrok.process.ngrok:t=2024-09-08T12:14:14+0000 lvl=info msg=\"join connections\" obj=join id=868601bf2a2d l=127.0.0.1:8237 r=[2405:201:e00a:b0bb:6979:1cc8:431a:e357]:64949\n"
          ]
        },
        {
          "output_type": "stream",
          "name": "stdout",
          "text": [
            "\u001b[1;35mt=2024-09-08T12:14:14+0000 lvl=info msg=\"join connections\" obj=join id=868601bf2a2d l=127.0.0.1:8237 r=[2405:201:e00a:b0bb:6979:1cc8:431a:e357]:64949\u001b[0m\n"
          ]
        },
        {
          "output_type": "stream",
          "name": "stderr",
          "text": [
            "INFO:pyngrok.process.ngrok:t=2024-09-08T12:14:14+0000 lvl=info msg=\"join connections\" obj=join id=b76847c78067 l=127.0.0.1:8237 r=[2405:201:e00a:b0bb:6979:1cc8:431a:e357]:64949\n"
          ]
        },
        {
          "output_type": "stream",
          "name": "stdout",
          "text": [
            "\u001b[1;35mGot token from cookie\u001b[0m\n",
            "\u001b[1;35mGot token from cookie\u001b[0m\n",
            "\u001b[1;35mt=2024-09-08T12:14:14+0000 lvl=info msg=\"join connections\" obj=join id=b76847c78067 l=127.0.0.1:8237 r=[2405:201:e00a:b0bb:6979:1cc8:431a:e357]:64949\u001b[0m\n"
          ]
        },
        {
          "output_type": "stream",
          "name": "stderr",
          "text": [
            "INFO:pyngrok.process.ngrok:t=2024-09-08T12:14:14+0000 lvl=info msg=\"join connections\" obj=join id=b67deb59e13e l=127.0.0.1:8237 r=[2405:201:e00a:b0bb:6979:1cc8:431a:e357]:64949\n"
          ]
        },
        {
          "output_type": "stream",
          "name": "stdout",
          "text": [
            "\u001b[1;35mt=2024-09-08T12:14:14+0000 lvl=info msg=\"join connections\" obj=join id=b67deb59e13e l=127.0.0.1:8237 r=[2405:201:e00a:b0bb:6979:1cc8:431a:e357]:64949\u001b[0m\n"
          ]
        },
        {
          "output_type": "stream",
          "name": "stderr",
          "text": [
            "INFO:pyngrok.process.ngrok:t=2024-09-08T12:14:14+0000 lvl=info msg=\"join connections\" obj=join id=ee2eb588b1d5 l=127.0.0.1:8237 r=[2405:201:e00a:b0bb:6979:1cc8:431a:e357]:64949\n"
          ]
        },
        {
          "output_type": "stream",
          "name": "stdout",
          "text": [
            "\u001b[1;35mt=2024-09-08T12:14:14+0000 lvl=info msg=\"join connections\" obj=join id=ee2eb588b1d5 l=127.0.0.1:8237 r=[2405:201:e00a:b0bb:6979:1cc8:431a:e357]:64949\u001b[0m\n"
          ]
        },
        {
          "output_type": "stream",
          "name": "stderr",
          "text": [
            "INFO:pyngrok.process.ngrok:t=2024-09-08T12:14:14+0000 lvl=info msg=\"join connections\" obj=join id=ca694e572576 l=127.0.0.1:8237 r=[2405:201:e00a:b0bb:6979:1cc8:431a:e357]:64949\n"
          ]
        },
        {
          "output_type": "stream",
          "name": "stdout",
          "text": [
            "\u001b[1;35mt=2024-09-08T12:14:14+0000 lvl=info msg=\"join connections\" obj=join id=ca694e572576 l=127.0.0.1:8237 r=[2405:201:e00a:b0bb:6979:1cc8:431a:e357]:64949\u001b[0m\n",
            "\u001b[1;35mGot token from cookie\u001b[0m\n",
            "\u001b[1;35mGot token from cookie\u001b[0m\n",
            "\u001b[1;35mGot token from cookie\u001b[0m\n",
            "\u001b[1;35mGot token from cookie\u001b[0m\n",
            "\u001b[32mINFO\u001b[0m:     2405:201:e00a:b0bb:6979:1cc8:431a:e357:0 - \"\u001b[1mGET /api/v1/stacks/f9dc991c-0206-4974-b638-9a14f14f42ad HTTP/1.1\u001b[0m\" \u001b[32m200 OK\u001b[0m\n",
            "\u001b[32mINFO\u001b[0m:     2405:201:e00a:b0bb:6979:1cc8:431a:e357:0 - \"\u001b[1mGET /api/v1/current-user HTTP/1.1\u001b[0m\" \u001b[32m200 OK\u001b[0m\n",
            "\u001b[32mINFO\u001b[0m:     2405:201:e00a:b0bb:6979:1cc8:431a:e357:0 - \"\u001b[1mGET /api/v1/info HTTP/1.1\u001b[0m\" \u001b[32m200 OK\u001b[0m\n",
            "\u001b[32mINFO\u001b[0m:     2405:201:e00a:b0bb:6979:1cc8:431a:e357:0 - \"\u001b[1mGET /api/v1/onboarding_state HTTP/1.1\u001b[0m\" \u001b[32m200 OK\u001b[0m\n",
            "\u001b[32mINFO\u001b[0m:     2405:201:e00a:b0bb:6979:1cc8:431a:e357:0 - \"\u001b[1mGET /api/v1/settings HTTP/1.1\u001b[0m\" \u001b[32m200 OK\u001b[0m\n",
            "\u001b[32mINFO\u001b[0m:     2405:201:e00a:b0bb:6979:1cc8:431a:e357:0 - \"\u001b[1mGET /api/v1/runs/154cd769-a733-47e0-9ec6-3a0a3e81822e HTTP/1.1\u001b[0m\" \u001b[32m200 OK\u001b[0m\n",
            "\u001b[32mINFO\u001b[0m:     2405:201:e00a:b0bb:6979:1cc8:431a:e357:0 - \"\u001b[1mGET /api/v1/runs/154cd769-a733-47e0-9ec6-3a0a3e81822e/graph HTTP/1.1\u001b[0m\" \u001b[32m200 OK\u001b[0m\n"
          ]
        },
        {
          "output_type": "stream",
          "name": "stderr",
          "text": [
            "INFO:pyngrok.process.ngrok:t=2024-09-08T12:15:20+0000 lvl=info msg=\"join connections\" obj=join id=62d4fd185d58 l=127.0.0.1:8237 r=[2405:201:e00a:b0bb:6979:1cc8:431a:e357]:64949\n"
          ]
        },
        {
          "output_type": "stream",
          "name": "stdout",
          "text": [
            "\u001b[1;35mt=2024-09-08T12:15:20+0000 lvl=info msg=\"join connections\" obj=join id=62d4fd185d58 l=127.0.0.1:8237 r=[2405:201:e00a:b0bb:6979:1cc8:431a:e357]:64949\u001b[0m\n"
          ]
        },
        {
          "output_type": "stream",
          "name": "stderr",
          "text": [
            "INFO:pyngrok.process.ngrok:t=2024-09-08T12:15:20+0000 lvl=info msg=\"join connections\" obj=join id=f6945406c254 l=127.0.0.1:8237 r=[2405:201:e00a:b0bb:6979:1cc8:431a:e357]:64949\n"
          ]
        },
        {
          "output_type": "stream",
          "name": "stdout",
          "text": [
            "\u001b[1;35mt=2024-09-08T12:15:20+0000 lvl=info msg=\"join connections\" obj=join id=f6945406c254 l=127.0.0.1:8237 r=[2405:201:e00a:b0bb:6979:1cc8:431a:e357]:64949\u001b[0m\n"
          ]
        },
        {
          "output_type": "stream",
          "name": "stderr",
          "text": [
            "INFO:pyngrok.process.ngrok:t=2024-09-08T12:15:20+0000 lvl=info msg=\"join connections\" obj=join id=fc25b7c9a663 l=127.0.0.1:8237 r=[2405:201:e00a:b0bb:6979:1cc8:431a:e357]:64949\n"
          ]
        },
        {
          "output_type": "stream",
          "name": "stdout",
          "text": [
            "\u001b[1;35mt=2024-09-08T12:15:20+0000 lvl=info msg=\"join connections\" obj=join id=fc25b7c9a663 l=127.0.0.1:8237 r=[2405:201:e00a:b0bb:6979:1cc8:431a:e357]:64949\u001b[0m\n"
          ]
        },
        {
          "output_type": "stream",
          "name": "stderr",
          "text": [
            "INFO:pyngrok.process.ngrok:t=2024-09-08T12:15:20+0000 lvl=info msg=\"join connections\" obj=join id=c41e06764437 l=127.0.0.1:8237 r=[2405:201:e00a:b0bb:6979:1cc8:431a:e357]:64949\n"
          ]
        },
        {
          "output_type": "stream",
          "name": "stdout",
          "text": [
            "\u001b[1;35mt=2024-09-08T12:15:20+0000 lvl=info msg=\"join connections\" obj=join id=c41e06764437 l=127.0.0.1:8237 r=[2405:201:e00a:b0bb:6979:1cc8:431a:e357]:64949\u001b[0m\n"
          ]
        },
        {
          "output_type": "stream",
          "name": "stderr",
          "text": [
            "INFO:pyngrok.process.ngrok:t=2024-09-08T12:15:20+0000 lvl=info msg=\"join connections\" obj=join id=a9baaed14ddc l=127.0.0.1:8237 r=[2405:201:e00a:b0bb:6979:1cc8:431a:e357]:64949\n"
          ]
        },
        {
          "output_type": "stream",
          "name": "stdout",
          "text": [
            "\u001b[1;35mt=2024-09-08T12:15:20+0000 lvl=info msg=\"join connections\" obj=join id=a9baaed14ddc l=127.0.0.1:8237 r=[2405:201:e00a:b0bb:6979:1cc8:431a:e357]:64949\u001b[0m\n"
          ]
        },
        {
          "output_type": "stream",
          "name": "stderr",
          "text": [
            "INFO:pyngrok.process.ngrok:t=2024-09-08T12:15:20+0000 lvl=info msg=\"join connections\" obj=join id=c2055eda131b l=127.0.0.1:8237 r=[2405:201:e00a:b0bb:6979:1cc8:431a:e357]:64949\n"
          ]
        },
        {
          "output_type": "stream",
          "name": "stdout",
          "text": [
            "\u001b[1;35mt=2024-09-08T12:15:20+0000 lvl=info msg=\"join connections\" obj=join id=c2055eda131b l=127.0.0.1:8237 r=[2405:201:e00a:b0bb:6979:1cc8:431a:e357]:64949\u001b[0m\n"
          ]
        },
        {
          "output_type": "stream",
          "name": "stderr",
          "text": [
            "INFO:pyngrok.process.ngrok:t=2024-09-08T12:15:20+0000 lvl=info msg=\"join connections\" obj=join id=2a9ac5ebc688 l=127.0.0.1:8237 r=[2405:201:e00a:b0bb:6979:1cc8:431a:e357]:64949\n"
          ]
        },
        {
          "output_type": "stream",
          "name": "stdout",
          "text": [
            "\u001b[1;35mt=2024-09-08T12:15:20+0000 lvl=info msg=\"join connections\" obj=join id=2a9ac5ebc688 l=127.0.0.1:8237 r=[2405:201:e00a:b0bb:6979:1cc8:431a:e357]:64949\u001b[0m\n",
            "\u001b[1;35mGot token from cookie\u001b[0m\n",
            "\u001b[1;35mGot token from cookie\u001b[0m\n",
            "\u001b[1;35mGot token from cookie\u001b[0m\n",
            "\u001b[1;35mGot token from cookie\u001b[0m\n",
            "\u001b[1;35mGot token from cookie\u001b[0m\n",
            "\u001b[1;35mGot token from cookie\u001b[0m\n",
            "\u001b[32mINFO\u001b[0m:     2405:201:e00a:b0bb:6979:1cc8:431a:e357:0 - \"\u001b[1mGET /api/v1/settings HTTP/1.1\u001b[0m\" \u001b[32m200 OK\u001b[0m\n",
            "\u001b[32mINFO\u001b[0m:     2405:201:e00a:b0bb:6979:1cc8:431a:e357:0 - \"\u001b[1mGET /api/v1/stacks/f9dc991c-0206-4974-b638-9a14f14f42ad HTTP/1.1\u001b[0m\" \u001b[32m200 OK\u001b[0m\n",
            "\u001b[32mINFO\u001b[0m:     2405:201:e00a:b0bb:6979:1cc8:431a:e357:0 - \"\u001b[1mGET /api/v1/info HTTP/1.1\u001b[0m\" \u001b[32m200 OK\u001b[0m\n",
            "\u001b[32mINFO\u001b[0m:     2405:201:e00a:b0bb:6979:1cc8:431a:e357:0 - \"\u001b[1mGET /api/v1/current-user HTTP/1.1\u001b[0m\" \u001b[32m200 OK\u001b[0m\n",
            "\u001b[32mINFO\u001b[0m:     2405:201:e00a:b0bb:6979:1cc8:431a:e357:0 - \"\u001b[1mGET /api/v1/onboarding_state HTTP/1.1\u001b[0m\" \u001b[32m200 OK\u001b[0m\n",
            "\u001b[32mINFO\u001b[0m:     2405:201:e00a:b0bb:6979:1cc8:431a:e357:0 - \"\u001b[1mGET /api/v1/runs/154cd769-a733-47e0-9ec6-3a0a3e81822e HTTP/1.1\u001b[0m\" \u001b[32m200 OK\u001b[0m\n",
            "\u001b[32mINFO\u001b[0m:     2405:201:e00a:b0bb:6979:1cc8:431a:e357:0 - \"\u001b[1mGET /api/v1/runs/154cd769-a733-47e0-9ec6-3a0a3e81822e/graph HTTP/1.1\u001b[0m\" \u001b[32m200 OK\u001b[0m\n"
          ]
        },
        {
          "output_type": "stream",
          "name": "stderr",
          "text": [
            "INFO:pyngrok.process.ngrok:t=2024-09-08T12:16:32+0000 lvl=info msg=\"join connections\" obj=join id=9d912ce07e1c l=127.0.0.1:8237 r=[2405:201:e00a:b0bb:6979:1cc8:431a:e357]:64949\n"
          ]
        },
        {
          "output_type": "stream",
          "name": "stdout",
          "text": [
            "\u001b[1;35mt=2024-09-08T12:16:32+0000 lvl=info msg=\"join connections\" obj=join id=9d912ce07e1c l=127.0.0.1:8237 r=[2405:201:e00a:b0bb:6979:1cc8:431a:e357]:64949\u001b[0m\n"
          ]
        },
        {
          "output_type": "stream",
          "name": "stderr",
          "text": [
            "INFO:pyngrok.process.ngrok:t=2024-09-08T12:16:32+0000 lvl=info msg=\"join connections\" obj=join id=16da7102b455 l=127.0.0.1:8237 r=[2405:201:e00a:b0bb:6979:1cc8:431a:e357]:64949\n"
          ]
        },
        {
          "output_type": "stream",
          "name": "stdout",
          "text": [
            "\u001b[1;35mt=2024-09-08T12:16:32+0000 lvl=info msg=\"join connections\" obj=join id=16da7102b455 l=127.0.0.1:8237 r=[2405:201:e00a:b0bb:6979:1cc8:431a:e357]:64949\u001b[0m\n"
          ]
        },
        {
          "output_type": "stream",
          "name": "stderr",
          "text": [
            "INFO:pyngrok.process.ngrok:t=2024-09-08T12:16:32+0000 lvl=info msg=\"join connections\" obj=join id=916d39c2c066 l=127.0.0.1:8237 r=[2405:201:e00a:b0bb:6979:1cc8:431a:e357]:64949\n"
          ]
        },
        {
          "output_type": "stream",
          "name": "stdout",
          "text": [
            "\u001b[1;35mt=2024-09-08T12:16:32+0000 lvl=info msg=\"join connections\" obj=join id=916d39c2c066 l=127.0.0.1:8237 r=[2405:201:e00a:b0bb:6979:1cc8:431a:e357]:64949\u001b[0m\n"
          ]
        },
        {
          "output_type": "stream",
          "name": "stderr",
          "text": [
            "INFO:pyngrok.process.ngrok:t=2024-09-08T12:16:32+0000 lvl=info msg=\"join connections\" obj=join id=c463570567ee l=127.0.0.1:8237 r=[2405:201:e00a:b0bb:6979:1cc8:431a:e357]:64949\n"
          ]
        },
        {
          "output_type": "stream",
          "name": "stdout",
          "text": [
            "\u001b[1;35mt=2024-09-08T12:16:32+0000 lvl=info msg=\"join connections\" obj=join id=c463570567ee l=127.0.0.1:8237 r=[2405:201:e00a:b0bb:6979:1cc8:431a:e357]:64949\u001b[0m\n"
          ]
        },
        {
          "output_type": "stream",
          "name": "stderr",
          "text": [
            "INFO:pyngrok.process.ngrok:t=2024-09-08T12:16:32+0000 lvl=info msg=\"join connections\" obj=join id=8a476347e2ee l=127.0.0.1:8237 r=[2405:201:e00a:b0bb:6979:1cc8:431a:e357]:64949\n"
          ]
        },
        {
          "output_type": "stream",
          "name": "stdout",
          "text": [
            "\u001b[1;35mt=2024-09-08T12:16:32+0000 lvl=info msg=\"join connections\" obj=join id=8a476347e2ee l=127.0.0.1:8237 r=[2405:201:e00a:b0bb:6979:1cc8:431a:e357]:64949\u001b[0m\n"
          ]
        },
        {
          "output_type": "stream",
          "name": "stderr",
          "text": [
            "INFO:pyngrok.process.ngrok:t=2024-09-08T12:16:32+0000 lvl=info msg=\"join connections\" obj=join id=2fa83cd01b2f l=127.0.0.1:8237 r=[2405:201:e00a:b0bb:6979:1cc8:431a:e357]:64949\n"
          ]
        },
        {
          "output_type": "stream",
          "name": "stdout",
          "text": [
            "\u001b[1;35mt=2024-09-08T12:16:32+0000 lvl=info msg=\"join connections\" obj=join id=2fa83cd01b2f l=127.0.0.1:8237 r=[2405:201:e00a:b0bb:6979:1cc8:431a:e357]:64949\u001b[0m\n"
          ]
        },
        {
          "output_type": "stream",
          "name": "stderr",
          "text": [
            "INFO:pyngrok.process.ngrok:t=2024-09-08T12:16:32+0000 lvl=info msg=\"join connections\" obj=join id=31e24fae39fb l=127.0.0.1:8237 r=[2405:201:e00a:b0bb:6979:1cc8:431a:e357]:64949\n"
          ]
        },
        {
          "output_type": "stream",
          "name": "stdout",
          "text": [
            "\u001b[1;35mt=2024-09-08T12:16:32+0000 lvl=info msg=\"join connections\" obj=join id=31e24fae39fb l=127.0.0.1:8237 r=[2405:201:e00a:b0bb:6979:1cc8:431a:e357]:64949\u001b[0m\n",
            "\u001b[1;35mGot token from cookie\u001b[0m\n",
            "\u001b[1;35mGot token from cookie\u001b[0m\n",
            "\u001b[1;35mGot token from cookie\u001b[0m\n",
            "\u001b[1;35mGot token from cookie\u001b[0m\n",
            "\u001b[1;35mGot token from cookie\u001b[0m\n",
            "\u001b[1;35mGot token from cookie\u001b[0m\n",
            "\u001b[32mINFO\u001b[0m:     2405:201:e00a:b0bb:6979:1cc8:431a:e357:0 - \"\u001b[1mGET /api/v1/current-user HTTP/1.1\u001b[0m\" \u001b[32m200 OK\u001b[0m\n",
            "\u001b[32mINFO\u001b[0m:     2405:201:e00a:b0bb:6979:1cc8:431a:e357:0 - \"\u001b[1mGET /api/v1/info HTTP/1.1\u001b[0m\" \u001b[32m200 OK\u001b[0m\n",
            "\u001b[32mINFO\u001b[0m:     2405:201:e00a:b0bb:6979:1cc8:431a:e357:0 - \"\u001b[1mGET /api/v1/settings HTTP/1.1\u001b[0m\" \u001b[32m200 OK\u001b[0m\n",
            "\u001b[32mINFO\u001b[0m:     2405:201:e00a:b0bb:6979:1cc8:431a:e357:0 - \"\u001b[1mGET /api/v1/onboarding_state HTTP/1.1\u001b[0m\" \u001b[32m200 OK\u001b[0m\n",
            "\u001b[32mINFO\u001b[0m:     2405:201:e00a:b0bb:6979:1cc8:431a:e357:0 - \"\u001b[1mGET /api/v1/stacks/f9dc991c-0206-4974-b638-9a14f14f42ad HTTP/1.1\u001b[0m\" \u001b[32m200 OK\u001b[0m\n",
            "\u001b[32mINFO\u001b[0m:     2405:201:e00a:b0bb:6979:1cc8:431a:e357:0 - \"\u001b[1mGET /api/v1/runs/154cd769-a733-47e0-9ec6-3a0a3e81822e HTTP/1.1\u001b[0m\" \u001b[32m200 OK\u001b[0m\n",
            "\u001b[32mINFO\u001b[0m:     2405:201:e00a:b0bb:6979:1cc8:431a:e357:0 - \"\u001b[1mGET /api/v1/runs/154cd769-a733-47e0-9ec6-3a0a3e81822e/graph HTTP/1.1\u001b[0m\" \u001b[32m200 OK\u001b[0m\n"
          ]
        },
        {
          "output_type": "stream",
          "name": "stderr",
          "text": [
            "INFO:pyngrok.process.ngrok:t=2024-09-08T12:19:51+0000 lvl=info msg=\"join connections\" obj=join id=bcaab6598e43 l=127.0.0.1:8237 r=[2405:201:e00a:b0bb:6979:1cc8:431a:e357]:64949\n"
          ]
        },
        {
          "output_type": "stream",
          "name": "stdout",
          "text": [
            "\u001b[1;35mt=2024-09-08T12:19:51+0000 lvl=info msg=\"join connections\" obj=join id=bcaab6598e43 l=127.0.0.1:8237 r=[2405:201:e00a:b0bb:6979:1cc8:431a:e357]:64949\u001b[0m\n"
          ]
        },
        {
          "output_type": "stream",
          "name": "stderr",
          "text": [
            "INFO:pyngrok.process.ngrok:t=2024-09-08T12:19:51+0000 lvl=info msg=\"join connections\" obj=join id=eb9b5ea431dc l=127.0.0.1:8237 r=[2405:201:e00a:b0bb:6979:1cc8:431a:e357]:64949\n"
          ]
        },
        {
          "output_type": "stream",
          "name": "stdout",
          "text": [
            "\u001b[1;35mt=2024-09-08T12:19:51+0000 lvl=info msg=\"join connections\" obj=join id=eb9b5ea431dc l=127.0.0.1:8237 r=[2405:201:e00a:b0bb:6979:1cc8:431a:e357]:64949\u001b[0m\n"
          ]
        },
        {
          "output_type": "stream",
          "name": "stderr",
          "text": [
            "INFO:pyngrok.process.ngrok:t=2024-09-08T12:19:51+0000 lvl=info msg=\"join connections\" obj=join id=a932654a4775 l=127.0.0.1:8237 r=[2405:201:e00a:b0bb:6979:1cc8:431a:e357]:64949\n"
          ]
        },
        {
          "output_type": "stream",
          "name": "stdout",
          "text": [
            "\u001b[1;35mt=2024-09-08T12:19:51+0000 lvl=info msg=\"join connections\" obj=join id=a932654a4775 l=127.0.0.1:8237 r=[2405:201:e00a:b0bb:6979:1cc8:431a:e357]:64949\u001b[0m\n"
          ]
        },
        {
          "output_type": "stream",
          "name": "stderr",
          "text": [
            "INFO:pyngrok.process.ngrok:t=2024-09-08T12:19:51+0000 lvl=info msg=\"join connections\" obj=join id=10e2e72e487d l=127.0.0.1:8237 r=[2405:201:e00a:b0bb:6979:1cc8:431a:e357]:64949\n"
          ]
        },
        {
          "output_type": "stream",
          "name": "stdout",
          "text": [
            "\u001b[1;35mt=2024-09-08T12:19:51+0000 lvl=info msg=\"join connections\" obj=join id=10e2e72e487d l=127.0.0.1:8237 r=[2405:201:e00a:b0bb:6979:1cc8:431a:e357]:64949\u001b[0m\n"
          ]
        },
        {
          "output_type": "stream",
          "name": "stderr",
          "text": [
            "INFO:pyngrok.process.ngrok:t=2024-09-08T12:19:51+0000 lvl=info msg=\"join connections\" obj=join id=efa3d227cf0a l=127.0.0.1:8237 r=[2405:201:e00a:b0bb:6979:1cc8:431a:e357]:64949\n"
          ]
        },
        {
          "output_type": "stream",
          "name": "stdout",
          "text": [
            "\u001b[1;35mt=2024-09-08T12:19:51+0000 lvl=info msg=\"join connections\" obj=join id=efa3d227cf0a l=127.0.0.1:8237 r=[2405:201:e00a:b0bb:6979:1cc8:431a:e357]:64949\u001b[0m\n"
          ]
        },
        {
          "output_type": "stream",
          "name": "stderr",
          "text": [
            "INFO:pyngrok.process.ngrok:t=2024-09-08T12:19:51+0000 lvl=info msg=\"join connections\" obj=join id=edf0023c0a45 l=127.0.0.1:8237 r=[2405:201:e00a:b0bb:6979:1cc8:431a:e357]:64949\n"
          ]
        },
        {
          "output_type": "stream",
          "name": "stdout",
          "text": [
            "\u001b[1;35mt=2024-09-08T12:19:51+0000 lvl=info msg=\"join connections\" obj=join id=edf0023c0a45 l=127.0.0.1:8237 r=[2405:201:e00a:b0bb:6979:1cc8:431a:e357]:64949\u001b[0m\n"
          ]
        },
        {
          "output_type": "stream",
          "name": "stderr",
          "text": [
            "INFO:pyngrok.process.ngrok:t=2024-09-08T12:19:51+0000 lvl=info msg=\"join connections\" obj=join id=1da0c1381655 l=127.0.0.1:8237 r=[2405:201:e00a:b0bb:6979:1cc8:431a:e357]:64949\n"
          ]
        },
        {
          "output_type": "stream",
          "name": "stdout",
          "text": [
            "\u001b[1;35mt=2024-09-08T12:19:51+0000 lvl=info msg=\"join connections\" obj=join id=1da0c1381655 l=127.0.0.1:8237 r=[2405:201:e00a:b0bb:6979:1cc8:431a:e357]:64949\u001b[0m\n",
            "\u001b[1;35mGot token from cookie\u001b[0m\n",
            "\u001b[1;35mGot token from cookie\u001b[0m\n",
            "\u001b[1;35mGot token from cookie\u001b[0m\n",
            "\u001b[1;35mGot token from cookie\u001b[0m\n",
            "\u001b[1;35mGot token from cookie\u001b[0m\n",
            "\u001b[1;35mGot token from cookie\u001b[0m\n",
            "\u001b[32mINFO\u001b[0m:     2405:201:e00a:b0bb:6979:1cc8:431a:e357:0 - \"\u001b[1mGET /api/v1/settings HTTP/1.1\u001b[0m\" \u001b[32m200 OK\u001b[0m\n",
            "\u001b[32mINFO\u001b[0m:     2405:201:e00a:b0bb:6979:1cc8:431a:e357:0 - \"\u001b[1mGET /api/v1/onboarding_state HTTP/1.1\u001b[0m\" \u001b[32m200 OK\u001b[0m\n",
            "\u001b[32mINFO\u001b[0m:     2405:201:e00a:b0bb:6979:1cc8:431a:e357:0 - \"\u001b[1mGET /api/v1/current-user HTTP/1.1\u001b[0m\" \u001b[32m200 OK\u001b[0m\n",
            "\u001b[32mINFO\u001b[0m:     2405:201:e00a:b0bb:6979:1cc8:431a:e357:0 - \"\u001b[1mGET /api/v1/info HTTP/1.1\u001b[0m\" \u001b[32m200 OK\u001b[0m\n",
            "\u001b[32mINFO\u001b[0m:     2405:201:e00a:b0bb:6979:1cc8:431a:e357:0 - \"\u001b[1mGET /api/v1/stacks/f9dc991c-0206-4974-b638-9a14f14f42ad HTTP/1.1\u001b[0m\" \u001b[32m200 OK\u001b[0m\n",
            "\u001b[32mINFO\u001b[0m:     2405:201:e00a:b0bb:6979:1cc8:431a:e357:0 - \"\u001b[1mGET /api/v1/runs/154cd769-a733-47e0-9ec6-3a0a3e81822e HTTP/1.1\u001b[0m\" \u001b[32m200 OK\u001b[0m\n",
            "\u001b[32mINFO\u001b[0m:     2405:201:e00a:b0bb:6979:1cc8:431a:e357:0 - \"\u001b[1mGET /api/v1/runs/154cd769-a733-47e0-9ec6-3a0a3e81822e/graph HTTP/1.1\u001b[0m\" \u001b[32m200 OK\u001b[0m\n"
          ]
        },
        {
          "output_type": "stream",
          "name": "stderr",
          "text": [
            "INFO:pyngrok.process.ngrok:t=2024-09-08T12:20:28+0000 lvl=info msg=\"join connections\" obj=join id=f0946c9c247d l=127.0.0.1:8237 r=[2405:201:e00a:b0bb:6979:1cc8:431a:e357]:64949\n"
          ]
        },
        {
          "output_type": "stream",
          "name": "stdout",
          "text": [
            "\u001b[1;35mt=2024-09-08T12:20:28+0000 lvl=info msg=\"join connections\" obj=join id=f0946c9c247d l=127.0.0.1:8237 r=[2405:201:e00a:b0bb:6979:1cc8:431a:e357]:64949\u001b[0m\n"
          ]
        },
        {
          "output_type": "stream",
          "name": "stderr",
          "text": [
            "INFO:pyngrok.process.ngrok:t=2024-09-08T12:20:28+0000 lvl=info msg=\"join connections\" obj=join id=08174b93c154 l=127.0.0.1:8237 r=[2405:201:e00a:b0bb:6979:1cc8:431a:e357]:64949\n"
          ]
        },
        {
          "output_type": "stream",
          "name": "stdout",
          "text": [
            "\u001b[1;35mt=2024-09-08T12:20:28+0000 lvl=info msg=\"join connections\" obj=join id=08174b93c154 l=127.0.0.1:8237 r=[2405:201:e00a:b0bb:6979:1cc8:431a:e357]:64949\u001b[0m\n"
          ]
        },
        {
          "output_type": "stream",
          "name": "stderr",
          "text": [
            "INFO:pyngrok.process.ngrok:t=2024-09-08T12:20:28+0000 lvl=info msg=\"join connections\" obj=join id=1785b290a21a l=127.0.0.1:8237 r=[2405:201:e00a:b0bb:6979:1cc8:431a:e357]:64949\n"
          ]
        },
        {
          "output_type": "stream",
          "name": "stdout",
          "text": [
            "\u001b[1;35mt=2024-09-08T12:20:28+0000 lvl=info msg=\"join connections\" obj=join id=1785b290a21a l=127.0.0.1:8237 r=[2405:201:e00a:b0bb:6979:1cc8:431a:e357]:64949\u001b[0m\n"
          ]
        },
        {
          "output_type": "stream",
          "name": "stderr",
          "text": [
            "INFO:pyngrok.process.ngrok:t=2024-09-08T12:20:28+0000 lvl=info msg=\"join connections\" obj=join id=04a5322c735c l=127.0.0.1:8237 r=[2405:201:e00a:b0bb:6979:1cc8:431a:e357]:64949\n"
          ]
        },
        {
          "output_type": "stream",
          "name": "stdout",
          "text": [
            "\u001b[1;35mt=2024-09-08T12:20:28+0000 lvl=info msg=\"join connections\" obj=join id=04a5322c735c l=127.0.0.1:8237 r=[2405:201:e00a:b0bb:6979:1cc8:431a:e357]:64949\u001b[0m\n"
          ]
        },
        {
          "output_type": "stream",
          "name": "stderr",
          "text": [
            "INFO:pyngrok.process.ngrok:t=2024-09-08T12:20:28+0000 lvl=info msg=\"join connections\" obj=join id=de6298c1b578 l=127.0.0.1:8237 r=[2405:201:e00a:b0bb:6979:1cc8:431a:e357]:64949\n"
          ]
        },
        {
          "output_type": "stream",
          "name": "stdout",
          "text": [
            "\u001b[1;35mt=2024-09-08T12:20:28+0000 lvl=info msg=\"join connections\" obj=join id=de6298c1b578 l=127.0.0.1:8237 r=[2405:201:e00a:b0bb:6979:1cc8:431a:e357]:64949\u001b[0m\n"
          ]
        },
        {
          "output_type": "stream",
          "name": "stderr",
          "text": [
            "INFO:pyngrok.process.ngrok:t=2024-09-08T12:20:28+0000 lvl=info msg=\"join connections\" obj=join id=f3dec467ffb6 l=127.0.0.1:8237 r=[2405:201:e00a:b0bb:6979:1cc8:431a:e357]:64949\n"
          ]
        },
        {
          "output_type": "stream",
          "name": "stdout",
          "text": [
            "\u001b[1;35mt=2024-09-08T12:20:28+0000 lvl=info msg=\"join connections\" obj=join id=f3dec467ffb6 l=127.0.0.1:8237 r=[2405:201:e00a:b0bb:6979:1cc8:431a:e357]:64949\u001b[0m\n"
          ]
        },
        {
          "output_type": "stream",
          "name": "stderr",
          "text": [
            "INFO:pyngrok.process.ngrok:t=2024-09-08T12:20:28+0000 lvl=info msg=\"join connections\" obj=join id=0e4066c86d5a l=127.0.0.1:8237 r=[2405:201:e00a:b0bb:6979:1cc8:431a:e357]:64949\n"
          ]
        },
        {
          "output_type": "stream",
          "name": "stdout",
          "text": [
            "\u001b[1;35mt=2024-09-08T12:20:28+0000 lvl=info msg=\"join connections\" obj=join id=0e4066c86d5a l=127.0.0.1:8237 r=[2405:201:e00a:b0bb:6979:1cc8:431a:e357]:64949\u001b[0m\n",
            "\u001b[1;35mGot token from cookie\u001b[0m\n",
            "\u001b[1;35mGot token from cookie\u001b[0m\n",
            "\u001b[1;35mGot token from cookie\u001b[0m\n",
            "\u001b[1;35mGot token from cookie\u001b[0m\n",
            "\u001b[1;35mGot token from cookie\u001b[0m\n",
            "\u001b[1;35mGot token from cookie\u001b[0m\n",
            "\u001b[32mINFO\u001b[0m:     2405:201:e00a:b0bb:6979:1cc8:431a:e357:0 - \"\u001b[1mGET /api/v1/info HTTP/1.1\u001b[0m\" \u001b[32m200 OK\u001b[0m\n",
            "\u001b[32mINFO\u001b[0m:     2405:201:e00a:b0bb:6979:1cc8:431a:e357:0 - \"\u001b[1mGET /api/v1/settings HTTP/1.1\u001b[0m\" \u001b[32m200 OK\u001b[0m\n",
            "\u001b[32mINFO\u001b[0m:     2405:201:e00a:b0bb:6979:1cc8:431a:e357:0 - \"\u001b[1mGET /api/v1/current-user HTTP/1.1\u001b[0m\" \u001b[32m200 OK\u001b[0m\n",
            "\u001b[32mINFO\u001b[0m:     2405:201:e00a:b0bb:6979:1cc8:431a:e357:0 - \"\u001b[1mGET /api/v1/onboarding_state HTTP/1.1\u001b[0m\" \u001b[32m200 OK\u001b[0m\n",
            "\u001b[32mINFO\u001b[0m:     2405:201:e00a:b0bb:6979:1cc8:431a:e357:0 - \"\u001b[1mGET /api/v1/stacks/f9dc991c-0206-4974-b638-9a14f14f42ad HTTP/1.1\u001b[0m\" \u001b[32m200 OK\u001b[0m\n",
            "\u001b[32mINFO\u001b[0m:     2405:201:e00a:b0bb:6979:1cc8:431a:e357:0 - \"\u001b[1mGET /api/v1/runs/154cd769-a733-47e0-9ec6-3a0a3e81822e HTTP/1.1\u001b[0m\" \u001b[32m200 OK\u001b[0m\n",
            "\u001b[32mINFO\u001b[0m:     2405:201:e00a:b0bb:6979:1cc8:431a:e357:0 - \"\u001b[1mGET /api/v1/runs/154cd769-a733-47e0-9ec6-3a0a3e81822e/graph HTTP/1.1\u001b[0m\" \u001b[32m200 OK\u001b[0m\n"
          ]
        },
        {
          "output_type": "stream",
          "name": "stderr",
          "text": [
            "INFO:pyngrok.process.ngrok:t=2024-09-08T12:21:09+0000 lvl=info msg=\"join connections\" obj=join id=8fe3e52e05b2 l=127.0.0.1:8237 r=[2405:201:e00a:b0bb:6979:1cc8:431a:e357]:64949\n"
          ]
        },
        {
          "output_type": "stream",
          "name": "stdout",
          "text": [
            "\u001b[1;35mt=2024-09-08T12:21:09+0000 lvl=info msg=\"join connections\" obj=join id=8fe3e52e05b2 l=127.0.0.1:8237 r=[2405:201:e00a:b0bb:6979:1cc8:431a:e357]:64949\u001b[0m\n"
          ]
        },
        {
          "output_type": "stream",
          "name": "stderr",
          "text": [
            "INFO:pyngrok.process.ngrok:t=2024-09-08T12:21:09+0000 lvl=info msg=\"join connections\" obj=join id=6817a94852ad l=127.0.0.1:8237 r=[2405:201:e00a:b0bb:6979:1cc8:431a:e357]:64949\n"
          ]
        },
        {
          "output_type": "stream",
          "name": "stdout",
          "text": [
            "\u001b[1;35mt=2024-09-08T12:21:09+0000 lvl=info msg=\"join connections\" obj=join id=6817a94852ad l=127.0.0.1:8237 r=[2405:201:e00a:b0bb:6979:1cc8:431a:e357]:64949\u001b[0m\n"
          ]
        },
        {
          "output_type": "stream",
          "name": "stderr",
          "text": [
            "INFO:pyngrok.process.ngrok:t=2024-09-08T12:21:09+0000 lvl=info msg=\"join connections\" obj=join id=ba035856145b l=127.0.0.1:8237 r=[2405:201:e00a:b0bb:6979:1cc8:431a:e357]:64949\n"
          ]
        },
        {
          "output_type": "stream",
          "name": "stdout",
          "text": [
            "\u001b[1;35mt=2024-09-08T12:21:09+0000 lvl=info msg=\"join connections\" obj=join id=ba035856145b l=127.0.0.1:8237 r=[2405:201:e00a:b0bb:6979:1cc8:431a:e357]:64949\u001b[0m\n"
          ]
        },
        {
          "output_type": "stream",
          "name": "stderr",
          "text": [
            "INFO:pyngrok.process.ngrok:t=2024-09-08T12:21:09+0000 lvl=info msg=\"join connections\" obj=join id=67af208bd3cd l=127.0.0.1:8237 r=[2405:201:e00a:b0bb:6979:1cc8:431a:e357]:64949\n"
          ]
        },
        {
          "output_type": "stream",
          "name": "stdout",
          "text": [
            "\u001b[1;35mt=2024-09-08T12:21:09+0000 lvl=info msg=\"join connections\" obj=join id=67af208bd3cd l=127.0.0.1:8237 r=[2405:201:e00a:b0bb:6979:1cc8:431a:e357]:64949\u001b[0m\n"
          ]
        },
        {
          "output_type": "stream",
          "name": "stderr",
          "text": [
            "INFO:pyngrok.process.ngrok:t=2024-09-08T12:21:09+0000 lvl=info msg=\"join connections\" obj=join id=a28ea09313ed l=127.0.0.1:8237 r=[2405:201:e00a:b0bb:6979:1cc8:431a:e357]:64949\n"
          ]
        },
        {
          "output_type": "stream",
          "name": "stdout",
          "text": [
            "\u001b[1;35mt=2024-09-08T12:21:09+0000 lvl=info msg=\"join connections\" obj=join id=a28ea09313ed l=127.0.0.1:8237 r=[2405:201:e00a:b0bb:6979:1cc8:431a:e357]:64949\u001b[0m\n"
          ]
        },
        {
          "output_type": "stream",
          "name": "stderr",
          "text": [
            "INFO:pyngrok.process.ngrok:t=2024-09-08T12:21:09+0000 lvl=info msg=\"join connections\" obj=join id=59dbcbd37eaf l=127.0.0.1:8237 r=[2405:201:e00a:b0bb:6979:1cc8:431a:e357]:64949\n"
          ]
        },
        {
          "output_type": "stream",
          "name": "stdout",
          "text": [
            "\u001b[1;35mt=2024-09-08T12:21:09+0000 lvl=info msg=\"join connections\" obj=join id=59dbcbd37eaf l=127.0.0.1:8237 r=[2405:201:e00a:b0bb:6979:1cc8:431a:e357]:64949\u001b[0m\n"
          ]
        },
        {
          "output_type": "stream",
          "name": "stderr",
          "text": [
            "INFO:pyngrok.process.ngrok:t=2024-09-08T12:21:09+0000 lvl=info msg=\"join connections\" obj=join id=9c969ca5b419 l=127.0.0.1:8237 r=[2405:201:e00a:b0bb:6979:1cc8:431a:e357]:64949\n"
          ]
        },
        {
          "output_type": "stream",
          "name": "stdout",
          "text": [
            "\u001b[1;35mt=2024-09-08T12:21:09+0000 lvl=info msg=\"join connections\" obj=join id=9c969ca5b419 l=127.0.0.1:8237 r=[2405:201:e00a:b0bb:6979:1cc8:431a:e357]:64949\u001b[0m\n",
            "\u001b[1;35mGot token from cookie\u001b[0m\n",
            "\u001b[1;35mGot token from cookie\u001b[0m\n",
            "\u001b[1;35mGot token from cookie\u001b[0m\n",
            "\u001b[1;35mGot token from cookie\u001b[0m\n",
            "\u001b[1;35mGot token from cookie\u001b[0m\n",
            "\u001b[1;35mGot token from cookie\u001b[0m\n",
            "\u001b[32mINFO\u001b[0m:     2405:201:e00a:b0bb:6979:1cc8:431a:e357:0 - \"\u001b[1mGET /api/v1/settings HTTP/1.1\u001b[0m\" \u001b[32m200 OK\u001b[0m\n",
            "\u001b[32mINFO\u001b[0m:     2405:201:e00a:b0bb:6979:1cc8:431a:e357:0 - \"\u001b[1mGET /api/v1/info HTTP/1.1\u001b[0m\" \u001b[32m200 OK\u001b[0m\n",
            "\u001b[32mINFO\u001b[0m:     2405:201:e00a:b0bb:6979:1cc8:431a:e357:0 - \"\u001b[1mGET /api/v1/stacks/f9dc991c-0206-4974-b638-9a14f14f42ad HTTP/1.1\u001b[0m\" \u001b[32m200 OK\u001b[0m\n",
            "\u001b[32mINFO\u001b[0m:     2405:201:e00a:b0bb:6979:1cc8:431a:e357:0 - \"\u001b[1mGET /api/v1/current-user HTTP/1.1\u001b[0m\" \u001b[32m200 OK\u001b[0m\n",
            "\u001b[32mINFO\u001b[0m:     2405:201:e00a:b0bb:6979:1cc8:431a:e357:0 - \"\u001b[1mGET /api/v1/onboarding_state HTTP/1.1\u001b[0m\" \u001b[32m200 OK\u001b[0m\n",
            "\u001b[32mINFO\u001b[0m:     2405:201:e00a:b0bb:6979:1cc8:431a:e357:0 - \"\u001b[1mGET /api/v1/runs/154cd769-a733-47e0-9ec6-3a0a3e81822e HTTP/1.1\u001b[0m\" \u001b[32m200 OK\u001b[0m\n",
            "\u001b[32mINFO\u001b[0m:     2405:201:e00a:b0bb:6979:1cc8:431a:e357:0 - \"\u001b[1mGET /api/v1/runs/154cd769-a733-47e0-9ec6-3a0a3e81822e/graph HTTP/1.1\u001b[0m\" \u001b[32m200 OK\u001b[0m\n"
          ]
        }
      ],
      "source": [
        "from zenml.environment import Environment\n",
        "\n",
        "def start_zenml_dashboard(port=8237):\n",
        "    if Environment.in_google_colab():\n",
        "        from pyngrok import ngrok\n",
        "        public_url = ngrok.connect(port)\n",
        "        # Corrected ANSI escape codes for color formatting\n",
        "        print(f\"\\033[31mIn Colab, use this URL instead: {public_url}\\033[0m\")\n",
        "        !zenml up --blocking --port {port}\n",
        "    else:\n",
        "        !zenml up --port {port}\n",
        "\n",
        "start_zenml_dashboard()\n"
      ]
    },
    {
      "cell_type": "markdown",
      "source": [
        "####   ! - - - END OF THE PROJECT - - - !\n"
      ],
      "metadata": {
        "id": "vCOguc06ljjg"
      }
    }
  ],
  "metadata": {
    "colab": {
      "provenance": [],
      "gpuType": "V28"
    },
    "kernelspec": {
      "display_name": "Python 3",
      "name": "python3"
    },
    "language_info": {
      "name": "python"
    },
    "accelerator": "TPU"
  },
  "nbformat": 4,
  "nbformat_minor": 0
}